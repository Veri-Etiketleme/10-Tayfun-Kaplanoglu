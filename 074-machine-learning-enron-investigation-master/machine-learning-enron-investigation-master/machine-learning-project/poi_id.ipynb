{
 "cells": [
  {
   "cell_type": "markdown",
   "metadata": {},
   "source": [
    "*** In 2000, Enron was one of the largest companies in the United States. By 2002, it had collapsed into bankruptcy due to widespread corporate fraud. In the resulting Federal investigation, a significant amount of typically confidential information entered into the public record, including tens of thousands of emails and detailed financial data for top executives. I am building a person of interest identifier based on financial and email data made public as a result of the Enron scandal. we have data with a hand-generated list of persons of interest in the fraud case, which means individuals who were indicted, reached a settlement or plea deal with the government, or testified in exchange for prosecution immunity. ***"
   ]
  },
  {
   "cell_type": "code",
   "execution_count": 1,
   "metadata": {
    "collapsed": true
   },
   "outputs": [],
   "source": [
    "import matplotlib.pyplot as plt\n",
    "%matplotlib inline\n",
    "import pprint as pp\n",
    "import numpy as np\n",
    "import operator\n",
    "import pandas as pd\n",
    "from time import time\n",
    "\n",
    "from sklearn import cross_validation\n",
    "from sklearn.tree import DecisionTreeClassifier\n",
    "from sklearn.metrics import *\n",
    "from sklearn.feature_selection import SelectPercentile, f_classif\n",
    "from sklearn.naive_bayes import GaussianNB\n",
    "from sklearn import grid_search\n",
    "\n",
    "import sys\n",
    "import pickle\n",
    "sys.path.append(\"../tools/\")\n",
    "\n",
    "from feature_format import featureFormat, targetFeatureSplit\n",
    "from tester import dump_classifier_and_data"
   ]
  },
  {
   "cell_type": "code",
   "execution_count": 53,
   "metadata": {
    "collapsed": false
   },
   "outputs": [
    {
     "name": "stdout",
     "output_type": "stream",
     "text": [
      "Number of features:  21\n",
      "['salary',\n",
      " 'to_messages',\n",
      " 'deferral_payments',\n",
      " 'total_payments',\n",
      " 'exercised_stock_options',\n",
      " 'bonus',\n",
      " 'restricted_stock',\n",
      " 'shared_receipt_with_poi',\n",
      " 'restricted_stock_deferred',\n",
      " 'total_stock_value',\n",
      " 'expenses',\n",
      " 'loan_advances',\n",
      " 'from_messages',\n",
      " 'other',\n",
      " 'from_this_person_to_poi',\n",
      " 'poi',\n",
      " 'director_fees',\n",
      " 'deferred_income',\n",
      " 'long_term_incentive',\n",
      " 'email_address',\n",
      " 'from_poi_to_this_person']\n",
      "\n",
      "\n"
     ]
    }
   ],
   "source": [
    "### Load the dictionary containing the dataset\n",
    "with open(\"final_project_dataset.pkl\", \"r\") as data_file:\n",
    "    data_dict = pickle.load(data_file)\n",
    "#lets verify if data is as expected with given features\n",
    "print 'Number of features: ', len(data_dict[data_dict.keys()[0]].keys())\n",
    "pp.pprint(data_dict[data_dict.keys()[0]].keys())\n",
    "print '\\n'"
   ]
  },
  {
   "cell_type": "markdown",
   "metadata": {},
   "source": [
    "** Lets verify quality of data **"
   ]
  },
  {
   "cell_type": "code",
   "execution_count": 3,
   "metadata": {
    "collapsed": false
   },
   "outputs": [
    {
     "name": "stdout",
     "output_type": "stream",
     "text": [
      "Total Number of Employees:  146\n",
      "Total Number of POIs:  18\n",
      "*** Data Quality ***\n",
      "Feature, [Total Available, Percentage, POIs]\n",
      "[('loan_advances', [4, 2, 1]),\n",
      " ('director_fees', [17, 11, 0]),\n",
      " ('restricted_stock_deferred', [18, 12, 0]),\n",
      " ('deferral_payments', [39, 26, 5]),\n",
      " ('deferred_income', [49, 33, 11]),\n",
      " ('long_term_incentive', [66, 45, 12]),\n",
      " ('bonus', [82, 56, 16]),\n",
      " ('to_messages', [86, 58, 14]),\n",
      " ('shared_receipt_with_poi', [86, 58, 14]),\n",
      " ('from_messages', [86, 58, 14]),\n",
      " ('from_poi_to_this_person', [86, 58, 14]),\n",
      " ('from_this_person_to_poi', [86, 58, 14]),\n",
      " ('other', [93, 63, 18]),\n",
      " ('salary', [95, 65, 17]),\n",
      " ('expenses', [95, 65, 18]),\n",
      " ('exercised_stock_options', [102, 69, 12]),\n",
      " ('restricted_stock', [110, 75, 17]),\n",
      " ('total_payments', [125, 85, 18]),\n",
      " ('total_stock_value', [126, 86, 18]),\n",
      " ('email_address', [146, 100, 18]),\n",
      " ('poi', [146, 100, 18])]\n",
      "\n",
      "\n"
     ]
    }
   ],
   "source": [
    "#verify total number of enron employees and POIs in data\n",
    "print 'Total Number of Employees: ', len(data_dict)\n",
    "poi_count = 0\n",
    "for key, value in data_dict.items():\n",
    "    if value['poi'] == True:\n",
    "        poi_count += 1\n",
    "    \n",
    "print 'Total Number of POIs: ', poi_count\n",
    "#lets verify the data quality\n",
    "print '*** Data Quality ***'\n",
    "print 'Feature, [Total Available, Percentage, POIs]'\n",
    "features_data = {}  # count of number of features having data\n",
    "features = data_dict[data_dict.keys()[0]].keys()\n",
    "for feature in features:\n",
    "    features_data[feature] = [0, 0, 0]\n",
    "for emp_features in data_dict.values():\n",
    "    for feature in features:\n",
    "        if feature in emp_features.keys():\n",
    "            if feature == 'email_address': \n",
    "                if emp_features[feature] != '':\n",
    "                    features_data[feature][0] += 1\n",
    "                    if emp_features['poi'] == True:\n",
    "                        features_data[feature][2] += 1\n",
    "            elif type(emp_features[feature]) != type('str'):\n",
    "                features_data[feature][0] += 1\n",
    "                if emp_features['poi'] == True:\n",
    "                    features_data[feature][2] += 1\n",
    "#calculate percentage of employees having data                \n",
    "for key, value in features_data.items():\n",
    "    features_data[key][1] = (value[0]*100/len(data_dict))\n",
    "\n",
    "pp.pprint(sorted(features_data.items(), key=operator.itemgetter(1)))\n",
    "print '\\n'"
   ]
  },
  {
   "cell_type": "markdown",
   "metadata": {},
   "source": [
    "** We have only 12% of employees in data are marked as POI. Lets try to understand if there is any criteria in data by plots. So we can identify what are the best features can be used to train the classifier. **\n",
    "*** Data not available in 6 features for more than 50% of employees, we will try algorithm later without these features ***"
   ]
  },
  {
   "cell_type": "markdown",
   "metadata": {},
   "source": [
    "#### Explore data to find if any feature distinguishes POIs\n",
    "** We have 85% of employees having total payment in data and all 18 POIs have this data. Lets analyse this **"
   ]
  },
  {
   "cell_type": "code",
   "execution_count": 4,
   "metadata": {
    "collapsed": false
   },
   "outputs": [
    {
     "data": {
      "image/png": "[encoded data removed]",
      "text/plain": [
       "<matplotlib.figure.Figure at 0xb103710>"
      ]
     },
     "metadata": {},
     "output_type": "display_data"
    }
   ],
   "source": [
    "poi_total_payments = []\n",
    "non_poi_total_payments = []\n",
    "for key, value in data_dict.items():\n",
    "    if value['poi'] == True:\n",
    "        poi_total_payments.append(value['total_payments'])\n",
    "    else:\n",
    "        if type(value['total_payments']) <> type('str'):\n",
    "            non_poi_total_payments.append(value['total_payments'])\n",
    "\n",
    "plt.hist(poi_total_payments, label='POI')\n",
    "plt.hist(non_poi_total_payments, color='r', alpha=0.2, label='non-POI')\n",
    "plt.title(\"POIs/non-POIs based on Total Payments\")\n",
    "plt.xlabel(\"Total Payment\")\n",
    "plt.ylabel(\"number of POIs/non-POIs\")\n",
    "plt.legend()\n",
    "plt.show()"
   ]
  },
  {
   "cell_type": "markdown",
   "metadata": {},
   "source": [
    "** We have outliers those are causing data squeezed. Lets plot for data under IQR-Q3 **"
   ]
  },
  {
   "cell_type": "code",
   "execution_count": 5,
   "metadata": {
    "collapsed": false
   },
   "outputs": [
    {
     "name": "stdout",
     "output_type": "stream",
     "text": [
      "IQR:  2093263.0 394475.0 \n",
      "\n"
     ]
    }
   ],
   "source": [
    "payments = []\n",
    "for key, value in data_dict.items():\n",
    "    if type(value['total_payments']) <> type('str'): \n",
    "        payments.append(value['total_payments'])\n",
    "                \n",
    "q75, q25 = np.percentile(payments, [75 ,25])\n",
    "print 'IQR: ', q75, q25, '\\n'"
   ]
  },
  {
   "cell_type": "code",
   "execution_count": 54,
   "metadata": {
    "collapsed": false
   },
   "outputs": [
    {
     "data": {
      "image/png": "[encoded data removed]",
      "text/plain": [
       "<matplotlib.figure.Figure at 0xbe58320>"
      ]
     },
     "metadata": {},
     "output_type": "display_data"
    },
    {
     "name": "stdout",
     "output_type": "stream",
     "text": [
      "number of POIs under IQR-Q3:  11\n",
      "number of non-POIs under IQR-Q3:  82\n",
      "\n",
      "*** Total payment Outliers plot ***\n"
     ]
    },
    {
     "data": {
      "image/png": "[encoded data removed]",
      "text/plain": [
       "<matplotlib.figure.Figure at 0xb1cd390>"
      ]
     },
     "metadata": {},
     "output_type": "display_data"
    },
    {
     "name": "stdout",
     "output_type": "stream",
     "text": [
      "number of POI in Outliers:  7\n",
      "number of non-POIs in Outliers:  25\n"
     ]
    }
   ],
   "source": [
    "#Lets run the histogram again for payments less than Q75\n",
    "#Do not ignore data under IQR-Q1 now. Lets check how the plot looks at lowest values\n",
    "poi_total_payments = []\n",
    "ol_poi_total_payments = []  #outlier data\n",
    "non_poi_total_payments = []\n",
    "ol_non_poi_total_payments = []   #outlier data\n",
    "for key, value in data_dict.items():\n",
    "    if value['poi'] == True:\n",
    "        if value['total_payments'] < q75:\n",
    "            poi_total_payments.append(value['total_payments'])\n",
    "        else:\n",
    "            ol_poi_total_payments.append(value['total_payments'])\n",
    "    else:\n",
    "        if type(value['total_payments']) <> type('str'):\n",
    "            if value['total_payments'] < q75:\n",
    "                non_poi_total_payments.append(value['total_payments'])\n",
    "            else:\n",
    "                ol_non_poi_total_payments.append(value['total_payments'])\n",
    "                \n",
    "plt.hist(poi_total_payments, label='POI', bins=30)\n",
    "plt.hist(non_poi_total_payments, color='r', alpha=0.2, label='non-POI', bins=20)\n",
    "plt.title(\"POIs/non-POIs based on Total Payments\")\n",
    "plt.xlabel(\"Total Payment\")\n",
    "plt.ylabel(\"number of POIs/non-POIs\")\n",
    "plt.legend()\n",
    "plt.show()\n",
    "\n",
    "print 'number of POIs under IQR-Q3: ', len(poi_total_payments)\n",
    "print 'number of non-POIs under IQR-Q3: ', len(non_poi_total_payments)\n",
    "\n",
    "print '\\n', '*** Total payment Outliers plot ***'\n",
    "plt.hist(ol_poi_total_payments, label='POI', bins=30)\n",
    "plt.hist(ol_non_poi_total_payments, color='r', alpha=0.2, label='non-POI', bins=20)\n",
    "plt.title(\"POIs/non-POIs based on Total Payments\")\n",
    "plt.xlabel(\"Total Payment\")\n",
    "plt.ylabel(\"number of POIs/non-POIs\")\n",
    "plt.legend()\n",
    "plt.show()\n",
    "\n",
    "print 'number of POI in Outliers: ', len(ol_poi_total_payments)\n",
    "print 'number of non-POIs in Outliers: ', len(ol_non_poi_total_payments)"
   ]
  },
  {
   "cell_type": "markdown",
   "metadata": {},
   "source": [
    "*** We do not see any clear distinguishion related to Total Payment between POIs and non POIs. ***  <br>\n",
    "*** If we look into outlier plot,we have some POIs and non-POIs under 20 mm (aaprx), I would still keep these employees in my data, but lets look at 2 employees having 100mm or more ***"
   ]
  },
  {
   "cell_type": "code",
   "execution_count": 7,
   "metadata": {
    "collapsed": false
   },
   "outputs": [
    {
     "name": "stdout",
     "output_type": "stream",
     "text": [
      "LAY KENNETH L\n",
      "{'bonus': 7000000,\n",
      " 'deferral_payments': 202911,\n",
      " 'deferred_income': -300000,\n",
      " 'director_fees': 'NaN',\n",
      " 'email_address': 'kenneth.lay@enron.com',\n",
      " 'exercised_stock_options': 34348384,\n",
      " 'expenses': 99832,\n",
      " 'from_messages': 36,\n",
      " 'from_poi_to_this_person': 123,\n",
      " 'from_this_person_to_poi': 16,\n",
      " 'loan_advances': 81525000,\n",
      " 'long_term_incentive': 3600000,\n",
      " 'other': 10359729,\n",
      " 'poi': True,\n",
      " 'restricted_stock': 14761694,\n",
      " 'restricted_stock_deferred': 'NaN',\n",
      " 'salary': 1072321,\n",
      " 'shared_receipt_with_poi': 2411,\n",
      " 'to_messages': 4273,\n",
      " 'total_payments': 103559793,\n",
      " 'total_stock_value': 49110078}\n",
      "\n",
      "\n",
      "TOTAL\n",
      "{'bonus': 97343619,\n",
      " 'deferral_payments': 32083396,\n",
      " 'deferred_income': -27992891,\n",
      " 'director_fees': 1398517,\n",
      " 'email_address': 'NaN',\n",
      " 'exercised_stock_options': 311764000,\n",
      " 'expenses': 5235198,\n",
      " 'from_messages': 'NaN',\n",
      " 'from_poi_to_this_person': 'NaN',\n",
      " 'from_this_person_to_poi': 'NaN',\n",
      " 'loan_advances': 83925000,\n",
      " 'long_term_incentive': 48521928,\n",
      " 'other': 42667589,\n",
      " 'poi': False,\n",
      " 'restricted_stock': 130322299,\n",
      " 'restricted_stock_deferred': -7576788,\n",
      " 'salary': 26704229,\n",
      " 'shared_receipt_with_poi': 'NaN',\n",
      " 'to_messages': 'NaN',\n",
      " 'total_payments': 309886585,\n",
      " 'total_stock_value': 434509511}\n",
      "\n",
      "\n"
     ]
    }
   ],
   "source": [
    "for key, value in data_dict.items():\n",
    "    if type(value['total_payments']) <> type('str') and value['total_payments'] >= 1e8:\n",
    "        print key\n",
    "        pp.pprint(value)\n",
    "        print '\\n'"
   ]
  },
  {
   "cell_type": "markdown",
   "metadata": {},
   "source": [
    "*** It seems one of the data point is TOTAL, which is not an employee, it does not have email and number of emails too. Lets remove this outlier. *** <br>\n",
    "*** We have only one person around 100 mm payment, so it is not good idea to train algorithm with such an outlier. We can remove LAY KENNETH from our data ***"
   ]
  },
  {
   "cell_type": "code",
   "execution_count": 8,
   "metadata": {
    "collapsed": false
   },
   "outputs": [
    {
     "name": "stdout",
     "output_type": "stream",
     "text": [
      "Number of Employees after Outlier removed:  144 \n",
      "\n"
     ]
    }
   ],
   "source": [
    "#Delete LAY KENNETH L and TOTAL\n",
    "del data_dict['LAY KENNETH L']\n",
    "del data_dict['TOTAL']\n",
    "#check number of employees to make sure only 2 are removed\n",
    "print 'Number of Employees after Outlier removed: ', len(data_dict), '\\n'"
   ]
  },
  {
   "cell_type": "markdown",
   "metadata": {},
   "source": [
    "** Lets plot percentage of emails between POIs v/s non-POIs to see if there is any criteria for POI **"
   ]
  },
  {
   "cell_type": "code",
   "execution_count": 9,
   "metadata": {
    "collapsed": true
   },
   "outputs": [],
   "source": [
    "### create new features\n",
    "### We do have total number of emails and POI emails (from/to), I would rather use \n",
    "### percentage of emails from/to POIs to analyse behaviour. \n",
    "### new features are: fraction_to_poi_email,fraction_from_poi_email\n",
    "### calculate fraction (0 to 1) for percentage\n",
    "\n",
    "def dict_to_list(key,normalizer):\n",
    "    new_list=[]\n",
    "\n",
    "    for i in data_dict:\n",
    "        if data_dict[i][key]==\"NaN\" or data_dict[i][normalizer]==\"NaN\":\n",
    "            new_list.append(0.)\n",
    "        elif data_dict[i][key]>=0:\n",
    "            new_list.append(float(data_dict[i][key])/float(data_dict[i][normalizer]))\n",
    "    return new_list\n",
    "\n",
    "### create two lists of new features\n",
    "fraction_from_poi_email=dict_to_list(\"from_poi_to_this_person\",\"to_messages\")\n",
    "fraction_to_poi_email=dict_to_list(\"from_this_person_to_poi\",\"from_messages\")\n",
    "\n",
    "### insert new features into data_dict\n",
    "count=0\n",
    "for i in data_dict:\n",
    "    data_dict[i][\"fraction_from_poi_email\"]=fraction_from_poi_email[count]\n",
    "    data_dict[i][\"fraction_to_poi_email\"]=fraction_to_poi_email[count]\n",
    "    count +=1"
   ]
  },
  {
   "cell_type": "code",
   "execution_count": 10,
   "metadata": {
    "collapsed": false
   },
   "outputs": [
    {
     "data": {
      "image/png": "[encoded data removed]",
      "text/plain": [
       "<matplotlib.figure.Figure at 0xb103470>"
      ]
     },
     "metadata": {},
     "output_type": "display_data"
    }
   ],
   "source": [
    "features_list = [\"poi\", \"fraction_from_poi_email\", \"fraction_to_poi_email\"]    \n",
    "    ### store to my_dataset for easy export below\n",
    "my_dataset = data_dict\n",
    "\n",
    "\n",
    "### these two lines extract the features specified in features_list\n",
    "### and extract them from data_dict, returning a numpy array\n",
    "data = featureFormat(my_dataset, features_list)\n",
    "\n",
    "### plot new features\n",
    "for point in data:\n",
    "    from_poi = point[1]\n",
    "    to_poi = point[2]\n",
    "    if point[0] == 1:\n",
    "        pl_poi = plt.scatter(from_poi, to_poi, color=\"r\", marker=\"*\")\n",
    "    else:\n",
    "        pl_nonPOI = plt.scatter( from_poi, to_poi )\n",
    "plt.xlabel(\"portion of emails this person gets from poi\")\n",
    "plt.ylabel(\"portion of emails this person sends to poi\")\n",
    "plt.legend((pl_poi, pl_nonPOI), ('POI', 'non-POI'))\n",
    "plt.show()"
   ]
  },
  {
   "cell_type": "markdown",
   "metadata": {},
   "source": [
    "#### Run supervised learning algorithm\n",
    "*** we do not really see any behavior above ***\n",
    "** Lets try decision tree classifier to find important features using feature_importances **\n",
    "* Important to select test data percentage to have both labels in test data *"
   ]
  },
  {
   "cell_type": "code",
   "execution_count": 64,
   "metadata": {
    "collapsed": false
   },
   "outputs": [
    {
     "name": "stdout",
     "output_type": "stream",
     "text": [
      "Make sure we have approximately equal percentage of POIs in Train and Test out of 18 POIs.\n",
      "Test labels:  [0.0, 0.0, 0.0, 0.0, 0.0, 0.0, 0.0, 0.0, 0.0, 0.0, 0.0, 0.0, 0.0, 1.0, 0.0, 0.0, 0.0, 0.0, 0.0, 0.0, 0.0, 0.0, 0.0, 0.0, 0.0, 0.0, 0.0, 1.0, 0.0, 0.0, 0.0, 0.0, 0.0, 1.0, 0.0, 1.0, 0.0, 0.0, 0.0, 0.0, 0.0, 1.0, 0.0] \n",
      "\n",
      "*** Decesiontree Algorithm - features with atleast 50% having data***\n",
      "(array([ 0.,  0.,  0.,  0.,  0.,  0.,  0.,  0.,  0.,  0.,  0.,  0.,  0.,\n",
      "        0.,  0.,  0.,  0.,  0.,  1.,  0.,  0.,  0.,  0.,  0.,  0.,  0.,\n",
      "        0.,  1.,  0.,  0.,  0.,  1.,  0.,  1.,  0.,  1.,  0.,  0.,  0.,\n",
      "        1.,  0.,  0.,  0.]), {'F1_Score': 0.55, 'Recall': 0.6, 'Duration_sec': 0.002, 'Precision': 0.5, 'Accuracy': 0.88}) \n",
      "\n",
      "*** Decesiontree Algorithm with all features ***\n",
      "(array([ 0.,  0.,  0.,  0.,  0.,  0.,  0.,  0.,  0.,  0.,  0.,  0.,  0.,\n",
      "        1.,  0.,  0.,  0.,  0.,  1.,  0.,  0.,  0.,  0.,  0.,  0.,  0.,\n",
      "        1.,  0.,  0.,  0.,  0.,  1.,  0.,  1.,  0.,  1.,  0.,  0.,  0.,\n",
      "        1.,  0.,  0.,  0.]), {'F1_Score': 0.5, 'Recall': 0.6, 'Duration_sec': 0.002, 'Precision': 0.43, 'Accuracy': 0.86}) \n",
      "\n",
      "Feature Ranking: \n",
      "\t 1 salary (0.274621212121)\n",
      "\t 2 bonus (0.156605113636)\n",
      "\t 3 fraction_from_poi_email (0.137884527089)\n",
      "\t 4 fraction_to_poi_email (0.136134164898)\n",
      "\t 5 deferral_payments (0.132838804714)\n",
      "\t 6 total_payments (0.118371212121)\n",
      "\t 7 loan_advances (0.04354496542)\n",
      "\t 8 restricted_stock_deferred (0.0)\n",
      "\t 9 deferred_income (0.0)\n",
      "\t 10 total_stock_value (0.0)\n",
      "\t 11 expenses (0.0)\n",
      "\t 12 exercised_stock_options (0.0)\n",
      "\t 13 long_term_incentive (0.0)\n",
      "\t 14 shared_receipt_with_poi (0.0)\n",
      "\t 15 restricted_stock (0.0)\n",
      "\t 16 director_fees (0.0)\n"
     ]
    }
   ],
   "source": [
    "def train_test_data(features_):\n",
    "    data = featureFormat(my_dataset, features_)\n",
    "\n",
    "    ### split into labels and features (this line assumes that the first\n",
    "    ### feature in the array is the label, which is why \"poi\" must always\n",
    "    ### be first in features_list\n",
    "    labels, features = targetFeatureSplit(data)\n",
    "\n",
    "    ### split data into training and testing datasets\n",
    "    return cross_validation.train_test_split(features, labels, test_size=0.30, random_state=42)\n",
    "\n",
    "def test_algorithm(clf, features_tr, features_ts):\n",
    "    t0 = time()\n",
    "    clf.fit(features_tr,labels_train)\n",
    "    score = clf.score(features_ts,labels_test)\n",
    "    pred= clf.predict(features_ts)\n",
    "    run_time = round(time()-t0, 3)\n",
    "    #return pred, {'Accuracy':round(score,2), 'Precision':round(precision_score(labels_test, pred), 2), \n",
    "    #        'Recall': round(recall_score(labels_test, pred), 2),\n",
    "    #        'F1_Score': round(f1_score(labels_test, pred), 2), 'Duration_sec': run_time}\n",
    "    return {'Accuracy':round(score,2), 'Precision':round(precision_score(labels_test, pred), 2), \n",
    "            'Recall': round(recall_score(labels_test, pred), 2),\n",
    "            'F1_Score': round(f1_score(labels_test, pred), 2), 'Duration_sec': run_time}\n",
    "\n",
    "features_li = [\"poi\", \"salary\", \"bonus\", \"fraction_from_poi_email\", \"fraction_to_poi_email\",\n",
    "                 'total_payments', 'total_stock_value', 'expenses', 'exercised_stock_options',\n",
    "                 'shared_receipt_with_poi', 'restricted_stock']\n",
    "features_train, features_test, labels_train, labels_test = train_test_data(features_li)\n",
    "print 'Make sure we have approximately equal percentage of POIs in Train and Test out of 18 POIs.'\n",
    "print 'Test labels: ', labels_test, '\\n'    \n",
    "clf0 = DecisionTreeClassifier()\n",
    "print '*** Decesiontree Algorithm - features with atleast 50% having data***'\n",
    "print test_algorithm(clf0,features_train,features_test), '\\n'\n",
    "\n",
    "features_list = [\"poi\", \"salary\", \"bonus\", \"fraction_from_poi_email\", \"fraction_to_poi_email\",\n",
    "                 'deferral_payments', 'total_payments', 'loan_advances', 'restricted_stock_deferred',\n",
    "                 'deferred_income', 'total_stock_value', 'expenses', 'exercised_stock_options',\n",
    "                 'long_term_incentive', 'shared_receipt_with_poi', 'restricted_stock', 'director_fees']\n",
    "features_train, features_test, labels_train, labels_test = train_test_data(features_list)\n",
    "    \n",
    "clf1 = DecisionTreeClassifier()\n",
    "print '*** Decesiontree Algorithm with all features ***'\n",
    "print test_algorithm(clf1,features_train,features_test), '\\n'\n",
    "\n",
    "importances = clf1.feature_importances_\n",
    "import numpy as np\n",
    "indices = np.argsort(importances)[::-1]\n",
    "print 'Feature Ranking: '\n",
    "for i in range(16):\n",
    "    print \"\\t {} {} ({})\".format(i+1,features_list[i+1],importances[indices[i]])"
   ]
  },
  {
   "cell_type": "code",
   "execution_count": 55,
   "metadata": {
    "collapsed": true
   },
   "outputs": [],
   "source": [
    "dump_classifier_and_data(clf0, my_dataset, features_li)"
   ]
  },
  {
   "cell_type": "markdown",
   "metadata": {},
   "source": [
    "** We have good accuracy and precision with features having more than 50% data (call it 50%Classifier).** <br> \n",
    "** Lets try selecting top percentile features and check if we can get same or better result **"
   ]
  },
  {
   "cell_type": "code",
   "execution_count": 49,
   "metadata": {
    "collapsed": false
   },
   "outputs": [
    {
     "name": "stdout",
     "output_type": "stream",
     "text": [
      "** Feature scores **\n",
      "\t 1 salary (10.525999517)\n",
      "\t 2 bonus (9.72671820656)\n",
      "\t 3 fraction_from_poi_email (7.37234089147)\n",
      "\t 4 fraction_to_poi_email (6.729881304)\n",
      "\t 5 deferral_payments (4.19795409263)\n",
      "\t 6 total_payments (3.53704375061)\n",
      "\t 7 loan_advances (3.28883380053)\n",
      "\t 8 restricted_stock_deferred (2.5467282253)\n",
      "\t 9 deferred_income (2.05798427969)\n",
      "\t 10 total_stock_value (1.81982858476)\n",
      "\t 11 expenses (0.656824597561)\n",
      "\t 12 exercised_stock_options (0.613834515306)\n",
      "\t 13 long_term_incentive (0.135172413793)\n",
      "\t 14 shared_receipt_with_poi (0.100841354456)\n",
      "\t 15 restricted_stock (0.0708629130261)\n",
      "\t 16 director_fees (0.0519082529191)\n",
      "\n",
      "*** Decesiontree Algorithm with Select percentile features ***\n",
      "{'F1_Score': 0.4, 'Recall': 0.4, 'Precision': 0.4, 'Duration_sec': 0.001, 'Percentile': 90, 'Accuracy': 0.86} \n",
      "\n",
      "{'F1_Score': 0.55, 'Recall': 0.6, 'Precision': 0.5, 'Duration_sec': 0.001, 'Percentile': 80, 'Accuracy': 0.88} \n",
      "\n",
      "{'F1_Score': 0.5, 'Recall': 0.6, 'Precision': 0.43, 'Duration_sec': 0.001, 'Percentile': 70, 'Accuracy': 0.86} \n",
      "\n",
      "{'F1_Score': 0.4, 'Recall': 0.4, 'Precision': 0.4, 'Duration_sec': 0.001, 'Percentile': 60, 'Accuracy': 0.86} \n",
      "\n",
      "{'F1_Score': 0.55, 'Recall': 0.6, 'Precision': 0.5, 'Duration_sec': 0.001, 'Percentile': 50, 'Accuracy': 0.88} \n",
      "\n",
      "{'F1_Score': 0.5, 'Recall': 0.6, 'Precision': 0.43, 'Duration_sec': 0.001, 'Percentile': 40, 'Accuracy': 0.86} \n",
      "\n",
      "{'F1_Score': 0.2, 'Recall': 0.2, 'Precision': 0.2, 'Duration_sec': 0.002, 'Percentile': 30, 'Accuracy': 0.81} \n",
      "\n",
      "{'F1_Score': 0.29, 'Recall': 0.4, 'Precision': 0.22, 'Duration_sec': 0.001, 'Percentile': 20, 'Accuracy': 0.77} \n",
      "\n",
      "{'F1_Score': 0.2, 'Recall': 0.2, 'Precision': 0.2, 'Duration_sec': 0.001, 'Percentile': 10, 'Accuracy': 0.81} \n",
      "\n"
     ]
    }
   ],
   "source": [
    "def select_features(clf, perc_fea):\n",
    "    selector = SelectPercentile(f_classif, percentile=perc_fea)\n",
    "    selector.fit(features_train,labels_train)\n",
    "    features_train_s = selector.transform(features_train)\n",
    "    features_test_s = selector.transform(features_test)\n",
    "    metrics = test_algorithm(clf,features_train_s,features_test_s)\n",
    "    metrics['Percentile'] = perc_fea\n",
    "    print metrics, '\\n'\n",
    "\n",
    "selector = SelectPercentile(f_classif, percentile=100)\n",
    "selector.fit(features_train,labels_train)\n",
    "print '** Feature scores **'\n",
    "indices = np.argsort(selector.scores_)[::-1]\n",
    "for i in range(16):\n",
    "    print \"\\t {} {} ({})\".format(i+1,features_list[i+1],selector.scores_[indices[i]])\n",
    "\n",
    "print '\\n', '*** Decesiontree Algorithm with Select percentile features ***'\n",
    "percents = [90, 80, 70, 60, 50, 40, 30, 20, 10]\n",
    "for percent in percents:\n",
    "    clf2 = DecisionTreeClassifier()\n",
    "    select_features(clf2, percent)"
   ]
  },
  {
   "cell_type": "markdown",
   "metadata": {},
   "source": [
    "** The best metrics available at 50% features and which matches to our 50%Classfier and then metrics start dropping. This is kind of regularization point. We do not have to really consider performance to identify POIs. Anyway I would still go with 50%classifier which relies on features having data ** <br>\n",
    "*** Lets try naive bayes algorithm and compare result ***"
   ]
  },
  {
   "cell_type": "code",
   "execution_count": 50,
   "metadata": {
    "collapsed": false
   },
   "outputs": [
    {
     "name": "stdout",
     "output_type": "stream",
     "text": [
      "\n",
      "*** Naive Bayes Algorithm with percentile features ***\n",
      "{'F1_Score': 0.26, 'Recall': 1.0, 'Precision': 0.15, 'Duration_sec': 0.001, 'Percentile': 100, 'Accuracy': 0.33} \n",
      "\n",
      "{'F1_Score': 0.26, 'Recall': 1.0, 'Precision': 0.15, 'Duration_sec': 0.002, 'Percentile': 90, 'Accuracy': 0.33} \n",
      "\n",
      "{'F1_Score': 0.4, 'Recall': 1.0, 'Precision': 0.25, 'Duration_sec': 0.002, 'Percentile': 80, 'Accuracy': 0.65} \n",
      "\n",
      "{'F1_Score': 0.42, 'Recall': 1.0, 'Precision': 0.26, 'Duration_sec': 0.002, 'Percentile': 70, 'Accuracy': 0.67} \n",
      "\n",
      "{'F1_Score': 0.44, 'Recall': 0.4, 'Precision': 0.5, 'Duration_sec': 0.002, 'Percentile': 60, 'Accuracy': 0.88} \n",
      "\n",
      "{'F1_Score': 0.44, 'Recall': 0.4, 'Precision': 0.5, 'Duration_sec': 0.002, 'Percentile': 50, 'Accuracy': 0.88} \n",
      "\n",
      "{'F1_Score': 0.44, 'Recall': 0.4, 'Precision': 0.5, 'Duration_sec': 0.001, 'Percentile': 40, 'Accuracy': 0.88} \n",
      "\n",
      "{'F1_Score': 0.44, 'Recall': 0.4, 'Precision': 0.5, 'Duration_sec': 0.001, 'Percentile': 30, 'Accuracy': 0.88} \n",
      "\n",
      "{'F1_Score': 0.25, 'Recall': 0.2, 'Precision': 0.33, 'Duration_sec': 0.001, 'Percentile': 20, 'Accuracy': 0.86} \n",
      "\n",
      "{'F1_Score': 0.25, 'Recall': 0.2, 'Precision': 0.33, 'Duration_sec': 0.001, 'Percentile': 10, 'Accuracy': 0.86} \n",
      "\n"
     ]
    }
   ],
   "source": [
    "print '\\n', '*** Naive Bayes Algorithm with percentile features ***'\n",
    "percents = [100, 90, 80, 70, 60, 50, 40, 30, 20, 10]\n",
    "for percent in percents:\n",
    "    clf3 = GaussianNB()\n",
    "    select_features(clf3, percent)"
   ]
  },
  {
   "cell_type": "markdown",
   "metadata": {},
   "source": [
    "*** All the metrics are too low comparing to Decision Classifier, So using Decision classifier is better choice ***"
   ]
  },
  {
   "cell_type": "markdown",
   "metadata": {},
   "source": [
    "** Lets try manually selecting payment features **"
   ]
  },
  {
   "cell_type": "code",
   "execution_count": 51,
   "metadata": {
    "collapsed": false,
    "scrolled": true
   },
   "outputs": [
    {
     "name": "stdout",
     "output_type": "stream",
     "text": [
      "*** Decesiontree Algorithm with only payments features ***\n",
      "{'F1_Score': 0.31, 'Recall': 0.4, 'Duration_sec': 0.002, 'Precision': 0.25, 'Accuracy': 0.79} \n",
      "\n"
     ]
    }
   ],
   "source": [
    "features_manual = [\"poi\", \"salary\", \"bonus\", \n",
    "                 'deferral_payments', 'total_payments', 'loan_advances', 'restricted_stock_deferred',\n",
    "                 'deferred_income', 'total_stock_value', 'expenses', 'exercised_stock_options',\n",
    "                 'long_term_incentive', 'restricted_stock', 'director_fees']\n",
    "features_train, features_test, labels_train, labels_test = train_test_data(features_manual)\n",
    "\n",
    "clf4 = DecisionTreeClassifier()\n",
    "print '*** Decesiontree Algorithm with only payments features ***'\n",
    "print test_algorithm(clf4,features_train,features_test), '\\n'"
   ]
  },
  {
   "cell_type": "markdown",
   "metadata": {},
   "source": [
    "** Precision is too low. ** <br> \n",
    "*** we are still better with 50%classifier. *** <br>\n",
    "##### Parameter tuning\n",
    "** We have run algorithms with default parameters till now, but algorithm might do more accurate fitting for decision surface by changing parameters. ** <br>\n",
    "*** Lets repeat 50%classifier with different classifier parameters to see if we can achieve better result with any other parameter in algorithm ***"
   ]
  },
  {
   "cell_type": "code",
   "execution_count": 52,
   "metadata": {
    "collapsed": false
   },
   "outputs": [
    {
     "name": "stdout",
     "output_type": "stream",
     "text": [
      "Run Decesion Tree classifier with GridSearchCV\n",
      "{'F1_Score': 0.25, 'Recall': 0.2, 'Duration_sec': 0.023, 'Precision': 0.33, 'Accuracy': 0.86} \n",
      "\n"
     ]
    }
   ],
   "source": [
    "features_list = [\"poi\", \"salary\", \"bonus\", \"fraction_from_poi_email\", \"fraction_to_poi_email\",\n",
    "                 'total_payments', 'total_stock_value', 'expenses', 'exercised_stock_options',\n",
    "                 'shared_receipt_with_poi', 'restricted_stock']\n",
    "features_train, features_test, labels_train, labels_test = train_test_data(features_list)\n",
    "\n",
    "parameters = {'criterion':('gini', 'entropy')}\n",
    "dtc = DecisionTreeClassifier()\n",
    "clf5 = grid_search.GridSearchCV(dtc, parameters)\n",
    "print 'Run Decesion Tree classifier with GridSearchCV'\n",
    "print test_algorithm(clf5,features_train,features_test), '\\n'\n"
   ]
  },
  {
   "cell_type": "markdown",
   "metadata": {},
   "source": [
    "** The best algorithm here is Decision Tree Classifier with default parameters i.e., 50%Classfier**"
   ]
  },
  {
   "cell_type": "markdown",
   "metadata": {
    "collapsed": true
   },
   "source": [
    "### Conclusion\n",
    "* We got good precision (50%) and Recall (60%). There is 60% of chance that algorithm marks fraudulent as POI and 50% of chance that further investigations will find POIs involvement in scandal.* <br>\n",
    "* We have run many algorithms to validate supervised learning, but we did that without any target on metrics, Ex: we did not target 99% precision as Google might target in self driving car algorithms. We just did cross validation and chosen better one. My idea is, we should be continuously evaluating algorithms and adjusting as we get more data and more investigations happen on POIs.* <br>\n",
    "* If employee not marked as POI in my classifier, I will always use another classifier with 50 percentile features to train and predict. The reason is that, employees to be predicted might have little or no communication emails with already marked POIs, but they might have emails with another set of fraudulent employees which are not part of our trained data yet."
   ]
  }
 ],
 "metadata": {
  "anaconda-cloud": {},
  "kernelspec": {
   "display_name": "Python [Root]",
   "language": "python",
   "name": "Python [Root]"
  },
  "language_info": {
   "codemirror_mode": {
    "name": "ipython",
    "version": 2
   },
   "file_extension": ".py",
   "mimetype": "text/x-python",
   "name": "python",
   "nbconvert_exporter": "python",
   "pygments_lexer": "ipython2",
   "version": "2.7.12"
  }
 },
 "nbformat": 4,
 "nbformat_minor": 0
}
