{
 "cells": [
  {
   "cell_type": "code",
   "execution_count": 2,
   "metadata": {},
   "outputs": [
    {
     "name": "stderr",
     "output_type": "stream",
     "text": [
      "c:\\users\\user\\appdata\\local\\programs\\python\\python36-32\\lib\\site-packages\\ipykernel_launcher.py:16: DataConversionWarning: A column-vector y was passed when a 1d array was expected. Please change the shape of y to (n_samples, ), for example using ravel().\n",
      "  app.launch_new_instance()\n"
     ]
    },
    {
     "name": "stdout",
     "output_type": "stream",
     "text": [
      "WelCome to Diabetes Prediction Software\n",
      "Enter Glucose, BloodPressure, SkinThickness, Insulin, BMI, DiabetesPedigreeFunction, Age 'with comma'\n",
      "148,72,35,0,33.6,0.627,50\n",
      "[1]\n",
      "You Have Diabetes\n",
      "You need to take this medicine\n",
      "Alpha-glucosidase inhibitors, Biguanides, Dopamine agonist, DPP-4 inhibitors, Meglitinides\n",
      "And immediate contact to your doctor\n"
     ]
    }
   ],
   "source": [
    "#import modules\n",
    "import os\n",
    "os.system('color 3f')\n",
    "import pandas as pd\n",
    "from sklearn.neighbors import KNeighborsClassifier\n",
    "\n",
    "#this module use for speaking\n",
    "import win32com.client as wincl\n",
    "speak = wincl.Dispatch(\"SAPI.SpVoice\")\n",
    "\n",
    "#read the dataset\n",
    "data = pd.read_csv('diabetes.csv')\n",
    "\n",
    "#slicing on dataset\n",
    "x = data.iloc[:,[1,2,3,4,5,6,7]]\n",
    "y = data.iloc[:,[8]]\n",
    "\n",
    "#select algo\n",
    "model = KNeighborsClassifier()\n",
    "\n",
    "#fit into the model\n",
    "model.fit(x,y)\n",
    "\n",
    "#oututs\n",
    "print('WelCome to Diabetes Prediction Software') #greeting\n",
    "speak.Speak('WelCome to Diabetes Prediction Software')\n",
    "\n",
    "\n",
    "print(\"Enter Glucose, BloodPressure, SkinThickness, Insulin, BMI, DiabetesPedigreeFunction, Age 'with comma'\")\n",
    "speak.Speak(\"Enter Glucose, BloodPressure, SkinThickness, Insulin, BMI, DiabetesPedigreeFunction, Age 'with comma'\")\n",
    "val = list(input().split(\",\"))\n",
    "\n",
    "pred = model.predict([val])\n",
    "print(pred)\n",
    "\n",
    "if pred == [1]:\n",
    "    print('You Have Diabetes')\n",
    "    speak.Speak('You Have Diabetes')\n",
    "    print('You need to take this medicine')\n",
    "    speak.Speak('You need to take this medicine')\n",
    "    print('Alpha-glucosidase inhibitors, Biguanides, Dopamine agonist, DPP-4 inhibitors, Meglitinides')\n",
    "    speak.Speak('Alpha-glucosidase inhibitors, Biguanides, Dopamine agonist, DPP-4 inhibitors, Meglitinides')\n",
    "    print('And immediate contact to your doctor')\n",
    "    speak.Speak('and immediate contact to your doctor')\n",
    "\n",
    "else:\n",
    "    print('You have not Diabetes')\n",
    "    speak.Speak('You have not Diabetes')"
   ]
  },
  {
   "cell_type": "code",
   "execution_count": null,
   "metadata": {},
   "outputs": [],
   "source": []
  }
 ],
 "metadata": {
  "kernelspec": {
   "display_name": "Python 3",
   "language": "python",
   "name": "python3"
  },
  "language_info": {
   "codemirror_mode": {
    "name": "ipython",
    "version": 3
   },
   "file_extension": ".py",
   "mimetype": "text/x-python",
   "name": "python",
   "nbconvert_exporter": "python",
   "pygments_lexer": "ipython3",
   "version": "3.6.5"
  }
 },
 "nbformat": 4,
 "nbformat_minor": 2
}
