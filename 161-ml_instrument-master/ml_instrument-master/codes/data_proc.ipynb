{
 "cells": [
  {
   "cell_type": "code",
   "execution_count": 30,
   "metadata": {},
   "outputs": [
    {
     "name": "stdout",
     "output_type": "stream",
     "text": [
      "                    Open          High           Low         Close  \\\n",
      "Date                                                                 \n",
      "2001-01-04  13898.089844  13990.570313  13667.679688  13691.490234   \n",
      "2001-01-05  13763.219727  13947.059570  13725.459961  13867.610352   \n",
      "2001-01-09  13732.849609  13732.849609  13460.820313  13610.509766   \n",
      "2001-01-10  13593.160156  13593.160156  13349.150391  13432.650391   \n",
      "2001-01-11  13433.089844  13436.610352  13123.809570  13201.070313   \n",
      "2001-01-12  13246.200195  13451.950195  13246.200195  13347.740234   \n",
      "2001-01-15  13450.280273  13573.549805  13441.519531  13506.230469   \n",
      "2001-01-16  13561.730469  13598.200195  13442.089844  13584.450195   \n",
      "2001-01-17  13593.830078  13688.900391  13476.549805  13667.629883   \n",
      "2001-01-18  13734.790039  13931.910156  13723.209961  13873.919922   \n",
      "2001-01-19  13956.339844  14186.620117  13947.919922  13989.120117   \n",
      "2001-01-22  14010.070313  14039.400391  13841.030273  14032.419922   \n",
      "2001-01-23  13966.639648  14060.230469  13913.099609  13984.660156   \n",
      "2001-01-24  14020.610352  14034.110352  13857.830078  13893.580078   \n",
      "2001-01-25  13879.830078  13879.830078  13730.169922  13803.379883   \n",
      "2001-01-26  13726.980469  13750.230469  13626.049805  13696.059570   \n",
      "2001-01-29  13724.259766  13908.400391  13721.860352  13845.280273   \n",
      "2001-01-30  13885.269531  13910.709961  13713.549805  13826.650391   \n",
      "2001-01-31  13855.740234  13855.740234  13726.509766  13843.549805   \n",
      "2001-02-01  13740.919922  13779.549805  13667.929688  13779.549805   \n",
      "2001-02-02  13764.690430  13862.290039  13703.629883  13703.629883   \n",
      "2001-02-05  13588.639648  13588.639648  13367.910156  13385.519531   \n",
      "2001-02-06  13316.250000  13379.440430  13240.370117  13269.849609   \n",
      "2001-02-07  13273.929688  13373.780273  13268.610352  13366.009766   \n",
      "2001-02-08  13336.339844  13336.339844  12966.830078  13138.230469   \n",
      "2001-02-09  13140.610352  13460.389648  13135.019531  13422.830078   \n",
      "2001-02-13  13431.719727  13461.110352  13247.950195  13274.700195   \n",
      "2001-02-14  13179.269531  13405.519531  13119.339844  13284.059570   \n",
      "2001-02-15  13273.910156  13416.549805  13273.669922  13327.389648   \n",
      "2001-02-16  13348.719727  13349.080078  13166.459961  13175.490234   \n",
      "...                  ...           ...           ...           ...   \n",
      "2017-05-22  19670.480469  19722.929688  19618.730469  19678.279297   \n",
      "2017-05-23  19647.740234  19693.019531  19585.539063  19613.279297   \n",
      "2017-05-24  19777.560547  19782.810547  19690.099609  19742.980469   \n",
      "2017-05-25  19737.210938  19850.929688  19720.119141  19813.130859   \n",
      "2017-05-26  19798.490234  19801.589844  19686.490234  19686.839844   \n",
      "2017-05-29  19697.179688  19736.619141  19627.189453  19682.570313   \n",
      "2017-05-30  19681.109375  19691.439453  19570.130859  19677.849609   \n",
      "2017-05-31  19630.330078  19673.509766  19589.250000  19650.570313   \n",
      "2017-06-01  19692.160156  19887.660156  19686.320313  19860.029297   \n",
      "2017-06-02  19970.230469  20239.810547  19967.000000  20177.279297   \n",
      "2017-06-05  20135.419922  20224.539063  20104.130859  20170.820313   \n",
      "2017-06-06  20122.259766  20152.949219  19948.019531  19979.900391   \n",
      "2017-06-07  19951.679688  20023.240234  19908.070313  19984.619141   \n",
      "2017-06-08  20048.279297  20061.220703  19896.349609  19909.259766   \n",
      "2017-06-09  19953.060547  20096.009766  19927.070313  20013.259766   \n",
      "2017-06-12  19920.769531  19949.070313  19837.640625  19908.580078   \n",
      "2017-06-13  19859.810547  19929.029297  19850.859375  19898.750000   \n",
      "2017-06-14  19974.560547  20009.929688  19879.599609  19883.519531   \n",
      "2017-06-15  19815.539063  19963.359375  19755.339844  19831.820313   \n",
      "2017-06-16  19931.150391  20015.160156  19884.800781  19943.259766   \n",
      "2017-06-19  19974.300781  20087.710938  19949.880859  20067.750000   \n",
      "2017-06-20  20234.119141  20318.109375  20227.289063  20230.410156   \n",
      "2017-06-21  20192.160156  20215.109375  20117.789063  20138.789063   \n",
      "2017-06-22  20154.380859  20191.419922  20107.890625  20110.509766   \n",
      "2017-06-23  20152.580078  20152.580078  20089.539063  20132.669922   \n",
      "2017-06-26  20132.810547  20196.380859  20119.039063  20153.349609   \n",
      "2017-06-27  20229.119141  20250.099609  20185.189453  20225.089844   \n",
      "2017-06-28  20149.199219  20224.300781  20110.490234  20130.410156   \n",
      "2017-06-29  20260.869141  20266.589844  20197.380859  20220.300781   \n",
      "2017-06-30  20025.630859  20044.009766  19946.509766  20033.429688   \n",
      "\n",
      "               Adj Close    Volume  \n",
      "Date                                \n",
      "2001-01-04  13691.490234       0.0  \n",
      "2001-01-05  13867.610352       0.0  \n",
      "2001-01-09  13610.509766       0.0  \n",
      "2001-01-10  13432.650391       0.0  \n",
      "2001-01-11  13201.070313       0.0  \n",
      "2001-01-12  13347.740234       0.0  \n",
      "2001-01-15  13506.230469       0.0  \n",
      "2001-01-16  13584.450195       0.0  \n",
      "2001-01-17  13667.629883       0.0  \n",
      "2001-01-18  13873.919922       0.0  \n",
      "2001-01-19  13989.120117       0.0  \n",
      "2001-01-22  14032.419922       0.0  \n",
      "2001-01-23  13984.660156       0.0  \n",
      "2001-01-24  13893.580078       0.0  \n",
      "2001-01-25  13803.379883       0.0  \n",
      "2001-01-26  13696.059570       0.0  \n",
      "2001-01-29  13845.280273       0.0  \n",
      "2001-01-30  13826.650391       0.0  \n",
      "2001-01-31  13843.549805       0.0  \n",
      "2001-02-01  13779.549805       0.0  \n",
      "2001-02-02  13703.629883       0.0  \n",
      "2001-02-05  13385.519531       0.0  \n",
      "2001-02-06  13269.849609       0.0  \n",
      "2001-02-07  13366.009766       0.0  \n",
      "2001-02-08  13138.230469       0.0  \n",
      "2001-02-09  13422.830078       0.0  \n",
      "2001-02-13  13274.700195       0.0  \n",
      "2001-02-14  13284.059570       0.0  \n",
      "2001-02-15  13327.389648       0.0  \n",
      "2001-02-16  13175.490234       0.0  \n",
      "...                  ...       ...  \n",
      "2017-05-22  19678.279297   78500.0  \n",
      "2017-05-23  19613.279297   83400.0  \n",
      "2017-05-24  19742.980469  101300.0  \n",
      "2017-05-25  19813.130859   95100.0  \n",
      "2017-05-26  19686.839844   84500.0  \n",
      "2017-05-29  19682.570313   67300.0  \n",
      "2017-05-30  19677.849609   72600.0  \n",
      "2017-05-31  19650.570313  125100.0  \n",
      "2017-06-01  19860.029297  103500.0  \n",
      "2017-06-02  20177.279297  150400.0  \n",
      "2017-06-05  20170.820313   99100.0  \n",
      "2017-06-06  19979.900391  102000.0  \n",
      "2017-06-07  19984.619141   99200.0  \n",
      "2017-06-08  19909.259766  125300.0  \n",
      "2017-06-09  20013.259766  145300.0  \n",
      "2017-06-12  19908.580078  112100.0  \n",
      "2017-06-13  19898.750000   97200.0  \n",
      "2017-06-14  19883.519531   92900.0  \n",
      "2017-06-15  19831.820313  107000.0  \n",
      "2017-06-16  19943.259766  135300.0  \n",
      "2017-06-19  20067.750000   79700.0  \n",
      "2017-06-20  20230.410156   99300.0  \n",
      "2017-06-21  20138.789063   94900.0  \n",
      "2017-06-22  20110.509766   84600.0  \n",
      "2017-06-23  20132.669922   80500.0  \n",
      "2017-06-26  20153.349609   77000.0  \n",
      "2017-06-27  20225.089844   90300.0  \n",
      "2017-06-28  20130.410156  115500.0  \n",
      "2017-06-29  20220.300781  118800.0  \n",
      "2017-06-30  20033.429688  116600.0  \n",
      "\n",
      "[4044 rows x 6 columns]\n"
     ]
    },
    {
     "data": {
      "text/plain": [
       "[]"
      ]
     },
     "execution_count": 30,
     "metadata": {},
     "output_type": "execute_result"
    }
   ],
   "source": [
    "import pandas_datareader.data as web\n",
    "import matplotlib.pyplot as plt\n",
    "import datetime\n",
    "import seaborn\n",
    "\n",
    "# 取得する日の範囲を指定する\n",
    "start = datetime.datetime(2001, 1, 1)\n",
    "end = datetime.datetime(2017, 7, 1)\n",
    "\n",
    "# Yahoo ファイナンスから、 ^N225 (日経平均株価指数) を\n",
    "# とってくる。\n",
    "\n",
    "N225 = web.DataReader('^N225', 'yahoo', start, end)\n",
    "\n",
    "plt.title('Nikkei 255')\n",
    "\n",
    "# fill_between でその日の最高値と最低値をプロットする\n",
    "plt.fill_between(f.index, f['Low'], f['High'], color=\"r\", alpha=0.2)\n",
    "\n",
    "# plot で、始値をプロットする。\n",
    "# 自動的に Index が Date になっているので、横軸が時間になる。\n",
    "\n",
    "N225_pure = N225.dropna()\n",
    "print (N225_pure)\n",
    "\n",
    "plt.plot()"
   ]
  },
  {
   "cell_type": "code",
   "execution_count": 21,
   "metadata": {},
   "outputs": [
    {
     "name": "stdout",
     "output_type": "stream",
     "text": [
      "                 Open       High        Low      Close  Adj Close  Volume\n",
      "Date                                                                     \n",
      "2009-01-01  90.650002  91.250000  87.559998  90.667000  90.667000     0.0\n",
      "2009-01-02  90.660004  92.370003  90.660004  91.790001  91.790001     0.0\n",
      "2009-01-05  91.790001  93.529999  91.050003  93.217003  93.217003     0.0\n",
      "2009-01-06  93.220001  94.566002  92.870003  93.379997  93.379997     0.0\n",
      "2009-01-07  93.365997  94.059998  92.419998  92.680000  92.680000     0.0\n",
      "2009-01-08  92.721001  92.886002  90.849998  91.360001  91.360001     0.0\n",
      "2009-01-09  91.370003  91.550003  90.150002  90.370003  90.370003     0.0\n",
      "2009-01-12  90.370003  90.370003  88.890999  89.430000  89.430000     0.0\n",
      "2009-01-13  89.419998  89.842003  88.820000  89.341003  89.341003     0.0\n",
      "2009-01-14  89.360001  89.949997  88.620003  89.160004  89.160004     0.0\n"
     ]
    },
    {
     "data": {
      "image/png": "[encoded data removed]",
      "text/plain": [
       "<matplotlib.figure.Figure at 0x110a41748>"
      ]
     },
     "metadata": {},
     "output_type": "display_data"
    }
   ],
   "source": [
    "# 取得する日の範囲を指定する\n",
    "start = datetime.datetime(2009, 1, 1)\n",
    "end = datetime.datetime(2017, 7, 1)\n",
    "\n",
    "# Yahoo ファイナンスから、 ^N225 (日経平均株価指数) を\n",
    "# とってくる。\n",
    "\n",
    "f = web.DataReader('JPY=X', 'yahoo', start, end)\n",
    "\n",
    "plt.title('JPY ')\n",
    "\n",
    "# fill_between でその日の最高値と最低値をプロットする\n",
    "plt.fill_between(f.index, f['Low'], f['High'], color=\"r\", alpha=0.2)\n",
    "\n",
    "# plot で、始値をプロットする。\n",
    "# 自動的に Index が Date になっているので、横軸が時間になる。\n",
    "\n",
    "f['Close'].plot()\n",
    "print (f[:10])\n",
    "plt.show()"
   ]
  },
  {
   "cell_type": "code",
   "execution_count": 41,
   "metadata": {
    "collapsed": true
   },
   "outputs": [],
   "source": [
    "total_num = (len(N225_pure))\n",
    "N225_price = N225_pure['Adj Close'].values.astype('float32')\n",
    "N225_price = N225_price.reshape(total_num, 1)"
   ]
  },
  {
   "cell_type": "code",
   "execution_count": 46,
   "metadata": {},
   "outputs": [
    {
     "name": "stdout",
     "output_type": "stream",
     "text": [
      "[[ 0.48045224]\n",
      " [ 0.49320251]\n",
      " [ 0.47458965]\n",
      " ..., \n",
      " [ 0.9465999 ]\n",
      " [ 0.95310754]\n",
      " [ 0.93957895]]\n"
     ]
    }
   ],
   "source": [
    "from sklearn.preprocessing import MinMaxScaler\n",
    "scaler = MinMaxScaler(feature_range=(0, 1))\n",
    "N225_price = scaler.fit_transform(N225_price)\n",
    "print (N225_price)"
   ]
  },
  {
   "cell_type": "code",
   "execution_count": 51,
   "metadata": {},
   "outputs": [
    {
     "name": "stdout",
     "output_type": "stream",
     "text": [
      "3235 809\n"
     ]
    }
   ],
   "source": [
    "train_size = int(len(N225_price) * 0.80)\n",
    "test_size = len(N225_price) - train_size\n",
    "train, test = N225_price[0:train_size,:], N225_price[train_size:len(N225_price),:]\n",
    "print(len(train), len(test))"
   ]
  },
  {
   "cell_type": "code",
   "execution_count": 43,
   "metadata": {},
   "outputs": [
    {
     "name": "stderr",
     "output_type": "stream",
     "text": [
      "Using Theano backend.\n",
      "Using cuDNN version 5110 on context None\n",
      "Mapped name None to device cuda: GeForce GTX 775M (0000:01:00.0)\n",
      "/Users/ray/anaconda/envs/pure_theano/lib/python3.6/site-packages/sklearn/cross_validation.py:41: DeprecationWarning: This module was deprecated in version 0.18 in favor of the model_selection module into which all the refactored classes and functions are moved. Also note that the interface of the new CV iterators are different from that of this module. This module will be removed in 0.20.\n",
      "  \"This module will be removed in 0.20.\", DeprecationWarning)\n"
     ]
    }
   ],
   "source": [
    "import numpy as np # linear algebra\n",
    "import pandas as pd # data processing, CSV file I/O (e.g. pd.read_csv)\n",
    "\n",
    "from subprocess import check_output\n",
    "from keras.layers.core import Dense, Activation, Dropout\n",
    "from keras.layers.recurrent import LSTM\n",
    "from keras.models import Sequential\n",
    "from sklearn.cross_validation import  train_test_split\n",
    "import time #helper libraries\n",
    "from sklearn.preprocessing import MinMaxScaler\n",
    "import matplotlib.pyplot as plt\n",
    "from numpy import newaxis"
   ]
  },
  {
   "cell_type": "code",
   "execution_count": 48,
   "metadata": {
    "collapsed": true
   },
   "outputs": [],
   "source": [
    "# convert an array of values into a dataset matrix\n",
    "def create_dataset(dataset, look_back=1):\n",
    "\tdataX, dataY = [], []\n",
    "\tfor i in range(len(dataset)-look_back-1):\n",
    "\t\ta = dataset[i:(i+look_back), 0]\n",
    "\t\tdataX.append(a)\n",
    "\t\tdataY.append(dataset[i + look_back, 0])\n",
    "\treturn np.array(dataX), np.array(dataY)"
   ]
  },
  {
   "cell_type": "code",
   "execution_count": 63,
   "metadata": {
    "collapsed": true
   },
   "outputs": [],
   "source": [
    "# reshape into X=t and Y=t+1\n",
    "look_back = 1\n",
    "trainX, trainY = create_dataset(train, look_back)\n",
    "testX, testY = create_dataset(test, look_back)\n",
    "trainX = np.reshape(trainX, (trainX.shape[0], look_back, trainX.shape[1]))\n",
    "testX = np.reshape(testX, (testX.shape[0], look_back, testX.shape[1]))"
   ]
  },
  {
   "cell_type": "code",
   "execution_count": 64,
   "metadata": {},
   "outputs": [
    {
     "name": "stderr",
     "output_type": "stream",
     "text": [
      "/Users/ray/anaconda/envs/pure_theano/lib/python3.6/site-packages/ipykernel_launcher.py:7: UserWarning: The `input_dim` and `input_length` arguments in recurrent layers are deprecated. Use `input_shape` instead.\n",
      "  import sys\n",
      "/Users/ray/anaconda/envs/pure_theano/lib/python3.6/site-packages/ipykernel_launcher.py:7: UserWarning: Update your `LSTM` call to the Keras 2 API: `LSTM(return_sequences=True, input_shape=(None, 1), units=50)`\n",
      "  import sys\n"
     ]
    },
    {
     "name": "stdout",
     "output_type": "stream",
     "text": [
      "compilation time :  0.004456996917724609\n"
     ]
    },
    {
     "name": "stderr",
     "output_type": "stream",
     "text": [
      "/Users/ray/anaconda/envs/pure_theano/lib/python3.6/site-packages/ipykernel_launcher.py:16: UserWarning: Update your `Dense` call to the Keras 2 API: `Dense(units=1)`\n",
      "  app.launch_new_instance()\n"
     ]
    }
   ],
   "source": [
    "#Step 2 Build Model\n",
    "model = Sequential()\n",
    "\n",
    "model.add(LSTM(\n",
    "    input_dim=1,\n",
    "    output_dim=50,\n",
    "    return_sequences=True))\n",
    "model.add(Dropout(0.2))\n",
    "\n",
    "model.add(LSTM(\n",
    "    100,\n",
    "    return_sequences=False))\n",
    "model.add(Dropout(0.2))\n",
    "\n",
    "model.add(Dense(\n",
    "    output_dim=1))\n",
    "model.add(Activation('linear'))\n",
    "\n",
    "start = time.time()\n",
    "model.compile(loss='mse', optimizer='rmsprop')\n",
    "print ('compilation time : ', time.time() - start)"
   ]
  },
  {
   "cell_type": "code",
   "execution_count": 65,
   "metadata": {},
   "outputs": [
    {
     "name": "stdout",
     "output_type": "stream",
     "text": [
      "Train on 3071 samples, validate on 162 samples\n",
      "Epoch 1/20\n",
      "3071/3071 [==============================] - 0s - loss: 0.0779 - val_loss: 0.0604\n",
      "Epoch 2/20\n",
      "3071/3071 [==============================] - 0s - loss: 0.0200 - val_loss: 0.0168\n",
      "Epoch 3/20\n",
      "3071/3071 [==============================] - 0s - loss: 0.0100 - val_loss: 0.0026\n",
      "Epoch 4/20\n",
      "3071/3071 [==============================] - 0s - loss: 0.0025 - val_loss: 3.0205e-04\n",
      "Epoch 5/20\n",
      "3071/3071 [==============================] - 0s - loss: 0.0015 - val_loss: 0.0020\n",
      "Epoch 6/20\n",
      "3071/3071 [==============================] - 0s - loss: 0.0013 - val_loss: 2.8670e-04\n",
      "Epoch 7/20\n",
      "3071/3071 [==============================] - 0s - loss: 0.0014 - val_loss: 2.9627e-04\n",
      "Epoch 8/20\n",
      "3071/3071 [==============================] - 0s - loss: 0.0013 - val_loss: 3.2969e-04\n",
      "Epoch 9/20\n",
      "3071/3071 [==============================] - 0s - loss: 0.0013 - val_loss: 5.6741e-04\n",
      "Epoch 10/20\n",
      "3071/3071 [==============================] - 0s - loss: 0.0012 - val_loss: 4.1206e-04\n",
      "Epoch 11/20\n",
      "3071/3071 [==============================] - 0s - loss: 0.0011 - val_loss: 2.6465e-04\n",
      "Epoch 12/20\n",
      "3071/3071 [==============================] - 0s - loss: 0.0011 - val_loss: 2.5978e-04\n",
      "Epoch 13/20\n",
      "3071/3071 [==============================] - 0s - loss: 0.0010 - val_loss: 2.9979e-04\n",
      "Epoch 14/20\n",
      "3071/3071 [==============================] - 0s - loss: 0.0010 - val_loss: 3.2115e-04\n",
      "Epoch 15/20\n",
      "3071/3071 [==============================] - 0s - loss: 0.0011 - val_loss: 2.6830e-04\n",
      "Epoch 16/20\n",
      "3071/3071 [==============================] - 0s - loss: 9.9378e-04 - val_loss: 5.1442e-04\n",
      "Epoch 17/20\n",
      "3071/3071 [==============================] - 0s - loss: 9.9316e-04 - val_loss: 3.0698e-04\n",
      "Epoch 18/20\n",
      "3071/3071 [==============================] - 0s - loss: 9.0158e-04 - val_loss: 7.8253e-04\n",
      "Epoch 19/20\n",
      "3071/3071 [==============================] - 0s - loss: 8.8550e-04 - val_loss: 4.0468e-04\n",
      "Epoch 20/20\n",
      "3071/3071 [==============================] - 0s - loss: 9.5093e-04 - val_loss: 2.4878e-04\n"
     ]
    },
    {
     "data": {
      "text/plain": [
       "<keras.callbacks.History at 0x127deb048>"
      ]
     },
     "execution_count": 65,
     "metadata": {},
     "output_type": "execute_result"
    }
   ],
   "source": [
    "model.fit(\n",
    "    trainX,\n",
    "    trainY,\n",
    "    batch_size=128,\n",
    "    epochs=20,\n",
    "    validation_split=0.05)"
   ]
  },
  {
   "cell_type": "code",
   "execution_count": 66,
   "metadata": {},
   "outputs": [
    {
     "name": "stdout",
     "output_type": "stream",
     "text": [
      "[[ 0.52492267]]\n",
      "[[ 1.10820603]]\n",
      "[[ 2.29533792]]\n",
      "[[ 4.66466236]]\n",
      "[[ 7.88333178]]\n",
      "[[ 0.52492267]\n",
      " [ 1.10820603]\n",
      " [ 2.29533792]\n",
      " [ 4.66466236]\n",
      " [ 7.88333178]]\n"
     ]
    },
    {
     "data": {
      "image/png": "[encoded data removed]",
      "text/plain": [
       "<matplotlib.figure.Figure at 0x131b27588>"
      ]
     },
     "metadata": {},
     "output_type": "display_data"
    }
   ],
   "source": [
    "def plot_results_multiple(predicted_data, true_data,length):\n",
    "    plt.plot(scaler.inverse_transform(true_data.reshape(-1, 1))[length:])\n",
    "    plt.plot(scaler.inverse_transform(np.array(predicted_data).reshape(-1, 1))[length:])\n",
    "    plt.show()\n",
    "    \n",
    "#predict lenght consecutive values from a real one\n",
    "def predict_sequences_multiple(model, firstValue,length):\n",
    "    prediction_seqs = []\n",
    "    curr_frame = firstValue\n",
    "    \n",
    "    for i in range(length): \n",
    "        predicted = []        \n",
    "        \n",
    "        print(model.predict(curr_frame[newaxis,:,:]))\n",
    "        predicted.append(model.predict(curr_frame[newaxis,:,:])[0,0])\n",
    "        \n",
    "        curr_frame = curr_frame[0:]\n",
    "        curr_frame = np.insert(curr_frame[0:], i+1, predicted[-1], axis=0)\n",
    "        \n",
    "        prediction_seqs.append(predicted[-1])\n",
    "        \n",
    "    return prediction_seqs\n",
    "\n",
    "predict_length=5\n",
    "predictions = predict_sequences_multiple(model, testX[0], predict_length)\n",
    "print(scaler.inverse_transform(np.array(predictions).reshape(-1, 1)))\n",
    "plot_results_multiple(predictions, testY, predict_length)"
   ]
  },
  {
   "cell_type": "code",
   "execution_count": 81,
   "metadata": {},
   "outputs": [],
   "source": [
    "# 取得する日の範囲を指定する\n",
    "start = datetime.datetime(2009, 1, 1)\n",
    "end = datetime.datetime(2017, 7, 1)\n",
    "\n",
    "\n",
    "N225 = web.DataReader('^N225', 'yahoo', start, end)\n",
    "fx = web.DataReader('JPY=X', 'yahoo',start,end)\n",
    "df_N225_fx = N225.merge(fx, how='outer',left_index=True, right_index=True)\n",
    "import os\n",
    "filename = \"N225_forex.csv\"\n",
    "path = os.path.join(\"..\",\"data\",filename)\n",
    "df_N225_fx.to_csv(path)\n",
    "\n"
   ]
  },
  {
   "cell_type": "code",
   "execution_count": 85,
   "metadata": {},
   "outputs": [],
   "source": [
    "N225_pure = df_N225_fx.dropna()\n",
    "total_num = (len(N225_pure))\n",
    "N225_price = N225_pure.loc[:,'Open_x':'Adj Close_y'].values.astype('float32')\n",
    "N225_price = N225_price.reshape(total_num, 11)"
   ]
  },
  {
   "cell_type": "code",
   "execution_count": 86,
   "metadata": {},
   "outputs": [
    {
     "name": "stdout",
     "output_type": "stream",
     "text": [
      "[[ 0.13934523  0.14630514  0.14229494 ...,  0.31585395  0.35428762\n",
      "   0.35428762]\n",
      " [ 0.14935905  0.14945632  0.14537668 ...,  0.35298932  0.35759175\n",
      "   0.35759175]\n",
      " [ 0.14963245  0.16059697  0.15088511 ...,  0.34380734  0.34340167\n",
      "   0.34340167]\n",
      " ..., \n",
      " [ 0.9501127   0.94927698  0.95273685 ...,  0.74052227  0.73886073\n",
      "   0.73886073]\n",
      " [ 0.94434679  0.94741458  0.94733059 ...,  0.74645984  0.74222577\n",
      "   0.74222577]\n",
      " [ 0.95240331  0.95046753  0.95361924 ...,  0.73819625  0.73523223\n",
      "   0.73523223]]\n"
     ]
    }
   ],
   "source": [
    "from sklearn.preprocessing import MinMaxScaler\n",
    "scaler = MinMaxScaler(feature_range=(0, 1))\n",
    "N225_price = scaler.fit_transform(N225_price)\n",
    "print (N225_price)"
   ]
  },
  {
   "cell_type": "code",
   "execution_count": 87,
   "metadata": {},
   "outputs": [
    {
     "name": "stdout",
     "output_type": "stream",
     "text": [
      "1460 365\n"
     ]
    }
   ],
   "source": [
    "train_size = int(len(N225_price) * 0.80)\n",
    "test_size = len(N225_price) - train_size\n",
    "train, test = N225_price[0:train_size,:], N225_price[train_size:len(N225_price),:]\n",
    "print(len(train), len(test))"
   ]
  },
  {
   "cell_type": "code",
   "execution_count": 92,
   "metadata": {},
   "outputs": [],
   "source": [
    "# convert an array of values into a dataset matrix\n",
    "def create_dataset(dataset):\n",
    "    look_back = 1\n",
    "    dataX, dataY = [], []\n",
    "    for i in range(len(dataset)-1):\n",
    "        dataX.append(dataset[i])\n",
    "        dataY.append(dataset[i+1, 4]) #predict\n",
    "    return (np.array(dataX), np.array(dataY))\n"
   ]
  },
  {
   "cell_type": "code",
   "execution_count": 93,
   "metadata": {
    "collapsed": true
   },
   "outputs": [],
   "source": [
    "train = create_dataset(train)\n",
    "test = create_dataset(test)"
   ]
  },
  {
   "cell_type": "code",
   "execution_count": 94,
   "metadata": {
    "collapsed": true
   },
   "outputs": [],
   "source": [
    "import pickle\n",
    "path = os.path.join(\"..\",\"data\",\"Train_N225_forex.pickle\")\n",
    "with open(path, mode='wb') as f:\n",
    "    pickle.dump((train, test),f)"
   ]
  },
  {
   "cell_type": "code",
   "execution_count": 98,
   "metadata": {},
   "outputs": [],
   "source": [
    "with open(path, mode='rb') as f:\n",
    "    dataset = pickle.load(f)"
   ]
  },
  {
   "cell_type": "code",
   "execution_count": 100,
   "metadata": {},
   "outputs": [
    {
     "ename": "AttributeError",
     "evalue": "'tuple' object has no attribute 'shape'",
     "output_type": "error",
     "traceback": [
      "\u001b[0;31m---------------------------------------------------------------------------\u001b[0m",
      "\u001b[0;31mAttributeError\u001b[0m                            Traceback (most recent call last)",
      "\u001b[0;32m<ipython-input-100-d26b2cf38108>\u001b[0m in \u001b[0;36m<module>\u001b[0;34m()\u001b[0m\n\u001b[0;32m----> 1\u001b[0;31m \u001b[0mdataset\u001b[0m\u001b[0;34m[\u001b[0m\u001b[0;36m1\u001b[0m\u001b[0;34m]\u001b[0m\u001b[0;34m.\u001b[0m\u001b[0mshape\u001b[0m\u001b[0;34m\u001b[0m\u001b[0m\n\u001b[0m",
      "\u001b[0;31mAttributeError\u001b[0m: 'tuple' object has no attribute 'shape'"
     ]
    }
   ],
   "source": []
  },
  {
   "cell_type": "code",
   "execution_count": null,
   "metadata": {
    "collapsed": true
   },
   "outputs": [],
   "source": []
  }
 ],
 "metadata": {
  "kernelspec": {
   "display_name": "Python 3",
   "language": "python",
   "name": "python3"
  },
  "language_info": {
   "codemirror_mode": {
    "name": "ipython",
    "version": 3
   },
   "file_extension": ".py",
   "mimetype": "text/x-python",
   "name": "python",
   "nbconvert_exporter": "python",
   "pygments_lexer": "ipython3",
   "version": "3.6.2"
  }
 },
 "nbformat": 4,
 "nbformat_minor": 2
}
