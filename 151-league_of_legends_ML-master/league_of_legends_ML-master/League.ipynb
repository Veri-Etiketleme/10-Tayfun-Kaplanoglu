{
 "cells": [
  {
   "cell_type": "code",
   "execution_count": 2,
   "metadata": {},
   "outputs": [],
   "source": [
    "import pandas as pd\n",
    "import numpy as np\n",
    "import math as m"
   ]
  },
  {
   "cell_type": "markdown",
   "metadata": {},
   "source": [
    "# About the data"
   ]
  },
  {
   "cell_type": "code",
   "execution_count": 43,
   "metadata": {},
   "outputs": [],
   "source": [
    "data = pd.read_csv('LeagueofLegends.csv')"
   ]
  },
  {
   "cell_type": "code",
   "execution_count": 44,
   "metadata": {},
   "outputs": [],
   "source": [
    "data= data.filter(['Address','bResult','rResult',\n",
    "                   'blueTopChamp','blueMiddleChamp','blueADCChamp','blueSupportChamp','blueJungleChamp',\n",
    "                  'redTopChamp','redMiddleChamp','redADCChamp','redSupportChamp','redJungleChamp',\n",
    "                  'goldblueMiddle','goldblueTop','goldblueADC','goldblueSupport','goldblueJungle',\n",
    "                  'goldredMiddle','goldredTop','goldredADC','goldredSupport','goldredJungle'])"
   ]
  },
  {
   "cell_type": "code",
   "execution_count": 45,
   "metadata": {},
   "outputs": [
    {
     "name": "stdout",
     "output_type": "stream",
     "text": [
      "(7620, 23)\n"
     ]
    }
   ],
   "source": [
    "print(data.shape)"
   ]
  },
  {
   "cell_type": "markdown",
   "metadata": {},
   "source": [
    "# Summing the gold for each champ"
   ]
  },
  {
   "cell_type": "code",
   "execution_count": 46,
   "metadata": {},
   "outputs": [],
   "source": [
    "gold_list = ['goldblueMiddle','goldblueTop','goldblueADC','goldblueSupport','goldblueJungle',\n",
    "             'goldredMiddle','goldredTop','goldredADC','goldredSupport','goldredJungle']\n",
    "\n",
    "conv_to_list = lambda x : x.replace('[' ,'').replace(']','').split(',')\n",
    "make_int = lambda x : int(x)\n",
    "\n",
    "for gld in gold_list:\n",
    "    data[gld] = data[gld].map(conv_to_list)\n",
    "    #Grabs the gold from the first 15 minutes of the game.\n",
    "    data[gld] = data[gld].map(lambda x : max(list(map(make_int , x))))"
   ]
  },
  {
   "cell_type": "code",
   "execution_count": null,
   "metadata": {},
   "outputs": [],
   "source": []
  },
  {
   "cell_type": "code",
   "execution_count": 47,
   "metadata": {},
   "outputs": [
    {
     "data": {
      "text/html": [
       "<div>\n",
       "<style scoped>\n",
       "    .dataframe tbody tr th:only-of-type {\n",
       "        vertical-align: middle;\n",
       "    }\n",
       "\n",
       "    .dataframe tbody tr th {\n",
       "        vertical-align: top;\n",
       "    }\n",
       "\n",
       "    .dataframe thead th {\n",
       "        text-align: right;\n",
       "    }\n",
       "</style>\n",
       "<table border=\"1\" class=\"dataframe\">\n",
       "  <thead>\n",
       "    <tr style=\"text-align: right;\">\n",
       "      <th></th>\n",
       "      <th>Address</th>\n",
       "      <th>bResult</th>\n",
       "      <th>rResult</th>\n",
       "      <th>blueTopChamp</th>\n",
       "      <th>blueMiddleChamp</th>\n",
       "      <th>blueADCChamp</th>\n",
       "      <th>blueSupportChamp</th>\n",
       "      <th>blueJungleChamp</th>\n",
       "      <th>redTopChamp</th>\n",
       "      <th>redMiddleChamp</th>\n",
       "      <th>...</th>\n",
       "      <th>goldblueMiddle</th>\n",
       "      <th>goldblueTop</th>\n",
       "      <th>goldblueADC</th>\n",
       "      <th>goldblueSupport</th>\n",
       "      <th>goldblueJungle</th>\n",
       "      <th>goldredMiddle</th>\n",
       "      <th>goldredTop</th>\n",
       "      <th>goldredADC</th>\n",
       "      <th>goldredSupport</th>\n",
       "      <th>goldredJungle</th>\n",
       "    </tr>\n",
       "  </thead>\n",
       "  <tbody>\n",
       "    <tr>\n",
       "      <th>0</th>\n",
       "      <td>http://matchhistory.na.leagueoflegends.com/en/...</td>\n",
       "      <td>1</td>\n",
       "      <td>0</td>\n",
       "      <td>Irelia</td>\n",
       "      <td>Ahri</td>\n",
       "      <td>Jinx</td>\n",
       "      <td>Janna</td>\n",
       "      <td>RekSai</td>\n",
       "      <td>Gnar</td>\n",
       "      <td>Fizz</td>\n",
       "      <td>...</td>\n",
       "      <td>15177</td>\n",
       "      <td>12526</td>\n",
       "      <td>15048</td>\n",
       "      <td>8754</td>\n",
       "      <td>11224</td>\n",
       "      <td>10896</td>\n",
       "      <td>11952</td>\n",
       "      <td>15256</td>\n",
       "      <td>7375</td>\n",
       "      <td>11193</td>\n",
       "    </tr>\n",
       "    <tr>\n",
       "      <th>1</th>\n",
       "      <td>http://matchhistory.na.leagueoflegends.com/en/...</td>\n",
       "      <td>0</td>\n",
       "      <td>1</td>\n",
       "      <td>Gnar</td>\n",
       "      <td>Ahri</td>\n",
       "      <td>Caitlyn</td>\n",
       "      <td>Leona</td>\n",
       "      <td>Rengar</td>\n",
       "      <td>Irelia</td>\n",
       "      <td>Azir</td>\n",
       "      <td>...</td>\n",
       "      <td>13546</td>\n",
       "      <td>12352</td>\n",
       "      <td>13129</td>\n",
       "      <td>8005</td>\n",
       "      <td>10670</td>\n",
       "      <td>13641</td>\n",
       "      <td>11866</td>\n",
       "      <td>13809</td>\n",
       "      <td>8233</td>\n",
       "      <td>8988</td>\n",
       "    </tr>\n",
       "    <tr>\n",
       "      <th>2</th>\n",
       "      <td>http://matchhistory.na.leagueoflegends.com/en/...</td>\n",
       "      <td>1</td>\n",
       "      <td>0</td>\n",
       "      <td>Renekton</td>\n",
       "      <td>Fizz</td>\n",
       "      <td>Sivir</td>\n",
       "      <td>Annie</td>\n",
       "      <td>Rengar</td>\n",
       "      <td>Sion</td>\n",
       "      <td>Azir</td>\n",
       "      <td>...</td>\n",
       "      <td>15507</td>\n",
       "      <td>14458</td>\n",
       "      <td>18705</td>\n",
       "      <td>10543</td>\n",
       "      <td>11057</td>\n",
       "      <td>12749</td>\n",
       "      <td>11806</td>\n",
       "      <td>13823</td>\n",
       "      <td>7357</td>\n",
       "      <td>10620</td>\n",
       "    </tr>\n",
       "    <tr>\n",
       "      <th>3</th>\n",
       "      <td>http://matchhistory.na.leagueoflegends.com/en/...</td>\n",
       "      <td>0</td>\n",
       "      <td>1</td>\n",
       "      <td>Irelia</td>\n",
       "      <td>Leblanc</td>\n",
       "      <td>Sivir</td>\n",
       "      <td>Thresh</td>\n",
       "      <td>JarvanIV</td>\n",
       "      <td>Gnar</td>\n",
       "      <td>Lulu</td>\n",
       "      <td>...</td>\n",
       "      <td>12835</td>\n",
       "      <td>12806</td>\n",
       "      <td>14478</td>\n",
       "      <td>7346</td>\n",
       "      <td>11147</td>\n",
       "      <td>14140</td>\n",
       "      <td>11950</td>\n",
       "      <td>15644</td>\n",
       "      <td>9439</td>\n",
       "      <td>11946</td>\n",
       "    </tr>\n",
       "    <tr>\n",
       "      <th>4</th>\n",
       "      <td>http://matchhistory.na.leagueoflegends.com/en/...</td>\n",
       "      <td>1</td>\n",
       "      <td>0</td>\n",
       "      <td>Gnar</td>\n",
       "      <td>Lissandra</td>\n",
       "      <td>Tristana</td>\n",
       "      <td>Janna</td>\n",
       "      <td>JarvanIV</td>\n",
       "      <td>Sion</td>\n",
       "      <td>Lulu</td>\n",
       "      <td>...</td>\n",
       "      <td>13803</td>\n",
       "      <td>11498</td>\n",
       "      <td>14798</td>\n",
       "      <td>9081</td>\n",
       "      <td>11089</td>\n",
       "      <td>10441</td>\n",
       "      <td>11734</td>\n",
       "      <td>10711</td>\n",
       "      <td>6283</td>\n",
       "      <td>9778</td>\n",
       "    </tr>\n",
       "  </tbody>\n",
       "</table>\n",
       "<p>5 rows × 23 columns</p>\n",
       "</div>"
      ],
      "text/plain": [
       "                                             Address  bResult  rResult  \\\n",
       "0  http://matchhistory.na.leagueoflegends.com/en/...        1        0   \n",
       "1  http://matchhistory.na.leagueoflegends.com/en/...        0        1   \n",
       "2  http://matchhistory.na.leagueoflegends.com/en/...        1        0   \n",
       "3  http://matchhistory.na.leagueoflegends.com/en/...        0        1   \n",
       "4  http://matchhistory.na.leagueoflegends.com/en/...        1        0   \n",
       "\n",
       "  blueTopChamp blueMiddleChamp blueADCChamp blueSupportChamp blueJungleChamp  \\\n",
       "0       Irelia            Ahri         Jinx            Janna          RekSai   \n",
       "1         Gnar            Ahri      Caitlyn            Leona          Rengar   \n",
       "2     Renekton            Fizz        Sivir            Annie          Rengar   \n",
       "3       Irelia         Leblanc        Sivir           Thresh        JarvanIV   \n",
       "4         Gnar       Lissandra     Tristana            Janna        JarvanIV   \n",
       "\n",
       "  redTopChamp redMiddleChamp  ... goldblueMiddle goldblueTop goldblueADC  \\\n",
       "0        Gnar           Fizz  ...          15177       12526       15048   \n",
       "1      Irelia           Azir  ...          13546       12352       13129   \n",
       "2        Sion           Azir  ...          15507       14458       18705   \n",
       "3        Gnar           Lulu  ...          12835       12806       14478   \n",
       "4        Sion           Lulu  ...          13803       11498       14798   \n",
       "\n",
       "   goldblueSupport  goldblueJungle  goldredMiddle  goldredTop  goldredADC  \\\n",
       "0             8754           11224          10896       11952       15256   \n",
       "1             8005           10670          13641       11866       13809   \n",
       "2            10543           11057          12749       11806       13823   \n",
       "3             7346           11147          14140       11950       15644   \n",
       "4             9081           11089          10441       11734       10711   \n",
       "\n",
       "   goldredSupport  goldredJungle  \n",
       "0            7375          11193  \n",
       "1            8233           8988  \n",
       "2            7357          10620  \n",
       "3            9439          11946  \n",
       "4            6283           9778  \n",
       "\n",
       "[5 rows x 23 columns]"
      ]
     },
     "execution_count": 47,
     "metadata": {},
     "output_type": "execute_result"
    }
   ],
   "source": [
    "data.head(5)"
   ]
  },
  {
   "cell_type": "markdown",
   "metadata": {},
   "source": [
    "# Visualization of the Data"
   ]
  },
  {
   "cell_type": "code",
   "execution_count": 48,
   "metadata": {},
   "outputs": [],
   "source": [
    "corr = data.corr()"
   ]
  },
  {
   "cell_type": "code",
   "execution_count": 49,
   "metadata": {},
   "outputs": [],
   "source": [
    "import matplotlib.pyplot as plt "
   ]
  },
  {
   "cell_type": "code",
   "execution_count": 50,
   "metadata": {},
   "outputs": [
    {
     "data": {
      "image/png": "[encoded data removed]",
      "text/plain": [
       "<Figure size 432x288 with 1 Axes>"
      ]
     },
     "metadata": {
      "needs_background": "light"
     },
     "output_type": "display_data"
    }
   ],
   "source": [
    "x = data['blueSupportChamp']\n",
    "y = data['goldblueSupport']\n",
    "\n",
    "plt.xticks(rotation = 'vertical')\n",
    "c = np.random.rand(7620)\n",
    "plt.scatter(x,y,alpha=0.5 , c = c)\n",
    "plt.show()"
   ]
  },
  {
   "cell_type": "markdown",
   "metadata": {},
   "source": [
    "# Normilized"
   ]
  },
  {
   "cell_type": "code",
   "execution_count": 51,
   "metadata": {},
   "outputs": [
    {
     "data": {
      "image/png": "[encoded data removed]",
      "text/plain": [
       "<Figure size 432x288 with 1 Axes>"
      ]
     },
     "metadata": {
      "needs_background": "light"
     },
     "output_type": "display_data"
    }
   ],
   "source": [
    "## Normilization \n",
    "x = data['blueSupportChamp'].head(1000)\n",
    "y = data['goldblueSupport'].head(1000)\n",
    "\n",
    "max_ = y.max()\n",
    "min_ = y.min()\n",
    "y= y.map(lambda x : (x - min_ ) / (max_ - min_))\n",
    "\n",
    "plt.xticks(rotation = 'vertical')\n",
    "c = np.random.rand(1000)\n",
    "plt.scatter(x,y,alpha=0.5 , c = c)\n",
    "plt.show()"
   ]
  },
  {
   "cell_type": "markdown",
   "metadata": {},
   "source": [
    "# Correlation"
   ]
  },
  {
   "cell_type": "code",
   "execution_count": 52,
   "metadata": {},
   "outputs": [
    {
     "data": {
      "image/png": "[encoded data removed]",
      "text/plain": [
       "<Figure size 288x288 with 1 Axes>"
      ]
     },
     "metadata": {
      "needs_background": "light"
     },
     "output_type": "display_data"
    }
   ],
   "source": [
    "plt.matshow(corr)\n",
    "plt.show()"
   ]
  },
  {
   "cell_type": "code",
   "execution_count": 53,
   "metadata": {},
   "outputs": [
    {
     "data": {
      "text/html": [
       "<style  type=\"text/css\" >\n",
       "    #T_cab73b94_b4ed_11e9_ba14_f8597124e8b5row0_col0 {\n",
       "            background-color:  #b40426;\n",
       "            color:  #f1f1f1;\n",
       "        }    #T_cab73b94_b4ed_11e9_ba14_f8597124e8b5row0_col1 {\n",
       "            background-color:  #3b4cc0;\n",
       "            color:  #f1f1f1;\n",
       "        }    #T_cab73b94_b4ed_11e9_ba14_f8597124e8b5row0_col2 {\n",
       "            background-color:  #c3d5f4;\n",
       "            color:  #000000;\n",
       "        }    #T_cab73b94_b4ed_11e9_ba14_f8597124e8b5row0_col3 {\n",
       "            background-color:  #c3d5f4;\n",
       "            color:  #000000;\n",
       "        }    #T_cab73b94_b4ed_11e9_ba14_f8597124e8b5row0_col4 {\n",
       "            background-color:  #c1d4f4;\n",
       "            color:  #000000;\n",
       "        }    #T_cab73b94_b4ed_11e9_ba14_f8597124e8b5row0_col5 {\n",
       "            background-color:  #cdd9ec;\n",
       "            color:  #000000;\n",
       "        }    #T_cab73b94_b4ed_11e9_ba14_f8597124e8b5row0_col6 {\n",
       "            background-color:  #d2dbe8;\n",
       "            color:  #000000;\n",
       "        }    #T_cab73b94_b4ed_11e9_ba14_f8597124e8b5row0_col7 {\n",
       "            background-color:  #3b4cc0;\n",
       "            color:  #f1f1f1;\n",
       "        }    #T_cab73b94_b4ed_11e9_ba14_f8597124e8b5row0_col8 {\n",
       "            background-color:  #3b4cc0;\n",
       "            color:  #f1f1f1;\n",
       "        }    #T_cab73b94_b4ed_11e9_ba14_f8597124e8b5row0_col9 {\n",
       "            background-color:  #3b4cc0;\n",
       "            color:  #f1f1f1;\n",
       "        }    #T_cab73b94_b4ed_11e9_ba14_f8597124e8b5row0_col10 {\n",
       "            background-color:  #3b4cc0;\n",
       "            color:  #f1f1f1;\n",
       "        }    #T_cab73b94_b4ed_11e9_ba14_f8597124e8b5row0_col11 {\n",
       "            background-color:  #3b4cc0;\n",
       "            color:  #f1f1f1;\n",
       "        }    #T_cab73b94_b4ed_11e9_ba14_f8597124e8b5row1_col0 {\n",
       "            background-color:  #3b4cc0;\n",
       "            color:  #f1f1f1;\n",
       "        }    #T_cab73b94_b4ed_11e9_ba14_f8597124e8b5row1_col1 {\n",
       "            background-color:  #b40426;\n",
       "            color:  #f1f1f1;\n",
       "        }    #T_cab73b94_b4ed_11e9_ba14_f8597124e8b5row1_col2 {\n",
       "            background-color:  #3b4cc0;\n",
       "            color:  #f1f1f1;\n",
       "        }    #T_cab73b94_b4ed_11e9_ba14_f8597124e8b5row1_col3 {\n",
       "            background-color:  #3b4cc0;\n",
       "            color:  #f1f1f1;\n",
       "        }    #T_cab73b94_b4ed_11e9_ba14_f8597124e8b5row1_col4 {\n",
       "            background-color:  #3b4cc0;\n",
       "            color:  #f1f1f1;\n",
       "        }    #T_cab73b94_b4ed_11e9_ba14_f8597124e8b5row1_col5 {\n",
       "            background-color:  #3b4cc0;\n",
       "            color:  #f1f1f1;\n",
       "        }    #T_cab73b94_b4ed_11e9_ba14_f8597124e8b5row1_col6 {\n",
       "            background-color:  #3b4cc0;\n",
       "            color:  #f1f1f1;\n",
       "        }    #T_cab73b94_b4ed_11e9_ba14_f8597124e8b5row1_col7 {\n",
       "            background-color:  #e2dad5;\n",
       "            color:  #000000;\n",
       "        }    #T_cab73b94_b4ed_11e9_ba14_f8597124e8b5row1_col8 {\n",
       "            background-color:  #e0dbd8;\n",
       "            color:  #000000;\n",
       "        }    #T_cab73b94_b4ed_11e9_ba14_f8597124e8b5row1_col9 {\n",
       "            background-color:  #dfdbd9;\n",
       "            color:  #000000;\n",
       "        }    #T_cab73b94_b4ed_11e9_ba14_f8597124e8b5row1_col10 {\n",
       "            background-color:  #e7d7ce;\n",
       "            color:  #000000;\n",
       "        }    #T_cab73b94_b4ed_11e9_ba14_f8597124e8b5row1_col11 {\n",
       "            background-color:  #ead5c9;\n",
       "            color:  #000000;\n",
       "        }    #T_cab73b94_b4ed_11e9_ba14_f8597124e8b5row2_col0 {\n",
       "            background-color:  #f5c4ac;\n",
       "            color:  #000000;\n",
       "        }    #T_cab73b94_b4ed_11e9_ba14_f8597124e8b5row2_col1 {\n",
       "            background-color:  #b7cff9;\n",
       "            color:  #000000;\n",
       "        }    #T_cab73b94_b4ed_11e9_ba14_f8597124e8b5row2_col2 {\n",
       "            background-color:  #b40426;\n",
       "            color:  #f1f1f1;\n",
       "        }    #T_cab73b94_b4ed_11e9_ba14_f8597124e8b5row2_col3 {\n",
       "            background-color:  #d65244;\n",
       "            color:  #000000;\n",
       "        }    #T_cab73b94_b4ed_11e9_ba14_f8597124e8b5row2_col4 {\n",
       "            background-color:  #d44e41;\n",
       "            color:  #000000;\n",
       "        }    #T_cab73b94_b4ed_11e9_ba14_f8597124e8b5row2_col5 {\n",
       "            background-color:  #d1493f;\n",
       "            color:  #f1f1f1;\n",
       "        }    #T_cab73b94_b4ed_11e9_ba14_f8597124e8b5row2_col6 {\n",
       "            background-color:  #d65244;\n",
       "            color:  #000000;\n",
       "        }    #T_cab73b94_b4ed_11e9_ba14_f8597124e8b5row2_col7 {\n",
       "            background-color:  #f29072;\n",
       "            color:  #000000;\n",
       "        }    #T_cab73b94_b4ed_11e9_ba14_f8597124e8b5row2_col8 {\n",
       "            background-color:  #f39577;\n",
       "            color:  #000000;\n",
       "        }    #T_cab73b94_b4ed_11e9_ba14_f8597124e8b5row2_col9 {\n",
       "            background-color:  #f18f71;\n",
       "            color:  #000000;\n",
       "        }    #T_cab73b94_b4ed_11e9_ba14_f8597124e8b5row2_col10 {\n",
       "            background-color:  #f39778;\n",
       "            color:  #000000;\n",
       "        }    #T_cab73b94_b4ed_11e9_ba14_f8597124e8b5row2_col11 {\n",
       "            background-color:  #f59d7e;\n",
       "            color:  #000000;\n",
       "        }    #T_cab73b94_b4ed_11e9_ba14_f8597124e8b5row3_col0 {\n",
       "            background-color:  #f5c4ac;\n",
       "            color:  #000000;\n",
       "        }    #T_cab73b94_b4ed_11e9_ba14_f8597124e8b5row3_col1 {\n",
       "            background-color:  #b7cff9;\n",
       "            color:  #000000;\n",
       "        }    #T_cab73b94_b4ed_11e9_ba14_f8597124e8b5row3_col2 {\n",
       "            background-color:  #d65244;\n",
       "            color:  #000000;\n",
       "        }    #T_cab73b94_b4ed_11e9_ba14_f8597124e8b5row3_col3 {\n",
       "            background-color:  #b40426;\n",
       "            color:  #f1f1f1;\n",
       "        }    #T_cab73b94_b4ed_11e9_ba14_f8597124e8b5row3_col4 {\n",
       "            background-color:  #d95847;\n",
       "            color:  #000000;\n",
       "        }    #T_cab73b94_b4ed_11e9_ba14_f8597124e8b5row3_col5 {\n",
       "            background-color:  #d55042;\n",
       "            color:  #000000;\n",
       "        }    #T_cab73b94_b4ed_11e9_ba14_f8597124e8b5row3_col6 {\n",
       "            background-color:  #d65244;\n",
       "            color:  #000000;\n",
       "        }    #T_cab73b94_b4ed_11e9_ba14_f8597124e8b5row3_col7 {\n",
       "            background-color:  #f4987a;\n",
       "            color:  #000000;\n",
       "        }    #T_cab73b94_b4ed_11e9_ba14_f8597124e8b5row3_col8 {\n",
       "            background-color:  #f4987a;\n",
       "            color:  #000000;\n",
       "        }    #T_cab73b94_b4ed_11e9_ba14_f8597124e8b5row3_col9 {\n",
       "            background-color:  #f39475;\n",
       "            color:  #000000;\n",
       "        }    #T_cab73b94_b4ed_11e9_ba14_f8597124e8b5row3_col10 {\n",
       "            background-color:  #f49a7b;\n",
       "            color:  #000000;\n",
       "        }    #T_cab73b94_b4ed_11e9_ba14_f8597124e8b5row3_col11 {\n",
       "            background-color:  #f59f80;\n",
       "            color:  #000000;\n",
       "        }    #T_cab73b94_b4ed_11e9_ba14_f8597124e8b5row4_col0 {\n",
       "            background-color:  #f5c4ac;\n",
       "            color:  #000000;\n",
       "        }    #T_cab73b94_b4ed_11e9_ba14_f8597124e8b5row4_col1 {\n",
       "            background-color:  #b7cff9;\n",
       "            color:  #000000;\n",
       "        }    #T_cab73b94_b4ed_11e9_ba14_f8597124e8b5row4_col2 {\n",
       "            background-color:  #d24b40;\n",
       "            color:  #f1f1f1;\n",
       "        }    #T_cab73b94_b4ed_11e9_ba14_f8597124e8b5row4_col3 {\n",
       "            background-color:  #d95847;\n",
       "            color:  #000000;\n",
       "        }    #T_cab73b94_b4ed_11e9_ba14_f8597124e8b5row4_col4 {\n",
       "            background-color:  #b40426;\n",
       "            color:  #f1f1f1;\n",
       "        }    #T_cab73b94_b4ed_11e9_ba14_f8597124e8b5row4_col5 {\n",
       "            background-color:  #cf453c;\n",
       "            color:  #f1f1f1;\n",
       "        }    #T_cab73b94_b4ed_11e9_ba14_f8597124e8b5row4_col6 {\n",
       "            background-color:  #d85646;\n",
       "            color:  #000000;\n",
       "        }    #T_cab73b94_b4ed_11e9_ba14_f8597124e8b5row4_col7 {\n",
       "            background-color:  #f18f71;\n",
       "            color:  #000000;\n",
       "        }    #T_cab73b94_b4ed_11e9_ba14_f8597124e8b5row4_col8 {\n",
       "            background-color:  #f29274;\n",
       "            color:  #000000;\n",
       "        }    #T_cab73b94_b4ed_11e9_ba14_f8597124e8b5row4_col9 {\n",
       "            background-color:  #f08a6c;\n",
       "            color:  #000000;\n",
       "        }    #T_cab73b94_b4ed_11e9_ba14_f8597124e8b5row4_col10 {\n",
       "            background-color:  #f39475;\n",
       "            color:  #000000;\n",
       "        }    #T_cab73b94_b4ed_11e9_ba14_f8597124e8b5row4_col11 {\n",
       "            background-color:  #f59c7d;\n",
       "            color:  #000000;\n",
       "        }    #T_cab73b94_b4ed_11e9_ba14_f8597124e8b5row5_col0 {\n",
       "            background-color:  #f6bfa6;\n",
       "            color:  #000000;\n",
       "        }    #T_cab73b94_b4ed_11e9_ba14_f8597124e8b5row5_col1 {\n",
       "            background-color:  #b2ccfb;\n",
       "            color:  #000000;\n",
       "        }    #T_cab73b94_b4ed_11e9_ba14_f8597124e8b5row5_col2 {\n",
       "            background-color:  #d24b40;\n",
       "            color:  #f1f1f1;\n",
       "        }    #T_cab73b94_b4ed_11e9_ba14_f8597124e8b5row5_col3 {\n",
       "            background-color:  #d55042;\n",
       "            color:  #000000;\n",
       "        }    #T_cab73b94_b4ed_11e9_ba14_f8597124e8b5row5_col4 {\n",
       "            background-color:  #cf453c;\n",
       "            color:  #f1f1f1;\n",
       "        }    #T_cab73b94_b4ed_11e9_ba14_f8597124e8b5row5_col5 {\n",
       "            background-color:  #b40426;\n",
       "            color:  #f1f1f1;\n",
       "        }    #T_cab73b94_b4ed_11e9_ba14_f8597124e8b5row5_col6 {\n",
       "            background-color:  #cf453c;\n",
       "            color:  #f1f1f1;\n",
       "        }    #T_cab73b94_b4ed_11e9_ba14_f8597124e8b5row5_col7 {\n",
       "            background-color:  #f49a7b;\n",
       "            color:  #000000;\n",
       "        }    #T_cab73b94_b4ed_11e9_ba14_f8597124e8b5row5_col8 {\n",
       "            background-color:  #f49a7b;\n",
       "            color:  #000000;\n",
       "        }    #T_cab73b94_b4ed_11e9_ba14_f8597124e8b5row5_col9 {\n",
       "            background-color:  #f39577;\n",
       "            color:  #000000;\n",
       "        }    #T_cab73b94_b4ed_11e9_ba14_f8597124e8b5row5_col10 {\n",
       "            background-color:  #f29274;\n",
       "            color:  #000000;\n",
       "        }    #T_cab73b94_b4ed_11e9_ba14_f8597124e8b5row5_col11 {\n",
       "            background-color:  #f59f80;\n",
       "            color:  #000000;\n",
       "        }    #T_cab73b94_b4ed_11e9_ba14_f8597124e8b5row6_col0 {\n",
       "            background-color:  #f6bea4;\n",
       "            color:  #000000;\n",
       "        }    #T_cab73b94_b4ed_11e9_ba14_f8597124e8b5row6_col1 {\n",
       "            background-color:  #b1cbfc;\n",
       "            color:  #000000;\n",
       "        }    #T_cab73b94_b4ed_11e9_ba14_f8597124e8b5row6_col2 {\n",
       "            background-color:  #d75445;\n",
       "            color:  #000000;\n",
       "        }    #T_cab73b94_b4ed_11e9_ba14_f8597124e8b5row6_col3 {\n",
       "            background-color:  #d75445;\n",
       "            color:  #000000;\n",
       "        }    #T_cab73b94_b4ed_11e9_ba14_f8597124e8b5row6_col4 {\n",
       "            background-color:  #d85646;\n",
       "            color:  #000000;\n",
       "        }    #T_cab73b94_b4ed_11e9_ba14_f8597124e8b5row6_col5 {\n",
       "            background-color:  #d0473d;\n",
       "            color:  #f1f1f1;\n",
       "        }    #T_cab73b94_b4ed_11e9_ba14_f8597124e8b5row6_col6 {\n",
       "            background-color:  #b40426;\n",
       "            color:  #f1f1f1;\n",
       "        }    #T_cab73b94_b4ed_11e9_ba14_f8597124e8b5row6_col7 {\n",
       "            background-color:  #f6a283;\n",
       "            color:  #000000;\n",
       "        }    #T_cab73b94_b4ed_11e9_ba14_f8597124e8b5row6_col8 {\n",
       "            background-color:  #f6a385;\n",
       "            color:  #000000;\n",
       "        }    #T_cab73b94_b4ed_11e9_ba14_f8597124e8b5row6_col9 {\n",
       "            background-color:  #f5a081;\n",
       "            color:  #000000;\n",
       "        }    #T_cab73b94_b4ed_11e9_ba14_f8597124e8b5row6_col10 {\n",
       "            background-color:  #f6a283;\n",
       "            color:  #000000;\n",
       "        }    #T_cab73b94_b4ed_11e9_ba14_f8597124e8b5row6_col11 {\n",
       "            background-color:  #f6a283;\n",
       "            color:  #000000;\n",
       "        }    #T_cab73b94_b4ed_11e9_ba14_f8597124e8b5row7_col0 {\n",
       "            background-color:  #a6c4fe;\n",
       "            color:  #000000;\n",
       "        }    #T_cab73b94_b4ed_11e9_ba14_f8597124e8b5row7_col1 {\n",
       "            background-color:  #f7b497;\n",
       "            color:  #000000;\n",
       "        }    #T_cab73b94_b4ed_11e9_ba14_f8597124e8b5row7_col2 {\n",
       "            background-color:  #f4987a;\n",
       "            color:  #000000;\n",
       "        }    #T_cab73b94_b4ed_11e9_ba14_f8597124e8b5row7_col3 {\n",
       "            background-color:  #f59f80;\n",
       "            color:  #000000;\n",
       "        }    #T_cab73b94_b4ed_11e9_ba14_f8597124e8b5row7_col4 {\n",
       "            background-color:  #f39577;\n",
       "            color:  #000000;\n",
       "        }    #T_cab73b94_b4ed_11e9_ba14_f8597124e8b5row7_col5 {\n",
       "            background-color:  #f59f80;\n",
       "            color:  #000000;\n",
       "        }    #T_cab73b94_b4ed_11e9_ba14_f8597124e8b5row7_col6 {\n",
       "            background-color:  #f7a688;\n",
       "            color:  #000000;\n",
       "        }    #T_cab73b94_b4ed_11e9_ba14_f8597124e8b5row7_col7 {\n",
       "            background-color:  #b40426;\n",
       "            color:  #f1f1f1;\n",
       "        }    #T_cab73b94_b4ed_11e9_ba14_f8597124e8b5row7_col8 {\n",
       "            background-color:  #d0473d;\n",
       "            color:  #f1f1f1;\n",
       "        }    #T_cab73b94_b4ed_11e9_ba14_f8597124e8b5row7_col9 {\n",
       "            background-color:  #cd423b;\n",
       "            color:  #f1f1f1;\n",
       "        }    #T_cab73b94_b4ed_11e9_ba14_f8597124e8b5row7_col10 {\n",
       "            background-color:  #cd423b;\n",
       "            color:  #f1f1f1;\n",
       "        }    #T_cab73b94_b4ed_11e9_ba14_f8597124e8b5row7_col11 {\n",
       "            background-color:  #d0473d;\n",
       "            color:  #f1f1f1;\n",
       "        }    #T_cab73b94_b4ed_11e9_ba14_f8597124e8b5row8_col0 {\n",
       "            background-color:  #a7c5fe;\n",
       "            color:  #000000;\n",
       "        }    #T_cab73b94_b4ed_11e9_ba14_f8597124e8b5row8_col1 {\n",
       "            background-color:  #f7b599;\n",
       "            color:  #000000;\n",
       "        }    #T_cab73b94_b4ed_11e9_ba14_f8597124e8b5row8_col2 {\n",
       "            background-color:  #f59c7d;\n",
       "            color:  #000000;\n",
       "        }    #T_cab73b94_b4ed_11e9_ba14_f8597124e8b5row8_col3 {\n",
       "            background-color:  #f5a081;\n",
       "            color:  #000000;\n",
       "        }    #T_cab73b94_b4ed_11e9_ba14_f8597124e8b5row8_col4 {\n",
       "            background-color:  #f49a7b;\n",
       "            color:  #000000;\n",
       "        }    #T_cab73b94_b4ed_11e9_ba14_f8597124e8b5row8_col5 {\n",
       "            background-color:  #f59f80;\n",
       "            color:  #000000;\n",
       "        }    #T_cab73b94_b4ed_11e9_ba14_f8597124e8b5row8_col6 {\n",
       "            background-color:  #f7a688;\n",
       "            color:  #000000;\n",
       "        }    #T_cab73b94_b4ed_11e9_ba14_f8597124e8b5row8_col7 {\n",
       "            background-color:  #d0473d;\n",
       "            color:  #f1f1f1;\n",
       "        }    #T_cab73b94_b4ed_11e9_ba14_f8597124e8b5row8_col8 {\n",
       "            background-color:  #b40426;\n",
       "            color:  #f1f1f1;\n",
       "        }    #T_cab73b94_b4ed_11e9_ba14_f8597124e8b5row8_col9 {\n",
       "            background-color:  #d44e41;\n",
       "            color:  #000000;\n",
       "        }    #T_cab73b94_b4ed_11e9_ba14_f8597124e8b5row8_col10 {\n",
       "            background-color:  #cf453c;\n",
       "            color:  #f1f1f1;\n",
       "        }    #T_cab73b94_b4ed_11e9_ba14_f8597124e8b5row8_col11 {\n",
       "            background-color:  #d0473d;\n",
       "            color:  #f1f1f1;\n",
       "        }    #T_cab73b94_b4ed_11e9_ba14_f8597124e8b5row9_col0 {\n",
       "            background-color:  #a9c6fd;\n",
       "            color:  #000000;\n",
       "        }    #T_cab73b94_b4ed_11e9_ba14_f8597124e8b5row9_col1 {\n",
       "            background-color:  #f7b79b;\n",
       "            color:  #000000;\n",
       "        }    #T_cab73b94_b4ed_11e9_ba14_f8597124e8b5row9_col2 {\n",
       "            background-color:  #f39577;\n",
       "            color:  #000000;\n",
       "        }    #T_cab73b94_b4ed_11e9_ba14_f8597124e8b5row9_col3 {\n",
       "            background-color:  #f49a7b;\n",
       "            color:  #000000;\n",
       "        }    #T_cab73b94_b4ed_11e9_ba14_f8597124e8b5row9_col4 {\n",
       "            background-color:  #f18f71;\n",
       "            color:  #000000;\n",
       "        }    #T_cab73b94_b4ed_11e9_ba14_f8597124e8b5row9_col5 {\n",
       "            background-color:  #f49a7b;\n",
       "            color:  #000000;\n",
       "        }    #T_cab73b94_b4ed_11e9_ba14_f8597124e8b5row9_col6 {\n",
       "            background-color:  #f6a385;\n",
       "            color:  #000000;\n",
       "        }    #T_cab73b94_b4ed_11e9_ba14_f8597124e8b5row9_col7 {\n",
       "            background-color:  #cd423b;\n",
       "            color:  #f1f1f1;\n",
       "        }    #T_cab73b94_b4ed_11e9_ba14_f8597124e8b5row9_col8 {\n",
       "            background-color:  #d44e41;\n",
       "            color:  #000000;\n",
       "        }    #T_cab73b94_b4ed_11e9_ba14_f8597124e8b5row9_col9 {\n",
       "            background-color:  #b40426;\n",
       "            color:  #f1f1f1;\n",
       "        }    #T_cab73b94_b4ed_11e9_ba14_f8597124e8b5row9_col10 {\n",
       "            background-color:  #cb3e38;\n",
       "            color:  #f1f1f1;\n",
       "        }    #T_cab73b94_b4ed_11e9_ba14_f8597124e8b5row9_col11 {\n",
       "            background-color:  #d1493f;\n",
       "            color:  #f1f1f1;\n",
       "        }    #T_cab73b94_b4ed_11e9_ba14_f8597124e8b5row10_col0 {\n",
       "            background-color:  #a3c2fe;\n",
       "            color:  #000000;\n",
       "        }    #T_cab73b94_b4ed_11e9_ba14_f8597124e8b5row10_col1 {\n",
       "            background-color:  #f7b194;\n",
       "            color:  #000000;\n",
       "        }    #T_cab73b94_b4ed_11e9_ba14_f8597124e8b5row10_col2 {\n",
       "            background-color:  #f5a081;\n",
       "            color:  #000000;\n",
       "        }    #T_cab73b94_b4ed_11e9_ba14_f8597124e8b5row10_col3 {\n",
       "            background-color:  #f6a385;\n",
       "            color:  #000000;\n",
       "        }    #T_cab73b94_b4ed_11e9_ba14_f8597124e8b5row10_col4 {\n",
       "            background-color:  #f59d7e;\n",
       "            color:  #000000;\n",
       "        }    #T_cab73b94_b4ed_11e9_ba14_f8597124e8b5row10_col5 {\n",
       "            background-color:  #f4987a;\n",
       "            color:  #000000;\n",
       "        }    #T_cab73b94_b4ed_11e9_ba14_f8597124e8b5row10_col6 {\n",
       "            background-color:  #f7a889;\n",
       "            color:  #000000;\n",
       "        }    #T_cab73b94_b4ed_11e9_ba14_f8597124e8b5row10_col7 {\n",
       "            background-color:  #cd423b;\n",
       "            color:  #f1f1f1;\n",
       "        }    #T_cab73b94_b4ed_11e9_ba14_f8597124e8b5row10_col8 {\n",
       "            background-color:  #d0473d;\n",
       "            color:  #f1f1f1;\n",
       "        }    #T_cab73b94_b4ed_11e9_ba14_f8597124e8b5row10_col9 {\n",
       "            background-color:  #cb3e38;\n",
       "            color:  #f1f1f1;\n",
       "        }    #T_cab73b94_b4ed_11e9_ba14_f8597124e8b5row10_col10 {\n",
       "            background-color:  #b40426;\n",
       "            color:  #f1f1f1;\n",
       "        }    #T_cab73b94_b4ed_11e9_ba14_f8597124e8b5row10_col11 {\n",
       "            background-color:  #cb3e38;\n",
       "            color:  #f1f1f1;\n",
       "        }    #T_cab73b94_b4ed_11e9_ba14_f8597124e8b5row11_col0 {\n",
       "            background-color:  #a2c1ff;\n",
       "            color:  #000000;\n",
       "        }    #T_cab73b94_b4ed_11e9_ba14_f8597124e8b5row11_col1 {\n",
       "            background-color:  #f7b093;\n",
       "            color:  #000000;\n",
       "        }    #T_cab73b94_b4ed_11e9_ba14_f8597124e8b5row11_col2 {\n",
       "            background-color:  #f7a688;\n",
       "            color:  #000000;\n",
       "        }    #T_cab73b94_b4ed_11e9_ba14_f8597124e8b5row11_col3 {\n",
       "            background-color:  #f7a98b;\n",
       "            color:  #000000;\n",
       "        }    #T_cab73b94_b4ed_11e9_ba14_f8597124e8b5row11_col4 {\n",
       "            background-color:  #f7a688;\n",
       "            color:  #000000;\n",
       "        }    #T_cab73b94_b4ed_11e9_ba14_f8597124e8b5row11_col5 {\n",
       "            background-color:  #f7a688;\n",
       "            color:  #000000;\n",
       "        }    #T_cab73b94_b4ed_11e9_ba14_f8597124e8b5row11_col6 {\n",
       "            background-color:  #f7a98b;\n",
       "            color:  #000000;\n",
       "        }    #T_cab73b94_b4ed_11e9_ba14_f8597124e8b5row11_col7 {\n",
       "            background-color:  #d1493f;\n",
       "            color:  #f1f1f1;\n",
       "        }    #T_cab73b94_b4ed_11e9_ba14_f8597124e8b5row11_col8 {\n",
       "            background-color:  #d1493f;\n",
       "            color:  #f1f1f1;\n",
       "        }    #T_cab73b94_b4ed_11e9_ba14_f8597124e8b5row11_col9 {\n",
       "            background-color:  #d24b40;\n",
       "            color:  #f1f1f1;\n",
       "        }    #T_cab73b94_b4ed_11e9_ba14_f8597124e8b5row11_col10 {\n",
       "            background-color:  #cb3e38;\n",
       "            color:  #f1f1f1;\n",
       "        }    #T_cab73b94_b4ed_11e9_ba14_f8597124e8b5row11_col11 {\n",
       "            background-color:  #b40426;\n",
       "            color:  #f1f1f1;\n",
       "        }</style><table id=\"T_cab73b94_b4ed_11e9_ba14_f8597124e8b5\" ><thead>    <tr>        <th class=\"blank level0\" ></th>        <th class=\"col_heading level0 col0\" >bResult</th>        <th class=\"col_heading level0 col1\" >rResult</th>        <th class=\"col_heading level0 col2\" >goldblueMiddle</th>        <th class=\"col_heading level0 col3\" >goldblueTop</th>        <th class=\"col_heading level0 col4\" >goldblueADC</th>        <th class=\"col_heading level0 col5\" >goldblueSupport</th>        <th class=\"col_heading level0 col6\" >goldblueJungle</th>        <th class=\"col_heading level0 col7\" >goldredMiddle</th>        <th class=\"col_heading level0 col8\" >goldredTop</th>        <th class=\"col_heading level0 col9\" >goldredADC</th>        <th class=\"col_heading level0 col10\" >goldredSupport</th>        <th class=\"col_heading level0 col11\" >goldredJungle</th>    </tr></thead><tbody>\n",
       "                <tr>\n",
       "                        <th id=\"T_cab73b94_b4ed_11e9_ba14_f8597124e8b5level0_row0\" class=\"row_heading level0 row0\" >bResult</th>\n",
       "                        <td id=\"T_cab73b94_b4ed_11e9_ba14_f8597124e8b5row0_col0\" class=\"data row0 col0\" >1</td>\n",
       "                        <td id=\"T_cab73b94_b4ed_11e9_ba14_f8597124e8b5row0_col1\" class=\"data row0 col1\" >-1</td>\n",
       "                        <td id=\"T_cab73b94_b4ed_11e9_ba14_f8597124e8b5row0_col2\" class=\"data row0 col2\" >0.257164</td>\n",
       "                        <td id=\"T_cab73b94_b4ed_11e9_ba14_f8597124e8b5row0_col3\" class=\"data row0 col3\" >0.257101</td>\n",
       "                        <td id=\"T_cab73b94_b4ed_11e9_ba14_f8597124e8b5row0_col4\" class=\"data row0 col4\" >0.253766</td>\n",
       "                        <td id=\"T_cab73b94_b4ed_11e9_ba14_f8597124e8b5row0_col5\" class=\"data row0 col5\" >0.285206</td>\n",
       "                        <td id=\"T_cab73b94_b4ed_11e9_ba14_f8597124e8b5row0_col6\" class=\"data row0 col6\" >0.296721</td>\n",
       "                        <td id=\"T_cab73b94_b4ed_11e9_ba14_f8597124e8b5row0_col7\" class=\"data row0 col7\" >-0.353338</td>\n",
       "                        <td id=\"T_cab73b94_b4ed_11e9_ba14_f8597124e8b5row0_col8\" class=\"data row0 col8\" >-0.343984</td>\n",
       "                        <td id=\"T_cab73b94_b4ed_11e9_ba14_f8597124e8b5row0_col9\" class=\"data row0 col9\" >-0.341734</td>\n",
       "                        <td id=\"T_cab73b94_b4ed_11e9_ba14_f8597124e8b5row0_col10\" class=\"data row0 col10\" >-0.369981</td>\n",
       "                        <td id=\"T_cab73b94_b4ed_11e9_ba14_f8597124e8b5row0_col11\" class=\"data row0 col11\" >-0.380071</td>\n",
       "            </tr>\n",
       "            <tr>\n",
       "                        <th id=\"T_cab73b94_b4ed_11e9_ba14_f8597124e8b5level0_row1\" class=\"row_heading level0 row1\" >rResult</th>\n",
       "                        <td id=\"T_cab73b94_b4ed_11e9_ba14_f8597124e8b5row1_col0\" class=\"data row1 col0\" >-1</td>\n",
       "                        <td id=\"T_cab73b94_b4ed_11e9_ba14_f8597124e8b5row1_col1\" class=\"data row1 col1\" >1</td>\n",
       "                        <td id=\"T_cab73b94_b4ed_11e9_ba14_f8597124e8b5row1_col2\" class=\"data row1 col2\" >-0.257164</td>\n",
       "                        <td id=\"T_cab73b94_b4ed_11e9_ba14_f8597124e8b5row1_col3\" class=\"data row1 col3\" >-0.257101</td>\n",
       "                        <td id=\"T_cab73b94_b4ed_11e9_ba14_f8597124e8b5row1_col4\" class=\"data row1 col4\" >-0.253766</td>\n",
       "                        <td id=\"T_cab73b94_b4ed_11e9_ba14_f8597124e8b5row1_col5\" class=\"data row1 col5\" >-0.285206</td>\n",
       "                        <td id=\"T_cab73b94_b4ed_11e9_ba14_f8597124e8b5row1_col6\" class=\"data row1 col6\" >-0.296721</td>\n",
       "                        <td id=\"T_cab73b94_b4ed_11e9_ba14_f8597124e8b5row1_col7\" class=\"data row1 col7\" >0.353338</td>\n",
       "                        <td id=\"T_cab73b94_b4ed_11e9_ba14_f8597124e8b5row1_col8\" class=\"data row1 col8\" >0.343984</td>\n",
       "                        <td id=\"T_cab73b94_b4ed_11e9_ba14_f8597124e8b5row1_col9\" class=\"data row1 col9\" >0.341734</td>\n",
       "                        <td id=\"T_cab73b94_b4ed_11e9_ba14_f8597124e8b5row1_col10\" class=\"data row1 col10\" >0.369981</td>\n",
       "                        <td id=\"T_cab73b94_b4ed_11e9_ba14_f8597124e8b5row1_col11\" class=\"data row1 col11\" >0.380071</td>\n",
       "            </tr>\n",
       "            <tr>\n",
       "                        <th id=\"T_cab73b94_b4ed_11e9_ba14_f8597124e8b5level0_row2\" class=\"row_heading level0 row2\" >goldblueMiddle</th>\n",
       "                        <td id=\"T_cab73b94_b4ed_11e9_ba14_f8597124e8b5row2_col0\" class=\"data row2 col0\" >0.257164</td>\n",
       "                        <td id=\"T_cab73b94_b4ed_11e9_ba14_f8597124e8b5row2_col1\" class=\"data row2 col1\" >-0.257164</td>\n",
       "                        <td id=\"T_cab73b94_b4ed_11e9_ba14_f8597124e8b5row2_col2\" class=\"data row2 col2\" >1</td>\n",
       "                        <td id=\"T_cab73b94_b4ed_11e9_ba14_f8597124e8b5row2_col3\" class=\"data row2 col3\" >0.873715</td>\n",
       "                        <td id=\"T_cab73b94_b4ed_11e9_ba14_f8597124e8b5row2_col4\" class=\"data row2 col4\" >0.887332</td>\n",
       "                        <td id=\"T_cab73b94_b4ed_11e9_ba14_f8597124e8b5row2_col5\" class=\"data row2 col5\" >0.891636</td>\n",
       "                        <td id=\"T_cab73b94_b4ed_11e9_ba14_f8597124e8b5row2_col6\" class=\"data row2 col6\" >0.871298</td>\n",
       "                        <td id=\"T_cab73b94_b4ed_11e9_ba14_f8597124e8b5row2_col7\" class=\"data row2 col7\" >0.690411</td>\n",
       "                        <td id=\"T_cab73b94_b4ed_11e9_ba14_f8597124e8b5row2_col8\" class=\"data row2 col8\" >0.677251</td>\n",
       "                        <td id=\"T_cab73b94_b4ed_11e9_ba14_f8597124e8b5row2_col9\" class=\"data row2 col9\" >0.699901</td>\n",
       "                        <td id=\"T_cab73b94_b4ed_11e9_ba14_f8597124e8b5row2_col10\" class=\"data row2 col10\" >0.665704</td>\n",
       "                        <td id=\"T_cab73b94_b4ed_11e9_ba14_f8597124e8b5row2_col11\" class=\"data row2 col11\" >0.641757</td>\n",
       "            </tr>\n",
       "            <tr>\n",
       "                        <th id=\"T_cab73b94_b4ed_11e9_ba14_f8597124e8b5level0_row3\" class=\"row_heading level0 row3\" >goldblueTop</th>\n",
       "                        <td id=\"T_cab73b94_b4ed_11e9_ba14_f8597124e8b5row3_col0\" class=\"data row3 col0\" >0.257101</td>\n",
       "                        <td id=\"T_cab73b94_b4ed_11e9_ba14_f8597124e8b5row3_col1\" class=\"data row3 col1\" >-0.257101</td>\n",
       "                        <td id=\"T_cab73b94_b4ed_11e9_ba14_f8597124e8b5row3_col2\" class=\"data row3 col2\" >0.873715</td>\n",
       "                        <td id=\"T_cab73b94_b4ed_11e9_ba14_f8597124e8b5row3_col3\" class=\"data row3 col3\" >1</td>\n",
       "                        <td id=\"T_cab73b94_b4ed_11e9_ba14_f8597124e8b5row3_col4\" class=\"data row3 col4\" >0.861508</td>\n",
       "                        <td id=\"T_cab73b94_b4ed_11e9_ba14_f8597124e8b5row3_col5\" class=\"data row3 col5\" >0.87898</td>\n",
       "                        <td id=\"T_cab73b94_b4ed_11e9_ba14_f8597124e8b5row3_col6\" class=\"data row3 col6\" >0.871611</td>\n",
       "                        <td id=\"T_cab73b94_b4ed_11e9_ba14_f8597124e8b5row3_col7\" class=\"data row3 col7\" >0.66663</td>\n",
       "                        <td id=\"T_cab73b94_b4ed_11e9_ba14_f8597124e8b5row3_col8\" class=\"data row3 col8\" >0.66488</td>\n",
       "                        <td id=\"T_cab73b94_b4ed_11e9_ba14_f8597124e8b5row3_col9\" class=\"data row3 col9\" >0.683937</td>\n",
       "                        <td id=\"T_cab73b94_b4ed_11e9_ba14_f8597124e8b5row3_col10\" class=\"data row3 col10\" >0.65537</td>\n",
       "                        <td id=\"T_cab73b94_b4ed_11e9_ba14_f8597124e8b5row3_col11\" class=\"data row3 col11\" >0.634146</td>\n",
       "            </tr>\n",
       "            <tr>\n",
       "                        <th id=\"T_cab73b94_b4ed_11e9_ba14_f8597124e8b5level0_row4\" class=\"row_heading level0 row4\" >goldblueADC</th>\n",
       "                        <td id=\"T_cab73b94_b4ed_11e9_ba14_f8597124e8b5row4_col0\" class=\"data row4 col0\" >0.253766</td>\n",
       "                        <td id=\"T_cab73b94_b4ed_11e9_ba14_f8597124e8b5row4_col1\" class=\"data row4 col1\" >-0.253766</td>\n",
       "                        <td id=\"T_cab73b94_b4ed_11e9_ba14_f8597124e8b5row4_col2\" class=\"data row4 col2\" >0.887332</td>\n",
       "                        <td id=\"T_cab73b94_b4ed_11e9_ba14_f8597124e8b5row4_col3\" class=\"data row4 col3\" >0.861508</td>\n",
       "                        <td id=\"T_cab73b94_b4ed_11e9_ba14_f8597124e8b5row4_col4\" class=\"data row4 col4\" >1</td>\n",
       "                        <td id=\"T_cab73b94_b4ed_11e9_ba14_f8597124e8b5row4_col5\" class=\"data row4 col5\" >0.903833</td>\n",
       "                        <td id=\"T_cab73b94_b4ed_11e9_ba14_f8597124e8b5row4_col6\" class=\"data row4 col6\" >0.863073</td>\n",
       "                        <td id=\"T_cab73b94_b4ed_11e9_ba14_f8597124e8b5row4_col7\" class=\"data row4 col7\" >0.696473</td>\n",
       "                        <td id=\"T_cab73b94_b4ed_11e9_ba14_f8597124e8b5row4_col8\" class=\"data row4 col8\" >0.685321</td>\n",
       "                        <td id=\"T_cab73b94_b4ed_11e9_ba14_f8597124e8b5row4_col9\" class=\"data row4 col9\" >0.715989</td>\n",
       "                        <td id=\"T_cab73b94_b4ed_11e9_ba14_f8597124e8b5row4_col10\" class=\"data row4 col10\" >0.674974</td>\n",
       "                        <td id=\"T_cab73b94_b4ed_11e9_ba14_f8597124e8b5row4_col11\" class=\"data row4 col11\" >0.647127</td>\n",
       "            </tr>\n",
       "            <tr>\n",
       "                        <th id=\"T_cab73b94_b4ed_11e9_ba14_f8597124e8b5level0_row5\" class=\"row_heading level0 row5\" >goldblueSupport</th>\n",
       "                        <td id=\"T_cab73b94_b4ed_11e9_ba14_f8597124e8b5row5_col0\" class=\"data row5 col0\" >0.285206</td>\n",
       "                        <td id=\"T_cab73b94_b4ed_11e9_ba14_f8597124e8b5row5_col1\" class=\"data row5 col1\" >-0.285206</td>\n",
       "                        <td id=\"T_cab73b94_b4ed_11e9_ba14_f8597124e8b5row5_col2\" class=\"data row5 col2\" >0.891636</td>\n",
       "                        <td id=\"T_cab73b94_b4ed_11e9_ba14_f8597124e8b5row5_col3\" class=\"data row5 col3\" >0.87898</td>\n",
       "                        <td id=\"T_cab73b94_b4ed_11e9_ba14_f8597124e8b5row5_col4\" class=\"data row5 col4\" >0.903833</td>\n",
       "                        <td id=\"T_cab73b94_b4ed_11e9_ba14_f8597124e8b5row5_col5\" class=\"data row5 col5\" >1</td>\n",
       "                        <td id=\"T_cab73b94_b4ed_11e9_ba14_f8597124e8b5row5_col6\" class=\"data row5 col6\" >0.899458</td>\n",
       "                        <td id=\"T_cab73b94_b4ed_11e9_ba14_f8597124e8b5row5_col7\" class=\"data row5 col7\" >0.661229</td>\n",
       "                        <td id=\"T_cab73b94_b4ed_11e9_ba14_f8597124e8b5row5_col8\" class=\"data row5 col8\" >0.660965</td>\n",
       "                        <td id=\"T_cab73b94_b4ed_11e9_ba14_f8597124e8b5row5_col9\" class=\"data row5 col9\" >0.675165</td>\n",
       "                        <td id=\"T_cab73b94_b4ed_11e9_ba14_f8597124e8b5row5_col10\" class=\"data row5 col10\" >0.683167</td>\n",
       "                        <td id=\"T_cab73b94_b4ed_11e9_ba14_f8597124e8b5row5_col11\" class=\"data row5 col11\" >0.633952</td>\n",
       "            </tr>\n",
       "            <tr>\n",
       "                        <th id=\"T_cab73b94_b4ed_11e9_ba14_f8597124e8b5level0_row6\" class=\"row_heading level0 row6\" >goldblueJungle</th>\n",
       "                        <td id=\"T_cab73b94_b4ed_11e9_ba14_f8597124e8b5row6_col0\" class=\"data row6 col0\" >0.296721</td>\n",
       "                        <td id=\"T_cab73b94_b4ed_11e9_ba14_f8597124e8b5row6_col1\" class=\"data row6 col1\" >-0.296721</td>\n",
       "                        <td id=\"T_cab73b94_b4ed_11e9_ba14_f8597124e8b5row6_col2\" class=\"data row6 col2\" >0.871298</td>\n",
       "                        <td id=\"T_cab73b94_b4ed_11e9_ba14_f8597124e8b5row6_col3\" class=\"data row6 col3\" >0.871611</td>\n",
       "                        <td id=\"T_cab73b94_b4ed_11e9_ba14_f8597124e8b5row6_col4\" class=\"data row6 col4\" >0.863073</td>\n",
       "                        <td id=\"T_cab73b94_b4ed_11e9_ba14_f8597124e8b5row6_col5\" class=\"data row6 col5\" >0.899458</td>\n",
       "                        <td id=\"T_cab73b94_b4ed_11e9_ba14_f8597124e8b5row6_col6\" class=\"data row6 col6\" >1</td>\n",
       "                        <td id=\"T_cab73b94_b4ed_11e9_ba14_f8597124e8b5row6_col7\" class=\"data row6 col7\" >0.632143</td>\n",
       "                        <td id=\"T_cab73b94_b4ed_11e9_ba14_f8597124e8b5row6_col8\" class=\"data row6 col8\" >0.631422</td>\n",
       "                        <td id=\"T_cab73b94_b4ed_11e9_ba14_f8597124e8b5row6_col9\" class=\"data row6 col9\" >0.642481</td>\n",
       "                        <td id=\"T_cab73b94_b4ed_11e9_ba14_f8597124e8b5row6_col10\" class=\"data row6 col10\" >0.626915</td>\n",
       "                        <td id=\"T_cab73b94_b4ed_11e9_ba14_f8597124e8b5row6_col11\" class=\"data row6 col11\" >0.623224</td>\n",
       "            </tr>\n",
       "            <tr>\n",
       "                        <th id=\"T_cab73b94_b4ed_11e9_ba14_f8597124e8b5level0_row7\" class=\"row_heading level0 row7\" >goldredMiddle</th>\n",
       "                        <td id=\"T_cab73b94_b4ed_11e9_ba14_f8597124e8b5row7_col0\" class=\"data row7 col0\" >-0.353338</td>\n",
       "                        <td id=\"T_cab73b94_b4ed_11e9_ba14_f8597124e8b5row7_col1\" class=\"data row7 col1\" >0.353338</td>\n",
       "                        <td id=\"T_cab73b94_b4ed_11e9_ba14_f8597124e8b5row7_col2\" class=\"data row7 col2\" >0.690411</td>\n",
       "                        <td id=\"T_cab73b94_b4ed_11e9_ba14_f8597124e8b5row7_col3\" class=\"data row7 col3\" >0.66663</td>\n",
       "                        <td id=\"T_cab73b94_b4ed_11e9_ba14_f8597124e8b5row7_col4\" class=\"data row7 col4\" >0.696473</td>\n",
       "                        <td id=\"T_cab73b94_b4ed_11e9_ba14_f8597124e8b5row7_col5\" class=\"data row7 col5\" >0.661229</td>\n",
       "                        <td id=\"T_cab73b94_b4ed_11e9_ba14_f8597124e8b5row7_col6\" class=\"data row7 col6\" >0.632143</td>\n",
       "                        <td id=\"T_cab73b94_b4ed_11e9_ba14_f8597124e8b5row7_col7\" class=\"data row7 col7\" >1</td>\n",
       "                        <td id=\"T_cab73b94_b4ed_11e9_ba14_f8597124e8b5row7_col8\" class=\"data row7 col8\" >0.890649</td>\n",
       "                        <td id=\"T_cab73b94_b4ed_11e9_ba14_f8597124e8b5row7_col9\" class=\"data row7 col9\" >0.9024</td>\n",
       "                        <td id=\"T_cab73b94_b4ed_11e9_ba14_f8597124e8b5row7_col10\" class=\"data row7 col10\" >0.903235</td>\n",
       "                        <td id=\"T_cab73b94_b4ed_11e9_ba14_f8597124e8b5row7_col11\" class=\"data row7 col11\" >0.888748</td>\n",
       "            </tr>\n",
       "            <tr>\n",
       "                        <th id=\"T_cab73b94_b4ed_11e9_ba14_f8597124e8b5level0_row8\" class=\"row_heading level0 row8\" >goldredTop</th>\n",
       "                        <td id=\"T_cab73b94_b4ed_11e9_ba14_f8597124e8b5row8_col0\" class=\"data row8 col0\" >-0.343984</td>\n",
       "                        <td id=\"T_cab73b94_b4ed_11e9_ba14_f8597124e8b5row8_col1\" class=\"data row8 col1\" >0.343984</td>\n",
       "                        <td id=\"T_cab73b94_b4ed_11e9_ba14_f8597124e8b5row8_col2\" class=\"data row8 col2\" >0.677251</td>\n",
       "                        <td id=\"T_cab73b94_b4ed_11e9_ba14_f8597124e8b5row8_col3\" class=\"data row8 col3\" >0.66488</td>\n",
       "                        <td id=\"T_cab73b94_b4ed_11e9_ba14_f8597124e8b5row8_col4\" class=\"data row8 col4\" >0.685321</td>\n",
       "                        <td id=\"T_cab73b94_b4ed_11e9_ba14_f8597124e8b5row8_col5\" class=\"data row8 col5\" >0.660965</td>\n",
       "                        <td id=\"T_cab73b94_b4ed_11e9_ba14_f8597124e8b5row8_col6\" class=\"data row8 col6\" >0.631422</td>\n",
       "                        <td id=\"T_cab73b94_b4ed_11e9_ba14_f8597124e8b5row8_col7\" class=\"data row8 col7\" >0.890649</td>\n",
       "                        <td id=\"T_cab73b94_b4ed_11e9_ba14_f8597124e8b5row8_col8\" class=\"data row8 col8\" >1</td>\n",
       "                        <td id=\"T_cab73b94_b4ed_11e9_ba14_f8597124e8b5row8_col9\" class=\"data row8 col9\" >0.878588</td>\n",
       "                        <td id=\"T_cab73b94_b4ed_11e9_ba14_f8597124e8b5row8_col10\" class=\"data row8 col10\" >0.894126</td>\n",
       "                        <td id=\"T_cab73b94_b4ed_11e9_ba14_f8597124e8b5row8_col11\" class=\"data row8 col11\" >0.888902</td>\n",
       "            </tr>\n",
       "            <tr>\n",
       "                        <th id=\"T_cab73b94_b4ed_11e9_ba14_f8597124e8b5level0_row9\" class=\"row_heading level0 row9\" >goldredADC</th>\n",
       "                        <td id=\"T_cab73b94_b4ed_11e9_ba14_f8597124e8b5row9_col0\" class=\"data row9 col0\" >-0.341734</td>\n",
       "                        <td id=\"T_cab73b94_b4ed_11e9_ba14_f8597124e8b5row9_col1\" class=\"data row9 col1\" >0.341734</td>\n",
       "                        <td id=\"T_cab73b94_b4ed_11e9_ba14_f8597124e8b5row9_col2\" class=\"data row9 col2\" >0.699901</td>\n",
       "                        <td id=\"T_cab73b94_b4ed_11e9_ba14_f8597124e8b5row9_col3\" class=\"data row9 col3\" >0.683937</td>\n",
       "                        <td id=\"T_cab73b94_b4ed_11e9_ba14_f8597124e8b5row9_col4\" class=\"data row9 col4\" >0.715989</td>\n",
       "                        <td id=\"T_cab73b94_b4ed_11e9_ba14_f8597124e8b5row9_col5\" class=\"data row9 col5\" >0.675165</td>\n",
       "                        <td id=\"T_cab73b94_b4ed_11e9_ba14_f8597124e8b5row9_col6\" class=\"data row9 col6\" >0.642481</td>\n",
       "                        <td id=\"T_cab73b94_b4ed_11e9_ba14_f8597124e8b5row9_col7\" class=\"data row9 col7\" >0.9024</td>\n",
       "                        <td id=\"T_cab73b94_b4ed_11e9_ba14_f8597124e8b5row9_col8\" class=\"data row9 col8\" >0.878588</td>\n",
       "                        <td id=\"T_cab73b94_b4ed_11e9_ba14_f8597124e8b5row9_col9\" class=\"data row9 col9\" >1</td>\n",
       "                        <td id=\"T_cab73b94_b4ed_11e9_ba14_f8597124e8b5row9_col10\" class=\"data row9 col10\" >0.913238</td>\n",
       "                        <td id=\"T_cab73b94_b4ed_11e9_ba14_f8597124e8b5row9_col11\" class=\"data row9 col11\" >0.882932</td>\n",
       "            </tr>\n",
       "            <tr>\n",
       "                        <th id=\"T_cab73b94_b4ed_11e9_ba14_f8597124e8b5level0_row10\" class=\"row_heading level0 row10\" >goldredSupport</th>\n",
       "                        <td id=\"T_cab73b94_b4ed_11e9_ba14_f8597124e8b5row10_col0\" class=\"data row10 col0\" >-0.369981</td>\n",
       "                        <td id=\"T_cab73b94_b4ed_11e9_ba14_f8597124e8b5row10_col1\" class=\"data row10 col1\" >0.369981</td>\n",
       "                        <td id=\"T_cab73b94_b4ed_11e9_ba14_f8597124e8b5row10_col2\" class=\"data row10 col2\" >0.665704</td>\n",
       "                        <td id=\"T_cab73b94_b4ed_11e9_ba14_f8597124e8b5row10_col3\" class=\"data row10 col3\" >0.65537</td>\n",
       "                        <td id=\"T_cab73b94_b4ed_11e9_ba14_f8597124e8b5row10_col4\" class=\"data row10 col4\" >0.674974</td>\n",
       "                        <td id=\"T_cab73b94_b4ed_11e9_ba14_f8597124e8b5row10_col5\" class=\"data row10 col5\" >0.683167</td>\n",
       "                        <td id=\"T_cab73b94_b4ed_11e9_ba14_f8597124e8b5row10_col6\" class=\"data row10 col6\" >0.626915</td>\n",
       "                        <td id=\"T_cab73b94_b4ed_11e9_ba14_f8597124e8b5row10_col7\" class=\"data row10 col7\" >0.903235</td>\n",
       "                        <td id=\"T_cab73b94_b4ed_11e9_ba14_f8597124e8b5row10_col8\" class=\"data row10 col8\" >0.894126</td>\n",
       "                        <td id=\"T_cab73b94_b4ed_11e9_ba14_f8597124e8b5row10_col9\" class=\"data row10 col9\" >0.913238</td>\n",
       "                        <td id=\"T_cab73b94_b4ed_11e9_ba14_f8597124e8b5row10_col10\" class=\"data row10 col10\" >1</td>\n",
       "                        <td id=\"T_cab73b94_b4ed_11e9_ba14_f8597124e8b5row10_col11\" class=\"data row10 col11\" >0.909709</td>\n",
       "            </tr>\n",
       "            <tr>\n",
       "                        <th id=\"T_cab73b94_b4ed_11e9_ba14_f8597124e8b5level0_row11\" class=\"row_heading level0 row11\" >goldredJungle</th>\n",
       "                        <td id=\"T_cab73b94_b4ed_11e9_ba14_f8597124e8b5row11_col0\" class=\"data row11 col0\" >-0.380071</td>\n",
       "                        <td id=\"T_cab73b94_b4ed_11e9_ba14_f8597124e8b5row11_col1\" class=\"data row11 col1\" >0.380071</td>\n",
       "                        <td id=\"T_cab73b94_b4ed_11e9_ba14_f8597124e8b5row11_col2\" class=\"data row11 col2\" >0.641757</td>\n",
       "                        <td id=\"T_cab73b94_b4ed_11e9_ba14_f8597124e8b5row11_col3\" class=\"data row11 col3\" >0.634146</td>\n",
       "                        <td id=\"T_cab73b94_b4ed_11e9_ba14_f8597124e8b5row11_col4\" class=\"data row11 col4\" >0.647127</td>\n",
       "                        <td id=\"T_cab73b94_b4ed_11e9_ba14_f8597124e8b5row11_col5\" class=\"data row11 col5\" >0.633952</td>\n",
       "                        <td id=\"T_cab73b94_b4ed_11e9_ba14_f8597124e8b5row11_col6\" class=\"data row11 col6\" >0.623224</td>\n",
       "                        <td id=\"T_cab73b94_b4ed_11e9_ba14_f8597124e8b5row11_col7\" class=\"data row11 col7\" >0.888748</td>\n",
       "                        <td id=\"T_cab73b94_b4ed_11e9_ba14_f8597124e8b5row11_col8\" class=\"data row11 col8\" >0.888902</td>\n",
       "                        <td id=\"T_cab73b94_b4ed_11e9_ba14_f8597124e8b5row11_col9\" class=\"data row11 col9\" >0.882932</td>\n",
       "                        <td id=\"T_cab73b94_b4ed_11e9_ba14_f8597124e8b5row11_col10\" class=\"data row11 col10\" >0.909709</td>\n",
       "                        <td id=\"T_cab73b94_b4ed_11e9_ba14_f8597124e8b5row11_col11\" class=\"data row11 col11\" >1</td>\n",
       "            </tr>\n",
       "    </tbody></table>"
      ],
      "text/plain": [
       "<pandas.io.formats.style.Styler at 0xf244c70>"
      ]
     },
     "execution_count": 53,
     "metadata": {},
     "output_type": "execute_result"
    }
   ],
   "source": [
    "corr.style.background_gradient(cmap='coolwarm')"
   ]
  },
  {
   "cell_type": "code",
   "execution_count": 54,
   "metadata": {},
   "outputs": [
    {
     "name": "stdout",
     "output_type": "stream",
     "text": [
      "blue wins 4146\n",
      "red wins 7620\n"
     ]
    }
   ],
   "source": [
    "c = 0 \n",
    "for ones in data['bResult']:\n",
    "    if(ones == 1):\n",
    "        c+=1\n",
    "print('blue wins ' + str(c) ) \n",
    "\n",
    "for ones in data['rResult']:\n",
    "    if(ones == 1):\n",
    "        c+=1\n",
    "print('red wins ' + str(c) )"
   ]
  },
  {
   "cell_type": "markdown",
   "metadata": {},
   "source": [
    "# Differance between the golds"
   ]
  },
  {
   "cell_type": "code",
   "execution_count": 55,
   "metadata": {},
   "outputs": [],
   "source": [
    "gold_blue = ['goldblueMiddle','goldblueTop','goldblueSupport','goldblueADC','goldblueJungle']\n",
    "gold_red =  ['goldredMiddle','goldredTop','goldredSupport','goldredADC','goldredJungle']\n",
    "pos  = ['goldMiddle' , 'goldTop', 'goldSupport' , 'goldADC' , 'goldJungle']\n",
    "\n",
    "for i in range(0,len(gold_blue)):\n",
    "#     diff = data[gold_blue[i]]\n",
    "    data[pos[i]+'_diff'] = data[gold_blue[i]] - data[gold_red[i]]\n"
   ]
  },
  {
   "cell_type": "code",
   "execution_count": 56,
   "metadata": {},
   "outputs": [],
   "source": [
    "data= data.drop(gold_list , axis =1)"
   ]
  },
  {
   "cell_type": "code",
   "execution_count": 57,
   "metadata": {},
   "outputs": [
    {
     "data": {
      "text/html": [
       "<div>\n",
       "<style scoped>\n",
       "    .dataframe tbody tr th:only-of-type {\n",
       "        vertical-align: middle;\n",
       "    }\n",
       "\n",
       "    .dataframe tbody tr th {\n",
       "        vertical-align: top;\n",
       "    }\n",
       "\n",
       "    .dataframe thead th {\n",
       "        text-align: right;\n",
       "    }\n",
       "</style>\n",
       "<table border=\"1\" class=\"dataframe\">\n",
       "  <thead>\n",
       "    <tr style=\"text-align: right;\">\n",
       "      <th></th>\n",
       "      <th>Address</th>\n",
       "      <th>bResult</th>\n",
       "      <th>rResult</th>\n",
       "      <th>blueTopChamp</th>\n",
       "      <th>blueMiddleChamp</th>\n",
       "      <th>blueADCChamp</th>\n",
       "      <th>blueSupportChamp</th>\n",
       "      <th>blueJungleChamp</th>\n",
       "      <th>redTopChamp</th>\n",
       "      <th>redMiddleChamp</th>\n",
       "      <th>redADCChamp</th>\n",
       "      <th>redSupportChamp</th>\n",
       "      <th>redJungleChamp</th>\n",
       "      <th>goldMiddle_diff</th>\n",
       "      <th>goldTop_diff</th>\n",
       "      <th>goldSupport_diff</th>\n",
       "      <th>goldADC_diff</th>\n",
       "      <th>goldJungle_diff</th>\n",
       "    </tr>\n",
       "  </thead>\n",
       "  <tbody>\n",
       "    <tr>\n",
       "      <th>0</th>\n",
       "      <td>http://matchhistory.na.leagueoflegends.com/en/...</td>\n",
       "      <td>1</td>\n",
       "      <td>0</td>\n",
       "      <td>Irelia</td>\n",
       "      <td>Ahri</td>\n",
       "      <td>Jinx</td>\n",
       "      <td>Janna</td>\n",
       "      <td>RekSai</td>\n",
       "      <td>Gnar</td>\n",
       "      <td>Fizz</td>\n",
       "      <td>Sivir</td>\n",
       "      <td>Thresh</td>\n",
       "      <td>Elise</td>\n",
       "      <td>4281</td>\n",
       "      <td>574</td>\n",
       "      <td>1379</td>\n",
       "      <td>-208</td>\n",
       "      <td>31</td>\n",
       "    </tr>\n",
       "    <tr>\n",
       "      <th>1</th>\n",
       "      <td>http://matchhistory.na.leagueoflegends.com/en/...</td>\n",
       "      <td>0</td>\n",
       "      <td>1</td>\n",
       "      <td>Gnar</td>\n",
       "      <td>Ahri</td>\n",
       "      <td>Caitlyn</td>\n",
       "      <td>Leona</td>\n",
       "      <td>Rengar</td>\n",
       "      <td>Irelia</td>\n",
       "      <td>Azir</td>\n",
       "      <td>Corki</td>\n",
       "      <td>Annie</td>\n",
       "      <td>JarvanIV</td>\n",
       "      <td>-95</td>\n",
       "      <td>486</td>\n",
       "      <td>-228</td>\n",
       "      <td>-680</td>\n",
       "      <td>1682</td>\n",
       "    </tr>\n",
       "    <tr>\n",
       "      <th>2</th>\n",
       "      <td>http://matchhistory.na.leagueoflegends.com/en/...</td>\n",
       "      <td>1</td>\n",
       "      <td>0</td>\n",
       "      <td>Renekton</td>\n",
       "      <td>Fizz</td>\n",
       "      <td>Sivir</td>\n",
       "      <td>Annie</td>\n",
       "      <td>Rengar</td>\n",
       "      <td>Sion</td>\n",
       "      <td>Azir</td>\n",
       "      <td>Corki</td>\n",
       "      <td>Janna</td>\n",
       "      <td>LeeSin</td>\n",
       "      <td>2758</td>\n",
       "      <td>2652</td>\n",
       "      <td>3186</td>\n",
       "      <td>4882</td>\n",
       "      <td>437</td>\n",
       "    </tr>\n",
       "    <tr>\n",
       "      <th>3</th>\n",
       "      <td>http://matchhistory.na.leagueoflegends.com/en/...</td>\n",
       "      <td>0</td>\n",
       "      <td>1</td>\n",
       "      <td>Irelia</td>\n",
       "      <td>Leblanc</td>\n",
       "      <td>Sivir</td>\n",
       "      <td>Thresh</td>\n",
       "      <td>JarvanIV</td>\n",
       "      <td>Gnar</td>\n",
       "      <td>Lulu</td>\n",
       "      <td>KogMaw</td>\n",
       "      <td>Janna</td>\n",
       "      <td>Nunu</td>\n",
       "      <td>-1305</td>\n",
       "      <td>856</td>\n",
       "      <td>-2093</td>\n",
       "      <td>-1166</td>\n",
       "      <td>-799</td>\n",
       "    </tr>\n",
       "    <tr>\n",
       "      <th>4</th>\n",
       "      <td>http://matchhistory.na.leagueoflegends.com/en/...</td>\n",
       "      <td>1</td>\n",
       "      <td>0</td>\n",
       "      <td>Gnar</td>\n",
       "      <td>Lissandra</td>\n",
       "      <td>Tristana</td>\n",
       "      <td>Janna</td>\n",
       "      <td>JarvanIV</td>\n",
       "      <td>Sion</td>\n",
       "      <td>Lulu</td>\n",
       "      <td>Corki</td>\n",
       "      <td>Annie</td>\n",
       "      <td>RekSai</td>\n",
       "      <td>3362</td>\n",
       "      <td>-236</td>\n",
       "      <td>2798</td>\n",
       "      <td>4087</td>\n",
       "      <td>1311</td>\n",
       "    </tr>\n",
       "  </tbody>\n",
       "</table>\n",
       "</div>"
      ],
      "text/plain": [
       "                                             Address  bResult  rResult  \\\n",
       "0  http://matchhistory.na.leagueoflegends.com/en/...        1        0   \n",
       "1  http://matchhistory.na.leagueoflegends.com/en/...        0        1   \n",
       "2  http://matchhistory.na.leagueoflegends.com/en/...        1        0   \n",
       "3  http://matchhistory.na.leagueoflegends.com/en/...        0        1   \n",
       "4  http://matchhistory.na.leagueoflegends.com/en/...        1        0   \n",
       "\n",
       "  blueTopChamp blueMiddleChamp blueADCChamp blueSupportChamp blueJungleChamp  \\\n",
       "0       Irelia            Ahri         Jinx            Janna          RekSai   \n",
       "1         Gnar            Ahri      Caitlyn            Leona          Rengar   \n",
       "2     Renekton            Fizz        Sivir            Annie          Rengar   \n",
       "3       Irelia         Leblanc        Sivir           Thresh        JarvanIV   \n",
       "4         Gnar       Lissandra     Tristana            Janna        JarvanIV   \n",
       "\n",
       "  redTopChamp redMiddleChamp redADCChamp redSupportChamp redJungleChamp  \\\n",
       "0        Gnar           Fizz       Sivir          Thresh          Elise   \n",
       "1      Irelia           Azir       Corki           Annie       JarvanIV   \n",
       "2        Sion           Azir       Corki           Janna         LeeSin   \n",
       "3        Gnar           Lulu      KogMaw           Janna           Nunu   \n",
       "4        Sion           Lulu       Corki           Annie         RekSai   \n",
       "\n",
       "   goldMiddle_diff  goldTop_diff  goldSupport_diff  goldADC_diff  \\\n",
       "0             4281           574              1379          -208   \n",
       "1              -95           486              -228          -680   \n",
       "2             2758          2652              3186          4882   \n",
       "3            -1305           856             -2093         -1166   \n",
       "4             3362          -236              2798          4087   \n",
       "\n",
       "   goldJungle_diff  \n",
       "0               31  \n",
       "1             1682  \n",
       "2              437  \n",
       "3             -799  \n",
       "4             1311  "
      ]
     },
     "execution_count": 57,
     "metadata": {},
     "output_type": "execute_result"
    }
   ],
   "source": [
    "data.head()"
   ]
  },
  {
   "cell_type": "code",
   "execution_count": 58,
   "metadata": {},
   "outputs": [
    {
     "data": {
      "image/png": "[encoded data removed]",
      "text/plain": [
       "<Figure size 288x288 with 1 Axes>"
      ]
     },
     "metadata": {
      "needs_background": "light"
     },
     "output_type": "display_data"
    }
   ],
   "source": [
    "plt.matshow(corr)\n",
    "plt.show()"
   ]
  },
  {
   "cell_type": "code",
   "execution_count": 59,
   "metadata": {},
   "outputs": [
    {
     "data": {
      "text/html": [
       "<style  type=\"text/css\" >\n",
       "    #T_cc621b9c_b4ed_11e9_9059_f8597124e8b5row0_col0 {\n",
       "            background-color:  #b40426;\n",
       "            color:  #f1f1f1;\n",
       "        }    #T_cc621b9c_b4ed_11e9_9059_f8597124e8b5row0_col1 {\n",
       "            background-color:  #3b4cc0;\n",
       "            color:  #f1f1f1;\n",
       "        }    #T_cc621b9c_b4ed_11e9_9059_f8597124e8b5row0_col2 {\n",
       "            background-color:  #de614d;\n",
       "            color:  #000000;\n",
       "        }    #T_cc621b9c_b4ed_11e9_9059_f8597124e8b5row0_col3 {\n",
       "            background-color:  #e36c55;\n",
       "            color:  #000000;\n",
       "        }    #T_cc621b9c_b4ed_11e9_9059_f8597124e8b5row0_col4 {\n",
       "            background-color:  #d55042;\n",
       "            color:  #000000;\n",
       "        }    #T_cc621b9c_b4ed_11e9_9059_f8597124e8b5row0_col5 {\n",
       "            background-color:  #da5a49;\n",
       "            color:  #000000;\n",
       "        }    #T_cc621b9c_b4ed_11e9_9059_f8597124e8b5row0_col6 {\n",
       "            background-color:  #dd5f4b;\n",
       "            color:  #000000;\n",
       "        }    #T_cc621b9c_b4ed_11e9_9059_f8597124e8b5row1_col0 {\n",
       "            background-color:  #3b4cc0;\n",
       "            color:  #f1f1f1;\n",
       "        }    #T_cc621b9c_b4ed_11e9_9059_f8597124e8b5row1_col1 {\n",
       "            background-color:  #b40426;\n",
       "            color:  #f1f1f1;\n",
       "        }    #T_cc621b9c_b4ed_11e9_9059_f8597124e8b5row1_col2 {\n",
       "            background-color:  #3b4cc0;\n",
       "            color:  #f1f1f1;\n",
       "        }    #T_cc621b9c_b4ed_11e9_9059_f8597124e8b5row1_col3 {\n",
       "            background-color:  #3b4cc0;\n",
       "            color:  #f1f1f1;\n",
       "        }    #T_cc621b9c_b4ed_11e9_9059_f8597124e8b5row1_col4 {\n",
       "            background-color:  #3b4cc0;\n",
       "            color:  #f1f1f1;\n",
       "        }    #T_cc621b9c_b4ed_11e9_9059_f8597124e8b5row1_col5 {\n",
       "            background-color:  #3b4cc0;\n",
       "            color:  #f1f1f1;\n",
       "        }    #T_cc621b9c_b4ed_11e9_9059_f8597124e8b5row1_col6 {\n",
       "            background-color:  #3b4cc0;\n",
       "            color:  #f1f1f1;\n",
       "        }    #T_cc621b9c_b4ed_11e9_9059_f8597124e8b5row2_col0 {\n",
       "            background-color:  #d95847;\n",
       "            color:  #000000;\n",
       "        }    #T_cc621b9c_b4ed_11e9_9059_f8597124e8b5row2_col1 {\n",
       "            background-color:  #5d7ce6;\n",
       "            color:  #000000;\n",
       "        }    #T_cc621b9c_b4ed_11e9_9059_f8597124e8b5row2_col2 {\n",
       "            background-color:  #b40426;\n",
       "            color:  #f1f1f1;\n",
       "        }    #T_cc621b9c_b4ed_11e9_9059_f8597124e8b5row2_col3 {\n",
       "            background-color:  #ed8366;\n",
       "            color:  #000000;\n",
       "        }    #T_cc621b9c_b4ed_11e9_9059_f8597124e8b5row2_col4 {\n",
       "            background-color:  #e16751;\n",
       "            color:  #000000;\n",
       "        }    #T_cc621b9c_b4ed_11e9_9059_f8597124e8b5row2_col5 {\n",
       "            background-color:  #eb7d62;\n",
       "            color:  #000000;\n",
       "        }    #T_cc621b9c_b4ed_11e9_9059_f8597124e8b5row2_col6 {\n",
       "            background-color:  #e67259;\n",
       "            color:  #000000;\n",
       "        }    #T_cc621b9c_b4ed_11e9_9059_f8597124e8b5row3_col0 {\n",
       "            background-color:  #df634e;\n",
       "            color:  #000000;\n",
       "        }    #T_cc621b9c_b4ed_11e9_9059_f8597124e8b5row3_col1 {\n",
       "            background-color:  #6384eb;\n",
       "            color:  #000000;\n",
       "        }    #T_cc621b9c_b4ed_11e9_9059_f8597124e8b5row3_col2 {\n",
       "            background-color:  #ec8165;\n",
       "            color:  #000000;\n",
       "        }    #T_cc621b9c_b4ed_11e9_9059_f8597124e8b5row3_col3 {\n",
       "            background-color:  #b40426;\n",
       "            color:  #f1f1f1;\n",
       "        }    #T_cc621b9c_b4ed_11e9_9059_f8597124e8b5row3_col4 {\n",
       "            background-color:  #e67259;\n",
       "            color:  #000000;\n",
       "        }    #T_cc621b9c_b4ed_11e9_9059_f8597124e8b5row3_col5 {\n",
       "            background-color:  #f18d6f;\n",
       "            color:  #000000;\n",
       "        }    #T_cc621b9c_b4ed_11e9_9059_f8597124e8b5row3_col6 {\n",
       "            background-color:  #e8765c;\n",
       "            color:  #000000;\n",
       "        }    #T_cc621b9c_b4ed_11e9_9059_f8597124e8b5row4_col0 {\n",
       "            background-color:  #d24b40;\n",
       "            color:  #f1f1f1;\n",
       "        }    #T_cc621b9c_b4ed_11e9_9059_f8597124e8b5row4_col1 {\n",
       "            background-color:  #5572df;\n",
       "            color:  #000000;\n",
       "        }    #T_cc621b9c_b4ed_11e9_9059_f8597124e8b5row4_col2 {\n",
       "            background-color:  #e26952;\n",
       "            color:  #000000;\n",
       "        }    #T_cc621b9c_b4ed_11e9_9059_f8597124e8b5row4_col3 {\n",
       "            background-color:  #e8765c;\n",
       "            color:  #000000;\n",
       "        }    #T_cc621b9c_b4ed_11e9_9059_f8597124e8b5row4_col4 {\n",
       "            background-color:  #b40426;\n",
       "            color:  #f1f1f1;\n",
       "        }    #T_cc621b9c_b4ed_11e9_9059_f8597124e8b5row4_col5 {\n",
       "            background-color:  #dd5f4b;\n",
       "            color:  #000000;\n",
       "        }    #T_cc621b9c_b4ed_11e9_9059_f8597124e8b5row4_col6 {\n",
       "            background-color:  #da5a49;\n",
       "            color:  #000000;\n",
       "        }    #T_cc621b9c_b4ed_11e9_9059_f8597124e8b5row5_col0 {\n",
       "            background-color:  #d75445;\n",
       "            color:  #000000;\n",
       "        }    #T_cc621b9c_b4ed_11e9_9059_f8597124e8b5row5_col1 {\n",
       "            background-color:  #5a78e4;\n",
       "            color:  #000000;\n",
       "        }    #T_cc621b9c_b4ed_11e9_9059_f8597124e8b5row5_col2 {\n",
       "            background-color:  #ec7f63;\n",
       "            color:  #000000;\n",
       "        }    #T_cc621b9c_b4ed_11e9_9059_f8597124e8b5row5_col3 {\n",
       "            background-color:  #f29072;\n",
       "            color:  #000000;\n",
       "        }    #T_cc621b9c_b4ed_11e9_9059_f8597124e8b5row5_col4 {\n",
       "            background-color:  #dc5d4a;\n",
       "            color:  #000000;\n",
       "        }    #T_cc621b9c_b4ed_11e9_9059_f8597124e8b5row5_col5 {\n",
       "            background-color:  #b40426;\n",
       "            color:  #f1f1f1;\n",
       "        }    #T_cc621b9c_b4ed_11e9_9059_f8597124e8b5row5_col6 {\n",
       "            background-color:  #e8765c;\n",
       "            color:  #000000;\n",
       "        }    #T_cc621b9c_b4ed_11e9_9059_f8597124e8b5row6_col0 {\n",
       "            background-color:  #d95847;\n",
       "            color:  #000000;\n",
       "        }    #T_cc621b9c_b4ed_11e9_9059_f8597124e8b5row6_col1 {\n",
       "            background-color:  #5d7ce6;\n",
       "            color:  #000000;\n",
       "        }    #T_cc621b9c_b4ed_11e9_9059_f8597124e8b5row6_col2 {\n",
       "            background-color:  #e67259;\n",
       "            color:  #000000;\n",
       "        }    #T_cc621b9c_b4ed_11e9_9059_f8597124e8b5row6_col3 {\n",
       "            background-color:  #e9785d;\n",
       "            color:  #000000;\n",
       "        }    #T_cc621b9c_b4ed_11e9_9059_f8597124e8b5row6_col4 {\n",
       "            background-color:  #d95847;\n",
       "            color:  #000000;\n",
       "        }    #T_cc621b9c_b4ed_11e9_9059_f8597124e8b5row6_col5 {\n",
       "            background-color:  #e7745b;\n",
       "            color:  #000000;\n",
       "        }    #T_cc621b9c_b4ed_11e9_9059_f8597124e8b5row6_col6 {\n",
       "            background-color:  #b40426;\n",
       "            color:  #f1f1f1;\n",
       "        }</style><table id=\"T_cc621b9c_b4ed_11e9_9059_f8597124e8b5\" ><thead>    <tr>        <th class=\"blank level0\" ></th>        <th class=\"col_heading level0 col0\" >bResult</th>        <th class=\"col_heading level0 col1\" >rResult</th>        <th class=\"col_heading level0 col2\" >goldMiddle_diff</th>        <th class=\"col_heading level0 col3\" >goldTop_diff</th>        <th class=\"col_heading level0 col4\" >goldSupport_diff</th>        <th class=\"col_heading level0 col5\" >goldADC_diff</th>        <th class=\"col_heading level0 col6\" >goldJungle_diff</th>    </tr></thead><tbody>\n",
       "                <tr>\n",
       "                        <th id=\"T_cc621b9c_b4ed_11e9_9059_f8597124e8b5level0_row0\" class=\"row_heading level0 row0\" >bResult</th>\n",
       "                        <td id=\"T_cc621b9c_b4ed_11e9_9059_f8597124e8b5row0_col0\" class=\"data row0 col0\" >1</td>\n",
       "                        <td id=\"T_cc621b9c_b4ed_11e9_9059_f8597124e8b5row0_col1\" class=\"data row0 col1\" >-1</td>\n",
       "                        <td id=\"T_cc621b9c_b4ed_11e9_9059_f8597124e8b5row0_col2\" class=\"data row0 col2\" >0.777613</td>\n",
       "                        <td id=\"T_cc621b9c_b4ed_11e9_9059_f8597124e8b5row0_col3\" class=\"data row0 col3\" >0.735608</td>\n",
       "                        <td id=\"T_cc621b9c_b4ed_11e9_9059_f8597124e8b5row0_col4\" class=\"data row0 col4\" >0.82436</td>\n",
       "                        <td id=\"T_cc621b9c_b4ed_11e9_9059_f8597124e8b5row0_col5\" class=\"data row0 col5\" >0.791522</td>\n",
       "                        <td id=\"T_cc621b9c_b4ed_11e9_9059_f8597124e8b5row0_col6\" class=\"data row0 col6\" >0.780942</td>\n",
       "            </tr>\n",
       "            <tr>\n",
       "                        <th id=\"T_cc621b9c_b4ed_11e9_9059_f8597124e8b5level0_row1\" class=\"row_heading level0 row1\" >rResult</th>\n",
       "                        <td id=\"T_cc621b9c_b4ed_11e9_9059_f8597124e8b5row1_col0\" class=\"data row1 col0\" >-1</td>\n",
       "                        <td id=\"T_cc621b9c_b4ed_11e9_9059_f8597124e8b5row1_col1\" class=\"data row1 col1\" >1</td>\n",
       "                        <td id=\"T_cc621b9c_b4ed_11e9_9059_f8597124e8b5row1_col2\" class=\"data row1 col2\" >-0.777613</td>\n",
       "                        <td id=\"T_cc621b9c_b4ed_11e9_9059_f8597124e8b5row1_col3\" class=\"data row1 col3\" >-0.735608</td>\n",
       "                        <td id=\"T_cc621b9c_b4ed_11e9_9059_f8597124e8b5row1_col4\" class=\"data row1 col4\" >-0.82436</td>\n",
       "                        <td id=\"T_cc621b9c_b4ed_11e9_9059_f8597124e8b5row1_col5\" class=\"data row1 col5\" >-0.791522</td>\n",
       "                        <td id=\"T_cc621b9c_b4ed_11e9_9059_f8597124e8b5row1_col6\" class=\"data row1 col6\" >-0.780942</td>\n",
       "            </tr>\n",
       "            <tr>\n",
       "                        <th id=\"T_cc621b9c_b4ed_11e9_9059_f8597124e8b5level0_row2\" class=\"row_heading level0 row2\" >goldMiddle_diff</th>\n",
       "                        <td id=\"T_cc621b9c_b4ed_11e9_9059_f8597124e8b5row2_col0\" class=\"data row2 col0\" >0.777613</td>\n",
       "                        <td id=\"T_cc621b9c_b4ed_11e9_9059_f8597124e8b5row2_col1\" class=\"data row2 col1\" >-0.777613</td>\n",
       "                        <td id=\"T_cc621b9c_b4ed_11e9_9059_f8597124e8b5row2_col2\" class=\"data row2 col2\" >1</td>\n",
       "                        <td id=\"T_cc621b9c_b4ed_11e9_9059_f8597124e8b5row2_col3\" class=\"data row2 col3\" >0.654801</td>\n",
       "                        <td id=\"T_cc621b9c_b4ed_11e9_9059_f8597124e8b5row2_col4\" class=\"data row2 col4\" >0.748627</td>\n",
       "                        <td id=\"T_cc621b9c_b4ed_11e9_9059_f8597124e8b5row2_col5\" class=\"data row2 col5\" >0.665982</td>\n",
       "                        <td id=\"T_cc621b9c_b4ed_11e9_9059_f8597124e8b5row2_col6\" class=\"data row2 col6\" >0.713542</td>\n",
       "            </tr>\n",
       "            <tr>\n",
       "                        <th id=\"T_cc621b9c_b4ed_11e9_9059_f8597124e8b5level0_row3\" class=\"row_heading level0 row3\" >goldTop_diff</th>\n",
       "                        <td id=\"T_cc621b9c_b4ed_11e9_9059_f8597124e8b5row3_col0\" class=\"data row3 col0\" >0.735608</td>\n",
       "                        <td id=\"T_cc621b9c_b4ed_11e9_9059_f8597124e8b5row3_col1\" class=\"data row3 col1\" >-0.735608</td>\n",
       "                        <td id=\"T_cc621b9c_b4ed_11e9_9059_f8597124e8b5row3_col2\" class=\"data row3 col2\" >0.654801</td>\n",
       "                        <td id=\"T_cc621b9c_b4ed_11e9_9059_f8597124e8b5row3_col3\" class=\"data row3 col3\" >1</td>\n",
       "                        <td id=\"T_cc621b9c_b4ed_11e9_9059_f8597124e8b5row3_col4\" class=\"data row3 col4\" >0.702439</td>\n",
       "                        <td id=\"T_cc621b9c_b4ed_11e9_9059_f8597124e8b5row3_col5\" class=\"data row3 col5\" >0.603184</td>\n",
       "                        <td id=\"T_cc621b9c_b4ed_11e9_9059_f8597124e8b5row3_col6\" class=\"data row3 col6\" >0.69791</td>\n",
       "            </tr>\n",
       "            <tr>\n",
       "                        <th id=\"T_cc621b9c_b4ed_11e9_9059_f8597124e8b5level0_row4\" class=\"row_heading level0 row4\" >goldSupport_diff</th>\n",
       "                        <td id=\"T_cc621b9c_b4ed_11e9_9059_f8597124e8b5row4_col0\" class=\"data row4 col0\" >0.82436</td>\n",
       "                        <td id=\"T_cc621b9c_b4ed_11e9_9059_f8597124e8b5row4_col1\" class=\"data row4 col1\" >-0.82436</td>\n",
       "                        <td id=\"T_cc621b9c_b4ed_11e9_9059_f8597124e8b5row4_col2\" class=\"data row4 col2\" >0.748627</td>\n",
       "                        <td id=\"T_cc621b9c_b4ed_11e9_9059_f8597124e8b5row4_col3\" class=\"data row4 col3\" >0.702439</td>\n",
       "                        <td id=\"T_cc621b9c_b4ed_11e9_9059_f8597124e8b5row4_col4\" class=\"data row4 col4\" >1</td>\n",
       "                        <td id=\"T_cc621b9c_b4ed_11e9_9059_f8597124e8b5row4_col5\" class=\"data row4 col5\" >0.779574</td>\n",
       "                        <td id=\"T_cc621b9c_b4ed_11e9_9059_f8597124e8b5row4_col6\" class=\"data row4 col6\" >0.794456</td>\n",
       "            </tr>\n",
       "            <tr>\n",
       "                        <th id=\"T_cc621b9c_b4ed_11e9_9059_f8597124e8b5level0_row5\" class=\"row_heading level0 row5\" >goldADC_diff</th>\n",
       "                        <td id=\"T_cc621b9c_b4ed_11e9_9059_f8597124e8b5row5_col0\" class=\"data row5 col0\" >0.791522</td>\n",
       "                        <td id=\"T_cc621b9c_b4ed_11e9_9059_f8597124e8b5row5_col1\" class=\"data row5 col1\" >-0.791522</td>\n",
       "                        <td id=\"T_cc621b9c_b4ed_11e9_9059_f8597124e8b5row5_col2\" class=\"data row5 col2\" >0.665982</td>\n",
       "                        <td id=\"T_cc621b9c_b4ed_11e9_9059_f8597124e8b5row5_col3\" class=\"data row5 col3\" >0.603184</td>\n",
       "                        <td id=\"T_cc621b9c_b4ed_11e9_9059_f8597124e8b5row5_col4\" class=\"data row5 col4\" >0.779574</td>\n",
       "                        <td id=\"T_cc621b9c_b4ed_11e9_9059_f8597124e8b5row5_col5\" class=\"data row5 col5\" >1</td>\n",
       "                        <td id=\"T_cc621b9c_b4ed_11e9_9059_f8597124e8b5row5_col6\" class=\"data row5 col6\" >0.699618</td>\n",
       "            </tr>\n",
       "            <tr>\n",
       "                        <th id=\"T_cc621b9c_b4ed_11e9_9059_f8597124e8b5level0_row6\" class=\"row_heading level0 row6\" >goldJungle_diff</th>\n",
       "                        <td id=\"T_cc621b9c_b4ed_11e9_9059_f8597124e8b5row6_col0\" class=\"data row6 col0\" >0.780942</td>\n",
       "                        <td id=\"T_cc621b9c_b4ed_11e9_9059_f8597124e8b5row6_col1\" class=\"data row6 col1\" >-0.780942</td>\n",
       "                        <td id=\"T_cc621b9c_b4ed_11e9_9059_f8597124e8b5row6_col2\" class=\"data row6 col2\" >0.713542</td>\n",
       "                        <td id=\"T_cc621b9c_b4ed_11e9_9059_f8597124e8b5row6_col3\" class=\"data row6 col3\" >0.69791</td>\n",
       "                        <td id=\"T_cc621b9c_b4ed_11e9_9059_f8597124e8b5row6_col4\" class=\"data row6 col4\" >0.794456</td>\n",
       "                        <td id=\"T_cc621b9c_b4ed_11e9_9059_f8597124e8b5row6_col5\" class=\"data row6 col5\" >0.699618</td>\n",
       "                        <td id=\"T_cc621b9c_b4ed_11e9_9059_f8597124e8b5row6_col6\" class=\"data row6 col6\" >1</td>\n",
       "            </tr>\n",
       "    </tbody></table>"
      ],
      "text/plain": [
       "<pandas.io.formats.style.Styler at 0x12432f70>"
      ]
     },
     "execution_count": 59,
     "metadata": {},
     "output_type": "execute_result"
    }
   ],
   "source": [
    "corr = data.corr()\n",
    "corr.style.background_gradient(cmap='coolwarm')"
   ]
  },
  {
   "cell_type": "markdown",
   "metadata": {},
   "source": [
    "# Training the data"
   ]
  },
  {
   "cell_type": "code",
   "execution_count": 100,
   "metadata": {},
   "outputs": [],
   "source": [
    "from sklearn.preprocessing import OneHotEncoder"
   ]
  },
  {
   "cell_type": "code",
   "execution_count": 101,
   "metadata": {},
   "outputs": [],
   "source": [
    "cham_drop_list = ['blueTopChamp','blueMiddleChamp','blueADCChamp','blueSupportChamp','blueJungleChamp',\n",
    "                  'redTopChamp','redMiddleChamp','redADCChamp','redJungleChamp','redSupportChamp']\n",
    "new_data = data.drop('Address' , axis = 1)\n",
    "new_data = new_data.drop(cham_drop_list , axis = 1)\n",
    "new_data = pd.get_dummies(new_data)\n"
   ]
  },
  {
   "cell_type": "code",
   "execution_count": 102,
   "metadata": {},
   "outputs": [
    {
     "data": {
      "text/html": [
       "<div>\n",
       "<style scoped>\n",
       "    .dataframe tbody tr th:only-of-type {\n",
       "        vertical-align: middle;\n",
       "    }\n",
       "\n",
       "    .dataframe tbody tr th {\n",
       "        vertical-align: top;\n",
       "    }\n",
       "\n",
       "    .dataframe thead th {\n",
       "        text-align: right;\n",
       "    }\n",
       "</style>\n",
       "<table border=\"1\" class=\"dataframe\">\n",
       "  <thead>\n",
       "    <tr style=\"text-align: right;\">\n",
       "      <th></th>\n",
       "      <th>bResult</th>\n",
       "      <th>rResult</th>\n",
       "      <th>goldMiddle_diff</th>\n",
       "      <th>goldTop_diff</th>\n",
       "      <th>goldSupport_diff</th>\n",
       "      <th>goldADC_diff</th>\n",
       "      <th>goldJungle_diff</th>\n",
       "    </tr>\n",
       "  </thead>\n",
       "  <tbody>\n",
       "    <tr>\n",
       "      <th>0</th>\n",
       "      <td>1</td>\n",
       "      <td>0</td>\n",
       "      <td>4281</td>\n",
       "      <td>574</td>\n",
       "      <td>1379</td>\n",
       "      <td>-208</td>\n",
       "      <td>31</td>\n",
       "    </tr>\n",
       "    <tr>\n",
       "      <th>1</th>\n",
       "      <td>0</td>\n",
       "      <td>1</td>\n",
       "      <td>-95</td>\n",
       "      <td>486</td>\n",
       "      <td>-228</td>\n",
       "      <td>-680</td>\n",
       "      <td>1682</td>\n",
       "    </tr>\n",
       "    <tr>\n",
       "      <th>2</th>\n",
       "      <td>1</td>\n",
       "      <td>0</td>\n",
       "      <td>2758</td>\n",
       "      <td>2652</td>\n",
       "      <td>3186</td>\n",
       "      <td>4882</td>\n",
       "      <td>437</td>\n",
       "    </tr>\n",
       "    <tr>\n",
       "      <th>3</th>\n",
       "      <td>0</td>\n",
       "      <td>1</td>\n",
       "      <td>-1305</td>\n",
       "      <td>856</td>\n",
       "      <td>-2093</td>\n",
       "      <td>-1166</td>\n",
       "      <td>-799</td>\n",
       "    </tr>\n",
       "    <tr>\n",
       "      <th>4</th>\n",
       "      <td>1</td>\n",
       "      <td>0</td>\n",
       "      <td>3362</td>\n",
       "      <td>-236</td>\n",
       "      <td>2798</td>\n",
       "      <td>4087</td>\n",
       "      <td>1311</td>\n",
       "    </tr>\n",
       "  </tbody>\n",
       "</table>\n",
       "</div>"
      ],
      "text/plain": [
       "   bResult  rResult  goldMiddle_diff  goldTop_diff  goldSupport_diff  \\\n",
       "0        1        0             4281           574              1379   \n",
       "1        0        1              -95           486              -228   \n",
       "2        1        0             2758          2652              3186   \n",
       "3        0        1            -1305           856             -2093   \n",
       "4        1        0             3362          -236              2798   \n",
       "\n",
       "   goldADC_diff  goldJungle_diff  \n",
       "0          -208               31  \n",
       "1          -680             1682  \n",
       "2          4882              437  \n",
       "3         -1166             -799  \n",
       "4          4087             1311  "
      ]
     },
     "execution_count": 102,
     "metadata": {},
     "output_type": "execute_result"
    }
   ],
   "source": [
    "new_data.head()"
   ]
  },
  {
   "cell_type": "code",
   "execution_count": 103,
   "metadata": {},
   "outputs": [],
   "source": [
    "from sklearn.model_selection import train_test_split as ttp"
   ]
  },
  {
   "cell_type": "code",
   "execution_count": 104,
   "metadata": {},
   "outputs": [],
   "source": [
    "drop_list = ['goldTop_diff','goldMiddle_diff', 'goldADC_diff' , 'goldJungle_diff']\n",
    "y = new_data['bResult']\n",
    "X = new_data.drop(['rResult','bResult','goldMiddle_diff', 'goldADC_diff' , 'goldJungle_diff' ] , axis = 1)"
   ]
  },
  {
   "cell_type": "code",
   "execution_count": 105,
   "metadata": {},
   "outputs": [
    {
     "data": {
      "text/html": [
       "<div>\n",
       "<style scoped>\n",
       "    .dataframe tbody tr th:only-of-type {\n",
       "        vertical-align: middle;\n",
       "    }\n",
       "\n",
       "    .dataframe tbody tr th {\n",
       "        vertical-align: top;\n",
       "    }\n",
       "\n",
       "    .dataframe thead th {\n",
       "        text-align: right;\n",
       "    }\n",
       "</style>\n",
       "<table border=\"1\" class=\"dataframe\">\n",
       "  <thead>\n",
       "    <tr style=\"text-align: right;\">\n",
       "      <th></th>\n",
       "      <th>goldTop_diff</th>\n",
       "      <th>goldSupport_diff</th>\n",
       "    </tr>\n",
       "  </thead>\n",
       "  <tbody>\n",
       "    <tr>\n",
       "      <th>0</th>\n",
       "      <td>574</td>\n",
       "      <td>1379</td>\n",
       "    </tr>\n",
       "    <tr>\n",
       "      <th>1</th>\n",
       "      <td>486</td>\n",
       "      <td>-228</td>\n",
       "    </tr>\n",
       "    <tr>\n",
       "      <th>2</th>\n",
       "      <td>2652</td>\n",
       "      <td>3186</td>\n",
       "    </tr>\n",
       "    <tr>\n",
       "      <th>3</th>\n",
       "      <td>856</td>\n",
       "      <td>-2093</td>\n",
       "    </tr>\n",
       "    <tr>\n",
       "      <th>4</th>\n",
       "      <td>-236</td>\n",
       "      <td>2798</td>\n",
       "    </tr>\n",
       "  </tbody>\n",
       "</table>\n",
       "</div>"
      ],
      "text/plain": [
       "   goldTop_diff  goldSupport_diff\n",
       "0           574              1379\n",
       "1           486              -228\n",
       "2          2652              3186\n",
       "3           856             -2093\n",
       "4          -236              2798"
      ]
     },
     "execution_count": 105,
     "metadata": {},
     "output_type": "execute_result"
    }
   ],
   "source": [
    "X.head()"
   ]
  },
  {
   "cell_type": "markdown",
   "metadata": {},
   "source": [
    "# LogisticRegression"
   ]
  },
  {
   "cell_type": "code",
   "execution_count": 106,
   "metadata": {},
   "outputs": [],
   "source": [
    "X_train, X_test , y_train, y_test =ttp(X, y, test_size= 0.25) "
   ]
  },
  {
   "cell_type": "code",
   "execution_count": 107,
   "metadata": {},
   "outputs": [],
   "source": [
    "from sklearn.linear_model import LogisticRegression as LR"
   ]
  },
  {
   "cell_type": "code",
   "execution_count": 108,
   "metadata": {},
   "outputs": [],
   "source": [
    "lr_clf = LR()"
   ]
  },
  {
   "cell_type": "code",
   "execution_count": 109,
   "metadata": {
    "scrolled": true
   },
   "outputs": [
    {
     "name": "stderr",
     "output_type": "stream",
     "text": [
      "c:\\users\\parsa\\appdata\\local\\programs\\python\\python37-32\\lib\\site-packages\\sklearn\\linear_model\\logistic.py:432: FutureWarning: Default solver will be changed to 'lbfgs' in 0.22. Specify a solver to silence this warning.\n",
      "  FutureWarning)\n"
     ]
    },
    {
     "data": {
      "text/plain": [
       "LogisticRegression(C=1.0, class_weight=None, dual=False, fit_intercept=True,\n",
       "                   intercept_scaling=1, l1_ratio=None, max_iter=100,\n",
       "                   multi_class='warn', n_jobs=None, penalty='l2',\n",
       "                   random_state=None, solver='warn', tol=0.0001, verbose=0,\n",
       "                   warm_start=False)"
      ]
     },
     "execution_count": 109,
     "metadata": {},
     "output_type": "execute_result"
    }
   ],
   "source": [
    "lr_clf.fit(X_train, y_train)"
   ]
  },
  {
   "cell_type": "code",
   "execution_count": 110,
   "metadata": {},
   "outputs": [
    {
     "data": {
      "text/plain": [
       "0.9424321959755031"
      ]
     },
     "execution_count": 110,
     "metadata": {},
     "output_type": "execute_result"
    }
   ],
   "source": [
    "lr_clf.score(X_train, y_train)"
   ]
  },
  {
   "cell_type": "code",
   "execution_count": 120,
   "metadata": {},
   "outputs": [
    {
     "data": {
      "text/plain": [
       "array([0], dtype=int64)"
      ]
     },
     "execution_count": 120,
     "metadata": {},
     "output_type": "execute_result"
    }
   ],
   "source": [
    "lr_clf.predict([[-12, 1]])"
   ]
  },
  {
   "cell_type": "code",
   "execution_count": 99,
   "metadata": {},
   "outputs": [
    {
     "name": "stderr",
     "output_type": "stream",
     "text": [
      "c:\\users\\parsa\\appdata\\local\\programs\\python\\python37-32\\lib\\site-packages\\sklearn\\linear_model\\logistic.py:432: FutureWarning: Default solver will be changed to 'lbfgs' in 0.22. Specify a solver to silence this warning.\n",
      "  FutureWarning)\n"
     ]
    },
    {
     "data": {
      "text/plain": [
       "LogisticRegression(C=1.0, class_weight=None, dual=False, fit_intercept=True,\n",
       "                   intercept_scaling=1, l1_ratio=None, max_iter=100,\n",
       "                   multi_class='warn', n_jobs=None, penalty='l2',\n",
       "                   random_state=None, solver='warn', tol=0.0001, verbose=0,\n",
       "                   warm_start=False)"
      ]
     },
     "execution_count": 99,
     "metadata": {},
     "output_type": "execute_result"
    }
   ],
   "source": [
    "lr_clf.fit(X_test, y_test)"
   ]
  },
  {
   "cell_type": "code",
   "execution_count": 87,
   "metadata": {},
   "outputs": [
    {
     "data": {
      "text/plain": [
       "0.8671916010498688"
      ]
     },
     "execution_count": 87,
     "metadata": {},
     "output_type": "execute_result"
    }
   ],
   "source": [
    "lr_clf.score(X_test, y_test)"
   ]
  },
  {
   "cell_type": "markdown",
   "metadata": {},
   "source": [
    "# KNeighborsClassifier"
   ]
  },
  {
   "cell_type": "code",
   "execution_count": 125,
   "metadata": {},
   "outputs": [],
   "source": [
    "from sklearn.neighbors import KNeighborsClassifier as KN"
   ]
  },
  {
   "cell_type": "code",
   "execution_count": 126,
   "metadata": {},
   "outputs": [
    {
     "data": {
      "text/plain": [
       "0.947681539807524"
      ]
     },
     "execution_count": 126,
     "metadata": {},
     "output_type": "execute_result"
    }
   ],
   "source": [
    "kn_c = KN(n_neighbors=5)\n",
    "kn_c.fit(X_train , y_train)\n",
    "kn_c.score(X_train , y_train)"
   ]
  },
  {
   "cell_type": "code",
   "execution_count": 127,
   "metadata": {},
   "outputs": [
    {
     "data": {
      "text/plain": [
       "0.94750656167979"
      ]
     },
     "execution_count": 127,
     "metadata": {},
     "output_type": "execute_result"
    }
   ],
   "source": [
    "kn_c.fit(X_test , y_test)\n",
    "kn_c.score(X_test , y_test)"
   ]
  },
  {
   "cell_type": "markdown",
   "metadata": {},
   "source": [
    "# Grid Search"
   ]
  },
  {
   "cell_type": "code",
   "execution_count": 128,
   "metadata": {},
   "outputs": [],
   "source": [
    "from sklearn.model_selection import GridSearchCV as GS"
   ]
  },
  {
   "cell_type": "code",
   "execution_count": 129,
   "metadata": {},
   "outputs": [],
   "source": [
    "param_dic = {'leaf_size' : [5 , 15 , 20 , 30 ], 'n_neighbors': [10,25,50,100]}"
   ]
  },
  {
   "cell_type": "code",
   "execution_count": 130,
   "metadata": {},
   "outputs": [],
   "source": [
    "knn_clf = KN()"
   ]
  },
  {
   "cell_type": "code",
   "execution_count": 131,
   "metadata": {},
   "outputs": [],
   "source": [
    "grid_s = GS(knn_clf , param_dic , cv = 2)"
   ]
  },
  {
   "cell_type": "code",
   "execution_count": 132,
   "metadata": {},
   "outputs": [
    {
     "data": {
      "text/plain": [
       "GridSearchCV(cv=2, error_score='raise-deprecating',\n",
       "             estimator=KNeighborsClassifier(algorithm='auto', leaf_size=30,\n",
       "                                            metric='minkowski',\n",
       "                                            metric_params=None, n_jobs=None,\n",
       "                                            n_neighbors=5, p=2,\n",
       "                                            weights='uniform'),\n",
       "             iid='warn', n_jobs=None,\n",
       "             param_grid={'leaf_size': [5, 15, 20, 30],\n",
       "                         'n_neighbors': [10, 25, 50, 100]},\n",
       "             pre_dispatch='2*n_jobs', refit=True, return_train_score=False,\n",
       "             scoring=None, verbose=0)"
      ]
     },
     "execution_count": 132,
     "metadata": {},
     "output_type": "execute_result"
    }
   ],
   "source": [
    "grid_s.fit(X_train , y_train)"
   ]
  },
  {
   "cell_type": "code",
   "execution_count": 133,
   "metadata": {},
   "outputs": [
    {
     "data": {
      "text/plain": [
       "0.9434820647419072"
      ]
     },
     "execution_count": 133,
     "metadata": {},
     "output_type": "execute_result"
    }
   ],
   "source": [
    "grid_s.score(X_train , y_train)"
   ]
  },
  {
   "cell_type": "code",
   "execution_count": 134,
   "metadata": {},
   "outputs": [
    {
     "data": {
      "text/plain": [
       "GridSearchCV(cv=2, error_score='raise-deprecating',\n",
       "             estimator=KNeighborsClassifier(algorithm='auto', leaf_size=30,\n",
       "                                            metric='minkowski',\n",
       "                                            metric_params=None, n_jobs=None,\n",
       "                                            n_neighbors=5, p=2,\n",
       "                                            weights='uniform'),\n",
       "             iid='warn', n_jobs=None,\n",
       "             param_grid={'leaf_size': [5, 15, 20, 30],\n",
       "                         'n_neighbors': [10, 25, 50, 100]},\n",
       "             pre_dispatch='2*n_jobs', refit=True, return_train_score=False,\n",
       "             scoring=None, verbose=0)"
      ]
     },
     "execution_count": 134,
     "metadata": {},
     "output_type": "execute_result"
    }
   ],
   "source": [
    "grid_s.fit(X_test , y_test)"
   ]
  },
  {
   "cell_type": "code",
   "execution_count": 135,
   "metadata": {},
   "outputs": [
    {
     "data": {
      "text/plain": [
       "0.9496062992125984"
      ]
     },
     "execution_count": 135,
     "metadata": {},
     "output_type": "execute_result"
    }
   ],
   "source": [
    "grid_s.score(X_test , y_test)"
   ]
  },
  {
   "cell_type": "markdown",
   "metadata": {},
   "source": [
    "# SVC "
   ]
  },
  {
   "cell_type": "code",
   "execution_count": 136,
   "metadata": {},
   "outputs": [],
   "source": [
    "from sklearn.svm import SVC"
   ]
  },
  {
   "cell_type": "code",
   "execution_count": 137,
   "metadata": {},
   "outputs": [],
   "source": [
    "svm_clf = SVC()"
   ]
  },
  {
   "cell_type": "code",
   "execution_count": 138,
   "metadata": {},
   "outputs": [
    {
     "name": "stderr",
     "output_type": "stream",
     "text": [
      "c:\\users\\parsa\\appdata\\local\\programs\\python\\python37-32\\lib\\site-packages\\sklearn\\svm\\base.py:193: FutureWarning: The default value of gamma will change from 'auto' to 'scale' in version 0.22 to account better for unscaled features. Set gamma explicitly to 'auto' or 'scale' to avoid this warning.\n",
      "  \"avoid this warning.\", FutureWarning)\n"
     ]
    },
    {
     "data": {
      "text/plain": [
       "SVC(C=1.0, cache_size=200, class_weight=None, coef0=0.0,\n",
       "    decision_function_shape='ovr', degree=3, gamma='auto_deprecated',\n",
       "    kernel='rbf', max_iter=-1, probability=False, random_state=None,\n",
       "    shrinking=True, tol=0.001, verbose=False)"
      ]
     },
     "execution_count": 138,
     "metadata": {},
     "output_type": "execute_result"
    }
   ],
   "source": [
    "svm_clf.fit(X_train , y_train )"
   ]
  },
  {
   "cell_type": "code",
   "execution_count": 139,
   "metadata": {},
   "outputs": [
    {
     "data": {
      "text/plain": [
       "1.0"
      ]
     },
     "execution_count": 139,
     "metadata": {},
     "output_type": "execute_result"
    }
   ],
   "source": [
    "svm_clf.score(X_train , y_train)"
   ]
  },
  {
   "cell_type": "code",
   "execution_count": 154,
   "metadata": {},
   "outputs": [
    {
     "ename": "ValueError",
     "evalue": "X.shape[1] = 2 should be equal to 30, the number of features at training time",
     "output_type": "error",
     "traceback": [
      "\u001b[1;31m---------------------------------------------------------------------------\u001b[0m",
      "\u001b[1;31mValueError\u001b[0m                                Traceback (most recent call last)",
      "\u001b[1;32m<ipython-input-154-c851138fc8ca>\u001b[0m in \u001b[0;36m<module>\u001b[1;34m\u001b[0m\n\u001b[1;32m----> 1\u001b[1;33m \u001b[0msvm_clf\u001b[0m\u001b[1;33m.\u001b[0m\u001b[0mpredict\u001b[0m\u001b[1;33m(\u001b[0m\u001b[1;33m[\u001b[0m\u001b[1;33m[\u001b[0m\u001b[1;33m-\u001b[0m\u001b[1;36m424355\u001b[0m\u001b[1;33m,\u001b[0m\u001b[1;33m-\u001b[0m\u001b[1;36m13254\u001b[0m\u001b[1;33m]\u001b[0m\u001b[1;33m]\u001b[0m\u001b[1;33m)\u001b[0m\u001b[1;33m\u001b[0m\u001b[1;33m\u001b[0m\u001b[0m\n\u001b[0m",
      "\u001b[1;32mc:\\users\\parsa\\appdata\\local\\programs\\python\\python37-32\\lib\\site-packages\\sklearn\\svm\\base.py\u001b[0m in \u001b[0;36mpredict\u001b[1;34m(self, X)\u001b[0m\n\u001b[0;32m    572\u001b[0m             \u001b[0mClass\u001b[0m \u001b[0mlabels\u001b[0m \u001b[1;32mfor\u001b[0m \u001b[0msamples\u001b[0m \u001b[1;32min\u001b[0m \u001b[0mX\u001b[0m\u001b[1;33m.\u001b[0m\u001b[1;33m\u001b[0m\u001b[1;33m\u001b[0m\u001b[0m\n\u001b[0;32m    573\u001b[0m         \"\"\"\n\u001b[1;32m--> 574\u001b[1;33m         \u001b[0my\u001b[0m \u001b[1;33m=\u001b[0m \u001b[0msuper\u001b[0m\u001b[1;33m(\u001b[0m\u001b[1;33m)\u001b[0m\u001b[1;33m.\u001b[0m\u001b[0mpredict\u001b[0m\u001b[1;33m(\u001b[0m\u001b[0mX\u001b[0m\u001b[1;33m)\u001b[0m\u001b[1;33m\u001b[0m\u001b[1;33m\u001b[0m\u001b[0m\n\u001b[0m\u001b[0;32m    575\u001b[0m         \u001b[1;32mreturn\u001b[0m \u001b[0mself\u001b[0m\u001b[1;33m.\u001b[0m\u001b[0mclasses_\u001b[0m\u001b[1;33m.\u001b[0m\u001b[0mtake\u001b[0m\u001b[1;33m(\u001b[0m\u001b[0mnp\u001b[0m\u001b[1;33m.\u001b[0m\u001b[0masarray\u001b[0m\u001b[1;33m(\u001b[0m\u001b[0my\u001b[0m\u001b[1;33m,\u001b[0m \u001b[0mdtype\u001b[0m\u001b[1;33m=\u001b[0m\u001b[0mnp\u001b[0m\u001b[1;33m.\u001b[0m\u001b[0mintp\u001b[0m\u001b[1;33m)\u001b[0m\u001b[1;33m)\u001b[0m\u001b[1;33m\u001b[0m\u001b[1;33m\u001b[0m\u001b[0m\n\u001b[0;32m    576\u001b[0m \u001b[1;33m\u001b[0m\u001b[0m\n",
      "\u001b[1;32mc:\\users\\parsa\\appdata\\local\\programs\\python\\python37-32\\lib\\site-packages\\sklearn\\svm\\base.py\u001b[0m in \u001b[0;36mpredict\u001b[1;34m(self, X)\u001b[0m\n\u001b[0;32m    320\u001b[0m         \u001b[0my_pred\u001b[0m \u001b[1;33m:\u001b[0m \u001b[0marray\u001b[0m\u001b[1;33m,\u001b[0m \u001b[0mshape\u001b[0m \u001b[1;33m(\u001b[0m\u001b[0mn_samples\u001b[0m\u001b[1;33m,\u001b[0m\u001b[1;33m)\u001b[0m\u001b[1;33m\u001b[0m\u001b[1;33m\u001b[0m\u001b[0m\n\u001b[0;32m    321\u001b[0m         \"\"\"\n\u001b[1;32m--> 322\u001b[1;33m         \u001b[0mX\u001b[0m \u001b[1;33m=\u001b[0m \u001b[0mself\u001b[0m\u001b[1;33m.\u001b[0m\u001b[0m_validate_for_predict\u001b[0m\u001b[1;33m(\u001b[0m\u001b[0mX\u001b[0m\u001b[1;33m)\u001b[0m\u001b[1;33m\u001b[0m\u001b[1;33m\u001b[0m\u001b[0m\n\u001b[0m\u001b[0;32m    323\u001b[0m         \u001b[0mpredict\u001b[0m \u001b[1;33m=\u001b[0m \u001b[0mself\u001b[0m\u001b[1;33m.\u001b[0m\u001b[0m_sparse_predict\u001b[0m \u001b[1;32mif\u001b[0m \u001b[0mself\u001b[0m\u001b[1;33m.\u001b[0m\u001b[0m_sparse\u001b[0m \u001b[1;32melse\u001b[0m \u001b[0mself\u001b[0m\u001b[1;33m.\u001b[0m\u001b[0m_dense_predict\u001b[0m\u001b[1;33m\u001b[0m\u001b[1;33m\u001b[0m\u001b[0m\n\u001b[0;32m    324\u001b[0m         \u001b[1;32mreturn\u001b[0m \u001b[0mpredict\u001b[0m\u001b[1;33m(\u001b[0m\u001b[0mX\u001b[0m\u001b[1;33m)\u001b[0m\u001b[1;33m\u001b[0m\u001b[1;33m\u001b[0m\u001b[0m\n",
      "\u001b[1;32mc:\\users\\parsa\\appdata\\local\\programs\\python\\python37-32\\lib\\site-packages\\sklearn\\svm\\base.py\u001b[0m in \u001b[0;36m_validate_for_predict\u001b[1;34m(self, X)\u001b[0m\n\u001b[0;32m    472\u001b[0m             raise ValueError(\"X.shape[1] = %d should be equal to %d, \"\n\u001b[0;32m    473\u001b[0m                              \u001b[1;34m\"the number of features at training time\"\u001b[0m \u001b[1;33m%\u001b[0m\u001b[1;33m\u001b[0m\u001b[1;33m\u001b[0m\u001b[0m\n\u001b[1;32m--> 474\u001b[1;33m                              (n_features, self.shape_fit_[1]))\n\u001b[0m\u001b[0;32m    475\u001b[0m         \u001b[1;32mreturn\u001b[0m \u001b[0mX\u001b[0m\u001b[1;33m\u001b[0m\u001b[1;33m\u001b[0m\u001b[0m\n\u001b[0;32m    476\u001b[0m \u001b[1;33m\u001b[0m\u001b[0m\n",
      "\u001b[1;31mValueError\u001b[0m: X.shape[1] = 2 should be equal to 30, the number of features at training time"
     ]
    }
   ],
   "source": [
    "svm_clf.predict([[-424355,-13254]])"
   ]
  },
  {
   "cell_type": "code",
   "execution_count": 155,
   "metadata": {},
   "outputs": [
    {
     "name": "stderr",
     "output_type": "stream",
     "text": [
      "c:\\users\\parsa\\appdata\\local\\programs\\python\\python37-32\\lib\\site-packages\\sklearn\\svm\\base.py:193: FutureWarning: The default value of gamma will change from 'auto' to 'scale' in version 0.22 to account better for unscaled features. Set gamma explicitly to 'auto' or 'scale' to avoid this warning.\n",
      "  \"avoid this warning.\", FutureWarning)\n"
     ]
    },
    {
     "data": {
      "text/plain": [
       "SVC(C=1.0, cache_size=200, class_weight=None, coef0=0.0,\n",
       "    decision_function_shape='ovr', degree=3, gamma='auto_deprecated',\n",
       "    kernel='rbf', max_iter=-1, probability=False, random_state=None,\n",
       "    shrinking=True, tol=0.001, verbose=False)"
      ]
     },
     "execution_count": 155,
     "metadata": {},
     "output_type": "execute_result"
    }
   ],
   "source": [
    "svm_clf.fit(X_test , y_test )"
   ]
  },
  {
   "cell_type": "code",
   "execution_count": 141,
   "metadata": {},
   "outputs": [
    {
     "data": {
      "text/plain": [
       "1.0"
      ]
     },
     "execution_count": 141,
     "metadata": {},
     "output_type": "execute_result"
    }
   ],
   "source": [
    "svm_clf.score(X_test , y_test)"
   ]
  },
  {
   "cell_type": "markdown",
   "metadata": {},
   "source": [
    "# Training the data with Champions as the features"
   ]
  },
  {
   "cell_type": "code",
   "execution_count": 142,
   "metadata": {},
   "outputs": [],
   "source": [
    "cham_drop_list = cham_drop_list = ['blueTopChamp','blueMiddleChamp' ,'blueSupportChamp','blueJungleChamp',\n",
    "                                   'redTopChamp','redMiddleChamp','redADCChamp','redJungleChamp','redSupportChamp']\n",
    "new_data = data.drop('Address' , axis = 1)\n",
    "new_data = new_data.drop(cham_drop_list , axis = 1)\n",
    "new_data = pd.get_dummies(new_data)\n"
   ]
  },
  {
   "cell_type": "code",
   "execution_count": 143,
   "metadata": {},
   "outputs": [],
   "source": [
    "drop_list = ['goldTop_diff','goldMiddle_diff', 'goldADC_diff' , 'goldJungle_diff' , 'goldSupport_diff']\n",
    "\n",
    "new_data =  new_data.drop(drop_list , axis = 1 )\n",
    "y = new_data['bResult']\n",
    "X = new_data.drop(['rResult','bResult' ] , axis = 1)"
   ]
  },
  {
   "cell_type": "code",
   "execution_count": 144,
   "metadata": {
    "scrolled": true
   },
   "outputs": [
    {
     "data": {
      "text/html": [
       "<div>\n",
       "<style scoped>\n",
       "    .dataframe tbody tr th:only-of-type {\n",
       "        vertical-align: middle;\n",
       "    }\n",
       "\n",
       "    .dataframe tbody tr th {\n",
       "        vertical-align: top;\n",
       "    }\n",
       "\n",
       "    .dataframe thead th {\n",
       "        text-align: right;\n",
       "    }\n",
       "</style>\n",
       "<table border=\"1\" class=\"dataframe\">\n",
       "  <thead>\n",
       "    <tr style=\"text-align: right;\">\n",
       "      <th></th>\n",
       "      <th>blueADCChamp_Alistar</th>\n",
       "      <th>blueADCChamp_Ashe</th>\n",
       "      <th>blueADCChamp_Blitzcrank</th>\n",
       "      <th>blueADCChamp_Caitlyn</th>\n",
       "      <th>blueADCChamp_Corki</th>\n",
       "      <th>blueADCChamp_Draven</th>\n",
       "      <th>blueADCChamp_Ezreal</th>\n",
       "      <th>blueADCChamp_Graves</th>\n",
       "      <th>blueADCChamp_Heimerdinger</th>\n",
       "      <th>blueADCChamp_Irelia</th>\n",
       "      <th>...</th>\n",
       "      <th>blueADCChamp_Quinn</th>\n",
       "      <th>blueADCChamp_Sivir</th>\n",
       "      <th>blueADCChamp_Tristana</th>\n",
       "      <th>blueADCChamp_Twitch</th>\n",
       "      <th>blueADCChamp_Urgot</th>\n",
       "      <th>blueADCChamp_Varus</th>\n",
       "      <th>blueADCChamp_Vayne</th>\n",
       "      <th>blueADCChamp_Viktor</th>\n",
       "      <th>blueADCChamp_Xayah</th>\n",
       "      <th>blueADCChamp_Ziggs</th>\n",
       "    </tr>\n",
       "  </thead>\n",
       "  <tbody>\n",
       "    <tr>\n",
       "      <th>0</th>\n",
       "      <td>0</td>\n",
       "      <td>0</td>\n",
       "      <td>0</td>\n",
       "      <td>0</td>\n",
       "      <td>0</td>\n",
       "      <td>0</td>\n",
       "      <td>0</td>\n",
       "      <td>0</td>\n",
       "      <td>0</td>\n",
       "      <td>0</td>\n",
       "      <td>...</td>\n",
       "      <td>0</td>\n",
       "      <td>0</td>\n",
       "      <td>0</td>\n",
       "      <td>0</td>\n",
       "      <td>0</td>\n",
       "      <td>0</td>\n",
       "      <td>0</td>\n",
       "      <td>0</td>\n",
       "      <td>0</td>\n",
       "      <td>0</td>\n",
       "    </tr>\n",
       "    <tr>\n",
       "      <th>1</th>\n",
       "      <td>0</td>\n",
       "      <td>0</td>\n",
       "      <td>0</td>\n",
       "      <td>1</td>\n",
       "      <td>0</td>\n",
       "      <td>0</td>\n",
       "      <td>0</td>\n",
       "      <td>0</td>\n",
       "      <td>0</td>\n",
       "      <td>0</td>\n",
       "      <td>...</td>\n",
       "      <td>0</td>\n",
       "      <td>0</td>\n",
       "      <td>0</td>\n",
       "      <td>0</td>\n",
       "      <td>0</td>\n",
       "      <td>0</td>\n",
       "      <td>0</td>\n",
       "      <td>0</td>\n",
       "      <td>0</td>\n",
       "      <td>0</td>\n",
       "    </tr>\n",
       "    <tr>\n",
       "      <th>2</th>\n",
       "      <td>0</td>\n",
       "      <td>0</td>\n",
       "      <td>0</td>\n",
       "      <td>0</td>\n",
       "      <td>0</td>\n",
       "      <td>0</td>\n",
       "      <td>0</td>\n",
       "      <td>0</td>\n",
       "      <td>0</td>\n",
       "      <td>0</td>\n",
       "      <td>...</td>\n",
       "      <td>0</td>\n",
       "      <td>1</td>\n",
       "      <td>0</td>\n",
       "      <td>0</td>\n",
       "      <td>0</td>\n",
       "      <td>0</td>\n",
       "      <td>0</td>\n",
       "      <td>0</td>\n",
       "      <td>0</td>\n",
       "      <td>0</td>\n",
       "    </tr>\n",
       "    <tr>\n",
       "      <th>3</th>\n",
       "      <td>0</td>\n",
       "      <td>0</td>\n",
       "      <td>0</td>\n",
       "      <td>0</td>\n",
       "      <td>0</td>\n",
       "      <td>0</td>\n",
       "      <td>0</td>\n",
       "      <td>0</td>\n",
       "      <td>0</td>\n",
       "      <td>0</td>\n",
       "      <td>...</td>\n",
       "      <td>0</td>\n",
       "      <td>1</td>\n",
       "      <td>0</td>\n",
       "      <td>0</td>\n",
       "      <td>0</td>\n",
       "      <td>0</td>\n",
       "      <td>0</td>\n",
       "      <td>0</td>\n",
       "      <td>0</td>\n",
       "      <td>0</td>\n",
       "    </tr>\n",
       "    <tr>\n",
       "      <th>4</th>\n",
       "      <td>0</td>\n",
       "      <td>0</td>\n",
       "      <td>0</td>\n",
       "      <td>0</td>\n",
       "      <td>0</td>\n",
       "      <td>0</td>\n",
       "      <td>0</td>\n",
       "      <td>0</td>\n",
       "      <td>0</td>\n",
       "      <td>0</td>\n",
       "      <td>...</td>\n",
       "      <td>0</td>\n",
       "      <td>0</td>\n",
       "      <td>1</td>\n",
       "      <td>0</td>\n",
       "      <td>0</td>\n",
       "      <td>0</td>\n",
       "      <td>0</td>\n",
       "      <td>0</td>\n",
       "      <td>0</td>\n",
       "      <td>0</td>\n",
       "    </tr>\n",
       "  </tbody>\n",
       "</table>\n",
       "<p>5 rows × 30 columns</p>\n",
       "</div>"
      ],
      "text/plain": [
       "   blueADCChamp_Alistar  blueADCChamp_Ashe  blueADCChamp_Blitzcrank  \\\n",
       "0                     0                  0                        0   \n",
       "1                     0                  0                        0   \n",
       "2                     0                  0                        0   \n",
       "3                     0                  0                        0   \n",
       "4                     0                  0                        0   \n",
       "\n",
       "   blueADCChamp_Caitlyn  blueADCChamp_Corki  blueADCChamp_Draven  \\\n",
       "0                     0                   0                    0   \n",
       "1                     1                   0                    0   \n",
       "2                     0                   0                    0   \n",
       "3                     0                   0                    0   \n",
       "4                     0                   0                    0   \n",
       "\n",
       "   blueADCChamp_Ezreal  blueADCChamp_Graves  blueADCChamp_Heimerdinger  \\\n",
       "0                    0                    0                          0   \n",
       "1                    0                    0                          0   \n",
       "2                    0                    0                          0   \n",
       "3                    0                    0                          0   \n",
       "4                    0                    0                          0   \n",
       "\n",
       "   blueADCChamp_Irelia  ...  blueADCChamp_Quinn  blueADCChamp_Sivir  \\\n",
       "0                    0  ...                   0                   0   \n",
       "1                    0  ...                   0                   0   \n",
       "2                    0  ...                   0                   1   \n",
       "3                    0  ...                   0                   1   \n",
       "4                    0  ...                   0                   0   \n",
       "\n",
       "   blueADCChamp_Tristana  blueADCChamp_Twitch  blueADCChamp_Urgot  \\\n",
       "0                      0                    0                   0   \n",
       "1                      0                    0                   0   \n",
       "2                      0                    0                   0   \n",
       "3                      0                    0                   0   \n",
       "4                      1                    0                   0   \n",
       "\n",
       "   blueADCChamp_Varus  blueADCChamp_Vayne  blueADCChamp_Viktor  \\\n",
       "0                   0                   0                    0   \n",
       "1                   0                   0                    0   \n",
       "2                   0                   0                    0   \n",
       "3                   0                   0                    0   \n",
       "4                   0                   0                    0   \n",
       "\n",
       "   blueADCChamp_Xayah  blueADCChamp_Ziggs  \n",
       "0                   0                   0  \n",
       "1                   0                   0  \n",
       "2                   0                   0  \n",
       "3                   0                   0  \n",
       "4                   0                   0  \n",
       "\n",
       "[5 rows x 30 columns]"
      ]
     },
     "execution_count": 144,
     "metadata": {},
     "output_type": "execute_result"
    }
   ],
   "source": [
    "X.head()"
   ]
  },
  {
   "cell_type": "code",
   "execution_count": 145,
   "metadata": {},
   "outputs": [],
   "source": [
    "X_train, X_test , y_train, y_test =ttp(X, y, test_size= 0.25) "
   ]
  },
  {
   "cell_type": "code",
   "execution_count": 54,
   "metadata": {},
   "outputs": [
    {
     "data": {
      "text/html": [
       "<div>\n",
       "<style scoped>\n",
       "    .dataframe tbody tr th:only-of-type {\n",
       "        vertical-align: middle;\n",
       "    }\n",
       "\n",
       "    .dataframe tbody tr th {\n",
       "        vertical-align: top;\n",
       "    }\n",
       "\n",
       "    .dataframe thead th {\n",
       "        text-align: right;\n",
       "    }\n",
       "</style>\n",
       "<table border=\"1\" class=\"dataframe\">\n",
       "  <thead>\n",
       "    <tr style=\"text-align: right;\">\n",
       "      <th></th>\n",
       "      <th>blueADCChamp_Alistar</th>\n",
       "      <th>blueADCChamp_Ashe</th>\n",
       "      <th>blueADCChamp_Blitzcrank</th>\n",
       "      <th>blueADCChamp_Caitlyn</th>\n",
       "      <th>blueADCChamp_Corki</th>\n",
       "      <th>blueADCChamp_Draven</th>\n",
       "      <th>blueADCChamp_Ezreal</th>\n",
       "      <th>blueADCChamp_Graves</th>\n",
       "      <th>blueADCChamp_Heimerdinger</th>\n",
       "      <th>blueADCChamp_Irelia</th>\n",
       "      <th>...</th>\n",
       "      <th>blueADCChamp_Quinn</th>\n",
       "      <th>blueADCChamp_Sivir</th>\n",
       "      <th>blueADCChamp_Tristana</th>\n",
       "      <th>blueADCChamp_Twitch</th>\n",
       "      <th>blueADCChamp_Urgot</th>\n",
       "      <th>blueADCChamp_Varus</th>\n",
       "      <th>blueADCChamp_Vayne</th>\n",
       "      <th>blueADCChamp_Viktor</th>\n",
       "      <th>blueADCChamp_Xayah</th>\n",
       "      <th>blueADCChamp_Ziggs</th>\n",
       "    </tr>\n",
       "  </thead>\n",
       "  <tbody>\n",
       "    <tr>\n",
       "      <th>3566</th>\n",
       "      <td>0</td>\n",
       "      <td>0</td>\n",
       "      <td>0</td>\n",
       "      <td>0</td>\n",
       "      <td>0</td>\n",
       "      <td>0</td>\n",
       "      <td>0</td>\n",
       "      <td>0</td>\n",
       "      <td>0</td>\n",
       "      <td>0</td>\n",
       "      <td>...</td>\n",
       "      <td>0</td>\n",
       "      <td>0</td>\n",
       "      <td>0</td>\n",
       "      <td>0</td>\n",
       "      <td>0</td>\n",
       "      <td>1</td>\n",
       "      <td>0</td>\n",
       "      <td>0</td>\n",
       "      <td>0</td>\n",
       "      <td>0</td>\n",
       "    </tr>\n",
       "    <tr>\n",
       "      <th>79</th>\n",
       "      <td>0</td>\n",
       "      <td>0</td>\n",
       "      <td>0</td>\n",
       "      <td>0</td>\n",
       "      <td>0</td>\n",
       "      <td>0</td>\n",
       "      <td>0</td>\n",
       "      <td>0</td>\n",
       "      <td>0</td>\n",
       "      <td>0</td>\n",
       "      <td>...</td>\n",
       "      <td>0</td>\n",
       "      <td>0</td>\n",
       "      <td>0</td>\n",
       "      <td>0</td>\n",
       "      <td>0</td>\n",
       "      <td>0</td>\n",
       "      <td>0</td>\n",
       "      <td>0</td>\n",
       "      <td>0</td>\n",
       "      <td>0</td>\n",
       "    </tr>\n",
       "    <tr>\n",
       "      <th>1226</th>\n",
       "      <td>0</td>\n",
       "      <td>0</td>\n",
       "      <td>0</td>\n",
       "      <td>0</td>\n",
       "      <td>0</td>\n",
       "      <td>0</td>\n",
       "      <td>0</td>\n",
       "      <td>0</td>\n",
       "      <td>0</td>\n",
       "      <td>0</td>\n",
       "      <td>...</td>\n",
       "      <td>0</td>\n",
       "      <td>0</td>\n",
       "      <td>0</td>\n",
       "      <td>0</td>\n",
       "      <td>0</td>\n",
       "      <td>0</td>\n",
       "      <td>0</td>\n",
       "      <td>0</td>\n",
       "      <td>0</td>\n",
       "      <td>0</td>\n",
       "    </tr>\n",
       "    <tr>\n",
       "      <th>4746</th>\n",
       "      <td>0</td>\n",
       "      <td>0</td>\n",
       "      <td>0</td>\n",
       "      <td>1</td>\n",
       "      <td>0</td>\n",
       "      <td>0</td>\n",
       "      <td>0</td>\n",
       "      <td>0</td>\n",
       "      <td>0</td>\n",
       "      <td>0</td>\n",
       "      <td>...</td>\n",
       "      <td>0</td>\n",
       "      <td>0</td>\n",
       "      <td>0</td>\n",
       "      <td>0</td>\n",
       "      <td>0</td>\n",
       "      <td>0</td>\n",
       "      <td>0</td>\n",
       "      <td>0</td>\n",
       "      <td>0</td>\n",
       "      <td>0</td>\n",
       "    </tr>\n",
       "    <tr>\n",
       "      <th>3676</th>\n",
       "      <td>0</td>\n",
       "      <td>0</td>\n",
       "      <td>0</td>\n",
       "      <td>0</td>\n",
       "      <td>0</td>\n",
       "      <td>0</td>\n",
       "      <td>0</td>\n",
       "      <td>0</td>\n",
       "      <td>0</td>\n",
       "      <td>0</td>\n",
       "      <td>...</td>\n",
       "      <td>0</td>\n",
       "      <td>0</td>\n",
       "      <td>0</td>\n",
       "      <td>0</td>\n",
       "      <td>0</td>\n",
       "      <td>0</td>\n",
       "      <td>0</td>\n",
       "      <td>0</td>\n",
       "      <td>0</td>\n",
       "      <td>0</td>\n",
       "    </tr>\n",
       "  </tbody>\n",
       "</table>\n",
       "<p>5 rows × 30 columns</p>\n",
       "</div>"
      ],
      "text/plain": [
       "      blueADCChamp_Alistar  blueADCChamp_Ashe  blueADCChamp_Blitzcrank  \\\n",
       "3566                     0                  0                        0   \n",
       "79                       0                  0                        0   \n",
       "1226                     0                  0                        0   \n",
       "4746                     0                  0                        0   \n",
       "3676                     0                  0                        0   \n",
       "\n",
       "      blueADCChamp_Caitlyn  blueADCChamp_Corki  blueADCChamp_Draven  \\\n",
       "3566                     0                   0                    0   \n",
       "79                       0                   0                    0   \n",
       "1226                     0                   0                    0   \n",
       "4746                     1                   0                    0   \n",
       "3676                     0                   0                    0   \n",
       "\n",
       "      blueADCChamp_Ezreal  blueADCChamp_Graves  blueADCChamp_Heimerdinger  \\\n",
       "3566                    0                    0                          0   \n",
       "79                      0                    0                          0   \n",
       "1226                    0                    0                          0   \n",
       "4746                    0                    0                          0   \n",
       "3676                    0                    0                          0   \n",
       "\n",
       "      blueADCChamp_Irelia  ...  blueADCChamp_Quinn  blueADCChamp_Sivir  \\\n",
       "3566                    0  ...                   0                   0   \n",
       "79                      0  ...                   0                   0   \n",
       "1226                    0  ...                   0                   0   \n",
       "4746                    0  ...                   0                   0   \n",
       "3676                    0  ...                   0                   0   \n",
       "\n",
       "      blueADCChamp_Tristana  blueADCChamp_Twitch  blueADCChamp_Urgot  \\\n",
       "3566                      0                    0                   0   \n",
       "79                        0                    0                   0   \n",
       "1226                      0                    0                   0   \n",
       "4746                      0                    0                   0   \n",
       "3676                      0                    0                   0   \n",
       "\n",
       "      blueADCChamp_Varus  blueADCChamp_Vayne  blueADCChamp_Viktor  \\\n",
       "3566                   1                   0                    0   \n",
       "79                     0                   0                    0   \n",
       "1226                   0                   0                    0   \n",
       "4746                   0                   0                    0   \n",
       "3676                   0                   0                    0   \n",
       "\n",
       "      blueADCChamp_Xayah  blueADCChamp_Ziggs  \n",
       "3566                   0                   0  \n",
       "79                     0                   0  \n",
       "1226                   0                   0  \n",
       "4746                   0                   0  \n",
       "3676                   0                   0  \n",
       "\n",
       "[5 rows x 30 columns]"
      ]
     },
     "execution_count": 54,
     "metadata": {},
     "output_type": "execute_result"
    }
   ],
   "source": [
    "X_train.head()"
   ]
  },
  {
   "cell_type": "markdown",
   "metadata": {},
   "source": [
    "# Logical regression."
   ]
  },
  {
   "cell_type": "code",
   "execution_count": 55,
   "metadata": {},
   "outputs": [],
   "source": [
    "lr_clf = LR()"
   ]
  },
  {
   "cell_type": "code",
   "execution_count": 56,
   "metadata": {},
   "outputs": [
    {
     "name": "stderr",
     "output_type": "stream",
     "text": [
      "c:\\users\\parsa\\appdata\\local\\programs\\python\\python37-32\\lib\\site-packages\\sklearn\\linear_model\\logistic.py:432: FutureWarning: Default solver will be changed to 'lbfgs' in 0.22. Specify a solver to silence this warning.\n",
      "  FutureWarning)\n"
     ]
    },
    {
     "data": {
      "text/plain": [
       "LogisticRegression(C=1.0, class_weight=None, dual=False, fit_intercept=True,\n",
       "                   intercept_scaling=1, l1_ratio=None, max_iter=100,\n",
       "                   multi_class='warn', n_jobs=None, penalty='l2',\n",
       "                   random_state=None, solver='warn', tol=0.0001, verbose=0,\n",
       "                   warm_start=False)"
      ]
     },
     "execution_count": 56,
     "metadata": {},
     "output_type": "execute_result"
    }
   ],
   "source": [
    "lr_clf.fit(X_train, y_train)"
   ]
  },
  {
   "cell_type": "code",
   "execution_count": 57,
   "metadata": {},
   "outputs": [
    {
     "data": {
      "text/plain": [
       "0.5454068241469816"
      ]
     },
     "execution_count": 57,
     "metadata": {},
     "output_type": "execute_result"
    }
   ],
   "source": [
    "lr_clf.score(X_train, y_train)"
   ]
  },
  {
   "cell_type": "code",
   "execution_count": 58,
   "metadata": {},
   "outputs": [
    {
     "name": "stderr",
     "output_type": "stream",
     "text": [
      "c:\\users\\parsa\\appdata\\local\\programs\\python\\python37-32\\lib\\site-packages\\sklearn\\linear_model\\logistic.py:432: FutureWarning: Default solver will be changed to 'lbfgs' in 0.22. Specify a solver to silence this warning.\n",
      "  FutureWarning)\n"
     ]
    },
    {
     "data": {
      "text/plain": [
       "LogisticRegression(C=1.0, class_weight=None, dual=False, fit_intercept=True,\n",
       "                   intercept_scaling=1, l1_ratio=None, max_iter=100,\n",
       "                   multi_class='warn', n_jobs=None, penalty='l2',\n",
       "                   random_state=None, solver='warn', tol=0.0001, verbose=0,\n",
       "                   warm_start=False)"
      ]
     },
     "execution_count": 58,
     "metadata": {},
     "output_type": "execute_result"
    }
   ],
   "source": [
    "lr_clf.fit(X_test,y_test)"
   ]
  },
  {
   "cell_type": "code",
   "execution_count": 59,
   "metadata": {},
   "outputs": [
    {
     "data": {
      "text/plain": [
       "0.5559055118110237"
      ]
     },
     "execution_count": 59,
     "metadata": {},
     "output_type": "execute_result"
    }
   ],
   "source": [
    "lr_clf.score(X_test,y_test)"
   ]
  },
  {
   "cell_type": "code",
   "execution_count": 60,
   "metadata": {},
   "outputs": [
    {
     "data": {
      "text/plain": [
       "0.5396325459317586"
      ]
     },
     "execution_count": 60,
     "metadata": {},
     "output_type": "execute_result"
    }
   ],
   "source": [
    "kn_c = KN(n_neighbors=5)\n",
    "kn_c.fit(X_train , y_train)\n",
    "kn_c.score(X_train , y_train)"
   ]
  },
  {
   "cell_type": "code",
   "execution_count": 61,
   "metadata": {},
   "outputs": [
    {
     "data": {
      "text/plain": [
       "0.5091863517060368"
      ]
     },
     "execution_count": 61,
     "metadata": {},
     "output_type": "execute_result"
    }
   ],
   "source": [
    "kn_c = KN(n_neighbors=5)\n",
    "kn_c.fit(X_test , y_test)\n",
    "kn_c.score(X_test , y_test)"
   ]
  },
  {
   "cell_type": "code",
   "execution_count": 62,
   "metadata": {},
   "outputs": [],
   "source": [
    "svm_clf = SVC()"
   ]
  },
  {
   "cell_type": "code",
   "execution_count": 63,
   "metadata": {},
   "outputs": [
    {
     "name": "stderr",
     "output_type": "stream",
     "text": [
      "c:\\users\\parsa\\appdata\\local\\programs\\python\\python37-32\\lib\\site-packages\\sklearn\\svm\\base.py:193: FutureWarning: The default value of gamma will change from 'auto' to 'scale' in version 0.22 to account better for unscaled features. Set gamma explicitly to 'auto' or 'scale' to avoid this warning.\n",
      "  \"avoid this warning.\", FutureWarning)\n"
     ]
    },
    {
     "data": {
      "text/plain": [
       "SVC(C=1.0, cache_size=200, class_weight=None, coef0=0.0,\n",
       "    decision_function_shape='ovr', degree=3, gamma='auto_deprecated',\n",
       "    kernel='rbf', max_iter=-1, probability=False, random_state=None,\n",
       "    shrinking=True, tol=0.001, verbose=False)"
      ]
     },
     "execution_count": 63,
     "metadata": {},
     "output_type": "execute_result"
    }
   ],
   "source": [
    "svm_clf.fit(X_train,y_train)"
   ]
  },
  {
   "cell_type": "code",
   "execution_count": 64,
   "metadata": {},
   "outputs": [
    {
     "data": {
      "text/plain": [
       "0.5426071741032371"
      ]
     },
     "execution_count": 64,
     "metadata": {},
     "output_type": "execute_result"
    }
   ],
   "source": [
    "svm_clf.score(X_train, y_train)"
   ]
  },
  {
   "cell_type": "code",
   "execution_count": 65,
   "metadata": {},
   "outputs": [
    {
     "name": "stderr",
     "output_type": "stream",
     "text": [
      "c:\\users\\parsa\\appdata\\local\\programs\\python\\python37-32\\lib\\site-packages\\sklearn\\svm\\base.py:193: FutureWarning: The default value of gamma will change from 'auto' to 'scale' in version 0.22 to account better for unscaled features. Set gamma explicitly to 'auto' or 'scale' to avoid this warning.\n",
      "  \"avoid this warning.\", FutureWarning)\n"
     ]
    },
    {
     "data": {
      "text/plain": [
       "SVC(C=1.0, cache_size=200, class_weight=None, coef0=0.0,\n",
       "    decision_function_shape='ovr', degree=3, gamma='auto_deprecated',\n",
       "    kernel='rbf', max_iter=-1, probability=False, random_state=None,\n",
       "    shrinking=True, tol=0.001, verbose=False)"
      ]
     },
     "execution_count": 65,
     "metadata": {},
     "output_type": "execute_result"
    }
   ],
   "source": [
    "svm_clf.fit(X_test , y_test)"
   ]
  },
  {
   "cell_type": "code",
   "execution_count": 66,
   "metadata": {},
   "outputs": [
    {
     "data": {
      "text/plain": [
       "0.5485564304461942"
      ]
     },
     "execution_count": 66,
     "metadata": {},
     "output_type": "execute_result"
    }
   ],
   "source": [
    "svm_clf.score(X_test , y_test)"
   ]
  },
  {
   "cell_type": "code",
   "execution_count": null,
   "metadata": {},
   "outputs": [],
   "source": []
  }
 ],
 "metadata": {
  "kernelspec": {
   "display_name": "Python 2",
   "language": "python",
   "name": "python2"
  },
  "language_info": {
   "codemirror_mode": {
    "name": "ipython",
    "version": 2
   },
   "file_extension": ".py",
   "mimetype": "text/x-python",
   "name": "python",
   "nbconvert_exporter": "python",
   "pygments_lexer": "ipython2",
   "version": "2.7.16"
  }
 },
 "nbformat": 4,
 "nbformat_minor": 2
}
