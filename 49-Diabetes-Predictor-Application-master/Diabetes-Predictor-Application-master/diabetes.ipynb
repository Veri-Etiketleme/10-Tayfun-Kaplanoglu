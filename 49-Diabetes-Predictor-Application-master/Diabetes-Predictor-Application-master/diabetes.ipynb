{
  "nbformat": 4,
  "nbformat_minor": 0,
  "metadata": {
    "colab": {
      "name": "diabetes.ipynb",
      "provenance": [],
      "collapsed_sections": [],
      "mount_file_id": "1kSjf784iIrKpetUU6_ieh-IHS9FjlSRC",
      "authorship_tag": "ABX9TyP3+X+RqFbqA1MPi8QawW5d",
      "include_colab_link": true
    },
    "kernelspec": {
      "name": "python3",
      "display_name": "Python 3"
    }
  },
  "cells": [
    {
      "cell_type": "markdown",
      "metadata": {
        "id": "view-in-github",
        "colab_type": "text"
      },
      "source": [
        "<a href=\"https://colab.research.google.com/github/RiturajSaha/Diabetes-Prediction/blob/master/diabetes.ipynb\" target=\"_parent\"><img src=\"https://colab.research.google.com/assets/colab-badge.svg\" alt=\"Open In Colab\"/></a>"
      ]
    },
    {
      "cell_type": "code",
      "metadata": {
        "id": "7QxHGQuGz1Y5",
        "colab_type": "code",
        "outputId": "bee0b763-4329-458d-c9e4-30dcd2f675cf",
        "colab": {
          "base_uri": "https://localhost:8080/",
          "height": 35
        }
      },
      "source": [
        "cd \"/content/drive/My Drive/Colab Notebooks/Diabetes Prediction\""
      ],
      "execution_count": 1,
      "outputs": [
        {
          "output_type": "stream",
          "text": [
            "/content/drive/My Drive/Colab Notebooks/Diabetes Prediction\n"
          ],
          "name": "stdout"
        }
      ]
    },
    {
      "cell_type": "markdown",
      "metadata": {
        "id": "I99-boXbwWES",
        "colab_type": "text"
      },
      "source": [
        "Importing the Libraries"
      ]
    },
    {
      "cell_type": "code",
      "metadata": {
        "id": "EOrpv0gKstnf",
        "colab_type": "code",
        "colab": {}
      },
      "source": [
        "import numpy as np\n",
        "import matplotlib.pyplot as plt\n",
        "import pandas as pd"
      ],
      "execution_count": 0,
      "outputs": []
    },
    {
      "cell_type": "markdown",
      "metadata": {
        "id": "CwKvPUY9wcZR",
        "colab_type": "text"
      },
      "source": [
        "Importing the Dataset"
      ]
    },
    {
      "cell_type": "code",
      "metadata": {
        "id": "RcG1SDzTwfE5",
        "colab_type": "code",
        "colab": {}
      },
      "source": [
        "dataset=pd.read_csv(\"diabetes.csv\")\n",
        "newdataset=dataset\n",
        "x=newdataset.iloc[:,0:8]\n",
        "y=newdataset.iloc[:,-1]"
      ],
      "execution_count": 0,
      "outputs": []
    },
    {
      "cell_type": "markdown",
      "metadata": {
        "id": "NTDVIGwzwipR",
        "colab_type": "text"
      },
      "source": [
        "Splitting the dataset into the Training set and Test set"
      ]
    },
    {
      "cell_type": "code",
      "metadata": {
        "id": "ToVFRyZywp8E",
        "colab_type": "code",
        "outputId": "75bbc04a-6c7c-473d-c66c-dcf0af2eadb0",
        "colab": {
          "base_uri": "https://localhost:8080/",
          "height": 87
        }
      },
      "source": [
        "from sklearn.model_selection import train_test_split\n",
        "X_train, X_test, y_train, y_test = train_test_split(x, y, test_size = 0.2,random_state = 0)\n",
        "print(\"X_train:\",len(X_train))\n",
        "print(\"X_test:\",len(X_test))\n",
        "print(\"y_train:\",len(y_train))\n",
        "print(\"y_test:\",len(y_test))"
      ],
      "execution_count": 4,
      "outputs": [
        {
          "output_type": "stream",
          "text": [
            "X_train: 614\n",
            "X_test: 154\n",
            "y_train: 614\n",
            "y_test: 154\n"
          ],
          "name": "stdout"
        }
      ]
    },
    {
      "cell_type": "markdown",
      "metadata": {
        "id": "GdXst_oawuRt",
        "colab_type": "text"
      },
      "source": [
        "Classification Models"
      ]
    },
    {
      "cell_type": "markdown",
      "metadata": {
        "id": "4yIAMlgwyjf9",
        "colab_type": "text"
      },
      "source": [
        "K Nearest Neighbor"
      ]
    },
    {
      "cell_type": "code",
      "metadata": {
        "id": "gns8OYtkw2Qj",
        "colab_type": "code",
        "outputId": "abcc9461-115d-4b78-8531-e4a1eff7bbb2",
        "colab": {
          "base_uri": "https://localhost:8080/",
          "height": 312
        }
      },
      "source": [
        "# Fitting K-NN to the Training set\n",
        "from sklearn.neighbors import KNeighborsClassifier\n",
        "KNN_model = KNeighborsClassifier(n_neighbors = 5, metric = 'minkowski', p = 2)\n",
        "KNN_model.fit(X_train, y_train)\n",
        "\n",
        "# Predicting the Test set results\n",
        "y_pred = KNN_model.predict(X_test)\n",
        "\n",
        "\n",
        "# Analyzing the output\n",
        "from sklearn.metrics import r2_score,mean_squared_error,mean_absolute_error,accuracy_score,confusion_matrix,classification_report \n",
        "print(\"R2 Score:\",r2_score(y_test, y_pred)) \n",
        "print(\"Mean Squared Error:\",mean_squared_error(y_test, y_pred))\n",
        "print(\"Mean Absolute Error:\",mean_absolute_error(y_test, y_pred))\n",
        "print(\"Accuracy:\",accuracy_score(y_test, y_pred)*100) \n",
        "print(\"Confusion Matrix:\\n\",confusion_matrix(y_test, y_pred))\n",
        "print(\"Classification Report:\\n\",classification_report(y_test, y_pred)) "
      ],
      "execution_count": 5,
      "outputs": [
        {
          "output_type": "stream",
          "text": [
            "R2 Score: -0.16365082521376006\n",
            "Mean Squared Error: 0.24675324675324675\n",
            "Mean Absolute Error: 0.24675324675324675\n",
            "Accuracy: 75.32467532467533\n",
            "Confusion Matrix:\n",
            " [[87 20]\n",
            " [18 29]]\n",
            "Classification Report:\n",
            "               precision    recall  f1-score   support\n",
            "\n",
            "           0       0.83      0.81      0.82       107\n",
            "           1       0.59      0.62      0.60        47\n",
            "\n",
            "    accuracy                           0.75       154\n",
            "   macro avg       0.71      0.72      0.71       154\n",
            "weighted avg       0.76      0.75      0.75       154\n",
            "\n"
          ],
          "name": "stdout"
        }
      ]
    },
    {
      "cell_type": "markdown",
      "metadata": {
        "id": "ssNDTCN5ysJs",
        "colab_type": "text"
      },
      "source": [
        "Naive Bayes"
      ]
    },
    {
      "cell_type": "code",
      "metadata": {
        "id": "mqSqMt00xMTl",
        "colab_type": "code",
        "outputId": "9a5bb98d-d98a-49c4-b8f8-ca1322be903c",
        "colab": {
          "base_uri": "https://localhost:8080/",
          "height": 312
        }
      },
      "source": [
        "# Fitting Naive Bayes to the Training set\n",
        "from sklearn.naive_bayes import GaussianNB\n",
        "NB_model = GaussianNB()\n",
        "NB_model.fit(X_train, y_train)\n",
        "\n",
        "\n",
        "# Predicting the Test set results\n",
        "y_pred = NB_model.predict(X_test)\n",
        "\n",
        "\n",
        "# Analyzing the output\n",
        "from sklearn.metrics import r2_score,mean_squared_error,mean_absolute_error,accuracy_score,confusion_matrix,classification_report \n",
        "print(\"R2 Score:\",r2_score(y_test, y_pred)) \n",
        "print(\"Mean Squared Error:\",mean_squared_error(y_test, y_pred))\n",
        "print(\"Mean Absolute Error:\",mean_absolute_error(y_test, y_pred))\n",
        "print(\"Accuracy:\",accuracy_score(y_test, y_pred)*100) \n",
        "print(\"Confusion Matrix:\\n\",confusion_matrix(y_test, y_pred))\n",
        "print(\"Classification Report:\\n\",classification_report(y_test, y_pred)) "
      ],
      "execution_count": 6,
      "outputs": [
        {
          "output_type": "stream",
          "text": [
            "R2 Score: 0.020083515609465197\n",
            "Mean Squared Error: 0.2077922077922078\n",
            "Mean Absolute Error: 0.2077922077922078\n",
            "Accuracy: 79.22077922077922\n",
            "Confusion Matrix:\n",
            " [[93 14]\n",
            " [18 29]]\n",
            "Classification Report:\n",
            "               precision    recall  f1-score   support\n",
            "\n",
            "           0       0.84      0.87      0.85       107\n",
            "           1       0.67      0.62      0.64        47\n",
            "\n",
            "    accuracy                           0.79       154\n",
            "   macro avg       0.76      0.74      0.75       154\n",
            "weighted avg       0.79      0.79      0.79       154\n",
            "\n"
          ],
          "name": "stdout"
        }
      ]
    },
    {
      "cell_type": "markdown",
      "metadata": {
        "id": "aBfWKzm0ywBJ",
        "colab_type": "text"
      },
      "source": [
        "Random Forest Classification"
      ]
    },
    {
      "cell_type": "code",
      "metadata": {
        "id": "CF-MqwjrxNNO",
        "colab_type": "code",
        "outputId": "03839519-74a5-454f-9e51-9f50415eb1b2",
        "colab": {
          "base_uri": "https://localhost:8080/",
          "height": 312
        }
      },
      "source": [
        "# Fitting Random Forest Classification to the Training set\n",
        "from sklearn.ensemble import RandomForestClassifier\n",
        "RFC_model = RandomForestClassifier(n_estimators = 1000, criterion = 'entropy')\n",
        "RFC_model.fit(X_train, y_train)\n",
        "\n",
        "\n",
        "# Predicting the Test set results\n",
        "y_pred = KNN_model.predict(X_test)\n",
        "\n",
        "\n",
        "# Analyzing the output\n",
        "from sklearn.metrics import r2_score,mean_squared_error,mean_absolute_error,accuracy_score,confusion_matrix,classification_report \n",
        "print(\"R2 Score:\",r2_score(y_test, y_pred)) \n",
        "print(\"Mean Squared Error:\",mean_squared_error(y_test, y_pred))\n",
        "print(\"Mean Absolute Error:\",mean_absolute_error(y_test, y_pred))\n",
        "print(\"Accuracy:\",accuracy_score(y_test, y_pred)*100) \n",
        "print(\"Confusion Matrix:\\n\",confusion_matrix(y_test, y_pred))\n",
        "print(\"Classification Report:\\n\",classification_report(y_test, y_pred)) "
      ],
      "execution_count": 7,
      "outputs": [
        {
          "output_type": "stream",
          "text": [
            "R2 Score: -0.16365082521376006\n",
            "Mean Squared Error: 0.24675324675324675\n",
            "Mean Absolute Error: 0.24675324675324675\n",
            "Accuracy: 75.32467532467533\n",
            "Confusion Matrix:\n",
            " [[87 20]\n",
            " [18 29]]\n",
            "Classification Report:\n",
            "               precision    recall  f1-score   support\n",
            "\n",
            "           0       0.83      0.81      0.82       107\n",
            "           1       0.59      0.62      0.60        47\n",
            "\n",
            "    accuracy                           0.75       154\n",
            "   macro avg       0.71      0.72      0.71       154\n",
            "weighted avg       0.76      0.75      0.75       154\n",
            "\n"
          ],
          "name": "stdout"
        }
      ]
    },
    {
      "cell_type": "markdown",
      "metadata": {
        "id": "bLXHuECcyyq2",
        "colab_type": "text"
      },
      "source": [
        "Linear Support Vector Classification"
      ]
    },
    {
      "cell_type": "code",
      "metadata": {
        "id": "yTAnDC2uxN1c",
        "colab_type": "code",
        "outputId": "4f0592a7-f5fb-4689-e48e-5158a977a010",
        "colab": {
          "base_uri": "https://localhost:8080/",
          "height": 347
        }
      },
      "source": [
        "# Fitting LinearSVC to the Training set\n",
        "from sklearn.svm import LinearSVC\n",
        "LSVC_model = LinearSVC()\n",
        "LSVC_model.fit(X_train, y_train)\n",
        "\n",
        "\n",
        "# Predicting the Test set results\n",
        "y_pred = LSVC_model.predict(X_test)\n",
        "\n",
        "\n",
        "# Analyzing the output\n",
        "from sklearn.metrics import r2_score,mean_squared_error,mean_absolute_error,accuracy_score,confusion_matrix,classification_report \n",
        "print(\"R2 Score:\",r2_score(y_test, y_pred)) \n",
        "print(\"Mean Squared Error:\",mean_squared_error(y_test, y_pred))\n",
        "print(\"Mean Absolute Error:\",mean_absolute_error(y_test, y_pred))\n",
        "print(\"Accuracy:\",accuracy_score(y_test, y_pred)*100) \n",
        "print(\"Confusion Matrix:\\n\",confusion_matrix(y_test, y_pred))\n",
        "print(\"Classification Report:\\n\",classification_report(y_test, y_pred)) "
      ],
      "execution_count": 8,
      "outputs": [
        {
          "output_type": "stream",
          "text": [
            "R2 Score: -0.4086299463113938\n",
            "Mean Squared Error: 0.2987012987012987\n",
            "Mean Absolute Error: 0.2987012987012987\n",
            "Accuracy: 70.12987012987013\n",
            "Confusion Matrix:\n",
            " [[86 21]\n",
            " [25 22]]\n",
            "Classification Report:\n",
            "               precision    recall  f1-score   support\n",
            "\n",
            "           0       0.77      0.80      0.79       107\n",
            "           1       0.51      0.47      0.49        47\n",
            "\n",
            "    accuracy                           0.70       154\n",
            "   macro avg       0.64      0.64      0.64       154\n",
            "weighted avg       0.69      0.70      0.70       154\n",
            "\n"
          ],
          "name": "stdout"
        },
        {
          "output_type": "stream",
          "text": [
            "/usr/local/lib/python3.6/dist-packages/sklearn/svm/_base.py:947: ConvergenceWarning: Liblinear failed to converge, increase the number of iterations.\n",
            "  \"the number of iterations.\", ConvergenceWarning)\n"
          ],
          "name": "stderr"
        }
      ]
    },
    {
      "cell_type": "markdown",
      "metadata": {
        "id": "PoFA7u9yy17w",
        "colab_type": "text"
      },
      "source": [
        "Support Vector Classification"
      ]
    },
    {
      "cell_type": "code",
      "metadata": {
        "id": "th7-Z62Qxj-Q",
        "colab_type": "code",
        "outputId": "7bd969e4-195b-4232-e5cb-3d85032a08d3",
        "colab": {
          "base_uri": "https://localhost:8080/",
          "height": 312
        }
      },
      "source": [
        "# Fitting SVC to the Training set\n",
        "from sklearn.svm import SVC\n",
        "SVC_model = SVC(kernel = 'linear')\n",
        "SVC_model.fit(X_train, y_train)\n",
        "\n",
        "\n",
        "# Predicting the Test set results\n",
        "y_pred = SVC_model.predict(X_test)\n",
        "\n",
        "\n",
        "# Analyzing the output\n",
        "from sklearn.metrics import r2_score,mean_squared_error,mean_absolute_error,accuracy_score,confusion_matrix,classification_report \n",
        "print(\"R2 Score:\",r2_score(y_test, y_pred)) \n",
        "print(\"Mean Squared Error:\",mean_squared_error(y_test, y_pred))\n",
        "print(\"Mean Absolute Error:\",mean_absolute_error(y_test, y_pred))\n",
        "print(\"Accuracy:\",accuracy_score(y_test, y_pred)*100) \n",
        "print(\"Confusion Matrix:\\n\",confusion_matrix(y_test, y_pred))\n",
        "print(\"Classification Report:\\n\",classification_report(y_test, y_pred)) "
      ],
      "execution_count": 9,
      "outputs": [
        {
          "output_type": "stream",
          "text": [
            "R2 Score: 0.14257307615828196\n",
            "Mean Squared Error: 0.18181818181818182\n",
            "Mean Absolute Error: 0.18181818181818182\n",
            "Accuracy: 81.81818181818183\n",
            "Confusion Matrix:\n",
            " [[97 10]\n",
            " [18 29]]\n",
            "Classification Report:\n",
            "               precision    recall  f1-score   support\n",
            "\n",
            "           0       0.84      0.91      0.87       107\n",
            "           1       0.74      0.62      0.67        47\n",
            "\n",
            "    accuracy                           0.82       154\n",
            "   macro avg       0.79      0.76      0.77       154\n",
            "weighted avg       0.81      0.82      0.81       154\n",
            "\n"
          ],
          "name": "stdout"
        }
      ]
    },
    {
      "cell_type": "markdown",
      "metadata": {
        "id": "SwgqOND50aOF",
        "colab_type": "text"
      },
      "source": [
        "Saving the model having highest Accuracy"
      ]
    },
    {
      "cell_type": "code",
      "metadata": {
        "id": "WHNaPR_W0YHY",
        "colab_type": "code",
        "colab": {}
      },
      "source": [
        "import pickle\n",
        "pickle.dump(SVC_model, open('SVC_model.pkl','wb')) "
      ],
      "execution_count": 0,
      "outputs": []
    },
    {
      "cell_type": "markdown",
      "metadata": {
        "id": "xpzhIIFq1PxM",
        "colab_type": "text"
      },
      "source": [
        "Sample Test"
      ]
    },
    {
      "cell_type": "code",
      "metadata": {
        "id": "SlAw1uIC1RVt",
        "colab_type": "code",
        "outputId": "607412a0-60b0-4370-bfae-9ed924d5ece9",
        "colab": {
          "base_uri": "https://localhost:8080/",
          "height": 35
        }
      },
      "source": [
        "model = pickle.load(open('SVC_model.pkl','rb'))\n",
        "print(\"Diabetic\" if model.predict([[6,148,72,35,0,33.6,0.627,50]])[0]==1 else \"Normal\")"
      ],
      "execution_count": 11,
      "outputs": [
        {
          "output_type": "stream",
          "text": [
            "Diabetic\n"
          ],
          "name": "stdout"
        }
      ]
    }
  ]
}
