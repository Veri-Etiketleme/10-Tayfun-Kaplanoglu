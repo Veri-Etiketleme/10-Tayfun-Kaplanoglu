{
 "cells": [
  {
   "cell_type": "markdown",
   "metadata": {
    "colab_type": "text",
    "id": "K3Zguu2HrRuL"
   },
   "source": [
    "### Stock Market Prediction And Forecasting Using Stacked LSTM"
   ]
  },
  {
   "cell_type": "code",
   "execution_count": null,
   "metadata": {
    "colab": {},
    "colab_type": "code",
    "id": "zUlXk82ErRuM"
   },
   "outputs": [],
   "source": [
    "### Keras and Tensorflow >2.0"
   ]
  },
  {
   "cell_type": "code",
   "execution_count": null,
   "metadata": {
    "colab": {},
    "colab_type": "code",
    "id": "vFiyorX1rRuP"
   },
   "outputs": [],
   "source": [
    "### Data Collection\n",
    "import pandas_datareader as pdr\n",
    "key=\"\""
   ]
  },
  {
   "cell_type": "code",
   "execution_count": null,
   "metadata": {
    "colab": {},
    "colab_type": "code",
    "id": "DOck9BwerRuS"
   },
   "outputs": [],
   "source": []
  },
  {
   "cell_type": "code",
   "execution_count": null,
   "metadata": {
    "colab": {},
    "colab_type": "code",
    "id": "p6OYpHOhrRuU"
   },
   "outputs": [],
   "source": []
  },
  {
   "cell_type": "code",
   "execution_count": null,
   "metadata": {
    "colab": {},
    "colab_type": "code",
    "id": "_fPBBCz1rRuY"
   },
   "outputs": [],
   "source": [
    "import pandas as pd"
   ]
  },
  {
   "cell_type": "code",
   "execution_count": null,
   "metadata": {
    "colab": {},
    "colab_type": "code",
    "id": "QMtimeGarRub"
   },
   "outputs": [],
   "source": [
    "df=pd.read_csv('HDFC.csv')"
   ]
  },
  {
   "cell_type": "code",
   "execution_count": null,
   "metadata": {
    "colab": {
     "base_uri": "https://localhost:8080/",
     "height": 194
    },
    "colab_type": "code",
    "id": "1wetqIWprRud",
    "outputId": "f138e577-ff30-4cca-a788-beefaf6f6ceb"
   },
   "outputs": [
    {
     "data": {
      "text/html": [
       "<div>\n",
       "<style scoped>\n",
       "    .dataframe tbody tr th:only-of-type {\n",
       "        vertical-align: middle;\n",
       "    }\n",
       "\n",
       "    .dataframe tbody tr th {\n",
       "        vertical-align: top;\n",
       "    }\n",
       "\n",
       "    .dataframe thead th {\n",
       "        text-align: right;\n",
       "    }\n",
       "</style>\n",
       "<table border=\"1\" class=\"dataframe\">\n",
       "  <thead>\n",
       "    <tr style=\"text-align: right;\">\n",
       "      <th></th>\n",
       "      <th>Date</th>\n",
       "      <th>Open</th>\n",
       "      <th>High</th>\n",
       "      <th>Low</th>\n",
       "      <th>Close</th>\n",
       "      <th>Adj Close</th>\n",
       "      <th>Volume</th>\n",
       "    </tr>\n",
       "  </thead>\n",
       "  <tbody>\n",
       "    <tr>\n",
       "      <th>0</th>\n",
       "      <td>1996-01-01</td>\n",
       "      <td>3.030</td>\n",
       "      <td>3.030</td>\n",
       "      <td>2.925</td>\n",
       "      <td>2.980</td>\n",
       "      <td>0.595425</td>\n",
       "      <td>350000.0</td>\n",
       "    </tr>\n",
       "    <tr>\n",
       "      <th>1</th>\n",
       "      <td>1996-01-02</td>\n",
       "      <td>2.980</td>\n",
       "      <td>3.025</td>\n",
       "      <td>2.950</td>\n",
       "      <td>2.975</td>\n",
       "      <td>0.594426</td>\n",
       "      <td>412000.0</td>\n",
       "    </tr>\n",
       "    <tr>\n",
       "      <th>2</th>\n",
       "      <td>1996-01-03</td>\n",
       "      <td>2.975</td>\n",
       "      <td>2.995</td>\n",
       "      <td>2.950</td>\n",
       "      <td>2.985</td>\n",
       "      <td>0.596424</td>\n",
       "      <td>284000.0</td>\n",
       "    </tr>\n",
       "    <tr>\n",
       "      <th>3</th>\n",
       "      <td>1996-01-04</td>\n",
       "      <td>2.985</td>\n",
       "      <td>2.980</td>\n",
       "      <td>2.940</td>\n",
       "      <td>2.965</td>\n",
       "      <td>0.592428</td>\n",
       "      <td>282000.0</td>\n",
       "    </tr>\n",
       "    <tr>\n",
       "      <th>4</th>\n",
       "      <td>1996-01-05</td>\n",
       "      <td>2.965</td>\n",
       "      <td>2.980</td>\n",
       "      <td>2.950</td>\n",
       "      <td>2.960</td>\n",
       "      <td>0.591429</td>\n",
       "      <td>189000.0</td>\n",
       "    </tr>\n",
       "  </tbody>\n",
       "</table>\n",
       "</div>"
      ],
      "text/plain": [
       "         Date   Open   High    Low  Close  Adj Close    Volume\n",
       "0  1996-01-01  3.030  3.030  2.925  2.980   0.595425  350000.0\n",
       "1  1996-01-02  2.980  3.025  2.950  2.975   0.594426  412000.0\n",
       "2  1996-01-03  2.975  2.995  2.950  2.985   0.596424  284000.0\n",
       "3  1996-01-04  2.985  2.980  2.940  2.965   0.592428  282000.0\n",
       "4  1996-01-05  2.965  2.980  2.950  2.960   0.591429  189000.0"
      ]
     },
     "execution_count": 77,
     "metadata": {
      "tags": []
     },
     "output_type": "execute_result"
    }
   ],
   "source": [
    "df.head()"
   ]
  },
  {
   "cell_type": "code",
   "execution_count": null,
   "metadata": {
    "colab": {
     "base_uri": "https://localhost:8080/",
     "height": 194
    },
    "colab_type": "code",
    "id": "opBLIyvMrRuh",
    "outputId": "1307228a-f7a4-476a-b2ce-22e3fdb09a36"
   },
   "outputs": [
    {
     "data": {
      "text/html": [
       "<div>\n",
       "<style scoped>\n",
       "    .dataframe tbody tr th:only-of-type {\n",
       "        vertical-align: middle;\n",
       "    }\n",
       "\n",
       "    .dataframe tbody tr th {\n",
       "        vertical-align: top;\n",
       "    }\n",
       "\n",
       "    .dataframe thead th {\n",
       "        text-align: right;\n",
       "    }\n",
       "</style>\n",
       "<table border=\"1\" class=\"dataframe\">\n",
       "  <thead>\n",
       "    <tr style=\"text-align: right;\">\n",
       "      <th></th>\n",
       "      <th>Date</th>\n",
       "      <th>Open</th>\n",
       "      <th>High</th>\n",
       "      <th>Low</th>\n",
       "      <th>Close</th>\n",
       "      <th>Adj Close</th>\n",
       "      <th>Volume</th>\n",
       "    </tr>\n",
       "  </thead>\n",
       "  <tbody>\n",
       "    <tr>\n",
       "      <th>6033</th>\n",
       "      <td>2020-06-10</td>\n",
       "      <td>990.0</td>\n",
       "      <td>999.849976</td>\n",
       "      <td>978.200012</td>\n",
       "      <td>991.849976</td>\n",
       "      <td>991.849976</td>\n",
       "      <td>18248865.0</td>\n",
       "    </tr>\n",
       "    <tr>\n",
       "      <th>6034</th>\n",
       "      <td>2020-06-11</td>\n",
       "      <td>985.0</td>\n",
       "      <td>988.400024</td>\n",
       "      <td>965.000000</td>\n",
       "      <td>968.599976</td>\n",
       "      <td>968.599976</td>\n",
       "      <td>15448857.0</td>\n",
       "    </tr>\n",
       "    <tr>\n",
       "      <th>6035</th>\n",
       "      <td>2020-06-12</td>\n",
       "      <td>928.0</td>\n",
       "      <td>986.650024</td>\n",
       "      <td>928.000000</td>\n",
       "      <td>982.750000</td>\n",
       "      <td>982.750000</td>\n",
       "      <td>21322438.0</td>\n",
       "    </tr>\n",
       "    <tr>\n",
       "      <th>6036</th>\n",
       "      <td>2020-06-15</td>\n",
       "      <td>968.0</td>\n",
       "      <td>974.000000</td>\n",
       "      <td>943.000000</td>\n",
       "      <td>949.849976</td>\n",
       "      <td>949.849976</td>\n",
       "      <td>16004968.0</td>\n",
       "    </tr>\n",
       "    <tr>\n",
       "      <th>6037</th>\n",
       "      <td>2020-06-16</td>\n",
       "      <td>975.0</td>\n",
       "      <td>993.950012</td>\n",
       "      <td>952.000000</td>\n",
       "      <td>990.400024</td>\n",
       "      <td>990.400024</td>\n",
       "      <td>22699985.0</td>\n",
       "    </tr>\n",
       "  </tbody>\n",
       "</table>\n",
       "</div>"
      ],
      "text/plain": [
       "            Date   Open        High  ...       Close   Adj Close      Volume\n",
       "6033  2020-06-10  990.0  999.849976  ...  991.849976  991.849976  18248865.0\n",
       "6034  2020-06-11  985.0  988.400024  ...  968.599976  968.599976  15448857.0\n",
       "6035  2020-06-12  928.0  986.650024  ...  982.750000  982.750000  21322438.0\n",
       "6036  2020-06-15  968.0  974.000000  ...  949.849976  949.849976  16004968.0\n",
       "6037  2020-06-16  975.0  993.950012  ...  990.400024  990.400024  22699985.0\n",
       "\n",
       "[5 rows x 7 columns]"
      ]
     },
     "execution_count": 78,
     "metadata": {
      "tags": []
     },
     "output_type": "execute_result"
    }
   ],
   "source": [
    "df.tail()"
   ]
  },
  {
   "cell_type": "code",
   "execution_count": null,
   "metadata": {
    "colab": {},
    "colab_type": "code",
    "id": "ffdZfEa-rRuj"
   },
   "outputs": [],
   "source": [
    "df1=df.reset_index()['Close']"
   ]
  },
  {
   "cell_type": "code",
   "execution_count": null,
   "metadata": {
    "colab": {
     "base_uri": "https://localhost:8080/",
     "height": 230
    },
    "colab_type": "code",
    "id": "TFjNoVWjrRul",
    "outputId": "dbb4b5ad-5ec5-483c-f7ea-84c697a9f948"
   },
   "outputs": [
    {
     "data": {
      "text/plain": [
       "0         2.980000\n",
       "1         2.975000\n",
       "2         2.985000\n",
       "3         2.965000\n",
       "4         2.960000\n",
       "           ...    \n",
       "6033    991.849976\n",
       "6034    968.599976\n",
       "6035    982.750000\n",
       "6036    949.849976\n",
       "6037    990.400024\n",
       "Name: Close, Length: 6038, dtype: float64"
      ]
     },
     "execution_count": 80,
     "metadata": {
      "tags": []
     },
     "output_type": "execute_result"
    }
   ],
   "source": [
    "df1"
   ]
  },
  {
   "cell_type": "code",
   "execution_count": null,
   "metadata": {
    "colab": {
     "base_uri": "https://localhost:8080/",
     "height": 283
    },
    "colab_type": "code",
    "id": "-WPdSGiArRun",
    "outputId": "a51bc96d-61e4-420f-b9b5-36e3685dfaf2"
   },
   "outputs": [
    {
     "data": {
      "text/plain": [
       "[<matplotlib.lines.Line2D at 0x7f7e86d62278>]"
      ]
     },
     "execution_count": 81,
     "metadata": {
      "tags": []
     },
     "output_type": "execute_result"
    },
    {
     "data": {
      "image/png": "[encoded data removed]",
      "text/plain": [
       "<Figure size 432x288 with 1 Axes>"
      ]
     },
     "metadata": {
      "needs_background": "light",
      "tags": []
     },
     "output_type": "display_data"
    }
   ],
   "source": [
    "import matplotlib.pyplot as plt\n",
    "plt.plot(df1)"
   ]
  },
  {
   "cell_type": "code",
   "execution_count": null,
   "metadata": {
    "colab": {},
    "colab_type": "code",
    "id": "Be4Xnz9nrRup"
   },
   "outputs": [],
   "source": [
    "### LSTM are sensitive to the scale of the data. so we apply MinMax scaler "
   ]
  },
  {
   "cell_type": "code",
   "execution_count": null,
   "metadata": {
    "colab": {},
    "colab_type": "code",
    "id": "sDMY6lC7rRus"
   },
   "outputs": [],
   "source": [
    "import numpy as np"
   ]
  },
  {
   "cell_type": "code",
   "execution_count": null,
   "metadata": {
    "colab": {
     "base_uri": "https://localhost:8080/",
     "height": 230
    },
    "colab_type": "code",
    "id": "Zi_DEfj4rRuu",
    "outputId": "c4a59f6e-c4aa-45c4-fa7b-3f6d94078f91"
   },
   "outputs": [
    {
     "data": {
      "text/plain": [
       "0         2.980000\n",
       "1         2.975000\n",
       "2         2.985000\n",
       "3         2.965000\n",
       "4         2.960000\n",
       "           ...    \n",
       "6033    991.849976\n",
       "6034    968.599976\n",
       "6035    982.750000\n",
       "6036    949.849976\n",
       "6037    990.400024\n",
       "Name: Close, Length: 6038, dtype: float64"
      ]
     },
     "execution_count": 84,
     "metadata": {
      "tags": []
     },
     "output_type": "execute_result"
    }
   ],
   "source": [
    "df1"
   ]
  },
  {
   "cell_type": "code",
   "execution_count": null,
   "metadata": {
    "colab": {},
    "colab_type": "code",
    "id": "6h8WXid2rRux"
   },
   "outputs": [],
   "source": [
    "from sklearn.preprocessing import MinMaxScaler\n",
    "scaler=MinMaxScaler(feature_range=(0,1))\n",
    "df1=scaler.fit_transform(np.array(df1).reshape(-1,1))"
   ]
  },
  {
   "cell_type": "code",
   "execution_count": null,
   "metadata": {
    "colab": {
     "base_uri": "https://localhost:8080/",
     "height": 141
    },
    "colab_type": "code",
    "id": "uB56umkZrRuz",
    "outputId": "bff0825c-22e8-4666-e6b3-d6c271cbd5b2"
   },
   "outputs": [
    {
     "name": "stdout",
     "output_type": "stream",
     "text": [
      "[[4.19242049e-04]\n",
      " [4.15395791e-04]\n",
      " [4.23088306e-04]\n",
      " ...\n",
      " [7.54108751e-01]\n",
      " [7.28800359e-01]\n",
      " [7.59993543e-01]]\n"
     ]
    }
   ],
   "source": [
    "print(df1)"
   ]
  },
  {
   "cell_type": "code",
   "execution_count": null,
   "metadata": {
    "colab": {},
    "colab_type": "code",
    "id": "_s5WQkzrrRu1"
   },
   "outputs": [],
   "source": [
    "##splitting dataset into train and test split\n",
    "training_size=int(len(df1)*0.65)\n",
    "test_size=len(df1)-training_size\n",
    "train_data,test_data=df1[0:training_size,:],df1[training_size:len(df1),:1]"
   ]
  },
  {
   "cell_type": "code",
   "execution_count": null,
   "metadata": {
    "colab": {
     "base_uri": "https://localhost:8080/",
     "height": 35
    },
    "colab_type": "code",
    "id": "GOtyzLfMrRu3",
    "outputId": "98a5ce7e-3254-4937-c80e-24e2d1a68825"
   },
   "outputs": [
    {
     "data": {
      "text/plain": [
       "(3924, 2114)"
      ]
     },
     "execution_count": 88,
     "metadata": {
      "tags": []
     },
     "output_type": "execute_result"
    }
   ],
   "source": [
    "training_size,test_size"
   ]
  },
  {
   "cell_type": "code",
   "execution_count": null,
   "metadata": {
    "colab": {
     "base_uri": "https://localhost:8080/",
     "height": 141
    },
    "colab_type": "code",
    "id": "IZ0i8sKgrRu6",
    "outputId": "f568cc04-e3c3-4941-f6e3-4cefa34da942"
   },
   "outputs": [
    {
     "data": {
      "text/plain": [
       "array([[0.00041924],\n",
       "       [0.0004154 ],\n",
       "       [0.00042309],\n",
       "       ...,\n",
       "       [0.18393957],\n",
       "       [0.18345878],\n",
       "       [0.1839011 ]])"
      ]
     },
     "execution_count": 89,
     "metadata": {
      "tags": []
     },
     "output_type": "execute_result"
    }
   ],
   "source": [
    "train_data"
   ]
  },
  {
   "cell_type": "code",
   "execution_count": null,
   "metadata": {
    "colab": {},
    "colab_type": "code",
    "id": "OVivBpT-rRu8"
   },
   "outputs": [],
   "source": [
    "import numpy\n",
    "# convert an array of values into a dataset matrix\n",
    "def create_dataset(dataset, time_step=1):\n",
    "\tdataX, dataY = [], []\n",
    "\tfor i in range(len(dataset)-time_step-1):\n",
    "\t\ta = dataset[i:(i+time_step), 0]   ###i=0, 0,1,2,3-----99   100 \n",
    "\t\tdataX.append(a)\n",
    "\t\tdataY.append(dataset[i + time_step, 0])\n",
    "\treturn numpy.array(dataX), numpy.array(dataY)"
   ]
  },
  {
   "cell_type": "code",
   "execution_count": null,
   "metadata": {
    "colab": {},
    "colab_type": "code",
    "id": "esFZ5-JCrRu-"
   },
   "outputs": [],
   "source": [
    "# reshape into X=t,t+1,t+2,t+3 and Y=t+4\n",
    "time_step = 100\n",
    "X_train, y_train = create_dataset(train_data, time_step)\n",
    "X_test, ytest = create_dataset(test_data, time_step)"
   ]
  },
  {
   "cell_type": "code",
   "execution_count": null,
   "metadata": {
    "colab": {
     "base_uri": "https://localhost:8080/",
     "height": 70
    },
    "colab_type": "code",
    "id": "tYVDSLb7rRvA",
    "outputId": "12e054c9-da01-4ee1-f668-e7d2e8a76520"
   },
   "outputs": [
    {
     "name": "stdout",
     "output_type": "stream",
     "text": [
      "(3823, 100)\n",
      "(3823,)\n"
     ]
    },
    {
     "data": {
      "text/plain": [
       "(None, None)"
      ]
     },
     "execution_count": 92,
     "metadata": {
      "tags": []
     },
     "output_type": "execute_result"
    }
   ],
   "source": [
    "print(X_train.shape), print(y_train.shape)"
   ]
  },
  {
   "cell_type": "code",
   "execution_count": null,
   "metadata": {
    "colab": {
     "base_uri": "https://localhost:8080/",
     "height": 70
    },
    "colab_type": "code",
    "id": "Fr9sxbRorRvC",
    "outputId": "64519e38-4244-4a66-e314-7fa3964582a6"
   },
   "outputs": [
    {
     "name": "stdout",
     "output_type": "stream",
     "text": [
      "(2013, 100)\n",
      "(2013,)\n"
     ]
    },
    {
     "data": {
      "text/plain": [
       "(None, None)"
      ]
     },
     "execution_count": 93,
     "metadata": {
      "tags": []
     },
     "output_type": "execute_result"
    }
   ],
   "source": [
    "print(X_test.shape), print(ytest.shape)"
   ]
  },
  {
   "cell_type": "code",
   "execution_count": null,
   "metadata": {
    "colab": {},
    "colab_type": "code",
    "id": "CFkbq1QfrRvE"
   },
   "outputs": [],
   "source": [
    "# reshape input to be [samples, time steps, features] which is required for LSTM\n",
    "X_train =X_train.reshape(X_train.shape[0],X_train.shape[1] , 1)\n",
    "X_test = X_test.reshape(X_test.shape[0],X_test.shape[1] , 1)"
   ]
  },
  {
   "cell_type": "code",
   "execution_count": null,
   "metadata": {
    "colab": {},
    "colab_type": "code",
    "id": "iHcLlyaVrRvH"
   },
   "outputs": [],
   "source": [
    "### Create the Stacked LSTM model\n",
    "from tensorflow.keras.models import Sequential\n",
    "from tensorflow.keras.layers import Dense\n",
    "from tensorflow.keras.layers import LSTM"
   ]
  },
  {
   "cell_type": "code",
   "execution_count": null,
   "metadata": {
    "colab": {},
    "colab_type": "code",
    "id": "poFG-46drRvJ"
   },
   "outputs": [],
   "source": [
    "model=Sequential()\n",
    "model.add(LSTM(50,return_sequences=True,input_shape=(100,1)))\n",
    "model.add(LSTM(50,return_sequences=True))\n",
    "model.add(LSTM(50))\n",
    "model.add(Dense(1))\n",
    "model.compile(loss='mean_squared_error',optimizer='adam')\n"
   ]
  },
  {
   "cell_type": "code",
   "execution_count": null,
   "metadata": {
    "colab": {
     "base_uri": "https://localhost:8080/",
     "height": 301
    },
    "colab_type": "code",
    "id": "S0omXwnbrRvM",
    "outputId": "4110230f-64d8-4287-badb-fab79d2d026c"
   },
   "outputs": [
    {
     "name": "stdout",
     "output_type": "stream",
     "text": [
      "Model: \"sequential_1\"\n",
      "_________________________________________________________________\n",
      "Layer (type)                 Output Shape              Param #   \n",
      "=================================================================\n",
      "lstm_3 (LSTM)                (None, 100, 50)           10400     \n",
      "_________________________________________________________________\n",
      "lstm_4 (LSTM)                (None, 100, 50)           20200     \n",
      "_________________________________________________________________\n",
      "lstm_5 (LSTM)                (None, 50)                20200     \n",
      "_________________________________________________________________\n",
      "dense_1 (Dense)              (None, 1)                 51        \n",
      "=================================================================\n",
      "Total params: 50,851\n",
      "Trainable params: 50,851\n",
      "Non-trainable params: 0\n",
      "_________________________________________________________________\n"
     ]
    }
   ],
   "source": [
    "model.summary()"
   ]
  },
  {
   "cell_type": "code",
   "execution_count": null,
   "metadata": {
    "colab": {
     "base_uri": "https://localhost:8080/",
     "height": 301
    },
    "colab_type": "code",
    "id": "rpyTx5BrrRvO",
    "outputId": "1f2c32ab-ab7f-4cfd-cc9a-262a1997c09d"
   },
   "outputs": [
    {
     "name": "stdout",
     "output_type": "stream",
     "text": [
      "Model: \"sequential_1\"\n",
      "_________________________________________________________________\n",
      "Layer (type)                 Output Shape              Param #   \n",
      "=================================================================\n",
      "lstm_3 (LSTM)                (None, 100, 50)           10400     \n",
      "_________________________________________________________________\n",
      "lstm_4 (LSTM)                (None, 100, 50)           20200     \n",
      "_________________________________________________________________\n",
      "lstm_5 (LSTM)                (None, 50)                20200     \n",
      "_________________________________________________________________\n",
      "dense_1 (Dense)              (None, 1)                 51        \n",
      "=================================================================\n",
      "Total params: 50,851\n",
      "Trainable params: 50,851\n",
      "Non-trainable params: 0\n",
      "_________________________________________________________________\n"
     ]
    }
   ],
   "source": [
    "model.summary()"
   ]
  },
  {
   "cell_type": "code",
   "execution_count": null,
   "metadata": {
    "colab": {},
    "colab_type": "code",
    "id": "SNoToMYMrRvQ"
   },
   "outputs": [],
   "source": []
  },
  {
   "cell_type": "code",
   "execution_count": null,
   "metadata": {
    "colab": {
     "base_uri": "https://localhost:8080/",
     "height": 1000
    },
    "colab_type": "code",
    "id": "mxUYjxR0rRvS",
    "outputId": "2ad4fcab-d758-4a4d-dae5-97fb1199b634"
   },
   "outputs": [
    {
     "name": "stdout",
     "output_type": "stream",
     "text": [
      "Epoch 1/100\n",
      "60/60 [==============================] - 12s 201ms/step - loss: 3.5125e-04 - val_loss: 0.0047\n",
      "Epoch 2/100\n",
      "60/60 [==============================] - 11s 190ms/step - loss: 2.8641e-05 - val_loss: 0.0075\n",
      "Epoch 3/100\n",
      "60/60 [==============================] - 11s 188ms/step - loss: 2.6082e-05 - val_loss: 0.0071\n",
      "Epoch 4/100\n",
      "60/60 [==============================] - 12s 195ms/step - loss: 2.5897e-05 - val_loss: 0.0076\n",
      "Epoch 5/100\n",
      "60/60 [==============================] - 11s 191ms/step - loss: 2.5659e-05 - val_loss: 0.0045\n",
      "Epoch 6/100\n",
      "60/60 [==============================] - 11s 188ms/step - loss: 2.6252e-05 - val_loss: 0.0067\n",
      "Epoch 7/100\n",
      "60/60 [==============================] - 11s 189ms/step - loss: 2.5572e-05 - val_loss: 0.0060\n",
      "Epoch 8/100\n",
      "60/60 [==============================] - 12s 193ms/step - loss: 2.4078e-05 - val_loss: 0.0038\n",
      "Epoch 9/100\n",
      "60/60 [==============================] - 12s 192ms/step - loss: 2.3327e-05 - val_loss: 0.0051\n",
      "Epoch 10/100\n",
      "60/60 [==============================] - 12s 193ms/step - loss: 2.3032e-05 - val_loss: 0.0051\n",
      "Epoch 11/100\n",
      "60/60 [==============================] - 11s 189ms/step - loss: 2.3109e-05 - val_loss: 0.0033\n",
      "Epoch 12/100\n",
      "60/60 [==============================] - 11s 191ms/step - loss: 2.2246e-05 - val_loss: 0.0040\n",
      "Epoch 13/100\n",
      "60/60 [==============================] - 11s 189ms/step - loss: 2.2950e-05 - val_loss: 0.0043\n",
      "Epoch 14/100\n",
      "60/60 [==============================] - 11s 190ms/step - loss: 2.0380e-05 - val_loss: 0.0036\n",
      "Epoch 15/100\n",
      "60/60 [==============================] - 11s 190ms/step - loss: 2.0353e-05 - val_loss: 0.0038\n",
      "Epoch 16/100\n",
      "60/60 [==============================] - 11s 190ms/step - loss: 2.0836e-05 - val_loss: 0.0029\n",
      "Epoch 17/100\n",
      "60/60 [==============================] - 11s 189ms/step - loss: 1.9409e-05 - val_loss: 0.0030\n",
      "Epoch 18/100\n",
      "60/60 [==============================] - 11s 189ms/step - loss: 1.9528e-05 - val_loss: 0.0040\n",
      "Epoch 19/100\n",
      "60/60 [==============================] - 11s 191ms/step - loss: 2.0065e-05 - val_loss: 0.0033\n",
      "Epoch 20/100\n",
      "60/60 [==============================] - 11s 191ms/step - loss: 1.8911e-05 - val_loss: 0.0023\n",
      "Epoch 21/100\n",
      "60/60 [==============================] - 12s 192ms/step - loss: 1.8007e-05 - val_loss: 0.0024\n",
      "Epoch 22/100\n",
      "60/60 [==============================] - 11s 190ms/step - loss: 2.0128e-05 - val_loss: 0.0022\n",
      "Epoch 23/100\n",
      "60/60 [==============================] - 12s 193ms/step - loss: 2.0968e-05 - val_loss: 0.0011\n",
      "Epoch 24/100\n",
      "60/60 [==============================] - 11s 190ms/step - loss: 2.2569e-05 - val_loss: 0.0027\n",
      "Epoch 25/100\n",
      "60/60 [==============================] - 12s 196ms/step - loss: 1.9425e-05 - val_loss: 0.0021\n",
      "Epoch 26/100\n",
      "60/60 [==============================] - 12s 194ms/step - loss: 2.0129e-05 - val_loss: 0.0041\n",
      "Epoch 27/100\n",
      "60/60 [==============================] - 11s 190ms/step - loss: 1.9166e-05 - val_loss: 0.0019\n",
      "Epoch 28/100\n",
      "60/60 [==============================] - 11s 190ms/step - loss: 1.8483e-05 - val_loss: 0.0019\n",
      "Epoch 29/100\n",
      "60/60 [==============================] - 12s 193ms/step - loss: 1.9361e-05 - val_loss: 0.0027\n",
      "Epoch 30/100\n",
      "60/60 [==============================] - 12s 197ms/step - loss: 1.8382e-05 - val_loss: 0.0023\n",
      "Epoch 31/100\n",
      "60/60 [==============================] - 11s 191ms/step - loss: 1.7825e-05 - val_loss: 0.0025\n",
      "Epoch 32/100\n",
      "60/60 [==============================] - 12s 192ms/step - loss: 2.1214e-05 - val_loss: 0.0024\n",
      "Epoch 33/100\n",
      "60/60 [==============================] - 11s 190ms/step - loss: 1.9308e-05 - val_loss: 0.0016\n",
      "Epoch 34/100\n",
      "60/60 [==============================] - 11s 191ms/step - loss: 1.8529e-05 - val_loss: 0.0029\n",
      "Epoch 35/100\n",
      "60/60 [==============================] - 11s 190ms/step - loss: 1.7992e-05 - val_loss: 0.0018\n",
      "Epoch 36/100\n",
      "60/60 [==============================] - 11s 190ms/step - loss: 1.6946e-05 - val_loss: 0.0012\n",
      "Epoch 37/100\n",
      "60/60 [==============================] - 12s 193ms/step - loss: 1.7879e-05 - val_loss: 0.0024\n",
      "Epoch 38/100\n",
      "60/60 [==============================] - 11s 191ms/step - loss: 1.8669e-05 - val_loss: 0.0019\n",
      "Epoch 39/100\n",
      "60/60 [==============================] - 11s 190ms/step - loss: 1.6296e-05 - val_loss: 0.0011\n",
      "Epoch 40/100\n",
      "60/60 [==============================] - 11s 191ms/step - loss: 1.7242e-05 - val_loss: 0.0024\n",
      "Epoch 41/100\n",
      "60/60 [==============================] - 11s 191ms/step - loss: 1.6618e-05 - val_loss: 0.0019\n",
      "Epoch 42/100\n",
      "60/60 [==============================] - 11s 189ms/step - loss: 1.6333e-05 - val_loss: 0.0022\n",
      "Epoch 43/100\n",
      "60/60 [==============================] - 11s 189ms/step - loss: 1.9049e-05 - val_loss: 0.0018\n",
      "Epoch 44/100\n",
      "60/60 [==============================] - 11s 189ms/step - loss: 1.7630e-05 - val_loss: 0.0021\n",
      "Epoch 45/100\n",
      "60/60 [==============================] - 11s 190ms/step - loss: 1.6696e-05 - val_loss: 9.1020e-04\n",
      "Epoch 46/100\n",
      "60/60 [==============================] - 12s 205ms/step - loss: 1.5199e-05 - val_loss: 0.0020\n",
      "Epoch 47/100\n",
      "60/60 [==============================] - 14s 237ms/step - loss: 1.5176e-05 - val_loss: 0.0014\n",
      "Epoch 48/100\n",
      "60/60 [==============================] - 11s 190ms/step - loss: 1.6465e-05 - val_loss: 5.7027e-04\n",
      "Epoch 49/100\n",
      "60/60 [==============================] - 11s 191ms/step - loss: 2.1825e-05 - val_loss: 9.1419e-04\n",
      "Epoch 50/100\n",
      "60/60 [==============================] - 12s 193ms/step - loss: 1.6698e-05 - val_loss: 0.0013\n",
      "Epoch 51/100\n",
      "60/60 [==============================] - 12s 195ms/step - loss: 1.5048e-05 - val_loss: 0.0013\n",
      "Epoch 52/100\n",
      "60/60 [==============================] - 12s 200ms/step - loss: 1.6815e-05 - val_loss: 9.4123e-04\n",
      "Epoch 53/100\n",
      "60/60 [==============================] - 11s 191ms/step - loss: 1.6915e-05 - val_loss: 0.0011\n",
      "Epoch 54/100\n",
      "60/60 [==============================] - 12s 192ms/step - loss: 1.8432e-05 - val_loss: 0.0010\n",
      "Epoch 55/100\n",
      "60/60 [==============================] - 12s 193ms/step - loss: 1.4381e-05 - val_loss: 7.3922e-04\n",
      "Epoch 56/100\n",
      "60/60 [==============================] - 12s 198ms/step - loss: 1.5563e-05 - val_loss: 0.0013\n",
      "Epoch 57/100\n",
      "60/60 [==============================] - 12s 192ms/step - loss: 1.6160e-05 - val_loss: 0.0022\n",
      "Epoch 58/100\n",
      "60/60 [==============================] - 12s 194ms/step - loss: 1.5340e-05 - val_loss: 0.0011\n",
      "Epoch 59/100\n",
      "60/60 [==============================] - 12s 197ms/step - loss: 1.6317e-05 - val_loss: 7.0209e-04\n",
      "Epoch 60/100\n",
      "60/60 [==============================] - 12s 196ms/step - loss: 1.3929e-05 - val_loss: 0.0014\n",
      "Epoch 61/100\n",
      "60/60 [==============================] - 12s 195ms/step - loss: 1.4498e-05 - val_loss: 9.3339e-04\n",
      "Epoch 62/100\n",
      "60/60 [==============================] - 12s 195ms/step - loss: 1.4278e-05 - val_loss: 0.0012\n",
      "Epoch 63/100\n",
      "60/60 [==============================] - 12s 196ms/step - loss: 1.3755e-05 - val_loss: 8.0562e-04\n",
      "Epoch 64/100\n",
      "60/60 [==============================] - 12s 200ms/step - loss: 1.3767e-05 - val_loss: 6.1236e-04\n",
      "Epoch 65/100\n",
      "60/60 [==============================] - 12s 194ms/step - loss: 1.5044e-05 - val_loss: 0.0013\n",
      "Epoch 66/100\n",
      "60/60 [==============================] - 12s 196ms/step - loss: 1.4429e-05 - val_loss: 9.1807e-04\n",
      "Epoch 67/100\n",
      "60/60 [==============================] - 12s 195ms/step - loss: 1.4612e-05 - val_loss: 3.9256e-04\n",
      "Epoch 68/100\n",
      "60/60 [==============================] - 12s 193ms/step - loss: 1.4016e-05 - val_loss: 0.0011\n",
      "Epoch 69/100\n",
      "60/60 [==============================] - 12s 194ms/step - loss: 1.5317e-05 - val_loss: 0.0019\n",
      "Epoch 70/100\n",
      "60/60 [==============================] - 12s 194ms/step - loss: 1.4687e-05 - val_loss: 0.0013\n",
      "Epoch 71/100\n",
      "60/60 [==============================] - 12s 197ms/step - loss: 1.4303e-05 - val_loss: 8.7443e-04\n",
      "Epoch 72/100\n",
      "60/60 [==============================] - 12s 197ms/step - loss: 1.3197e-05 - val_loss: 0.0011\n",
      "Epoch 73/100\n",
      "60/60 [==============================] - 12s 195ms/step - loss: 1.4131e-05 - val_loss: 5.5643e-04\n",
      "Epoch 74/100\n",
      "60/60 [==============================] - 12s 194ms/step - loss: 1.4115e-05 - val_loss: 3.5683e-04\n",
      "Epoch 75/100\n",
      "60/60 [==============================] - 12s 197ms/step - loss: 1.3587e-05 - val_loss: 8.3536e-04\n",
      "Epoch 76/100\n",
      "60/60 [==============================] - 12s 194ms/step - loss: 1.4013e-05 - val_loss: 8.3781e-04\n",
      "Epoch 77/100\n",
      "60/60 [==============================] - 12s 195ms/step - loss: 1.3847e-05 - val_loss: 0.0011\n",
      "Epoch 78/100\n",
      "60/60 [==============================] - 12s 198ms/step - loss: 1.3264e-05 - val_loss: 8.6616e-04\n",
      "Epoch 79/100\n",
      "60/60 [==============================] - 12s 195ms/step - loss: 1.3155e-05 - val_loss: 7.5925e-04\n",
      "Epoch 80/100\n",
      "60/60 [==============================] - 11s 191ms/step - loss: 1.2738e-05 - val_loss: 8.9127e-04\n",
      "Epoch 81/100\n",
      "60/60 [==============================] - 12s 193ms/step - loss: 1.4226e-05 - val_loss: 9.3979e-04\n",
      "Epoch 82/100\n",
      "60/60 [==============================] - 12s 200ms/step - loss: 1.3303e-05 - val_loss: 0.0010\n",
      "Epoch 83/100\n",
      "60/60 [==============================] - 12s 194ms/step - loss: 1.3912e-05 - val_loss: 5.9757e-04\n",
      "Epoch 84/100\n",
      "60/60 [==============================] - 11s 191ms/step - loss: 1.5405e-05 - val_loss: 8.9160e-04\n",
      "Epoch 85/100\n",
      "60/60 [==============================] - 11s 191ms/step - loss: 1.5999e-05 - val_loss: 5.0439e-04\n",
      "Epoch 86/100\n",
      "60/60 [==============================] - 11s 191ms/step - loss: 1.5447e-05 - val_loss: 5.4476e-04\n",
      "Epoch 87/100\n",
      "60/60 [==============================] - 11s 190ms/step - loss: 1.3316e-05 - val_loss: 4.7991e-04\n",
      "Epoch 88/100\n",
      "60/60 [==============================] - 11s 191ms/step - loss: 1.3836e-05 - val_loss: 8.4147e-04\n",
      "Epoch 89/100\n",
      "60/60 [==============================] - 11s 191ms/step - loss: 1.4095e-05 - val_loss: 5.8935e-04\n",
      "Epoch 90/100\n",
      "60/60 [==============================] - 12s 192ms/step - loss: 1.2842e-05 - val_loss: 7.3819e-04\n",
      "Epoch 91/100\n",
      "60/60 [==============================] - 12s 192ms/step - loss: 1.4712e-05 - val_loss: 9.7332e-04\n",
      "Epoch 92/100\n",
      "60/60 [==============================] - 11s 189ms/step - loss: 1.2726e-05 - val_loss: 7.6705e-04\n",
      "Epoch 93/100\n",
      "60/60 [==============================] - 11s 191ms/step - loss: 1.3073e-05 - val_loss: 0.0012\n",
      "Epoch 94/100\n",
      "60/60 [==============================] - 12s 192ms/step - loss: 1.3098e-05 - val_loss: 8.1471e-04\n",
      "Epoch 95/100\n",
      "60/60 [==============================] - 11s 190ms/step - loss: 1.5781e-05 - val_loss: 5.7894e-04\n",
      "Epoch 96/100\n",
      "60/60 [==============================] - 12s 192ms/step - loss: 1.2997e-05 - val_loss: 0.0012\n",
      "Epoch 97/100\n",
      "60/60 [==============================] - 11s 189ms/step - loss: 1.3261e-05 - val_loss: 8.7216e-04\n",
      "Epoch 98/100\n",
      "60/60 [==============================] - 16s 270ms/step - loss: 1.2395e-05 - val_loss: 9.0908e-04\n",
      "Epoch 99/100\n",
      "60/60 [==============================] - 11s 189ms/step - loss: 1.4242e-05 - val_loss: 0.0010\n",
      "Epoch 100/100\n",
      "60/60 [==============================] - 11s 191ms/step - loss: 1.3281e-05 - val_loss: 0.0013\n"
     ]
    },
    {
     "data": {
      "text/plain": [
       "<tensorflow.python.keras.callbacks.History at 0x7f7e867a54a8>"
      ]
     },
     "execution_count": 99,
     "metadata": {
      "tags": []
     },
     "output_type": "execute_result"
    }
   ],
   "source": [
    "model.fit(X_train,y_train,validation_data=(X_test,ytest),epochs=100,batch_size=64,verbose=1)"
   ]
  },
  {
   "cell_type": "code",
   "execution_count": null,
   "metadata": {
    "colab": {},
    "colab_type": "code",
    "id": "jbB-aLLorRvU"
   },
   "outputs": [],
   "source": [
    "import tensorflow as tf"
   ]
  },
  {
   "cell_type": "code",
   "execution_count": null,
   "metadata": {
    "colab": {
     "base_uri": "https://localhost:8080/",
     "height": 35
    },
    "colab_type": "code",
    "id": "kaI1o8UirRvX",
    "outputId": "bf8eeabd-48a9-47ee-c2d3-2b47be3b4ef5"
   },
   "outputs": [
    {
     "data": {
      "text/plain": [
       "'2.2.0'"
      ]
     },
     "execution_count": 101,
     "metadata": {
      "tags": []
     },
     "output_type": "execute_result"
    }
   ],
   "source": [
    "tf.__version__"
   ]
  },
  {
   "cell_type": "code",
   "execution_count": null,
   "metadata": {
    "colab": {},
    "colab_type": "code",
    "id": "4OySzUXOrRvY"
   },
   "outputs": [],
   "source": [
    "### Lets Do the prediction and check performance metrics\n",
    "train_predict=model.predict(X_train)\n",
    "test_predict=model.predict(X_test)"
   ]
  },
  {
   "cell_type": "code",
   "execution_count": null,
   "metadata": {
    "colab": {},
    "colab_type": "code",
    "id": "FPngNYH-rRva"
   },
   "outputs": [],
   "source": [
    "##Transformback to original form\n",
    "train_predict=scaler.inverse_transform(train_predict)\n",
    "test_predict=scaler.inverse_transform(test_predict)"
   ]
  },
  {
   "cell_type": "code",
   "execution_count": null,
   "metadata": {
    "colab": {
     "base_uri": "https://localhost:8080/",
     "height": 35
    },
    "colab_type": "code",
    "id": "J2EjoFqtrRvc",
    "outputId": "27f05fb9-3986-4f61-c25c-7e00ad9e545d"
   },
   "outputs": [
    {
     "data": {
      "text/plain": [
       "96.36943868615585"
      ]
     },
     "execution_count": 104,
     "metadata": {
      "tags": []
     },
     "output_type": "execute_result"
    }
   ],
   "source": [
    "### Calculate RMSE performance metrics\n",
    "import math\n",
    "from sklearn.metrics import mean_squared_error\n",
    "math.sqrt(mean_squared_error(y_train,train_predict))"
   ]
  },
  {
   "cell_type": "code",
   "execution_count": null,
   "metadata": {
    "colab": {
     "base_uri": "https://localhost:8080/",
     "height": 35
    },
    "colab_type": "code",
    "id": "A-zm_YfKrRve",
    "outputId": "7965f169-6cbb-4e69-987c-7460009953b4"
   },
   "outputs": [
    {
     "data": {
      "text/plain": [
       "696.0024866145086"
      ]
     },
     "execution_count": 105,
     "metadata": {
      "tags": []
     },
     "output_type": "execute_result"
    }
   ],
   "source": [
    "### Test Data RMSE\n",
    "math.sqrt(mean_squared_error(ytest,test_predict))"
   ]
  },
  {
   "cell_type": "code",
   "execution_count": null,
   "metadata": {
    "colab": {
     "base_uri": "https://localhost:8080/",
     "height": 265
    },
    "colab_type": "code",
    "id": "TaNfj-SIrRvg",
    "outputId": "c99098ea-fadb-41e3-b2e2-335aadef6248"
   },
   "outputs": [
    {
     "data": {
      "image/png": "[encoded data removed]",
      "text/plain": [
       "<Figure size 432x288 with 1 Axes>"
      ]
     },
     "metadata": {
      "needs_background": "light",
      "tags": []
     },
     "output_type": "display_data"
    }
   ],
   "source": [
    "### Plotting \n",
    "# shift train predictions for plotting\n",
    "look_back=100\n",
    "trainPredictPlot = numpy.empty_like(df1)\n",
    "trainPredictPlot[:, :] = np.nan\n",
    "trainPredictPlot[look_back:len(train_predict)+look_back, :] = train_predict\n",
    "# shift test predictions for plotting\n",
    "testPredictPlot = numpy.empty_like(df1)\n",
    "testPredictPlot[:, :] = numpy.nan\n",
    "testPredictPlot[len(train_predict)+(look_back*2)+1:len(df1)-1, :] = test_predict\n",
    "# plot baseline and predictions\n",
    "plt.plot(scaler.inverse_transform(df1))\n",
    "plt.plot(trainPredictPlot)\n",
    "plt.plot(testPredictPlot)\n",
    "plt.show()"
   ]
  },
  {
   "cell_type": "code",
   "execution_count": null,
   "metadata": {
    "colab": {
     "base_uri": "https://localhost:8080/",
     "height": 35
    },
    "colab_type": "code",
    "id": "-tntmXTsrRvj",
    "outputId": "834c7db5-dfce-42a3-9952-714e2f80167f"
   },
   "outputs": [
    {
     "data": {
      "text/plain": [
       "2114"
      ]
     },
     "execution_count": 107,
     "metadata": {
      "tags": []
     },
     "output_type": "execute_result"
    }
   ],
   "source": [
    "len(test_data)"
   ]
  },
  {
   "cell_type": "code",
   "execution_count": null,
   "metadata": {
    "colab": {
     "base_uri": "https://localhost:8080/",
     "height": 35
    },
    "colab_type": "code",
    "id": "VvfzYLhQrRvl",
    "outputId": "645c4021-65bd-450e-f586-55962f4adaf8"
   },
   "outputs": [
    {
     "data": {
      "text/plain": [
       "(1, 121)"
      ]
     },
     "execution_count": 116,
     "metadata": {
      "tags": []
     },
     "output_type": "execute_result"
    }
   ],
   "source": [
    "x_input=test_data[1993:].reshape(1,-1)\n",
    "x_input.shape\n"
   ]
  },
  {
   "cell_type": "code",
   "execution_count": null,
   "metadata": {
    "colab": {},
    "colab_type": "code",
    "id": "LIk3o7ctrRvn"
   },
   "outputs": [],
   "source": []
  },
  {
   "cell_type": "code",
   "execution_count": null,
   "metadata": {
    "colab": {},
    "colab_type": "code",
    "id": "9cQI6v6MrRvo"
   },
   "outputs": [],
   "source": []
  },
  {
   "cell_type": "code",
   "execution_count": null,
   "metadata": {
    "colab": {},
    "colab_type": "code",
    "id": "q3c1HQs-rRvt"
   },
   "outputs": [],
   "source": [
    "temp_input=list(x_input)\n",
    "temp_input=temp_input[0].tolist()"
   ]
  },
  {
   "cell_type": "code",
   "execution_count": null,
   "metadata": {
    "colab": {
     "base_uri": "https://localhost:8080/",
     "height": 1000
    },
    "colab_type": "code",
    "id": "lYNwgPtrrRvv",
    "outputId": "c7fb537f-b9f2-4e2f-f46c-c50d81660f1a"
   },
   "outputs": [
    {
     "data": {
      "text/plain": [
       "[0.9922689858461914,\n",
       " 0.9895381992985065,\n",
       " 0.9956152104904631,\n",
       " 1.0,\n",
       " 0.9898074180801959,\n",
       " 0.9754223595172664,\n",
       " 0.9789224913792757,\n",
       " 0.9844226578206768,\n",
       " 0.9766916436668682,\n",
       " 0.9816917781935646,\n",
       " 0.9879611961006113,\n",
       " 0.97384545016805,\n",
       " 0.9527294412807217,\n",
       " 0.967845251811944,\n",
       " 0.9653067781306706,\n",
       " 0.9761532045649868,\n",
       " 0.9848456899714249,\n",
       " 0.9873842575013771,\n",
       " 0.9900766376311366,\n",
       " 0.9860380674364974,\n",
       " 0.9886535408817275,\n",
       " 0.9813456519580944,\n",
       " 0.9634605553818346,\n",
       " 0.9553449154952032,\n",
       " 0.9526525353654437,\n",
       " 0.955729541228026,\n",
       " 0.9554988219436893,\n",
       " 0.9313827131090566,\n",
       " 0.9390752277655124,\n",
       " 0.9488062780372157,\n",
       " 0.9412676698292459,\n",
       " 0.9414599826956573,\n",
       " 0.9156900585965302,\n",
       " 0.9441523628254169,\n",
       " 0.9555757278589673,\n",
       " 0.9518448774818727,\n",
       " 0.9536910056127786,\n",
       " 0.9522295032146956,\n",
       " 0.9524602224990323,\n",
       " 0.9589219532724904,\n",
       " 0.9530756605956191,\n",
       " 0.9361136288540636,\n",
       " 0.9344213125537136,\n",
       " 0.9314212133756606,\n",
       " 0.9421522336280949,\n",
       " 0.934382813056361,\n",
       " 0.9288826458457085,\n",
       " 0.9214594445888721,\n",
       " 0.9206516928566225,\n",
       " 0.9208055054564298,\n",
       " 0.904035879660713,\n",
       " 0.9055358830946515,\n",
       " 0.9072282924744288,\n",
       " 0.8818814005260497,\n",
       " 0.8838045291901637,\n",
       " 0.8711503795043641,\n",
       " 0.8499190582838326,\n",
       " 0.8549191928105289,\n",
       " 0.7837633853139728,\n",
       " 0.8210721283221231,\n",
       " 0.7669937125939166,\n",
       " 0.7482239583701291,\n",
       " 0.6726835013678029,\n",
       " 0.6870300135090404,\n",
       " 0.6772605106643237,\n",
       " 0.5916428317689876,\n",
       " 0.5886812320882873,\n",
       " 0.6571830658730091,\n",
       " 0.6912993499123556,\n",
       " 0.6938763700153212,\n",
       " 0.6378748725473401,\n",
       " 0.6611447293831191,\n",
       " 0.6363363696160489,\n",
       " 0.6241821595347783,\n",
       " 0.6874530925841278,\n",
       " 0.6819145189555499,\n",
       " 0.7097229317455851,\n",
       " 0.6868761539848935,\n",
       " 0.6622216537419702,\n",
       " 0.6748758495828576,\n",
       " 0.6983764726273127,\n",
       " 0.7249541015343501,\n",
       " 0.7071075044554429,\n",
       " 0.7124537652176093,\n",
       " 0.7327235690304233,\n",
       " 0.7197232007989777,\n",
       " 0.7132999695228722,\n",
       " 0.7146077062454873,\n",
       " 0.7497624613014202,\n",
       " 0.7687629817338838,\n",
       " 0.7081459754720292,\n",
       " 0.6992611302748403,\n",
       " 0.7261464782301712,\n",
       " 0.7096844784033204,\n",
       " 0.7127999376081674,\n",
       " 0.7026073556883634,\n",
       " 0.6916455223029138,\n",
       " 0.7117230132493164,\n",
       " 0.685606916759631,\n",
       " 0.6813375803563158,\n",
       " 0.6417211298755681,\n",
       " 0.6371056210816946,\n",
       " 0.6574522854239498,\n",
       " 0.6593369607457993,\n",
       " 0.6434134461759179,\n",
       " 0.653836840459486,\n",
       " 0.6932609780738224,\n",
       " 0.7252618205826435,\n",
       " 0.7301850484248105,\n",
       " 0.7578781011880515,\n",
       " 0.768147589792385,\n",
       " 0.7844941834373537,\n",
       " 0.7686860750493545,\n",
       " 0.7930328562439845,\n",
       " 0.7796094550925394,\n",
       " 0.7576088354820228,\n",
       " 0.7611089204196927,\n",
       " 0.7432238238434328,\n",
       " 0.754108750544353,\n",
       " 0.728800358862578,\n",
       " 0.759993542718577]"
      ]
     },
     "execution_count": 118,
     "metadata": {
      "tags": []
     },
     "output_type": "execute_result"
    }
   ],
   "source": [
    "temp_input"
   ]
  },
  {
   "cell_type": "code",
   "execution_count": null,
   "metadata": {
    "colab": {
     "base_uri": "https://localhost:8080/",
     "height": 1000
    },
    "colab_type": "code",
    "id": "NEGFpENPrRvx",
    "outputId": "624d9111-1a7d-43a6-8580-512ff34abfce"
   },
   "outputs": [
    {
     "name": "stdout",
     "output_type": "stream",
     "text": [
      "0 day input [0.9895382  0.99561521 1.         0.98980742 0.97542236 0.97892249\n",
      " 0.98442266 0.97669164 0.98169178 0.9879612  0.97384545 0.95272944\n",
      " 0.96784525 0.96530678 0.9761532  0.98484569 0.98738426 0.99007664\n",
      " 0.98603807 0.98865354 0.98134565 0.96346056 0.95534492 0.95265254\n",
      " 0.95572954 0.95549882 0.93138271 0.93907523 0.94880628 0.94126767\n",
      " 0.94145998 0.91569006 0.94415236 0.95557573 0.95184488 0.95369101\n",
      " 0.9522295  0.95246022 0.95892195 0.95307566 0.93611363 0.93442131\n",
      " 0.93142121 0.94215223 0.93438281 0.92888265 0.92145944 0.92065169\n",
      " 0.92080551 0.90403588 0.90553588 0.90722829 0.8818814  0.88380453\n",
      " 0.87115038 0.84991906 0.85491919 0.78376339 0.82107213 0.76699371\n",
      " 0.74822396 0.6726835  0.68703001 0.67726051 0.59164283 0.58868123\n",
      " 0.65718307 0.69129935 0.69387637 0.63787487 0.66114473 0.63633637\n",
      " 0.62418216 0.68745309 0.68191452 0.70972293 0.68687615 0.66222165\n",
      " 0.67487585 0.69837647 0.7249541  0.7071075  0.71245377 0.73272357\n",
      " 0.7197232  0.71329997 0.71460771 0.74976246 0.76876298 0.70814598\n",
      " 0.69926113 0.72614648 0.70968448 0.71279994 0.70260736 0.69164552\n",
      " 0.71172301 0.68560692 0.68133758 0.64172113 0.63710562 0.65745229\n",
      " 0.65933696 0.64341345 0.65383684 0.69326098 0.72526182 0.73018505\n",
      " 0.7578781  0.76814759 0.78449418 0.76868608 0.79303286 0.77960946\n",
      " 0.75760884 0.76110892 0.74322382 0.75410875 0.72880036 0.75999354]\n",
      "WARNING:tensorflow:Model was constructed with shape (None, 100, 1) for input Tensor(\"lstm_3_input:0\", shape=(None, 100, 1), dtype=float32), but it was called on an input with incompatible shape (None, 120, 1).\n",
      "0 day output [[0.70924896]]\n",
      "1 day input [0.99561521 1.         0.98980742 0.97542236 0.97892249 0.98442266\n",
      " 0.97669164 0.98169178 0.9879612  0.97384545 0.95272944 0.96784525\n",
      " 0.96530678 0.9761532  0.98484569 0.98738426 0.99007664 0.98603807\n",
      " 0.98865354 0.98134565 0.96346056 0.95534492 0.95265254 0.95572954\n",
      " 0.95549882 0.93138271 0.93907523 0.94880628 0.94126767 0.94145998\n",
      " 0.91569006 0.94415236 0.95557573 0.95184488 0.95369101 0.9522295\n",
      " 0.95246022 0.95892195 0.95307566 0.93611363 0.93442131 0.93142121\n",
      " 0.94215223 0.93438281 0.92888265 0.92145944 0.92065169 0.92080551\n",
      " 0.90403588 0.90553588 0.90722829 0.8818814  0.88380453 0.87115038\n",
      " 0.84991906 0.85491919 0.78376339 0.82107213 0.76699371 0.74822396\n",
      " 0.6726835  0.68703001 0.67726051 0.59164283 0.58868123 0.65718307\n",
      " 0.69129935 0.69387637 0.63787487 0.66114473 0.63633637 0.62418216\n",
      " 0.68745309 0.68191452 0.70972293 0.68687615 0.66222165 0.67487585\n",
      " 0.69837647 0.7249541  0.7071075  0.71245377 0.73272357 0.7197232\n",
      " 0.71329997 0.71460771 0.74976246 0.76876298 0.70814598 0.69926113\n",
      " 0.72614648 0.70968448 0.71279994 0.70260736 0.69164552 0.71172301\n",
      " 0.68560692 0.68133758 0.64172113 0.63710562 0.65745229 0.65933696\n",
      " 0.64341345 0.65383684 0.69326098 0.72526182 0.73018505 0.7578781\n",
      " 0.76814759 0.78449418 0.76868608 0.79303286 0.77960946 0.75760884\n",
      " 0.76110892 0.74322382 0.75410875 0.72880036 0.75999354 0.70924896]\n",
      "1 day output [[0.687715]]\n",
      "2 day input [1.         0.98980742 0.97542236 0.97892249 0.98442266 0.97669164\n",
      " 0.98169178 0.9879612  0.97384545 0.95272944 0.96784525 0.96530678\n",
      " 0.9761532  0.98484569 0.98738426 0.99007664 0.98603807 0.98865354\n",
      " 0.98134565 0.96346056 0.95534492 0.95265254 0.95572954 0.95549882\n",
      " 0.93138271 0.93907523 0.94880628 0.94126767 0.94145998 0.91569006\n",
      " 0.94415236 0.95557573 0.95184488 0.95369101 0.9522295  0.95246022\n",
      " 0.95892195 0.95307566 0.93611363 0.93442131 0.93142121 0.94215223\n",
      " 0.93438281 0.92888265 0.92145944 0.92065169 0.92080551 0.90403588\n",
      " 0.90553588 0.90722829 0.8818814  0.88380453 0.87115038 0.84991906\n",
      " 0.85491919 0.78376339 0.82107213 0.76699371 0.74822396 0.6726835\n",
      " 0.68703001 0.67726051 0.59164283 0.58868123 0.65718307 0.69129935\n",
      " 0.69387637 0.63787487 0.66114473 0.63633637 0.62418216 0.68745309\n",
      " 0.68191452 0.70972293 0.68687615 0.66222165 0.67487585 0.69837647\n",
      " 0.7249541  0.7071075  0.71245377 0.73272357 0.7197232  0.71329997\n",
      " 0.71460771 0.74976246 0.76876298 0.70814598 0.69926113 0.72614648\n",
      " 0.70968448 0.71279994 0.70260736 0.69164552 0.71172301 0.68560692\n",
      " 0.68133758 0.64172113 0.63710562 0.65745229 0.65933696 0.64341345\n",
      " 0.65383684 0.69326098 0.72526182 0.73018505 0.7578781  0.76814759\n",
      " 0.78449418 0.76868608 0.79303286 0.77960946 0.75760884 0.76110892\n",
      " 0.74322382 0.75410875 0.72880036 0.75999354 0.70924896 0.68771499]\n",
      "2 day output [[0.66652465]]\n",
      "3 day input [0.98980742 0.97542236 0.97892249 0.98442266 0.97669164 0.98169178\n",
      " 0.9879612  0.97384545 0.95272944 0.96784525 0.96530678 0.9761532\n",
      " 0.98484569 0.98738426 0.99007664 0.98603807 0.98865354 0.98134565\n",
      " 0.96346056 0.95534492 0.95265254 0.95572954 0.95549882 0.93138271\n",
      " 0.93907523 0.94880628 0.94126767 0.94145998 0.91569006 0.94415236\n",
      " 0.95557573 0.95184488 0.95369101 0.9522295  0.95246022 0.95892195\n",
      " 0.95307566 0.93611363 0.93442131 0.93142121 0.94215223 0.93438281\n",
      " 0.92888265 0.92145944 0.92065169 0.92080551 0.90403588 0.90553588\n",
      " 0.90722829 0.8818814  0.88380453 0.87115038 0.84991906 0.85491919\n",
      " 0.78376339 0.82107213 0.76699371 0.74822396 0.6726835  0.68703001\n",
      " 0.67726051 0.59164283 0.58868123 0.65718307 0.69129935 0.69387637\n",
      " 0.63787487 0.66114473 0.63633637 0.62418216 0.68745309 0.68191452\n",
      " 0.70972293 0.68687615 0.66222165 0.67487585 0.69837647 0.7249541\n",
      " 0.7071075  0.71245377 0.73272357 0.7197232  0.71329997 0.71460771\n",
      " 0.74976246 0.76876298 0.70814598 0.69926113 0.72614648 0.70968448\n",
      " 0.71279994 0.70260736 0.69164552 0.71172301 0.68560692 0.68133758\n",
      " 0.64172113 0.63710562 0.65745229 0.65933696 0.64341345 0.65383684\n",
      " 0.69326098 0.72526182 0.73018505 0.7578781  0.76814759 0.78449418\n",
      " 0.76868608 0.79303286 0.77960946 0.75760884 0.76110892 0.74322382\n",
      " 0.75410875 0.72880036 0.75999354 0.70924896 0.68771499 0.66652465]\n",
      "3 day output [[0.64825994]]\n",
      "4 day input [0.97542236 0.97892249 0.98442266 0.97669164 0.98169178 0.9879612\n",
      " 0.97384545 0.95272944 0.96784525 0.96530678 0.9761532  0.98484569\n",
      " 0.98738426 0.99007664 0.98603807 0.98865354 0.98134565 0.96346056\n",
      " 0.95534492 0.95265254 0.95572954 0.95549882 0.93138271 0.93907523\n",
      " 0.94880628 0.94126767 0.94145998 0.91569006 0.94415236 0.95557573\n",
      " 0.95184488 0.95369101 0.9522295  0.95246022 0.95892195 0.95307566\n",
      " 0.93611363 0.93442131 0.93142121 0.94215223 0.93438281 0.92888265\n",
      " 0.92145944 0.92065169 0.92080551 0.90403588 0.90553588 0.90722829\n",
      " 0.8818814  0.88380453 0.87115038 0.84991906 0.85491919 0.78376339\n",
      " 0.82107213 0.76699371 0.74822396 0.6726835  0.68703001 0.67726051\n",
      " 0.59164283 0.58868123 0.65718307 0.69129935 0.69387637 0.63787487\n",
      " 0.66114473 0.63633637 0.62418216 0.68745309 0.68191452 0.70972293\n",
      " 0.68687615 0.66222165 0.67487585 0.69837647 0.7249541  0.7071075\n",
      " 0.71245377 0.73272357 0.7197232  0.71329997 0.71460771 0.74976246\n",
      " 0.76876298 0.70814598 0.69926113 0.72614648 0.70968448 0.71279994\n",
      " 0.70260736 0.69164552 0.71172301 0.68560692 0.68133758 0.64172113\n",
      " 0.63710562 0.65745229 0.65933696 0.64341345 0.65383684 0.69326098\n",
      " 0.72526182 0.73018505 0.7578781  0.76814759 0.78449418 0.76868608\n",
      " 0.79303286 0.77960946 0.75760884 0.76110892 0.74322382 0.75410875\n",
      " 0.72880036 0.75999354 0.70924896 0.68771499 0.66652465 0.64825994]\n",
      "4 day output [[0.6325719]]\n",
      "5 day input [0.97892249 0.98442266 0.97669164 0.98169178 0.9879612  0.97384545\n",
      " 0.95272944 0.96784525 0.96530678 0.9761532  0.98484569 0.98738426\n",
      " 0.99007664 0.98603807 0.98865354 0.98134565 0.96346056 0.95534492\n",
      " 0.95265254 0.95572954 0.95549882 0.93138271 0.93907523 0.94880628\n",
      " 0.94126767 0.94145998 0.91569006 0.94415236 0.95557573 0.95184488\n",
      " 0.95369101 0.9522295  0.95246022 0.95892195 0.95307566 0.93611363\n",
      " 0.93442131 0.93142121 0.94215223 0.93438281 0.92888265 0.92145944\n",
      " 0.92065169 0.92080551 0.90403588 0.90553588 0.90722829 0.8818814\n",
      " 0.88380453 0.87115038 0.84991906 0.85491919 0.78376339 0.82107213\n",
      " 0.76699371 0.74822396 0.6726835  0.68703001 0.67726051 0.59164283\n",
      " 0.58868123 0.65718307 0.69129935 0.69387637 0.63787487 0.66114473\n",
      " 0.63633637 0.62418216 0.68745309 0.68191452 0.70972293 0.68687615\n",
      " 0.66222165 0.67487585 0.69837647 0.7249541  0.7071075  0.71245377\n",
      " 0.73272357 0.7197232  0.71329997 0.71460771 0.74976246 0.76876298\n",
      " 0.70814598 0.69926113 0.72614648 0.70968448 0.71279994 0.70260736\n",
      " 0.69164552 0.71172301 0.68560692 0.68133758 0.64172113 0.63710562\n",
      " 0.65745229 0.65933696 0.64341345 0.65383684 0.69326098 0.72526182\n",
      " 0.73018505 0.7578781  0.76814759 0.78449418 0.76868608 0.79303286\n",
      " 0.77960946 0.75760884 0.76110892 0.74322382 0.75410875 0.72880036\n",
      " 0.75999354 0.70924896 0.68771499 0.66652465 0.64825994 0.63257188]\n",
      "5 day output [[0.61875784]]\n",
      "6 day input [0.98442266 0.97669164 0.98169178 0.9879612  0.97384545 0.95272944\n",
      " 0.96784525 0.96530678 0.9761532  0.98484569 0.98738426 0.99007664\n",
      " 0.98603807 0.98865354 0.98134565 0.96346056 0.95534492 0.95265254\n",
      " 0.95572954 0.95549882 0.93138271 0.93907523 0.94880628 0.94126767\n",
      " 0.94145998 0.91569006 0.94415236 0.95557573 0.95184488 0.95369101\n",
      " 0.9522295  0.95246022 0.95892195 0.95307566 0.93611363 0.93442131\n",
      " 0.93142121 0.94215223 0.93438281 0.92888265 0.92145944 0.92065169\n",
      " 0.92080551 0.90403588 0.90553588 0.90722829 0.8818814  0.88380453\n",
      " 0.87115038 0.84991906 0.85491919 0.78376339 0.82107213 0.76699371\n",
      " 0.74822396 0.6726835  0.68703001 0.67726051 0.59164283 0.58868123\n",
      " 0.65718307 0.69129935 0.69387637 0.63787487 0.66114473 0.63633637\n",
      " 0.62418216 0.68745309 0.68191452 0.70972293 0.68687615 0.66222165\n",
      " 0.67487585 0.69837647 0.7249541  0.7071075  0.71245377 0.73272357\n",
      " 0.7197232  0.71329997 0.71460771 0.74976246 0.76876298 0.70814598\n",
      " 0.69926113 0.72614648 0.70968448 0.71279994 0.70260736 0.69164552\n",
      " 0.71172301 0.68560692 0.68133758 0.64172113 0.63710562 0.65745229\n",
      " 0.65933696 0.64341345 0.65383684 0.69326098 0.72526182 0.73018505\n",
      " 0.7578781  0.76814759 0.78449418 0.76868608 0.79303286 0.77960946\n",
      " 0.75760884 0.76110892 0.74322382 0.75410875 0.72880036 0.75999354\n",
      " 0.70924896 0.68771499 0.66652465 0.64825994 0.63257188 0.61875784]\n",
      "6 day output [[0.6061521]]\n",
      "7 day input [0.97669164 0.98169178 0.9879612  0.97384545 0.95272944 0.96784525\n",
      " 0.96530678 0.9761532  0.98484569 0.98738426 0.99007664 0.98603807\n",
      " 0.98865354 0.98134565 0.96346056 0.95534492 0.95265254 0.95572954\n",
      " 0.95549882 0.93138271 0.93907523 0.94880628 0.94126767 0.94145998\n",
      " 0.91569006 0.94415236 0.95557573 0.95184488 0.95369101 0.9522295\n",
      " 0.95246022 0.95892195 0.95307566 0.93611363 0.93442131 0.93142121\n",
      " 0.94215223 0.93438281 0.92888265 0.92145944 0.92065169 0.92080551\n",
      " 0.90403588 0.90553588 0.90722829 0.8818814  0.88380453 0.87115038\n",
      " 0.84991906 0.85491919 0.78376339 0.82107213 0.76699371 0.74822396\n",
      " 0.6726835  0.68703001 0.67726051 0.59164283 0.58868123 0.65718307\n",
      " 0.69129935 0.69387637 0.63787487 0.66114473 0.63633637 0.62418216\n",
      " 0.68745309 0.68191452 0.70972293 0.68687615 0.66222165 0.67487585\n",
      " 0.69837647 0.7249541  0.7071075  0.71245377 0.73272357 0.7197232\n",
      " 0.71329997 0.71460771 0.74976246 0.76876298 0.70814598 0.69926113\n",
      " 0.72614648 0.70968448 0.71279994 0.70260736 0.69164552 0.71172301\n",
      " 0.68560692 0.68133758 0.64172113 0.63710562 0.65745229 0.65933696\n",
      " 0.64341345 0.65383684 0.69326098 0.72526182 0.73018505 0.7578781\n",
      " 0.76814759 0.78449418 0.76868608 0.79303286 0.77960946 0.75760884\n",
      " 0.76110892 0.74322382 0.75410875 0.72880036 0.75999354 0.70924896\n",
      " 0.68771499 0.66652465 0.64825994 0.63257188 0.61875784 0.60615212]\n",
      "7 day output [[0.59425443]]\n",
      "8 day input [0.98169178 0.9879612  0.97384545 0.95272944 0.96784525 0.96530678\n",
      " 0.9761532  0.98484569 0.98738426 0.99007664 0.98603807 0.98865354\n",
      " 0.98134565 0.96346056 0.95534492 0.95265254 0.95572954 0.95549882\n",
      " 0.93138271 0.93907523 0.94880628 0.94126767 0.94145998 0.91569006\n",
      " 0.94415236 0.95557573 0.95184488 0.95369101 0.9522295  0.95246022\n",
      " 0.95892195 0.95307566 0.93611363 0.93442131 0.93142121 0.94215223\n",
      " 0.93438281 0.92888265 0.92145944 0.92065169 0.92080551 0.90403588\n",
      " 0.90553588 0.90722829 0.8818814  0.88380453 0.87115038 0.84991906\n",
      " 0.85491919 0.78376339 0.82107213 0.76699371 0.74822396 0.6726835\n",
      " 0.68703001 0.67726051 0.59164283 0.58868123 0.65718307 0.69129935\n",
      " 0.69387637 0.63787487 0.66114473 0.63633637 0.62418216 0.68745309\n",
      " 0.68191452 0.70972293 0.68687615 0.66222165 0.67487585 0.69837647\n",
      " 0.7249541  0.7071075  0.71245377 0.73272357 0.7197232  0.71329997\n",
      " 0.71460771 0.74976246 0.76876298 0.70814598 0.69926113 0.72614648\n",
      " 0.70968448 0.71279994 0.70260736 0.69164552 0.71172301 0.68560692\n",
      " 0.68133758 0.64172113 0.63710562 0.65745229 0.65933696 0.64341345\n",
      " 0.65383684 0.69326098 0.72526182 0.73018505 0.7578781  0.76814759\n",
      " 0.78449418 0.76868608 0.79303286 0.77960946 0.75760884 0.76110892\n",
      " 0.74322382 0.75410875 0.72880036 0.75999354 0.70924896 0.68771499\n",
      " 0.66652465 0.64825994 0.63257188 0.61875784 0.60615212 0.59425443]\n",
      "8 day output [[0.5827573]]\n",
      "9 day input [0.9879612  0.97384545 0.95272944 0.96784525 0.96530678 0.9761532\n",
      " 0.98484569 0.98738426 0.99007664 0.98603807 0.98865354 0.98134565\n",
      " 0.96346056 0.95534492 0.95265254 0.95572954 0.95549882 0.93138271\n",
      " 0.93907523 0.94880628 0.94126767 0.94145998 0.91569006 0.94415236\n",
      " 0.95557573 0.95184488 0.95369101 0.9522295  0.95246022 0.95892195\n",
      " 0.95307566 0.93611363 0.93442131 0.93142121 0.94215223 0.93438281\n",
      " 0.92888265 0.92145944 0.92065169 0.92080551 0.90403588 0.90553588\n",
      " 0.90722829 0.8818814  0.88380453 0.87115038 0.84991906 0.85491919\n",
      " 0.78376339 0.82107213 0.76699371 0.74822396 0.6726835  0.68703001\n",
      " 0.67726051 0.59164283 0.58868123 0.65718307 0.69129935 0.69387637\n",
      " 0.63787487 0.66114473 0.63633637 0.62418216 0.68745309 0.68191452\n",
      " 0.70972293 0.68687615 0.66222165 0.67487585 0.69837647 0.7249541\n",
      " 0.7071075  0.71245377 0.73272357 0.7197232  0.71329997 0.71460771\n",
      " 0.74976246 0.76876298 0.70814598 0.69926113 0.72614648 0.70968448\n",
      " 0.71279994 0.70260736 0.69164552 0.71172301 0.68560692 0.68133758\n",
      " 0.64172113 0.63710562 0.65745229 0.65933696 0.64341345 0.65383684\n",
      " 0.69326098 0.72526182 0.73018505 0.7578781  0.76814759 0.78449418\n",
      " 0.76868608 0.79303286 0.77960946 0.75760884 0.76110892 0.74322382\n",
      " 0.75410875 0.72880036 0.75999354 0.70924896 0.68771499 0.66652465\n",
      " 0.64825994 0.63257188 0.61875784 0.60615212 0.59425443 0.58275729]\n",
      "9 day output [[0.5715172]]\n",
      "10 day input [0.97384545 0.95272944 0.96784525 0.96530678 0.9761532  0.98484569\n",
      " 0.98738426 0.99007664 0.98603807 0.98865354 0.98134565 0.96346056\n",
      " 0.95534492 0.95265254 0.95572954 0.95549882 0.93138271 0.93907523\n",
      " 0.94880628 0.94126767 0.94145998 0.91569006 0.94415236 0.95557573\n",
      " 0.95184488 0.95369101 0.9522295  0.95246022 0.95892195 0.95307566\n",
      " 0.93611363 0.93442131 0.93142121 0.94215223 0.93438281 0.92888265\n",
      " 0.92145944 0.92065169 0.92080551 0.90403588 0.90553588 0.90722829\n",
      " 0.8818814  0.88380453 0.87115038 0.84991906 0.85491919 0.78376339\n",
      " 0.82107213 0.76699371 0.74822396 0.6726835  0.68703001 0.67726051\n",
      " 0.59164283 0.58868123 0.65718307 0.69129935 0.69387637 0.63787487\n",
      " 0.66114473 0.63633637 0.62418216 0.68745309 0.68191452 0.70972293\n",
      " 0.68687615 0.66222165 0.67487585 0.69837647 0.7249541  0.7071075\n",
      " 0.71245377 0.73272357 0.7197232  0.71329997 0.71460771 0.74976246\n",
      " 0.76876298 0.70814598 0.69926113 0.72614648 0.70968448 0.71279994\n",
      " 0.70260736 0.69164552 0.71172301 0.68560692 0.68133758 0.64172113\n",
      " 0.63710562 0.65745229 0.65933696 0.64341345 0.65383684 0.69326098\n",
      " 0.72526182 0.73018505 0.7578781  0.76814759 0.78449418 0.76868608\n",
      " 0.79303286 0.77960946 0.75760884 0.76110892 0.74322382 0.75410875\n",
      " 0.72880036 0.75999354 0.70924896 0.68771499 0.66652465 0.64825994\n",
      " 0.63257188 0.61875784 0.60615212 0.59425443 0.58275729 0.57151723]\n",
      "10 day output [[0.5605053]]\n",
      "11 day input [0.95272944 0.96784525 0.96530678 0.9761532  0.98484569 0.98738426\n",
      " 0.99007664 0.98603807 0.98865354 0.98134565 0.96346056 0.95534492\n",
      " 0.95265254 0.95572954 0.95549882 0.93138271 0.93907523 0.94880628\n",
      " 0.94126767 0.94145998 0.91569006 0.94415236 0.95557573 0.95184488\n",
      " 0.95369101 0.9522295  0.95246022 0.95892195 0.95307566 0.93611363\n",
      " 0.93442131 0.93142121 0.94215223 0.93438281 0.92888265 0.92145944\n",
      " 0.92065169 0.92080551 0.90403588 0.90553588 0.90722829 0.8818814\n",
      " 0.88380453 0.87115038 0.84991906 0.85491919 0.78376339 0.82107213\n",
      " 0.76699371 0.74822396 0.6726835  0.68703001 0.67726051 0.59164283\n",
      " 0.58868123 0.65718307 0.69129935 0.69387637 0.63787487 0.66114473\n",
      " 0.63633637 0.62418216 0.68745309 0.68191452 0.70972293 0.68687615\n",
      " 0.66222165 0.67487585 0.69837647 0.7249541  0.7071075  0.71245377\n",
      " 0.73272357 0.7197232  0.71329997 0.71460771 0.74976246 0.76876298\n",
      " 0.70814598 0.69926113 0.72614648 0.70968448 0.71279994 0.70260736\n",
      " 0.69164552 0.71172301 0.68560692 0.68133758 0.64172113 0.63710562\n",
      " 0.65745229 0.65933696 0.64341345 0.65383684 0.69326098 0.72526182\n",
      " 0.73018505 0.7578781  0.76814759 0.78449418 0.76868608 0.79303286\n",
      " 0.77960946 0.75760884 0.76110892 0.74322382 0.75410875 0.72880036\n",
      " 0.75999354 0.70924896 0.68771499 0.66652465 0.64825994 0.63257188\n",
      " 0.61875784 0.60615212 0.59425443 0.58275729 0.57151723 0.56050527]\n",
      "11 day output [[0.54975456]]\n",
      "12 day input [0.96784525 0.96530678 0.9761532  0.98484569 0.98738426 0.99007664\n",
      " 0.98603807 0.98865354 0.98134565 0.96346056 0.95534492 0.95265254\n",
      " 0.95572954 0.95549882 0.93138271 0.93907523 0.94880628 0.94126767\n",
      " 0.94145998 0.91569006 0.94415236 0.95557573 0.95184488 0.95369101\n",
      " 0.9522295  0.95246022 0.95892195 0.95307566 0.93611363 0.93442131\n",
      " 0.93142121 0.94215223 0.93438281 0.92888265 0.92145944 0.92065169\n",
      " 0.92080551 0.90403588 0.90553588 0.90722829 0.8818814  0.88380453\n",
      " 0.87115038 0.84991906 0.85491919 0.78376339 0.82107213 0.76699371\n",
      " 0.74822396 0.6726835  0.68703001 0.67726051 0.59164283 0.58868123\n",
      " 0.65718307 0.69129935 0.69387637 0.63787487 0.66114473 0.63633637\n",
      " 0.62418216 0.68745309 0.68191452 0.70972293 0.68687615 0.66222165\n",
      " 0.67487585 0.69837647 0.7249541  0.7071075  0.71245377 0.73272357\n",
      " 0.7197232  0.71329997 0.71460771 0.74976246 0.76876298 0.70814598\n",
      " 0.69926113 0.72614648 0.70968448 0.71279994 0.70260736 0.69164552\n",
      " 0.71172301 0.68560692 0.68133758 0.64172113 0.63710562 0.65745229\n",
      " 0.65933696 0.64341345 0.65383684 0.69326098 0.72526182 0.73018505\n",
      " 0.7578781  0.76814759 0.78449418 0.76868608 0.79303286 0.77960946\n",
      " 0.75760884 0.76110892 0.74322382 0.75410875 0.72880036 0.75999354\n",
      " 0.70924896 0.68771499 0.66652465 0.64825994 0.63257188 0.61875784\n",
      " 0.60615212 0.59425443 0.58275729 0.57151723 0.56050527 0.54975456]\n",
      "12 day output [[0.53932077]]\n",
      "13 day input [0.96530678 0.9761532  0.98484569 0.98738426 0.99007664 0.98603807\n",
      " 0.98865354 0.98134565 0.96346056 0.95534492 0.95265254 0.95572954\n",
      " 0.95549882 0.93138271 0.93907523 0.94880628 0.94126767 0.94145998\n",
      " 0.91569006 0.94415236 0.95557573 0.95184488 0.95369101 0.9522295\n",
      " 0.95246022 0.95892195 0.95307566 0.93611363 0.93442131 0.93142121\n",
      " 0.94215223 0.93438281 0.92888265 0.92145944 0.92065169 0.92080551\n",
      " 0.90403588 0.90553588 0.90722829 0.8818814  0.88380453 0.87115038\n",
      " 0.84991906 0.85491919 0.78376339 0.82107213 0.76699371 0.74822396\n",
      " 0.6726835  0.68703001 0.67726051 0.59164283 0.58868123 0.65718307\n",
      " 0.69129935 0.69387637 0.63787487 0.66114473 0.63633637 0.62418216\n",
      " 0.68745309 0.68191452 0.70972293 0.68687615 0.66222165 0.67487585\n",
      " 0.69837647 0.7249541  0.7071075  0.71245377 0.73272357 0.7197232\n",
      " 0.71329997 0.71460771 0.74976246 0.76876298 0.70814598 0.69926113\n",
      " 0.72614648 0.70968448 0.71279994 0.70260736 0.69164552 0.71172301\n",
      " 0.68560692 0.68133758 0.64172113 0.63710562 0.65745229 0.65933696\n",
      " 0.64341345 0.65383684 0.69326098 0.72526182 0.73018505 0.7578781\n",
      " 0.76814759 0.78449418 0.76868608 0.79303286 0.77960946 0.75760884\n",
      " 0.76110892 0.74322382 0.75410875 0.72880036 0.75999354 0.70924896\n",
      " 0.68771499 0.66652465 0.64825994 0.63257188 0.61875784 0.60615212\n",
      " 0.59425443 0.58275729 0.57151723 0.56050527 0.54975456 0.53932077]\n",
      "13 day output [[0.52925545]]\n",
      "14 day input [0.9761532  0.98484569 0.98738426 0.99007664 0.98603807 0.98865354\n",
      " 0.98134565 0.96346056 0.95534492 0.95265254 0.95572954 0.95549882\n",
      " 0.93138271 0.93907523 0.94880628 0.94126767 0.94145998 0.91569006\n",
      " 0.94415236 0.95557573 0.95184488 0.95369101 0.9522295  0.95246022\n",
      " 0.95892195 0.95307566 0.93611363 0.93442131 0.93142121 0.94215223\n",
      " 0.93438281 0.92888265 0.92145944 0.92065169 0.92080551 0.90403588\n",
      " 0.90553588 0.90722829 0.8818814  0.88380453 0.87115038 0.84991906\n",
      " 0.85491919 0.78376339 0.82107213 0.76699371 0.74822396 0.6726835\n",
      " 0.68703001 0.67726051 0.59164283 0.58868123 0.65718307 0.69129935\n",
      " 0.69387637 0.63787487 0.66114473 0.63633637 0.62418216 0.68745309\n",
      " 0.68191452 0.70972293 0.68687615 0.66222165 0.67487585 0.69837647\n",
      " 0.7249541  0.7071075  0.71245377 0.73272357 0.7197232  0.71329997\n",
      " 0.71460771 0.74976246 0.76876298 0.70814598 0.69926113 0.72614648\n",
      " 0.70968448 0.71279994 0.70260736 0.69164552 0.71172301 0.68560692\n",
      " 0.68133758 0.64172113 0.63710562 0.65745229 0.65933696 0.64341345\n",
      " 0.65383684 0.69326098 0.72526182 0.73018505 0.7578781  0.76814759\n",
      " 0.78449418 0.76868608 0.79303286 0.77960946 0.75760884 0.76110892\n",
      " 0.74322382 0.75410875 0.72880036 0.75999354 0.70924896 0.68771499\n",
      " 0.66652465 0.64825994 0.63257188 0.61875784 0.60615212 0.59425443\n",
      " 0.58275729 0.57151723 0.56050527 0.54975456 0.53932077 0.52925545]\n",
      "14 day output [[0.5195931]]\n",
      "15 day input [0.98484569 0.98738426 0.99007664 0.98603807 0.98865354 0.98134565\n",
      " 0.96346056 0.95534492 0.95265254 0.95572954 0.95549882 0.93138271\n",
      " 0.93907523 0.94880628 0.94126767 0.94145998 0.91569006 0.94415236\n",
      " 0.95557573 0.95184488 0.95369101 0.9522295  0.95246022 0.95892195\n",
      " 0.95307566 0.93611363 0.93442131 0.93142121 0.94215223 0.93438281\n",
      " 0.92888265 0.92145944 0.92065169 0.92080551 0.90403588 0.90553588\n",
      " 0.90722829 0.8818814  0.88380453 0.87115038 0.84991906 0.85491919\n",
      " 0.78376339 0.82107213 0.76699371 0.74822396 0.6726835  0.68703001\n",
      " 0.67726051 0.59164283 0.58868123 0.65718307 0.69129935 0.69387637\n",
      " 0.63787487 0.66114473 0.63633637 0.62418216 0.68745309 0.68191452\n",
      " 0.70972293 0.68687615 0.66222165 0.67487585 0.69837647 0.7249541\n",
      " 0.7071075  0.71245377 0.73272357 0.7197232  0.71329997 0.71460771\n",
      " 0.74976246 0.76876298 0.70814598 0.69926113 0.72614648 0.70968448\n",
      " 0.71279994 0.70260736 0.69164552 0.71172301 0.68560692 0.68133758\n",
      " 0.64172113 0.63710562 0.65745229 0.65933696 0.64341345 0.65383684\n",
      " 0.69326098 0.72526182 0.73018505 0.7578781  0.76814759 0.78449418\n",
      " 0.76868608 0.79303286 0.77960946 0.75760884 0.76110892 0.74322382\n",
      " 0.75410875 0.72880036 0.75999354 0.70924896 0.68771499 0.66652465\n",
      " 0.64825994 0.63257188 0.61875784 0.60615212 0.59425443 0.58275729\n",
      " 0.57151723 0.56050527 0.54975456 0.53932077 0.52925545 0.51959312]\n",
      "15 day output [[0.5103478]]\n",
      "16 day input [0.98738426 0.99007664 0.98603807 0.98865354 0.98134565 0.96346056\n",
      " 0.95534492 0.95265254 0.95572954 0.95549882 0.93138271 0.93907523\n",
      " 0.94880628 0.94126767 0.94145998 0.91569006 0.94415236 0.95557573\n",
      " 0.95184488 0.95369101 0.9522295  0.95246022 0.95892195 0.95307566\n",
      " 0.93611363 0.93442131 0.93142121 0.94215223 0.93438281 0.92888265\n",
      " 0.92145944 0.92065169 0.92080551 0.90403588 0.90553588 0.90722829\n",
      " 0.8818814  0.88380453 0.87115038 0.84991906 0.85491919 0.78376339\n",
      " 0.82107213 0.76699371 0.74822396 0.6726835  0.68703001 0.67726051\n",
      " 0.59164283 0.58868123 0.65718307 0.69129935 0.69387637 0.63787487\n",
      " 0.66114473 0.63633637 0.62418216 0.68745309 0.68191452 0.70972293\n",
      " 0.68687615 0.66222165 0.67487585 0.69837647 0.7249541  0.7071075\n",
      " 0.71245377 0.73272357 0.7197232  0.71329997 0.71460771 0.74976246\n",
      " 0.76876298 0.70814598 0.69926113 0.72614648 0.70968448 0.71279994\n",
      " 0.70260736 0.69164552 0.71172301 0.68560692 0.68133758 0.64172113\n",
      " 0.63710562 0.65745229 0.65933696 0.64341345 0.65383684 0.69326098\n",
      " 0.72526182 0.73018505 0.7578781  0.76814759 0.78449418 0.76868608\n",
      " 0.79303286 0.77960946 0.75760884 0.76110892 0.74322382 0.75410875\n",
      " 0.72880036 0.75999354 0.70924896 0.68771499 0.66652465 0.64825994\n",
      " 0.63257188 0.61875784 0.60615212 0.59425443 0.58275729 0.57151723\n",
      " 0.56050527 0.54975456 0.53932077 0.52925545 0.51959312 0.51034778]\n",
      "16 day output [[0.50151515]]\n",
      "17 day input [0.99007664 0.98603807 0.98865354 0.98134565 0.96346056 0.95534492\n",
      " 0.95265254 0.95572954 0.95549882 0.93138271 0.93907523 0.94880628\n",
      " 0.94126767 0.94145998 0.91569006 0.94415236 0.95557573 0.95184488\n",
      " 0.95369101 0.9522295  0.95246022 0.95892195 0.95307566 0.93611363\n",
      " 0.93442131 0.93142121 0.94215223 0.93438281 0.92888265 0.92145944\n",
      " 0.92065169 0.92080551 0.90403588 0.90553588 0.90722829 0.8818814\n",
      " 0.88380453 0.87115038 0.84991906 0.85491919 0.78376339 0.82107213\n",
      " 0.76699371 0.74822396 0.6726835  0.68703001 0.67726051 0.59164283\n",
      " 0.58868123 0.65718307 0.69129935 0.69387637 0.63787487 0.66114473\n",
      " 0.63633637 0.62418216 0.68745309 0.68191452 0.70972293 0.68687615\n",
      " 0.66222165 0.67487585 0.69837647 0.7249541  0.7071075  0.71245377\n",
      " 0.73272357 0.7197232  0.71329997 0.71460771 0.74976246 0.76876298\n",
      " 0.70814598 0.69926113 0.72614648 0.70968448 0.71279994 0.70260736\n",
      " 0.69164552 0.71172301 0.68560692 0.68133758 0.64172113 0.63710562\n",
      " 0.65745229 0.65933696 0.64341345 0.65383684 0.69326098 0.72526182\n",
      " 0.73018505 0.7578781  0.76814759 0.78449418 0.76868608 0.79303286\n",
      " 0.77960946 0.75760884 0.76110892 0.74322382 0.75410875 0.72880036\n",
      " 0.75999354 0.70924896 0.68771499 0.66652465 0.64825994 0.63257188\n",
      " 0.61875784 0.60615212 0.59425443 0.58275729 0.57151723 0.56050527\n",
      " 0.54975456 0.53932077 0.52925545 0.51959312 0.51034778 0.50151515]\n",
      "17 day output [[0.49307805]]\n",
      "18 day input [0.98603807 0.98865354 0.98134565 0.96346056 0.95534492 0.95265254\n",
      " 0.95572954 0.95549882 0.93138271 0.93907523 0.94880628 0.94126767\n",
      " 0.94145998 0.91569006 0.94415236 0.95557573 0.95184488 0.95369101\n",
      " 0.9522295  0.95246022 0.95892195 0.95307566 0.93611363 0.93442131\n",
      " 0.93142121 0.94215223 0.93438281 0.92888265 0.92145944 0.92065169\n",
      " 0.92080551 0.90403588 0.90553588 0.90722829 0.8818814  0.88380453\n",
      " 0.87115038 0.84991906 0.85491919 0.78376339 0.82107213 0.76699371\n",
      " 0.74822396 0.6726835  0.68703001 0.67726051 0.59164283 0.58868123\n",
      " 0.65718307 0.69129935 0.69387637 0.63787487 0.66114473 0.63633637\n",
      " 0.62418216 0.68745309 0.68191452 0.70972293 0.68687615 0.66222165\n",
      " 0.67487585 0.69837647 0.7249541  0.7071075  0.71245377 0.73272357\n",
      " 0.7197232  0.71329997 0.71460771 0.74976246 0.76876298 0.70814598\n",
      " 0.69926113 0.72614648 0.70968448 0.71279994 0.70260736 0.69164552\n",
      " 0.71172301 0.68560692 0.68133758 0.64172113 0.63710562 0.65745229\n",
      " 0.65933696 0.64341345 0.65383684 0.69326098 0.72526182 0.73018505\n",
      " 0.7578781  0.76814759 0.78449418 0.76868608 0.79303286 0.77960946\n",
      " 0.75760884 0.76110892 0.74322382 0.75410875 0.72880036 0.75999354\n",
      " 0.70924896 0.68771499 0.66652465 0.64825994 0.63257188 0.61875784\n",
      " 0.60615212 0.59425443 0.58275729 0.57151723 0.56050527 0.54975456\n",
      " 0.53932077 0.52925545 0.51959312 0.51034778 0.50151515 0.49307805]\n",
      "18 day output [[0.48501176]]\n",
      "19 day input [0.98865354 0.98134565 0.96346056 0.95534492 0.95265254 0.95572954\n",
      " 0.95549882 0.93138271 0.93907523 0.94880628 0.94126767 0.94145998\n",
      " 0.91569006 0.94415236 0.95557573 0.95184488 0.95369101 0.9522295\n",
      " 0.95246022 0.95892195 0.95307566 0.93611363 0.93442131 0.93142121\n",
      " 0.94215223 0.93438281 0.92888265 0.92145944 0.92065169 0.92080551\n",
      " 0.90403588 0.90553588 0.90722829 0.8818814  0.88380453 0.87115038\n",
      " 0.84991906 0.85491919 0.78376339 0.82107213 0.76699371 0.74822396\n",
      " 0.6726835  0.68703001 0.67726051 0.59164283 0.58868123 0.65718307\n",
      " 0.69129935 0.69387637 0.63787487 0.66114473 0.63633637 0.62418216\n",
      " 0.68745309 0.68191452 0.70972293 0.68687615 0.66222165 0.67487585\n",
      " 0.69837647 0.7249541  0.7071075  0.71245377 0.73272357 0.7197232\n",
      " 0.71329997 0.71460771 0.74976246 0.76876298 0.70814598 0.69926113\n",
      " 0.72614648 0.70968448 0.71279994 0.70260736 0.69164552 0.71172301\n",
      " 0.68560692 0.68133758 0.64172113 0.63710562 0.65745229 0.65933696\n",
      " 0.64341345 0.65383684 0.69326098 0.72526182 0.73018505 0.7578781\n",
      " 0.76814759 0.78449418 0.76868608 0.79303286 0.77960946 0.75760884\n",
      " 0.76110892 0.74322382 0.75410875 0.72880036 0.75999354 0.70924896\n",
      " 0.68771499 0.66652465 0.64825994 0.63257188 0.61875784 0.60615212\n",
      " 0.59425443 0.58275729 0.57151723 0.56050527 0.54975456 0.53932077\n",
      " 0.52925545 0.51959312 0.51034778 0.50151515 0.49307805 0.48501176]\n",
      "19 day output [[0.47728863]]\n",
      "20 day input [0.98134565 0.96346056 0.95534492 0.95265254 0.95572954 0.95549882\n",
      " 0.93138271 0.93907523 0.94880628 0.94126767 0.94145998 0.91569006\n",
      " 0.94415236 0.95557573 0.95184488 0.95369101 0.9522295  0.95246022\n",
      " 0.95892195 0.95307566 0.93611363 0.93442131 0.93142121 0.94215223\n",
      " 0.93438281 0.92888265 0.92145944 0.92065169 0.92080551 0.90403588\n",
      " 0.90553588 0.90722829 0.8818814  0.88380453 0.87115038 0.84991906\n",
      " 0.85491919 0.78376339 0.82107213 0.76699371 0.74822396 0.6726835\n",
      " 0.68703001 0.67726051 0.59164283 0.58868123 0.65718307 0.69129935\n",
      " 0.69387637 0.63787487 0.66114473 0.63633637 0.62418216 0.68745309\n",
      " 0.68191452 0.70972293 0.68687615 0.66222165 0.67487585 0.69837647\n",
      " 0.7249541  0.7071075  0.71245377 0.73272357 0.7197232  0.71329997\n",
      " 0.71460771 0.74976246 0.76876298 0.70814598 0.69926113 0.72614648\n",
      " 0.70968448 0.71279994 0.70260736 0.69164552 0.71172301 0.68560692\n",
      " 0.68133758 0.64172113 0.63710562 0.65745229 0.65933696 0.64341345\n",
      " 0.65383684 0.69326098 0.72526182 0.73018505 0.7578781  0.76814759\n",
      " 0.78449418 0.76868608 0.79303286 0.77960946 0.75760884 0.76110892\n",
      " 0.74322382 0.75410875 0.72880036 0.75999354 0.70924896 0.68771499\n",
      " 0.66652465 0.64825994 0.63257188 0.61875784 0.60615212 0.59425443\n",
      " 0.58275729 0.57151723 0.56050527 0.54975456 0.53932077 0.52925545\n",
      " 0.51959312 0.51034778 0.50151515 0.49307805 0.48501176 0.47728863]\n",
      "20 day output [[0.46988112]]\n",
      "21 day input [0.96346056 0.95534492 0.95265254 0.95572954 0.95549882 0.93138271\n",
      " 0.93907523 0.94880628 0.94126767 0.94145998 0.91569006 0.94415236\n",
      " 0.95557573 0.95184488 0.95369101 0.9522295  0.95246022 0.95892195\n",
      " 0.95307566 0.93611363 0.93442131 0.93142121 0.94215223 0.93438281\n",
      " 0.92888265 0.92145944 0.92065169 0.92080551 0.90403588 0.90553588\n",
      " 0.90722829 0.8818814  0.88380453 0.87115038 0.84991906 0.85491919\n",
      " 0.78376339 0.82107213 0.76699371 0.74822396 0.6726835  0.68703001\n",
      " 0.67726051 0.59164283 0.58868123 0.65718307 0.69129935 0.69387637\n",
      " 0.63787487 0.66114473 0.63633637 0.62418216 0.68745309 0.68191452\n",
      " 0.70972293 0.68687615 0.66222165 0.67487585 0.69837647 0.7249541\n",
      " 0.7071075  0.71245377 0.73272357 0.7197232  0.71329997 0.71460771\n",
      " 0.74976246 0.76876298 0.70814598 0.69926113 0.72614648 0.70968448\n",
      " 0.71279994 0.70260736 0.69164552 0.71172301 0.68560692 0.68133758\n",
      " 0.64172113 0.63710562 0.65745229 0.65933696 0.64341345 0.65383684\n",
      " 0.69326098 0.72526182 0.73018505 0.7578781  0.76814759 0.78449418\n",
      " 0.76868608 0.79303286 0.77960946 0.75760884 0.76110892 0.74322382\n",
      " 0.75410875 0.72880036 0.75999354 0.70924896 0.68771499 0.66652465\n",
      " 0.64825994 0.63257188 0.61875784 0.60615212 0.59425443 0.58275729\n",
      " 0.57151723 0.56050527 0.54975456 0.53932077 0.52925545 0.51959312\n",
      " 0.51034778 0.50151515 0.49307805 0.48501176 0.47728863 0.46988112]\n",
      "21 day output [[0.46276423]]\n",
      "22 day input [0.95534492 0.95265254 0.95572954 0.95549882 0.93138271 0.93907523\n",
      " 0.94880628 0.94126767 0.94145998 0.91569006 0.94415236 0.95557573\n",
      " 0.95184488 0.95369101 0.9522295  0.95246022 0.95892195 0.95307566\n",
      " 0.93611363 0.93442131 0.93142121 0.94215223 0.93438281 0.92888265\n",
      " 0.92145944 0.92065169 0.92080551 0.90403588 0.90553588 0.90722829\n",
      " 0.8818814  0.88380453 0.87115038 0.84991906 0.85491919 0.78376339\n",
      " 0.82107213 0.76699371 0.74822396 0.6726835  0.68703001 0.67726051\n",
      " 0.59164283 0.58868123 0.65718307 0.69129935 0.69387637 0.63787487\n",
      " 0.66114473 0.63633637 0.62418216 0.68745309 0.68191452 0.70972293\n",
      " 0.68687615 0.66222165 0.67487585 0.69837647 0.7249541  0.7071075\n",
      " 0.71245377 0.73272357 0.7197232  0.71329997 0.71460771 0.74976246\n",
      " 0.76876298 0.70814598 0.69926113 0.72614648 0.70968448 0.71279994\n",
      " 0.70260736 0.69164552 0.71172301 0.68560692 0.68133758 0.64172113\n",
      " 0.63710562 0.65745229 0.65933696 0.64341345 0.65383684 0.69326098\n",
      " 0.72526182 0.73018505 0.7578781  0.76814759 0.78449418 0.76868608\n",
      " 0.79303286 0.77960946 0.75760884 0.76110892 0.74322382 0.75410875\n",
      " 0.72880036 0.75999354 0.70924896 0.68771499 0.66652465 0.64825994\n",
      " 0.63257188 0.61875784 0.60615212 0.59425443 0.58275729 0.57151723\n",
      " 0.56050527 0.54975456 0.53932077 0.52925545 0.51959312 0.51034778\n",
      " 0.50151515 0.49307805 0.48501176 0.47728863 0.46988112 0.46276423]\n",
      "22 day output [[0.45591542]]\n",
      "23 day input [0.95265254 0.95572954 0.95549882 0.93138271 0.93907523 0.94880628\n",
      " 0.94126767 0.94145998 0.91569006 0.94415236 0.95557573 0.95184488\n",
      " 0.95369101 0.9522295  0.95246022 0.95892195 0.95307566 0.93611363\n",
      " 0.93442131 0.93142121 0.94215223 0.93438281 0.92888265 0.92145944\n",
      " 0.92065169 0.92080551 0.90403588 0.90553588 0.90722829 0.8818814\n",
      " 0.88380453 0.87115038 0.84991906 0.85491919 0.78376339 0.82107213\n",
      " 0.76699371 0.74822396 0.6726835  0.68703001 0.67726051 0.59164283\n",
      " 0.58868123 0.65718307 0.69129935 0.69387637 0.63787487 0.66114473\n",
      " 0.63633637 0.62418216 0.68745309 0.68191452 0.70972293 0.68687615\n",
      " 0.66222165 0.67487585 0.69837647 0.7249541  0.7071075  0.71245377\n",
      " 0.73272357 0.7197232  0.71329997 0.71460771 0.74976246 0.76876298\n",
      " 0.70814598 0.69926113 0.72614648 0.70968448 0.71279994 0.70260736\n",
      " 0.69164552 0.71172301 0.68560692 0.68133758 0.64172113 0.63710562\n",
      " 0.65745229 0.65933696 0.64341345 0.65383684 0.69326098 0.72526182\n",
      " 0.73018505 0.7578781  0.76814759 0.78449418 0.76868608 0.79303286\n",
      " 0.77960946 0.75760884 0.76110892 0.74322382 0.75410875 0.72880036\n",
      " 0.75999354 0.70924896 0.68771499 0.66652465 0.64825994 0.63257188\n",
      " 0.61875784 0.60615212 0.59425443 0.58275729 0.57151723 0.56050527\n",
      " 0.54975456 0.53932077 0.52925545 0.51959312 0.51034778 0.50151515\n",
      " 0.49307805 0.48501176 0.47728863 0.46988112 0.46276423 0.45591542]\n",
      "23 day output [[0.44931522]]\n",
      "24 day input [0.95572954 0.95549882 0.93138271 0.93907523 0.94880628 0.94126767\n",
      " 0.94145998 0.91569006 0.94415236 0.95557573 0.95184488 0.95369101\n",
      " 0.9522295  0.95246022 0.95892195 0.95307566 0.93611363 0.93442131\n",
      " 0.93142121 0.94215223 0.93438281 0.92888265 0.92145944 0.92065169\n",
      " 0.92080551 0.90403588 0.90553588 0.90722829 0.8818814  0.88380453\n",
      " 0.87115038 0.84991906 0.85491919 0.78376339 0.82107213 0.76699371\n",
      " 0.74822396 0.6726835  0.68703001 0.67726051 0.59164283 0.58868123\n",
      " 0.65718307 0.69129935 0.69387637 0.63787487 0.66114473 0.63633637\n",
      " 0.62418216 0.68745309 0.68191452 0.70972293 0.68687615 0.66222165\n",
      " 0.67487585 0.69837647 0.7249541  0.7071075  0.71245377 0.73272357\n",
      " 0.7197232  0.71329997 0.71460771 0.74976246 0.76876298 0.70814598\n",
      " 0.69926113 0.72614648 0.70968448 0.71279994 0.70260736 0.69164552\n",
      " 0.71172301 0.68560692 0.68133758 0.64172113 0.63710562 0.65745229\n",
      " 0.65933696 0.64341345 0.65383684 0.69326098 0.72526182 0.73018505\n",
      " 0.7578781  0.76814759 0.78449418 0.76868608 0.79303286 0.77960946\n",
      " 0.75760884 0.76110892 0.74322382 0.75410875 0.72880036 0.75999354\n",
      " 0.70924896 0.68771499 0.66652465 0.64825994 0.63257188 0.61875784\n",
      " 0.60615212 0.59425443 0.58275729 0.57151723 0.56050527 0.54975456\n",
      " 0.53932077 0.52925545 0.51959312 0.51034778 0.50151515 0.49307805\n",
      " 0.48501176 0.47728863 0.46988112 0.46276423 0.45591542 0.44931522]\n",
      "24 day output [[0.44294655]]\n",
      "25 day input [0.95549882 0.93138271 0.93907523 0.94880628 0.94126767 0.94145998\n",
      " 0.91569006 0.94415236 0.95557573 0.95184488 0.95369101 0.9522295\n",
      " 0.95246022 0.95892195 0.95307566 0.93611363 0.93442131 0.93142121\n",
      " 0.94215223 0.93438281 0.92888265 0.92145944 0.92065169 0.92080551\n",
      " 0.90403588 0.90553588 0.90722829 0.8818814  0.88380453 0.87115038\n",
      " 0.84991906 0.85491919 0.78376339 0.82107213 0.76699371 0.74822396\n",
      " 0.6726835  0.68703001 0.67726051 0.59164283 0.58868123 0.65718307\n",
      " 0.69129935 0.69387637 0.63787487 0.66114473 0.63633637 0.62418216\n",
      " 0.68745309 0.68191452 0.70972293 0.68687615 0.66222165 0.67487585\n",
      " 0.69837647 0.7249541  0.7071075  0.71245377 0.73272357 0.7197232\n",
      " 0.71329997 0.71460771 0.74976246 0.76876298 0.70814598 0.69926113\n",
      " 0.72614648 0.70968448 0.71279994 0.70260736 0.69164552 0.71172301\n",
      " 0.68560692 0.68133758 0.64172113 0.63710562 0.65745229 0.65933696\n",
      " 0.64341345 0.65383684 0.69326098 0.72526182 0.73018505 0.7578781\n",
      " 0.76814759 0.78449418 0.76868608 0.79303286 0.77960946 0.75760884\n",
      " 0.76110892 0.74322382 0.75410875 0.72880036 0.75999354 0.70924896\n",
      " 0.68771499 0.66652465 0.64825994 0.63257188 0.61875784 0.60615212\n",
      " 0.59425443 0.58275729 0.57151723 0.56050527 0.54975456 0.53932077\n",
      " 0.52925545 0.51959312 0.51034778 0.50151515 0.49307805 0.48501176\n",
      " 0.47728863 0.46988112 0.46276423 0.45591542 0.44931522 0.44294655]\n",
      "25 day output [[0.43679464]]\n",
      "26 day input [0.93138271 0.93907523 0.94880628 0.94126767 0.94145998 0.91569006\n",
      " 0.94415236 0.95557573 0.95184488 0.95369101 0.9522295  0.95246022\n",
      " 0.95892195 0.95307566 0.93611363 0.93442131 0.93142121 0.94215223\n",
      " 0.93438281 0.92888265 0.92145944 0.92065169 0.92080551 0.90403588\n",
      " 0.90553588 0.90722829 0.8818814  0.88380453 0.87115038 0.84991906\n",
      " 0.85491919 0.78376339 0.82107213 0.76699371 0.74822396 0.6726835\n",
      " 0.68703001 0.67726051 0.59164283 0.58868123 0.65718307 0.69129935\n",
      " 0.69387637 0.63787487 0.66114473 0.63633637 0.62418216 0.68745309\n",
      " 0.68191452 0.70972293 0.68687615 0.66222165 0.67487585 0.69837647\n",
      " 0.7249541  0.7071075  0.71245377 0.73272357 0.7197232  0.71329997\n",
      " 0.71460771 0.74976246 0.76876298 0.70814598 0.69926113 0.72614648\n",
      " 0.70968448 0.71279994 0.70260736 0.69164552 0.71172301 0.68560692\n",
      " 0.68133758 0.64172113 0.63710562 0.65745229 0.65933696 0.64341345\n",
      " 0.65383684 0.69326098 0.72526182 0.73018505 0.7578781  0.76814759\n",
      " 0.78449418 0.76868608 0.79303286 0.77960946 0.75760884 0.76110892\n",
      " 0.74322382 0.75410875 0.72880036 0.75999354 0.70924896 0.68771499\n",
      " 0.66652465 0.64825994 0.63257188 0.61875784 0.60615212 0.59425443\n",
      " 0.58275729 0.57151723 0.56050527 0.54975456 0.53932077 0.52925545\n",
      " 0.51959312 0.51034778 0.50151515 0.49307805 0.48501176 0.47728863\n",
      " 0.46988112 0.46276423 0.45591542 0.44931522 0.44294655 0.43679464]\n",
      "26 day output [[0.4308459]]\n",
      "27 day input [0.93907523 0.94880628 0.94126767 0.94145998 0.91569006 0.94415236\n",
      " 0.95557573 0.95184488 0.95369101 0.9522295  0.95246022 0.95892195\n",
      " 0.95307566 0.93611363 0.93442131 0.93142121 0.94215223 0.93438281\n",
      " 0.92888265 0.92145944 0.92065169 0.92080551 0.90403588 0.90553588\n",
      " 0.90722829 0.8818814  0.88380453 0.87115038 0.84991906 0.85491919\n",
      " 0.78376339 0.82107213 0.76699371 0.74822396 0.6726835  0.68703001\n",
      " 0.67726051 0.59164283 0.58868123 0.65718307 0.69129935 0.69387637\n",
      " 0.63787487 0.66114473 0.63633637 0.62418216 0.68745309 0.68191452\n",
      " 0.70972293 0.68687615 0.66222165 0.67487585 0.69837647 0.7249541\n",
      " 0.7071075  0.71245377 0.73272357 0.7197232  0.71329997 0.71460771\n",
      " 0.74976246 0.76876298 0.70814598 0.69926113 0.72614648 0.70968448\n",
      " 0.71279994 0.70260736 0.69164552 0.71172301 0.68560692 0.68133758\n",
      " 0.64172113 0.63710562 0.65745229 0.65933696 0.64341345 0.65383684\n",
      " 0.69326098 0.72526182 0.73018505 0.7578781  0.76814759 0.78449418\n",
      " 0.76868608 0.79303286 0.77960946 0.75760884 0.76110892 0.74322382\n",
      " 0.75410875 0.72880036 0.75999354 0.70924896 0.68771499 0.66652465\n",
      " 0.64825994 0.63257188 0.61875784 0.60615212 0.59425443 0.58275729\n",
      " 0.57151723 0.56050527 0.54975456 0.53932077 0.52925545 0.51959312\n",
      " 0.51034778 0.50151515 0.49307805 0.48501176 0.47728863 0.46988112\n",
      " 0.46276423 0.45591542 0.44931522 0.44294655 0.43679464 0.43084589]\n",
      "27 day output [[0.4250881]]\n",
      "28 day input [0.94880628 0.94126767 0.94145998 0.91569006 0.94415236 0.95557573\n",
      " 0.95184488 0.95369101 0.9522295  0.95246022 0.95892195 0.95307566\n",
      " 0.93611363 0.93442131 0.93142121 0.94215223 0.93438281 0.92888265\n",
      " 0.92145944 0.92065169 0.92080551 0.90403588 0.90553588 0.90722829\n",
      " 0.8818814  0.88380453 0.87115038 0.84991906 0.85491919 0.78376339\n",
      " 0.82107213 0.76699371 0.74822396 0.6726835  0.68703001 0.67726051\n",
      " 0.59164283 0.58868123 0.65718307 0.69129935 0.69387637 0.63787487\n",
      " 0.66114473 0.63633637 0.62418216 0.68745309 0.68191452 0.70972293\n",
      " 0.68687615 0.66222165 0.67487585 0.69837647 0.7249541  0.7071075\n",
      " 0.71245377 0.73272357 0.7197232  0.71329997 0.71460771 0.74976246\n",
      " 0.76876298 0.70814598 0.69926113 0.72614648 0.70968448 0.71279994\n",
      " 0.70260736 0.69164552 0.71172301 0.68560692 0.68133758 0.64172113\n",
      " 0.63710562 0.65745229 0.65933696 0.64341345 0.65383684 0.69326098\n",
      " 0.72526182 0.73018505 0.7578781  0.76814759 0.78449418 0.76868608\n",
      " 0.79303286 0.77960946 0.75760884 0.76110892 0.74322382 0.75410875\n",
      " 0.72880036 0.75999354 0.70924896 0.68771499 0.66652465 0.64825994\n",
      " 0.63257188 0.61875784 0.60615212 0.59425443 0.58275729 0.57151723\n",
      " 0.56050527 0.54975456 0.53932077 0.52925545 0.51959312 0.51034778\n",
      " 0.50151515 0.49307805 0.48501176 0.47728863 0.46988112 0.46276423\n",
      " 0.45591542 0.44931522 0.44294655 0.43679464 0.43084589 0.42508811]\n",
      "28 day output [[0.41951]]\n",
      "29 day input [0.94126767 0.94145998 0.91569006 0.94415236 0.95557573 0.95184488\n",
      " 0.95369101 0.9522295  0.95246022 0.95892195 0.95307566 0.93611363\n",
      " 0.93442131 0.93142121 0.94215223 0.93438281 0.92888265 0.92145944\n",
      " 0.92065169 0.92080551 0.90403588 0.90553588 0.90722829 0.8818814\n",
      " 0.88380453 0.87115038 0.84991906 0.85491919 0.78376339 0.82107213\n",
      " 0.76699371 0.74822396 0.6726835  0.68703001 0.67726051 0.59164283\n",
      " 0.58868123 0.65718307 0.69129935 0.69387637 0.63787487 0.66114473\n",
      " 0.63633637 0.62418216 0.68745309 0.68191452 0.70972293 0.68687615\n",
      " 0.66222165 0.67487585 0.69837647 0.7249541  0.7071075  0.71245377\n",
      " 0.73272357 0.7197232  0.71329997 0.71460771 0.74976246 0.76876298\n",
      " 0.70814598 0.69926113 0.72614648 0.70968448 0.71279994 0.70260736\n",
      " 0.69164552 0.71172301 0.68560692 0.68133758 0.64172113 0.63710562\n",
      " 0.65745229 0.65933696 0.64341345 0.65383684 0.69326098 0.72526182\n",
      " 0.73018505 0.7578781  0.76814759 0.78449418 0.76868608 0.79303286\n",
      " 0.77960946 0.75760884 0.76110892 0.74322382 0.75410875 0.72880036\n",
      " 0.75999354 0.70924896 0.68771499 0.66652465 0.64825994 0.63257188\n",
      " 0.61875784 0.60615212 0.59425443 0.58275729 0.57151723 0.56050527\n",
      " 0.54975456 0.53932077 0.52925545 0.51959312 0.51034778 0.50151515\n",
      " 0.49307805 0.48501176 0.47728863 0.46988112 0.46276423 0.45591542\n",
      " 0.44931522 0.44294655 0.43679464 0.43084589 0.42508811 0.41951001]\n",
      "29 day output [[0.4141011]]\n",
      "[[0.709248960018158], [0.6877149939537048], [0.6665246486663818], [0.6482599377632141], [0.6325718760490417], [0.6187578439712524], [0.6061521172523499], [0.5942544341087341], [0.582757294178009], [0.5715172290802002], [0.5605052709579468], [0.5497545599937439], [0.5393207669258118], [0.5292554497718811], [0.5195931196212769], [0.5103477835655212], [0.5015151500701904], [0.4930780529975891], [0.4850117564201355], [0.4772886335849762], [0.4698811173439026], [0.4627642333507538], [0.4559154212474823], [0.44931522011756897], [0.44294655323028564], [0.436794638633728], [0.43084588646888733], [0.425088107585907], [0.41951000690460205], [0.41410109400749207]]\n"
     ]
    }
   ],
   "source": [
    "# demonstrate prediction for next 10 days\n",
    "from numpy import array\n",
    "\n",
    "lst_output=[]\n",
    "n_steps=120\n",
    "i=0\n",
    "while(i<30):\n",
    "    \n",
    "    if(len(temp_input)>100):\n",
    "        #print(temp_input)\n",
    "        x_input=np.array(temp_input[1:])\n",
    "        print(\"{} day input {}\".format(i,x_input))\n",
    "        x_input=x_input.reshape(1,-1)\n",
    "        x_input = x_input.reshape((1, n_steps, 1))\n",
    "        #print(x_input)\n",
    "        yhat = model.predict(x_input, verbose=0)\n",
    "        print(\"{} day output {}\".format(i,yhat))\n",
    "        temp_input.extend(yhat[0].tolist())\n",
    "        temp_input=temp_input[1:]\n",
    "        #print(temp_input)\n",
    "        lst_output.extend(yhat.tolist())\n",
    "        i=i+1\n",
    "    else:\n",
    "        x_input = x_input.reshape((1, n_steps,1))\n",
    "        yhat = model.predict(x_input, verbose=0)\n",
    "        print(yhat[0])\n",
    "        temp_input.extend(yhat[0].tolist())\n",
    "        print(len(temp_input))\n",
    "        lst_output.extend(yhat.tolist())\n",
    "        i=i+1\n",
    "    \n",
    "\n",
    "print(lst_output)"
   ]
  },
  {
   "cell_type": "code",
   "execution_count": null,
   "metadata": {
    "colab": {},
    "colab_type": "code",
    "id": "wAvh72I3rRv0"
   },
   "outputs": [],
   "source": [
    "day_new=np.arange(1,121)\n",
    "day_pred=np.arange(121,151)"
   ]
  },
  {
   "cell_type": "code",
   "execution_count": null,
   "metadata": {
    "colab": {},
    "colab_type": "code",
    "id": "q7ts0agBrRv3"
   },
   "outputs": [],
   "source": [
    "import matplotlib.pyplot as plt"
   ]
  },
  {
   "cell_type": "code",
   "execution_count": null,
   "metadata": {
    "colab": {
     "base_uri": "https://localhost:8080/",
     "height": 35
    },
    "colab_type": "code",
    "id": "qbJkvlVZrRv5",
    "outputId": "02041af5-3ed1-460f-fa11-86693de4b3e2"
   },
   "outputs": [
    {
     "data": {
      "text/plain": [
       "6038"
      ]
     },
     "execution_count": 122,
     "metadata": {
      "tags": []
     },
     "output_type": "execute_result"
    }
   ],
   "source": [
    "len(df1)"
   ]
  },
  {
   "cell_type": "code",
   "execution_count": null,
   "metadata": {
    "colab": {},
    "colab_type": "code",
    "id": "snk_QAGxrRv7"
   },
   "outputs": [],
   "source": []
  },
  {
   "cell_type": "code",
   "execution_count": null,
   "metadata": {
    "colab": {
     "base_uri": "https://localhost:8080/",
     "height": 283
    },
    "colab_type": "code",
    "id": "BF9uLgklrRv9",
    "outputId": "092052ae-1370-4277-b16e-fa69bb83e704"
   },
   "outputs": [
    {
     "data": {
      "text/plain": [
       "[<matplotlib.lines.Line2D at 0x7f7e841003c8>]"
      ]
     },
     "execution_count": 124,
     "metadata": {
      "tags": []
     },
     "output_type": "execute_result"
    },
    {
     "data": {
      "image/png": "[encoded data removed]",
      "text/plain": [
       "<Figure size 432x288 with 1 Axes>"
      ]
     },
     "metadata": {
      "needs_background": "light",
      "tags": []
     },
     "output_type": "display_data"
    }
   ],
   "source": [
    "plt.plot(day_new,scaler.inverse_transform(df1[5918:]))\n",
    "plt.plot(day_pred,scaler.inverse_transform(lst_output))"
   ]
  },
  {
   "cell_type": "code",
   "execution_count": null,
   "metadata": {
    "colab": {},
    "colab_type": "code",
    "id": "xM7PFZvgrRv-"
   },
   "outputs": [],
   "source": [
    "df3=df1.tolist()\n",
    "df3.extend(lst_output)\n",
    "plt.plot(df3[3700:])\n"
   ]
  },
  {
   "cell_type": "code",
   "execution_count": null,
   "metadata": {
    "colab": {},
    "colab_type": "code",
    "id": "1y-uTYkXrRwA"
   },
   "outputs": [],
   "source": [
    "df3=scaler.inverse_transform(df3).tolist()"
   ]
  },
  {
   "cell_type": "code",
   "execution_count": null,
   "metadata": {
    "colab": {},
    "colab_type": "code",
    "id": "gWmtvUEyrRwB"
   },
   "outputs": [],
   "source": [
    "plt.plot(df3)"
   ]
  },
  {
   "cell_type": "code",
   "execution_count": null,
   "metadata": {
    "colab": {},
    "colab_type": "code",
    "id": "uBNGVLzsrRwE"
   },
   "outputs": [],
   "source": []
  }
 ],
 "metadata": {
  "colab": {
   "name": "HDFC2.ipynb",
   "provenance": [],
   "toc_visible": true
  },
  "kernelspec": {
   "display_name": "Python 3",
   "language": "python",
   "name": "python3"
  },
  "language_info": {
   "codemirror_mode": {
    "name": "ipython",
    "version": 3
   },
   "file_extension": ".py",
   "mimetype": "text/x-python",
   "name": "python",
   "nbconvert_exporter": "python",
   "pygments_lexer": "ipython3",
   "version": "3.7.3"
  }
 },
 "nbformat": 4,
 "nbformat_minor": 1
}
