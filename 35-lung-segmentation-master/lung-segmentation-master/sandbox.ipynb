{
 "cells": [
  {
   "cell_type": "code",
   "execution_count": 1,
   "metadata": {},
   "outputs": [],
   "source": [
    "import torch\n",
    "import PIL\n",
    "import glob\n",
    "\n",
    "import numpy as np\n",
    "import  matplotlib.pyplot as plt\n",
    "\n",
    "from src.data import LungDataset, blend, Pad, Crop, Resize"
   ]
  },
  {
   "cell_type": "code",
   "execution_count": 2,
   "metadata": {},
   "outputs": [],
   "source": [
    "t = torch.ones(1, 1, 100, 100)"
   ]
  },
  {
   "cell_type": "code",
   "execution_count": 3,
   "metadata": {},
   "outputs": [
    {
     "data": {
      "text/plain": [
       "torch.Size([1, 1, 200, 200])"
      ]
     },
     "execution_count": 3,
     "metadata": {},
     "output_type": "execute_result"
    }
   ],
   "source": [
    "torch.nn.ConvTranspose2d(1, 1, 3, 2, 1, 1)(t).size()"
   ]
  },
  {
   "cell_type": "code",
   "execution_count": 4,
   "metadata": {},
   "outputs": [],
   "source": [
    "data_folder = \"input/dataset/\"\n",
    "origins_folder = data_folder + \"images/\"\n",
    "masks_folder = data_folder + \"masks/\"\n",
    "models_folder = \"models/\"\n",
    "images_folder = \"images/\""
   ]
  },
  {
   "cell_type": "code",
   "execution_count": 5,
   "metadata": {},
   "outputs": [],
   "source": [
    "origins_list = list(map(lambda n: n.replace(origins_folder, \"\").replace(\".png\", \"\"), glob.glob(origins_folder + \"*.png\")))\n",
    "masks_list = list(map(lambda n: n.replace(masks_folder, \"\").replace(\".png\", \"\"), glob.glob(masks_folder + \"*.png\")))"
   ]
  },
  {
   "cell_type": "code",
   "execution_count": 6,
   "metadata": {},
   "outputs": [],
   "source": [
    "origin_mask_list = [(mask_name.replace(\"_mask\", \"\"), mask_name) for mask_name in masks_list]"
   ]
  },
  {
   "cell_type": "code",
   "execution_count": 8,
   "metadata": {},
   "outputs": [
    {
     "name": "stdout",
     "output_type": "stream",
     "text": [
      "CPU times: user 3min 48s, sys: 26 s, total: 4min 14s\n",
      "Wall time: 2min 14s\n"
     ]
    }
   ],
   "source": [
    "%%time \n",
    "\n",
    "overall_dataset = LungDataset(origin_mask_list, origins_folder, masks_folder)\n",
    "sizes = []\n",
    "lung_areas = []\n",
    "\n",
    "for origin, mask in overall_dataset:\n",
    "    sizes.append(mask.size())\n",
    "    lung_areas.append(mask.sum().item())\n"
   ]
  },
  {
   "cell_type": "code",
   "execution_count": 500,
   "metadata": {},
   "outputs": [],
   "source": [
    "image_area = [w * h for w, h in sizes]"
   ]
  },
  {
   "cell_type": "code",
   "execution_count": 505,
   "metadata": {},
   "outputs": [
    {
     "data": {
      "text/plain": [
       "(array([ 10.,  13., 119., 183., 241.,   0.,   0.,   0.,   0., 138.]),\n",
       " array([ 1241195. ,  3083659.5,  4926124. ,  6768588.5,  8611053. ,\n",
       "        10453517.5, 12295982. , 14138446.5, 15980911. , 17823375.5,\n",
       "        19665840. ]),\n",
       " <a list of 10 Patch objects>)"
      ]
     },
     "execution_count": 505,
     "metadata": {},
     "output_type": "execute_result"
    },
    {
     "data": {
      "image/png": "[encoded data removed]",
      "text/plain": [
       "<Figure size 432x288 with 1 Axes>"
      ]
     },
     "metadata": {
      "needs_background": "light"
     },
     "output_type": "display_data"
    }
   ],
   "source": [
    "plt.hist(image_area)"
   ]
  },
  {
   "cell_type": "code",
   "execution_count": 13,
   "metadata": {},
   "outputs": [
    {
     "data": {
      "text/plain": [
       "(array([365., 230.,  83.,  26.]),\n",
       " array([ 100000., 2075000., 4050000., 6025000., 8000000.]),\n",
       " <a list of 4 Patch objects>)"
      ]
     },
     "execution_count": 13,
     "metadata": {},
     "output_type": "execute_result"
    },
    {
     "data": {
      "image/png": "[encoded data removed]",
      "text/plain": [
       "<Figure size 432x288 with 1 Axes>"
      ]
     },
     "metadata": {
      "needs_background": "light"
     },
     "output_type": "display_data"
    }
   ],
   "source": [
    "plt.hist(lung_areas, np.linspace(100000, 8000000, 5))"
   ]
  }
 ],
 "metadata": {
  "kernelspec": {
   "display_name": "Python 3",
   "language": "python",
   "name": "python3"
  },
  "language_info": {
   "codemirror_mode": {
    "name": "ipython",
    "version": 3
   },
   "file_extension": ".py",
   "mimetype": "text/x-python",
   "name": "python",
   "nbconvert_exporter": "python",
   "pygments_lexer": "ipython3",
   "version": "3.6.7"
  }
 },
 "nbformat": 4,
 "nbformat_minor": 2
}
