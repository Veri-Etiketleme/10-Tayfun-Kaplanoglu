{
 "cells": [
  {
   "cell_type": "code",
   "execution_count": 1,
   "metadata": {
    "collapsed": true
   },
   "outputs": [],
   "source": [
    "import numpy as np\n",
    "from numpy.random import RandomState\n",
    "from meta import DMMetaManager\n",
    "from meta import UNIMAGED_INT\n",
    "meta_man = DMMetaManager(exam_tsv='metadata/exams_metadata.tsv', \n",
    "                         img_tsv='metadata/images_crosswalk.tsv', \n",
    "                         img_folder='preprocessedData/jpg_org', \n",
    "                         img_extension='jpg')"
   ]
  },
  {
   "cell_type": "markdown",
   "metadata": {},
   "source": [
    "## Generate from flatten image list"
   ]
  },
  {
   "cell_type": "code",
   "execution_count": 2,
   "metadata": {
    "collapsed": false
   },
   "outputs": [
    {
     "data": {
      "text/plain": [
       "500"
      ]
     },
     "execution_count": 2,
     "metadata": {},
     "output_type": "execute_result"
    }
   ],
   "source": [
    "img_list, lab_list = meta_man.get_flatten_img_list()\n",
    "len(img_list)"
   ]
  },
  {
   "cell_type": "code",
   "execution_count": 3,
   "metadata": {
    "collapsed": false
   },
   "outputs": [
    {
     "data": {
      "text/plain": [
       "['preprocessedData/jpg_org/000135.jpg',\n",
       " 'preprocessedData/jpg_org/000136.jpg',\n",
       " 'preprocessedData/jpg_org/000137.jpg',\n",
       " 'preprocessedData/jpg_org/000138.jpg',\n",
       " 'preprocessedData/jpg_org/100151.jpg']"
      ]
     },
     "execution_count": 3,
     "metadata": {},
     "output_type": "execute_result"
    }
   ],
   "source": [
    "img_list[:5]"
   ]
  },
  {
   "cell_type": "code",
   "execution_count": 4,
   "metadata": {
    "collapsed": false
   },
   "outputs": [
    {
     "data": {
      "text/plain": [
       "[0, 0, 0, 0, 0]"
      ]
     },
     "execution_count": 4,
     "metadata": {},
     "output_type": "execute_result"
    }
   ],
   "source": [
    "lab_list[:5]"
   ]
  },
  {
   "cell_type": "code",
   "execution_count": 5,
   "metadata": {
    "collapsed": false
   },
   "outputs": [
    {
     "name": "stderr",
     "output_type": "stream",
     "text": [
      "Using Theano backend.\n"
     ]
    }
   ],
   "source": [
    "from dm_image import DMImageDataGenerator\n",
    "img_dat_gen = DMImageDataGenerator(rotation_range=90.)"
   ]
  },
  {
   "cell_type": "code",
   "execution_count": 6,
   "metadata": {
    "collapsed": false
   },
   "outputs": [
    {
     "name": "stdout",
     "output_type": "stream",
     "text": [
      "There are 34 cancer cases and 466 normal cases.\n"
     ]
    }
   ],
   "source": [
    "dat_gen = img_dat_gen.flow_from_img_list(\n",
    "    img_list, lab_list, batch_size=10, seed=1,\n",
    "    save_to_dir='./preprocessedData/jpg_batch',\n",
    "    save_prefix='ran', save_format='jpg')"
   ]
  },
  {
   "cell_type": "code",
   "execution_count": 7,
   "metadata": {
    "collapsed": false
   },
   "outputs": [],
   "source": [
    "batch_d = dat_gen.next()"
   ]
  },
  {
   "cell_type": "code",
   "execution_count": 8,
   "metadata": {
    "collapsed": false
   },
   "outputs": [
    {
     "name": "stdout",
     "output_type": "stream",
     "text": [
      "<type 'tuple'>\n",
      "2\n"
     ]
    }
   ],
   "source": [
    "print type(batch_d)\n",
    "print len(batch_d)"
   ]
  },
  {
   "cell_type": "code",
   "execution_count": 9,
   "metadata": {
    "collapsed": false
   },
   "outputs": [
    {
     "name": "stdout",
     "output_type": "stream",
     "text": [
      "(10, 1, 256, 256)\n",
      "(10,)\n"
     ]
    }
   ],
   "source": [
    "print batch_d[0].shape\n",
    "print batch_d[1].shape"
   ]
  },
  {
   "cell_type": "code",
   "execution_count": 10,
   "metadata": {
    "collapsed": false
   },
   "outputs": [
    {
     "data": {
      "text/plain": [
       "array([0, 0, 0, 0, 0, 0, 0, 0, 0, 0])"
      ]
     },
     "execution_count": 10,
     "metadata": {},
     "output_type": "execute_result"
    }
   ],
   "source": [
    "batch_d[1]"
   ]
  },
  {
   "cell_type": "markdown",
   "metadata": {},
   "source": [
    "## Generate from exam list"
   ]
  },
  {
   "cell_type": "code",
   "execution_count": 11,
   "metadata": {
    "collapsed": false
   },
   "outputs": [
    {
     "name": "stdout",
     "output_type": "stream",
     "text": [
      "<type 'list'>\n",
      "111\n"
     ]
    }
   ],
   "source": [
    "flatten_exam_list = meta_man.get_flatten_exam_list()\n",
    "print type(flatten_exam_list)\n",
    "print len(flatten_exam_list)"
   ]
  },
  {
   "cell_type": "code",
   "execution_count": 12,
   "metadata": {
    "collapsed": false
   },
   "outputs": [
    {
     "data": {
      "text/plain": [
       "(1626, 2, {'L': {'CC':                                        filename\n",
       "   imageIndex                                     \n",
       "   2           preprocessedData/jpg_org/111363.jpg,\n",
       "   'MLO':                                        filename\n",
       "   imageIndex                                     \n",
       "   4           preprocessedData/jpg_org/111365.jpg,\n",
       "   'cancer': 0},\n",
       "  'R': {'CC':                                        filename\n",
       "   imageIndex                                     \n",
       "   1           preprocessedData/jpg_org/111362.jpg,\n",
       "   'MLO':                                        filename\n",
       "   imageIndex                                     \n",
       "   3           preprocessedData/jpg_org/111364.jpg,\n",
       "   'cancer': 0}})"
      ]
     },
     "execution_count": 12,
     "metadata": {},
     "output_type": "execute_result"
    }
   ],
   "source": [
    "flatten_exam_list[5]"
   ]
  },
  {
   "cell_type": "code",
   "execution_count": 13,
   "metadata": {
    "collapsed": false
   },
   "outputs": [
    {
     "data": {
      "text/plain": [
       "(1, 1)"
      ]
     },
     "execution_count": 13,
     "metadata": {},
     "output_type": "execute_result"
    }
   ],
   "source": [
    "flatten_exam_list[0][2]['L']['CC'].shape"
   ]
  },
  {
   "cell_type": "code",
   "execution_count": 14,
   "metadata": {
    "collapsed": false
   },
   "outputs": [
    {
     "name": "stdout",
     "output_type": "stream",
     "text": [
      "3\n",
      "(array([ 6, 77]),)\n"
     ]
    }
   ],
   "source": [
    "def get_nb_img(e, lat, view):\n",
    "    df = e[2][lat][view]\n",
    "    if df is None:\n",
    "        return 0\n",
    "    else:\n",
    "        return df.shape[0]\n",
    "nb_img = [ get_nb_img(e, 'R', 'MLO') for e in flatten_exam_list ]\n",
    "print max(nb_img)\n",
    "print np.where(np.array(nb_img) == 3)"
   ]
  },
  {
   "cell_type": "code",
   "execution_count": 15,
   "metadata": {
    "collapsed": false
   },
   "outputs": [
    {
     "name": "stdout",
     "output_type": "stream",
     "text": [
      "<class 'pandas.core.frame.DataFrame'>\n"
     ]
    },
    {
     "data": {
      "text/html": [
       "<div>\n",
       "<table border=\"1\" class=\"dataframe\">\n",
       "  <thead>\n",
       "    <tr style=\"text-align: right;\">\n",
       "      <th></th>\n",
       "      <th>filename</th>\n",
       "    </tr>\n",
       "    <tr>\n",
       "      <th>imageIndex</th>\n",
       "      <th></th>\n",
       "    </tr>\n",
       "  </thead>\n",
       "  <tbody>\n",
       "    <tr>\n",
       "      <th>4</th>\n",
       "      <td>preprocessedData/jpg_org/121381.jpg</td>\n",
       "    </tr>\n",
       "    <tr>\n",
       "      <th>7</th>\n",
       "      <td>preprocessedData/jpg_org/121390.jpg</td>\n",
       "    </tr>\n",
       "    <tr>\n",
       "      <th>8</th>\n",
       "      <td>preprocessedData/jpg_org/121393.jpg</td>\n",
       "    </tr>\n",
       "  </tbody>\n",
       "</table>\n",
       "</div>"
      ],
      "text/plain": [
       "                                       filename\n",
       "imageIndex                                     \n",
       "4           preprocessedData/jpg_org/121381.jpg\n",
       "7           preprocessedData/jpg_org/121390.jpg\n",
       "8           preprocessedData/jpg_org/121393.jpg"
      ]
     },
     "execution_count": 15,
     "metadata": {},
     "output_type": "execute_result"
    }
   ],
   "source": [
    "img_df = flatten_exam_list[6][2]['R']['MLO']\n",
    "print type(img_df)\n",
    "img_df"
   ]
  },
  {
   "cell_type": "code",
   "execution_count": 16,
   "metadata": {
    "collapsed": false
   },
   "outputs": [
    {
     "data": {
      "text/plain": [
       "'preprocessedData/jpg_org/121381.jpg'"
      ]
     },
     "execution_count": 16,
     "metadata": {},
     "output_type": "execute_result"
    }
   ],
   "source": [
    "img_df['filename'].sample(1, random_state=RandomState(1)).iloc[0]"
   ]
  },
  {
   "cell_type": "code",
   "execution_count": 17,
   "metadata": {
    "collapsed": false
   },
   "outputs": [
    {
     "name": "stdout",
     "output_type": "stream",
     "text": [
      "<class 'pandas.core.frame.DataFrame'>\n"
     ]
    },
    {
     "data": {
      "text/html": [
       "<div>\n",
       "<table border=\"1\" class=\"dataframe\">\n",
       "  <thead>\n",
       "    <tr style=\"text-align: right;\">\n",
       "      <th></th>\n",
       "      <th>filename</th>\n",
       "    </tr>\n",
       "    <tr>\n",
       "      <th>imageIndex</th>\n",
       "      <th></th>\n",
       "    </tr>\n",
       "  </thead>\n",
       "  <tbody>\n",
       "    <tr>\n",
       "      <th>4</th>\n",
       "      <td>preprocessedData/jpg_org/578688.jpg</td>\n",
       "    </tr>\n",
       "    <tr>\n",
       "      <th>7</th>\n",
       "      <td>preprocessedData/jpg_org/578717.jpg</td>\n",
       "    </tr>\n",
       "    <tr>\n",
       "      <th>9</th>\n",
       "      <td>preprocessedData/jpg_org/578732.jpg</td>\n",
       "    </tr>\n",
       "  </tbody>\n",
       "</table>\n",
       "</div>"
      ],
      "text/plain": [
       "                                       filename\n",
       "imageIndex                                     \n",
       "4           preprocessedData/jpg_org/578688.jpg\n",
       "7           preprocessedData/jpg_org/578717.jpg\n",
       "9           preprocessedData/jpg_org/578732.jpg"
      ]
     },
     "execution_count": 17,
     "metadata": {},
     "output_type": "execute_result"
    }
   ],
   "source": [
    "img_df2 = flatten_exam_list[77][2]['R']['MLO']\n",
    "print type(img_df2)\n",
    "img_df2"
   ]
  },
  {
   "cell_type": "code",
   "execution_count": 18,
   "metadata": {
    "collapsed": false
   },
   "outputs": [
    {
     "data": {
      "text/plain": [
       "'preprocessedData/jpg_org/578688.jpg'"
      ]
     },
     "execution_count": 18,
     "metadata": {},
     "output_type": "execute_result"
    }
   ],
   "source": [
    "img_df2['filename'].sample(1, random_state=RandomState(1)).iloc[0]"
   ]
  },
  {
   "cell_type": "code",
   "execution_count": 19,
   "metadata": {
    "collapsed": false
   },
   "outputs": [
    {
     "name": "stdout",
     "output_type": "stream",
     "text": [
      "<type 'int'>\n",
      "0\n"
     ]
    }
   ],
   "source": [
    "cancer = flatten_exam_list[0][2]['L']['cancer']\n",
    "print type(cancer)\n",
    "print cancer"
   ]
  },
  {
   "cell_type": "code",
   "execution_count": 20,
   "metadata": {
    "collapsed": false
   },
   "outputs": [
    {
     "data": {
      "text/plain": [
       "array(['preprocessedData/jpg_org/121381.jpg',\n",
       "       'preprocessedData/jpg_org/121390.jpg',\n",
       "       'preprocessedData/jpg_org/121393.jpg'], dtype=object)"
      ]
     },
     "execution_count": 20,
     "metadata": {},
     "output_type": "execute_result"
    }
   ],
   "source": [
    "img_df['filename'].values"
   ]
  },
  {
   "cell_type": "code",
   "execution_count": 21,
   "metadata": {
    "collapsed": false
   },
   "outputs": [
    {
     "data": {
      "text/plain": [
       "imageIndex\n",
       "4    preprocessedData/jpg_org/121381.jpg\n",
       "7    preprocessedData/jpg_org/121390.jpg\n",
       "8    preprocessedData/jpg_org/121393.jpg\n",
       "Name: filename, dtype: object"
      ]
     },
     "execution_count": 21,
     "metadata": {},
     "output_type": "execute_result"
    }
   ],
   "source": [
    "img_df.loc[img_df.index, 'filename']"
   ]
  },
  {
   "cell_type": "code",
   "execution_count": 22,
   "metadata": {
    "collapsed": false
   },
   "outputs": [
    {
     "data": {
      "text/plain": [
       "pandas.core.index.Int64Index"
      ]
     },
     "execution_count": 22,
     "metadata": {},
     "output_type": "execute_result"
    }
   ],
   "source": [
    "type(img_df.index)"
   ]
  },
  {
   "cell_type": "code",
   "execution_count": 23,
   "metadata": {
    "collapsed": false
   },
   "outputs": [
    {
     "data": {
      "text/plain": [
       "imageIndex\n",
       "4    preprocessedData/jpg_org/121381.jpg\n",
       "7    preprocessedData/jpg_org/121390.jpg\n",
       "8    preprocessedData/jpg_org/121393.jpg\n",
       "Name: filename, dtype: object"
      ]
     },
     "execution_count": 23,
     "metadata": {},
     "output_type": "execute_result"
    }
   ],
   "source": [
    "img_df.loc[img_df.index.tolist(), 'filename']"
   ]
  },
  {
   "cell_type": "code",
   "execution_count": 24,
   "metadata": {
    "collapsed": false
   },
   "outputs": [
    {
     "data": {
      "text/plain": [
       "['preprocessedData/jpg_org/121381.jpg',\n",
       " 'preprocessedData/jpg_org/121390.jpg',\n",
       " 'preprocessedData/jpg_org/121393.jpg']"
      ]
     },
     "execution_count": 24,
     "metadata": {},
     "output_type": "execute_result"
    }
   ],
   "source": [
    "img_df['filename'].values.tolist()"
   ]
  },
  {
   "cell_type": "code",
   "execution_count": 25,
   "metadata": {
    "collapsed": false
   },
   "outputs": [
    {
     "data": {
      "text/plain": [
       "(111, 2)"
      ]
     },
     "execution_count": 25,
     "metadata": {},
     "output_type": "execute_result"
    }
   ],
   "source": [
    "cls_list = [ (e[2]['L']['cancer'], e[2]['R']['cancer']) \n",
    "             for e in flatten_exam_list ]\n",
    "cls_list = np.array(cls_list)\n",
    "cls_list.shape"
   ]
  },
  {
   "cell_type": "code",
   "execution_count": 26,
   "metadata": {
    "collapsed": false
   },
   "outputs": [
    {
     "data": {
      "text/plain": [
       "array([[0, 0],\n",
       "       [1, 0],\n",
       "       [0, 0],\n",
       "       [0, 0],\n",
       "       [1, 0],\n",
       "       [0, 0],\n",
       "       [0, 0],\n",
       "       [0, 0],\n",
       "       [1, 0],\n",
       "       [1, 0]])"
      ]
     },
     "execution_count": 26,
     "metadata": {},
     "output_type": "execute_result"
    }
   ],
   "source": [
    "cls_list[:10, :]"
   ]
  },
  {
   "cell_type": "code",
   "execution_count": 27,
   "metadata": {
    "collapsed": false
   },
   "outputs": [
    {
     "name": "stdout",
     "output_type": "stream",
     "text": [
      "(221,)\n",
      "[0 1]\n"
     ]
    }
   ],
   "source": [
    "flat_classes = cls_list.ravel()\n",
    "flat_classes = flat_classes[flat_classes != UNIMAGED_INT]\n",
    "print flat_classes.shape\n",
    "print np.unique(flat_classes)"
   ]
  },
  {
   "cell_type": "code",
   "execution_count": 28,
   "metadata": {
    "collapsed": false
   },
   "outputs": [
    {
     "name": "stdout",
     "output_type": "stream",
     "text": [
      "left cancer: 10\n",
      "left unimaged: 1\n"
     ]
    }
   ],
   "source": [
    "print 'left cancer:', np.sum(cls_list[:, 0] == 1)\n",
    "print 'left unimaged:', np.sum(cls_list[:, 0] == UNIMAGED_INT)"
   ]
  },
  {
   "cell_type": "code",
   "execution_count": 29,
   "metadata": {
    "collapsed": false
   },
   "outputs": [
    {
     "name": "stdout",
     "output_type": "stream",
     "text": [
      "right cancer: 4\n",
      "right unimaged: 0\n"
     ]
    }
   ],
   "source": [
    "print 'right cancer:', np.sum(cls_list[:, 1] == 1)\n",
    "print 'right unimaged:', np.sum(cls_list[:, 1] == UNIMAGED_INT)"
   ]
  },
  {
   "cell_type": "code",
   "execution_count": 30,
   "metadata": {
    "collapsed": false
   },
   "outputs": [
    {
     "data": {
      "text/plain": [
       "(array([95]),)"
      ]
     },
     "execution_count": 30,
     "metadata": {},
     "output_type": "execute_result"
    }
   ],
   "source": [
    "np.where(cls_list[:, 0] == UNIMAGED_INT)"
   ]
  },
  {
   "cell_type": "code",
   "execution_count": 31,
   "metadata": {
    "collapsed": false
   },
   "outputs": [
    {
     "data": {
      "text/plain": [
       "1"
      ]
     },
     "execution_count": 31,
     "metadata": {},
     "output_type": "execute_result"
    }
   ],
   "source": [
    "np.sum(cls_list == UNIMAGED_INT)"
   ]
  },
  {
   "cell_type": "code",
   "execution_count": 32,
   "metadata": {
    "collapsed": false
   },
   "outputs": [
    {
     "data": {
      "text/plain": [
       "(64073,\n",
       " 1,\n",
       " {'L': {'CC': None, 'MLO': None, 'cancer': -99},\n",
       "  'R': {'CC':                                        filename\n",
       "   imageIndex                                     \n",
       "   1           preprocessedData/jpg_org/608401.jpg,\n",
       "   'MLO':                                        filename\n",
       "   imageIndex                                     \n",
       "   2           preprocessedData/jpg_org/608406.jpg,\n",
       "   'cancer': 0}})"
      ]
     },
     "execution_count": 32,
     "metadata": {},
     "output_type": "execute_result"
    }
   ],
   "source": [
    "flatten_exam_list[95]"
   ]
  },
  {
   "cell_type": "code",
   "execution_count": 33,
   "metadata": {
    "collapsed": false
   },
   "outputs": [
    {
     "name": "stdout",
     "output_type": "stream",
     "text": [
      "(2, 10, 10)\n"
     ]
    }
   ],
   "source": [
    "a = np.zeros((10, 10))\n",
    "b = np.ones((10, 10))\n",
    "c = np.stack((a, b), axis=0)\n",
    "print c.shape"
   ]
  },
  {
   "cell_type": "code",
   "execution_count": 34,
   "metadata": {
    "collapsed": false
   },
   "outputs": [
    {
     "name": "stdout",
     "output_type": "stream",
     "text": [
      "(10, 10, 2)\n"
     ]
    }
   ],
   "source": [
    "c = np.stack((a, b), axis=-1)\n",
    "print c.shape"
   ]
  },
  {
   "cell_type": "code",
   "execution_count": 35,
   "metadata": {
    "collapsed": false
   },
   "outputs": [
    {
     "name": "stdout",
     "output_type": "stream",
     "text": [
      "For left breasts, normal=100, cancer=10, unimaged=1.\n",
      "For right breasts, normal=107, cancer=4, unimaged=0.\n"
     ]
    }
   ],
   "source": [
    "dat_gen = img_dat_gen.flow_from_exam_list(\n",
    "    flatten_exam_list, batch_size=5, seed=1,\n",
    "    save_to_dir='./preprocessedData/jpg_batch',\n",
    "    save_prefix='FEX', save_format='jpg')"
   ]
  },
  {
   "cell_type": "code",
   "execution_count": 36,
   "metadata": {
    "collapsed": false
   },
   "outputs": [],
   "source": [
    "batch_d = dat_gen.next()"
   ]
  },
  {
   "cell_type": "code",
   "execution_count": 41,
   "metadata": {
    "collapsed": false
   },
   "outputs": [
    {
     "name": "stdout",
     "output_type": "stream",
     "text": [
      "(10, 2, 256, 256)\n",
      "(10,)\n"
     ]
    }
   ],
   "source": [
    "batch_x, batch_y = batch_d\n",
    "print batch_x.shape\n",
    "print batch_y.shape"
   ]
  },
  {
   "cell_type": "code",
   "execution_count": 42,
   "metadata": {
    "collapsed": false
   },
   "outputs": [
    {
     "data": {
      "text/plain": [
       "array([0, 0, 0, 0, 0, 0, 0, 0, 0, 0])"
      ]
     },
     "execution_count": 42,
     "metadata": {},
     "output_type": "execute_result"
    }
   ],
   "source": [
    "batch_y"
   ]
  },
  {
   "cell_type": "code",
   "execution_count": 43,
   "metadata": {
    "collapsed": false
   },
   "outputs": [
    {
     "data": {
      "text/plain": [
       "array([[   0.,    0.,    0., ...,    0.,    0.,    0.],\n",
       "       [   0.,    0.,    0., ...,    0.,    0.,    0.],\n",
       "       [   0.,    0.,    0., ...,    0.,    0.,    0.],\n",
       "       ..., \n",
       "       [  74.,  100.,  100., ...,    0.,    0.,    0.],\n",
       "       [  74.,  100.,   88., ...,    0.,    0.,    0.],\n",
       "       [ 100.,   88.,   88., ...,    0.,    0.,    0.]])"
      ]
     },
     "execution_count": 43,
     "metadata": {},
     "output_type": "execute_result"
    }
   ],
   "source": [
    "batch_x[0][0]"
   ]
  },
  {
   "cell_type": "code",
   "execution_count": 44,
   "metadata": {
    "collapsed": false
   },
   "outputs": [
    {
     "data": {
      "text/plain": [
       "array([[   0.,    0.,    0., ...,    0.,    0.,    0.],\n",
       "       [   0.,    0.,    0., ...,    0.,    0.,    0.],\n",
       "       [   0.,    0.,    0., ...,    0.,    0.,    0.],\n",
       "       ..., \n",
       "       [ 159.,  167.,  167., ...,    0.,    0.,    0.],\n",
       "       [ 159.,  167.,  165., ...,    0.,    0.,    0.],\n",
       "       [ 167.,  165.,  165., ...,    0.,    0.,    0.]])"
      ]
     },
     "execution_count": 44,
     "metadata": {},
     "output_type": "execute_result"
    }
   ],
   "source": [
    "batch_x[0][1]"
   ]
  },
  {
   "cell_type": "code",
   "execution_count": 37,
   "metadata": {
    "collapsed": false
   },
   "outputs": [
    {
     "name": "stdout",
     "output_type": "stream",
     "text": [
      "58\n"
     ]
    }
   ],
   "source": [
    "last_exam_list = meta_man.get_last_exam_list()\n",
    "print len(last_exam_list)"
   ]
  },
  {
   "cell_type": "code",
   "execution_count": 38,
   "metadata": {
    "collapsed": false
   },
   "outputs": [
    {
     "name": "stdout",
     "output_type": "stream",
     "text": [
      "For left breasts, normal=49, cancer=8, unimaged=1.\n",
      "For right breasts, normal=55, cancer=3, unimaged=0.\n"
     ]
    }
   ],
   "source": [
    "dat_gen2 = img_dat_gen.flow_from_exam_list(\n",
    "    last_exam_list, batch_size=5, seed=1,\n",
    "    save_to_dir='./preprocessedData/jpg_batch',\n",
    "    save_prefix='LEX', save_format='jpg')"
   ]
  },
  {
   "cell_type": "code",
   "execution_count": 39,
   "metadata": {
    "collapsed": true
   },
   "outputs": [],
   "source": [
    "batch_d2 = dat_gen2.next()"
   ]
  },
  {
   "cell_type": "code",
   "execution_count": null,
   "metadata": {
    "collapsed": true
   },
   "outputs": [],
   "source": []
  }
 ],
 "metadata": {
  "kernelspec": {
   "display_name": "Python 2",
   "language": "python",
   "name": "python2"
  },
  "language_info": {
   "codemirror_mode": {
    "name": "ipython",
    "version": 2
   },
   "file_extension": ".py",
   "mimetype": "text/x-python",
   "name": "python",
   "nbconvert_exporter": "python",
   "pygments_lexer": "ipython2",
   "version": "2.7.12"
  }
 },
 "nbformat": 4,
 "nbformat_minor": 0
}
