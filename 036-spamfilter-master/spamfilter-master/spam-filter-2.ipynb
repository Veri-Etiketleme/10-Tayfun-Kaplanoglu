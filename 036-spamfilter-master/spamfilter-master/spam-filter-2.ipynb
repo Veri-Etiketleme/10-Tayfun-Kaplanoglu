{
 "cells": [
  {
   "cell_type": "code",
   "execution_count": 14,
   "metadata": {
    "collapsed": true
   },
   "outputs": [],
   "source": [
    "# Importing Data\n",
    "import sklearn\n",
    "\n"
   ]
  },
  {
   "cell_type": "code",
   "execution_count": 13,
   "metadata": {},
   "outputs": [
    {
     "name": "stdout",
     "output_type": "stream",
     "text": [
      "Detected:\n",
      " 2398  Spam Files\n",
      " 6702  Ham Files\n"
     ]
    },
    {
     "ename": "FileNotFoundError",
     "evalue": "[Errno 2] No such file or directory: '/home/lucas/Cloud/code-projects/Machine-Learning-OReilly/classification/spam_dataset/spam/00875.535ae4621326594a8c9edbc33c06b408'",
     "output_type": "error",
     "traceback": [
      "\u001b[0;31m---------------------------------------------------------------------------\u001b[0m",
      "\u001b[0;31mFileNotFoundError\u001b[0m                         Traceback (most recent call last)",
      "\u001b[0;32m<ipython-input-13-a0b54a3b9bff>\u001b[0m in \u001b[0;36m<module>\u001b[0;34m\u001b[0m\n\u001b[1;32m     12\u001b[0m \u001b[0mspam_raw\u001b[0m \u001b[0;34m=\u001b[0m \u001b[0;34m[\u001b[0m\u001b[0;34m]\u001b[0m\u001b[0;34m\u001b[0m\u001b[0;34m\u001b[0m\u001b[0m\n\u001b[1;32m     13\u001b[0m \u001b[0;32mfor\u001b[0m \u001b[0mfile\u001b[0m \u001b[0;32min\u001b[0m \u001b[0mspam_files\u001b[0m\u001b[0;34m:\u001b[0m\u001b[0;34m\u001b[0m\u001b[0;34m\u001b[0m\u001b[0m\n\u001b[0;32m---> 14\u001b[0;31m     \u001b[0mtemp\u001b[0m \u001b[0;34m=\u001b[0m \u001b[0mcodecs\u001b[0m\u001b[0;34m.\u001b[0m\u001b[0mopen\u001b[0m\u001b[0;34m(\u001b[0m\u001b[0mppath\u001b[0m\u001b[0;34m+\u001b[0m\u001b[0;34m'/spam/'\u001b[0m\u001b[0;34m+\u001b[0m\u001b[0mfile\u001b[0m\u001b[0;34m,\u001b[0m \u001b[0;34m'r'\u001b[0m\u001b[0;34m,\u001b[0m \u001b[0mencoding\u001b[0m\u001b[0;34m=\u001b[0m\u001b[0;34m'utf-8'\u001b[0m\u001b[0;34m,\u001b[0m \u001b[0merrors\u001b[0m\u001b[0;34m=\u001b[0m\u001b[0;34m'ignore'\u001b[0m\u001b[0;34m)\u001b[0m\u001b[0;34m.\u001b[0m\u001b[0mread\u001b[0m\u001b[0;34m(\u001b[0m\u001b[0;34m)\u001b[0m\u001b[0;34m\u001b[0m\u001b[0;34m\u001b[0m\u001b[0m\n\u001b[0m\u001b[1;32m     15\u001b[0m     \u001b[0mspam_raw\u001b[0m\u001b[0;34m.\u001b[0m\u001b[0mappend\u001b[0m\u001b[0;34m(\u001b[0m\u001b[0mtemp\u001b[0m\u001b[0;34m)\u001b[0m\u001b[0;34m\u001b[0m\u001b[0;34m\u001b[0m\u001b[0m\n\u001b[1;32m     16\u001b[0m \u001b[0;34m\u001b[0m\u001b[0m\n",
      "\u001b[0;32m~/Applications/anaconda3/envs/machine-learning/lib/python3.6/codecs.py\u001b[0m in \u001b[0;36mopen\u001b[0;34m(filename, mode, encoding, errors, buffering)\u001b[0m\n\u001b[1;32m    895\u001b[0m         \u001b[0;31m# Force opening of the file in binary mode\u001b[0m\u001b[0;34m\u001b[0m\u001b[0;34m\u001b[0m\u001b[0;34m\u001b[0m\u001b[0m\n\u001b[1;32m    896\u001b[0m         \u001b[0mmode\u001b[0m \u001b[0;34m=\u001b[0m \u001b[0mmode\u001b[0m \u001b[0;34m+\u001b[0m \u001b[0;34m'b'\u001b[0m\u001b[0;34m\u001b[0m\u001b[0;34m\u001b[0m\u001b[0m\n\u001b[0;32m--> 897\u001b[0;31m     \u001b[0mfile\u001b[0m \u001b[0;34m=\u001b[0m \u001b[0mbuiltins\u001b[0m\u001b[0;34m.\u001b[0m\u001b[0mopen\u001b[0m\u001b[0;34m(\u001b[0m\u001b[0mfilename\u001b[0m\u001b[0;34m,\u001b[0m \u001b[0mmode\u001b[0m\u001b[0;34m,\u001b[0m \u001b[0mbuffering\u001b[0m\u001b[0;34m)\u001b[0m\u001b[0;34m\u001b[0m\u001b[0;34m\u001b[0m\u001b[0m\n\u001b[0m\u001b[1;32m    898\u001b[0m     \u001b[0;32mif\u001b[0m \u001b[0mencoding\u001b[0m \u001b[0;32mis\u001b[0m \u001b[0;32mNone\u001b[0m\u001b[0;34m:\u001b[0m\u001b[0;34m\u001b[0m\u001b[0;34m\u001b[0m\u001b[0m\n\u001b[1;32m    899\u001b[0m         \u001b[0;32mreturn\u001b[0m \u001b[0mfile\u001b[0m\u001b[0;34m\u001b[0m\u001b[0;34m\u001b[0m\u001b[0m\n",
      "\u001b[0;31mFileNotFoundError\u001b[0m: [Errno 2] No such file or directory: '/home/lucas/Cloud/code-projects/Machine-Learning-OReilly/classification/spam_dataset/spam/00875.535ae4621326594a8c9edbc33c06b408'"
     ]
    }
   ],
   "source": [
    "import os \n",
    "import codecs\n",
    "\n",
    "\n",
    "ham_files = os.listdir('/home/lucas/Cloud/code-projects/Machine-Learning-OReilly/classification/spam_dataset/big-set/ham')\n",
    "spam_files = os.listdir('/home/lucas/Cloud/code-projects/Machine-Learning-OReilly/classification/spam_dataset/big-set/spam')\n",
    "\n",
    "print(\"Detected:\\n\", len(spam_files), ' Spam Files\\n', len(ham_files), \" Ham Files\")\n",
    "\n",
    "\n",
    "# Spam: Reading Files to String\n",
    "spam_raw = []\n",
    "for file in spam_files:\n",
    "    temp = codecs.open(ppath+'/spam/'+file, 'r', encoding='utf-8', errors='ignore').read()\n",
    "    spam_raw.append(temp)\n",
    "\n",
    "# Ham: Reading Files to String \n",
    "ham_raw = []\n",
    "for file in ham_files:\n",
    "    temp = codecs.open(ppath+'/ham/'+file, 'r', encoding='utf-8', errors='ignore').read()\n",
    "    ham_raw.append(temp)\n",
    "\n",
    "print(\"Strings Loaded:\\n\", len(spam_raw), \" Spam Files\\n\", len(ham_raw), \" Ham Files\")"
   ]
  },
  {
   "cell_type": "code",
   "execution_count": 15,
   "metadata": {},
   "outputs": [
    {
     "ename": "ValueError",
     "evalue": "Cannot describe a DataFrame without columns",
     "output_type": "error",
     "traceback": [
      "\u001b[0;31m---------------------------------------------------------------------------\u001b[0m",
      "\u001b[0;31mValueError\u001b[0m                                Traceback (most recent call last)",
      "\u001b[0;32m<ipython-input-15-fb325322adab>\u001b[0m in \u001b[0;36m<module>\u001b[0;34m\u001b[0m\n\u001b[1;32m      4\u001b[0m \u001b[0mspam_data\u001b[0m \u001b[0;34m=\u001b[0m\u001b[0mpd\u001b[0m\u001b[0;34m.\u001b[0m\u001b[0mDataFrame\u001b[0m\u001b[0;34m(\u001b[0m\u001b[0;34m)\u001b[0m\u001b[0;34m\u001b[0m\u001b[0;34m\u001b[0m\u001b[0m\n\u001b[1;32m      5\u001b[0m \u001b[0;34m\u001b[0m\u001b[0m\n\u001b[0;32m----> 6\u001b[0;31m \u001b[0mprint\u001b[0m\u001b[0;34m(\u001b[0m\u001b[0mham_data\u001b[0m\u001b[0;34m.\u001b[0m\u001b[0mdescribe\u001b[0m\u001b[0;34m(\u001b[0m\u001b[0;34m)\u001b[0m\u001b[0;34m)\u001b[0m\u001b[0;34m\u001b[0m\u001b[0;34m\u001b[0m\u001b[0m\n\u001b[0m\u001b[1;32m      7\u001b[0m \u001b[0mprint\u001b[0m\u001b[0;34m(\u001b[0m\u001b[0mspam_data\u001b[0m\u001b[0;34m.\u001b[0m\u001b[0mdescribe\u001b[0m\u001b[0;34m(\u001b[0m\u001b[0;34m)\u001b[0m\u001b[0;34m)\u001b[0m\u001b[0;34m\u001b[0m\u001b[0;34m\u001b[0m\u001b[0m\n",
      "\u001b[0;32m~/Applications/anaconda3/envs/machine-learning/lib/python3.6/site-packages/pandas/core/generic.py\u001b[0m in \u001b[0;36mdescribe\u001b[0;34m(self, percentiles, include, exclude)\u001b[0m\n\u001b[1;32m   8498\u001b[0m             \u001b[0;32mraise\u001b[0m \u001b[0mNotImplementedError\u001b[0m\u001b[0;34m(\u001b[0m\u001b[0mmsg\u001b[0m\u001b[0;34m)\u001b[0m\u001b[0;34m\u001b[0m\u001b[0;34m\u001b[0m\u001b[0m\n\u001b[1;32m   8499\u001b[0m         \u001b[0;32melif\u001b[0m \u001b[0mself\u001b[0m\u001b[0;34m.\u001b[0m\u001b[0mndim\u001b[0m \u001b[0;34m==\u001b[0m \u001b[0;36m2\u001b[0m \u001b[0;32mand\u001b[0m \u001b[0mself\u001b[0m\u001b[0;34m.\u001b[0m\u001b[0mcolumns\u001b[0m\u001b[0;34m.\u001b[0m\u001b[0msize\u001b[0m \u001b[0;34m==\u001b[0m \u001b[0;36m0\u001b[0m\u001b[0;34m:\u001b[0m\u001b[0;34m\u001b[0m\u001b[0;34m\u001b[0m\u001b[0m\n\u001b[0;32m-> 8500\u001b[0;31m             \u001b[0;32mraise\u001b[0m \u001b[0mValueError\u001b[0m\u001b[0;34m(\u001b[0m\u001b[0;34m\"Cannot describe a DataFrame without columns\"\u001b[0m\u001b[0;34m)\u001b[0m\u001b[0;34m\u001b[0m\u001b[0;34m\u001b[0m\u001b[0m\n\u001b[0m\u001b[1;32m   8501\u001b[0m \u001b[0;34m\u001b[0m\u001b[0m\n\u001b[1;32m   8502\u001b[0m         \u001b[0;32mif\u001b[0m \u001b[0mpercentiles\u001b[0m \u001b[0;32mis\u001b[0m \u001b[0;32mnot\u001b[0m \u001b[0;32mNone\u001b[0m\u001b[0;34m:\u001b[0m\u001b[0;34m\u001b[0m\u001b[0;34m\u001b[0m\u001b[0m\n",
      "\u001b[0;31mValueError\u001b[0m: Cannot describe a DataFrame without columns"
     ]
    }
   ],
   "source": [
    "import pandas as pd\n",
    "\n",
    "ham_data = pd.DataFrame()\n",
    "spam_data =pd.DataFrame()\n",
    "\n",
    "print(ham_data.describe())\n",
    "print(spam_data.describe())"
   ]
  },
  {
   "cell_type": "code",
   "execution_count": 29,
   "metadata": {},
   "outputs": [
    {
     "name": "stdout",
     "output_type": "stream",
     "text": [
      "['00000c1e285f', '000010fb', '00004617', '0081516f03', '0100', '07', '10', '11', '127', '13', '13x', '14', '157', '16', '1600', '18', '199', '20', '2002', '227', '23', '24', '30', '36', '38', '3d', '3d0', '3d2', '3d400', '58', '5x', '8859', 'accept', 'affiliate', 'against', 'align', 'all', 'any', 'apologies', 'are', 'arial', 'awod', 'ay', 'be', 'been', 'bgcolor', 'big', 'blomand', 'body', 'border', 'br', 'by', 'cellpadding', 'cellspacing', 'charset', 'click', 'color', 'com', 'content', 'date', 'delivered', 'divinorum', 'do', 'dogma', 'dr', 'drop', 'drug', 'efi', 'email', 'emails', 'encoding', 'error', 'es', 'esmtp', 'extract', 'extremely', 'face', 'farwood944', 'fetchmail', 'ff0000', 'ffffff', 'font', 'for', 'fri', 'from', 'further', 'g8dme7c04722', 'get', 'greenmatrix', 'h2', 'have', 'herb', 'here', 'high', 'honor', 'hours', 'href', 'html', 'http', 'id', 'ie', 'if', 'imap', 'in', 'index', 'info', 'information', 'is', 'isf2000', 'iso', 'ist', 'it', 'jalapeno', 'jaxdev3', 'left', 'legal', 'legally', 'list', 'localhost', 'mailings', 'message', 'mime', 'more', 'most', 'net', 'not', 'notified', 'of', 'offers', 'on', 'one', 'opted', 'optin', 'or', 'org', 'ot', 'our', 'passes', 'path', 'planet', 'please', 'plewt', 'postfix', 'potent', 'power', 'printable', 'quoted', 'really', 'receive', 'received', 'removal', 'remove', 'removed', 'requesting', 'requests', 'return', 'run', 'salvia', 'sat', 'sending', 'sent', 'sep', 'single', 'sites', 'size', 'slashnull', 'smokable', 'spamassassin', 'special', 'strongly', 'subject', 'table', 'tahoma', 'taint', 'td', 'tests', 'text', 'the', 'this', 'those', 'tim', 'time', 'to', 'top', 'tr', 'transfer', 'type', 'unsolicited', 'valign', 'verdana', 'version', 'very', 'warning', 'we', 'webmaster', 'who', 'width', 'wish', 'with', 'within', 'works', 'www', 'you', 'zzzz', 'zzzzason']\n"
     ]
    }
   ],
   "source": [
    "from sklearn.feature_extraction.text import CountVectorizer\n",
    "\n",
    "vectorizer = CountVectorizer()\n",
    "\n",
    "x = vectorizer.fit_transform(spam_raw)\n",
    "\n",
    "# print(spam_raw[0])\n",
    "print(vectorizer.get_feature_names())"
   ]
  },
  {
   "cell_type": "code",
   "execution_count": null,
   "metadata": {},
   "outputs": [],
   "source": []
  }
 ],
 "metadata": {
  "kernelspec": {
   "display_name": "Python 2",
   "language": "python",
   "name": "python2"
  },
  "language_info": {
   "codemirror_mode": {
    "name": "ipython",
    "version": 2
   },
   "file_extension": ".py",
   "mimetype": "text/x-python",
   "name": "python",
   "nbconvert_exporter": "python",
   "pygments_lexer": "ipython2",
   "version": "2.7.6"
  }
 },
 "nbformat": 4,
 "nbformat_minor": 0
}
