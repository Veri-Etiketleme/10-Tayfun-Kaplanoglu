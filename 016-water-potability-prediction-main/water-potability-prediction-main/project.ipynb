{
 "cells": [
  {
   "cell_type": "markdown",
   "metadata": {
    "cell_id": "00001-3f596445-8151-4e11-aa69-dfb54c2e2647",
    "deepnote_cell_type": "text-cell-h1",
    "is_collapsed": false,
    "tags": []
   },
   "source": [
    "# Water Potability"
   ]
  },
  {
   "cell_type": "markdown",
   "metadata": {
    "cell_id": "00004-bd7202a8-ec0e-41d1-afd0-199383d72fba",
    "deepnote_cell_type": "text-cell-h2",
    "is_collapsed": false,
    "tags": []
   },
   "source": [
    "## Data import"
   ]
  },
  {
   "cell_type": "code",
   "execution_count": 1,
   "metadata": {
    "cell_id": "00002-c2a8872e-3abc-4355-9fb8-bf076926c1df",
    "deepnote_cell_type": "code",
    "deepnote_to_be_reexecuted": false,
    "execution_millis": 13699,
    "execution_start": 1636316299003,
    "source_hash": "564ed77b",
    "tags": []
   },
   "outputs": [
    {
     "name": "stdout",
     "output_type": "stream",
     "text": [
      "Requirement already satisfied: imblearn in c:\\users\\martin\\anaconda3\\lib\\site-packages (0.0)\n",
      "Requirement already satisfied: imbalanced-learn in c:\\users\\martin\\anaconda3\\lib\\site-packages (from imblearn) (0.8.1)\n",
      "Requirement already satisfied: numpy>=1.13.3 in c:\\users\\martin\\anaconda3\\lib\\site-packages (from imbalanced-learn->imblearn) (1.20.3)\n",
      "Requirement already satisfied: scipy>=0.19.1 in c:\\users\\martin\\anaconda3\\lib\\site-packages (from imbalanced-learn->imblearn) (1.7.1)\n",
      "Requirement already satisfied: joblib>=0.11 in c:\\users\\martin\\anaconda3\\lib\\site-packages (from imbalanced-learn->imblearn) (1.0.1)\n",
      "Requirement already satisfied: scikit-learn>=0.24 in c:\\users\\martin\\anaconda3\\lib\\site-packages (from imbalanced-learn->imblearn) (0.24.2)\n",
      "Requirement already satisfied: threadpoolctl>=2.0.0 in c:\\users\\martin\\anaconda3\\lib\\site-packages (from scikit-learn>=0.24->imbalanced-learn->imblearn) (2.2.0)\n",
      "Note: you may need to restart the kernel to use updated packages.\n"
     ]
    }
   ],
   "source": [
    "pip install imblearn"
   ]
  },
  {
   "cell_type": "code",
   "execution_count": 2,
   "metadata": {
    "cell_id": "00003-da838aab-98c9-4ece-a48b-3fb7ba30dd08",
    "deepnote_cell_type": "code",
    "deepnote_to_be_reexecuted": false,
    "execution_millis": 37424,
    "execution_start": 1636316337435,
    "source_hash": "e6bb9ba3",
    "tags": []
   },
   "outputs": [
    {
     "name": "stdout",
     "output_type": "stream",
     "text": [
      "Collecting xgboost\n",
      "  Downloading xgboost-1.5.1-py3-none-win_amd64.whl (106.6 MB)\n",
      "Requirement already satisfied: scipy in c:\\users\\martin\\anaconda3\\lib\\site-packages (from xgboost) (1.7.1)\n",
      "Requirement already satisfied: numpy in c:\\users\\martin\\anaconda3\\lib\\site-packages (from xgboost) (1.20.3)\n",
      "Installing collected packages: xgboost\n",
      "Successfully installed xgboost-1.5.1\n",
      "Note: you may need to restart the kernel to use updated packages.\n"
     ]
    }
   ],
   "source": [
    "pip install xgboost"
   ]
  },
  {
   "cell_type": "code",
   "execution_count": 3,
   "metadata": {
    "cell_id": "00002-a6fdec8c-d020-4832-856a-64dbc35f07d9",
    "deepnote_cell_type": "code",
    "deepnote_to_be_reexecuted": false,
    "execution_millis": 4626,
    "execution_start": 1636316374919,
    "source_hash": "3dd7d0d9",
    "tags": []
   },
   "outputs": [],
   "source": [
    "#Imports\n",
    "import numpy as np\n",
    "import pandas as pd\n",
    "import sklearn as skl\n",
    "import matplotlib.pyplot as plt\n",
    "import seaborn as sns\n",
    "from imblearn.over_sampling import SMOTE\n",
    "from sklearn.preprocessing import MinMaxScaler, StandardScaler\n",
    "from sklearn.model_selection import train_test_split\n",
    "from sklearn.experimental import enable_iterative_imputer\n",
    "from sklearn.impute import SimpleImputer, IterativeImputer, KNNImputer\n",
    "import warnings\n",
    "warnings.filterwarnings(\"ignore\")"
   ]
  },
  {
   "cell_type": "code",
   "execution_count": 4,
   "metadata": {
    "cell_id": "00003-68970212-a75d-47c0-8205-92925dfbd78c",
    "deepnote_cell_type": "code",
    "deepnote_to_be_reexecuted": false,
    "execution_millis": 11,
    "execution_start": 1636318773311,
    "source_hash": "e13ed9b6",
    "tags": []
   },
   "outputs": [],
   "source": [
    "data = pd.read_csv('drinking_water_potability.csv')\n",
    "X = data.drop(columns = ['Potability'])\n",
    "y = data['Potability']"
   ]
  },
  {
   "cell_type": "markdown",
   "metadata": {
    "cell_id": "00003-16ba2ad8-c59c-4272-85ae-77f6c349d76f",
    "deepnote_cell_type": "text-cell-h2",
    "is_collapsed": true,
    "tags": []
   },
   "source": [
    "## Data visualisation"
   ]
  },
  {
   "cell_type": "code",
   "execution_count": 5,
   "metadata": {
    "cell_id": "00005-fbc89297-b490-4476-b466-fb19e39fe9e4",
    "deepnote_cell_type": "code",
    "deepnote_to_be_reexecuted": false,
    "execution_millis": 115,
    "execution_start": 1635448043853,
    "source_hash": "63e3b190",
    "tags": []
   },
   "outputs": [
    {
     "name": "stdout",
     "output_type": "stream",
     "text": [
      "(3276, 10)\n"
     ]
    },
    {
     "data": {
      "text/html": [
       "<div>\n",
       "<style scoped>\n",
       "    .dataframe tbody tr th:only-of-type {\n",
       "        vertical-align: middle;\n",
       "    }\n",
       "\n",
       "    .dataframe tbody tr th {\n",
       "        vertical-align: top;\n",
       "    }\n",
       "\n",
       "    .dataframe thead th {\n",
       "        text-align: right;\n",
       "    }\n",
       "</style>\n",
       "<table border=\"1\" class=\"dataframe\">\n",
       "  <thead>\n",
       "    <tr style=\"text-align: right;\">\n",
       "      <th></th>\n",
       "      <th>ph</th>\n",
       "      <th>Hardness</th>\n",
       "      <th>Solids</th>\n",
       "      <th>Chloramines</th>\n",
       "      <th>Sulfate</th>\n",
       "      <th>Conductivity</th>\n",
       "      <th>Organic_carbon</th>\n",
       "      <th>Trihalomethanes</th>\n",
       "      <th>Turbidity</th>\n",
       "      <th>Potability</th>\n",
       "    </tr>\n",
       "  </thead>\n",
       "  <tbody>\n",
       "    <tr>\n",
       "      <th>0</th>\n",
       "      <td>NaN</td>\n",
       "      <td>204.890456</td>\n",
       "      <td>20791.31898</td>\n",
       "      <td>7.300212</td>\n",
       "      <td>368.516441</td>\n",
       "      <td>564.308654</td>\n",
       "      <td>10.379783</td>\n",
       "      <td>86.990970</td>\n",
       "      <td>2.963135</td>\n",
       "      <td>0</td>\n",
       "    </tr>\n",
       "    <tr>\n",
       "      <th>1</th>\n",
       "      <td>3.716080</td>\n",
       "      <td>129.422921</td>\n",
       "      <td>18630.05786</td>\n",
       "      <td>6.635246</td>\n",
       "      <td>NaN</td>\n",
       "      <td>592.885359</td>\n",
       "      <td>15.180013</td>\n",
       "      <td>56.329076</td>\n",
       "      <td>4.500656</td>\n",
       "      <td>0</td>\n",
       "    </tr>\n",
       "    <tr>\n",
       "      <th>2</th>\n",
       "      <td>8.099124</td>\n",
       "      <td>224.236259</td>\n",
       "      <td>19909.54173</td>\n",
       "      <td>9.275884</td>\n",
       "      <td>NaN</td>\n",
       "      <td>418.606213</td>\n",
       "      <td>16.868637</td>\n",
       "      <td>66.420093</td>\n",
       "      <td>3.055934</td>\n",
       "      <td>0</td>\n",
       "    </tr>\n",
       "    <tr>\n",
       "      <th>3</th>\n",
       "      <td>8.316766</td>\n",
       "      <td>214.373394</td>\n",
       "      <td>22018.41744</td>\n",
       "      <td>8.059332</td>\n",
       "      <td>356.886136</td>\n",
       "      <td>363.266516</td>\n",
       "      <td>18.436525</td>\n",
       "      <td>100.341674</td>\n",
       "      <td>4.628771</td>\n",
       "      <td>0</td>\n",
       "    </tr>\n",
       "    <tr>\n",
       "      <th>4</th>\n",
       "      <td>9.092223</td>\n",
       "      <td>181.101509</td>\n",
       "      <td>17978.98634</td>\n",
       "      <td>6.546600</td>\n",
       "      <td>310.135738</td>\n",
       "      <td>398.410813</td>\n",
       "      <td>11.558279</td>\n",
       "      <td>31.997993</td>\n",
       "      <td>4.075075</td>\n",
       "      <td>0</td>\n",
       "    </tr>\n",
       "  </tbody>\n",
       "</table>\n",
       "</div>"
      ],
      "text/plain": [
       "         ph    Hardness       Solids  Chloramines     Sulfate  Conductivity  \\\n",
       "0       NaN  204.890456  20791.31898     7.300212  368.516441    564.308654   \n",
       "1  3.716080  129.422921  18630.05786     6.635246         NaN    592.885359   \n",
       "2  8.099124  224.236259  19909.54173     9.275884         NaN    418.606213   \n",
       "3  8.316766  214.373394  22018.41744     8.059332  356.886136    363.266516   \n",
       "4  9.092223  181.101509  17978.98634     6.546600  310.135738    398.410813   \n",
       "\n",
       "   Organic_carbon  Trihalomethanes  Turbidity  Potability  \n",
       "0       10.379783        86.990970   2.963135           0  \n",
       "1       15.180013        56.329076   4.500656           0  \n",
       "2       16.868637        66.420093   3.055934           0  \n",
       "3       18.436525       100.341674   4.628771           0  \n",
       "4       11.558279        31.997993   4.075075           0  "
      ]
     },
     "execution_count": 5,
     "metadata": {},
     "output_type": "execute_result"
    }
   ],
   "source": [
    "print(data.shape)\n",
    "data.head()"
   ]
  },
  {
   "cell_type": "markdown",
   "metadata": {
    "cell_id": "00006-ec8d6b28-b706-46a3-8c81-d05cae8b80e7",
    "deepnote_cell_type": "text-cell-p",
    "is_collapsed": false,
    "tags": []
   },
   "source": [
    "9 features numériques et 1 target catégorielle binaire, on voit qu'il y a des données manquantes, il faudra traiter ce problème."
   ]
  },
  {
   "cell_type": "markdown",
   "metadata": {
    "cell_id": "00007-37ca1930-2412-4b14-85ef-3e376136063f",
    "deepnote_cell_type": "text-cell-h3",
    "is_collapsed": false,
    "tags": []
   },
   "source": [
    "### Données aberrantes"
   ]
  },
  {
   "cell_type": "code",
   "execution_count": 6,
   "metadata": {
    "cell_id": "00008-180c3ec5-dbc9-495a-be31-d3a3f1b79000",
    "deepnote_cell_type": "code",
    "deepnote_to_be_reexecuted": false,
    "execution_millis": 1472,
    "execution_start": 1635448044532,
    "source_hash": "39b8c081",
    "tags": []
   },
   "outputs": [
    {
     "data": {
      "image/png": "[encoded data removed]",
      "text/plain": [
       "<Figure size 576x576 with 9 Axes>"
      ]
     },
     "metadata": {
      "needs_background": "light"
     },
     "output_type": "display_data"
    }
   ],
   "source": [
    "fig, axes = plt.subplots(3, 3,figsize=(8, 8))\n",
    "fig.suptitle('before removing outliers')\n",
    "sns.boxplot(X[\"Sulfate\"],ax=axes[0][0])\n",
    "sns.boxplot(X[\"Trihalomethanes\"],ax=axes[0][1])\n",
    "sns.boxplot(X[\"ph\"],ax=axes[0][2])\n",
    "sns.boxplot(X[\"Hardness\"],ax=axes[1][0])\n",
    "sns.boxplot(X[\"Solids\"],ax=axes[1][1])\n",
    "sns.boxplot(X[\"Chloramines\"],ax=axes[1][2])\n",
    "sns.boxplot(X[\"Conductivity\"],ax=axes[2][0])\n",
    "sns.boxplot(X[\"Organic_carbon\"],ax=axes[2][1])\n",
    "sns.boxplot(X[\"Turbidity\"],ax=axes[2][2])\n",
    "\n",
    "plt.show()"
   ]
  },
  {
   "cell_type": "markdown",
   "metadata": {
    "cell_id": "00009-687779b6-dfa9-4ad1-91bc-62e3c1a53bbb",
    "deepnote_cell_type": "text-cell-p",
    "is_collapsed": false,
    "tags": []
   },
   "source": [
    "Quelques outliers qu'il faudra peut être enlever."
   ]
  },
  {
   "cell_type": "markdown",
   "metadata": {
    "cell_id": "00007-d58325fa-c19a-42e0-b489-44044bbe4692",
    "deepnote_cell_type": "text-cell-h3",
    "is_collapsed": false,
    "tags": []
   },
   "source": [
    "### Valeurs manquantes"
   ]
  },
  {
   "cell_type": "code",
   "execution_count": 7,
   "metadata": {
    "cell_id": "00008-5d4e652b-e5ed-4de7-95a5-ec1a341c0b3a",
    "deepnote_cell_type": "code",
    "deepnote_to_be_reexecuted": false,
    "execution_millis": 34,
    "execution_start": 1635448046008,
    "source_hash": "8554ba52",
    "tags": []
   },
   "outputs": [
    {
     "name": "stdout",
     "output_type": "stream",
     "text": [
      "ph missing values : 491 out of 3276 (15%)\n",
      "Hardness missing values : 0 out of 3276 (0%)\n",
      "Solids missing values : 0 out of 3276 (0%)\n",
      "Chloramines missing values : 0 out of 3276 (0%)\n",
      "Sulfate missing values : 781 out of 3276 (24%)\n",
      "Conductivity missing values : 0 out of 3276 (0%)\n",
      "Organic_carbon missing values : 0 out of 3276 (0%)\n",
      "Trihalomethanes missing values : 162 out of 3276 (5%)\n",
      "Turbidity missing values : 0 out of 3276 (0%)\n"
     ]
    }
   ],
   "source": [
    "for col in X.columns:\n",
    "    missing = sum(~pd.notna(X[col]))\n",
    "    total = X.shape[0]\n",
    "    print(col,'missing values : {} out of {} ({}%)'.format(missing, total, round(100*missing/total)))"
   ]
  },
  {
   "cell_type": "code",
   "execution_count": 8,
   "metadata": {
    "cell_id": "00011-ce34d092-c570-4648-bfb5-0f7ff83840ef",
    "deepnote_cell_type": "code",
    "deepnote_to_be_reexecuted": false,
    "execution_millis": 1099,
    "execution_start": 1635448046046,
    "source_hash": "a27785be",
    "tags": []
   },
   "outputs": [
    {
     "data": {
      "text/plain": [
       "<seaborn.axisgrid.FacetGrid at 0x216d0596880>"
      ]
     },
     "execution_count": 8,
     "metadata": {},
     "output_type": "execute_result"
    },
    {
     "data": {
      "image/png": "[encoded data removed]",
      "text/plain": [
       "<Figure size 512.125x360 with 1 Axes>"
      ]
     },
     "metadata": {
      "needs_background": "light"
     },
     "output_type": "display_data"
    }
   ],
   "source": [
    "sns.displot(\n",
    "    data=X.isna().melt(value_name=\"missing\"),\n",
    "    y=\"variable\",\n",
    "    hue=\"missing\",\n",
    "    multiple=\"fill\",\n",
    "    aspect=1.25\n",
    ")"
   ]
  },
  {
   "cell_type": "markdown",
   "metadata": {
    "cell_id": "00010-25144bbc-af1e-4f90-b5b8-415f774ef1a8",
    "deepnote_cell_type": "text-cell-p",
    "is_collapsed": false,
    "tags": []
   },
   "source": [
    "On&nbsp;a&nbsp;des&nbsp;valeurs&nbsp;manquantes&nbsp;sur&nbsp;3&nbsp;des&nbsp;9&nbsp;features à hauteur de 5% (Trihalomethanes), 15% (ph) et 25% (Sulfate)."
   ]
  },
  {
   "cell_type": "code",
   "execution_count": 9,
   "metadata": {
    "cell_id": "00011-1bb46121-7214-432e-a907-1f92cc2878c0",
    "deepnote_cell_type": "code",
    "deepnote_to_be_reexecuted": false,
    "execution_millis": 45,
    "execution_start": 1635448047147,
    "source_hash": "362ec08a",
    "tags": []
   },
   "outputs": [
    {
     "name": "stdout",
     "output_type": "stream",
     "text": [
      "ph Potable missing values : 177 out of 1278 (14%)\n",
      "Hardness Potable missing values : 0 out of 1278 (0%)\n",
      "Solids Potable missing values : 0 out of 1278 (0%)\n",
      "Chloramines Potable missing values : 0 out of 1278 (0%)\n",
      "Sulfate Potable missing values : 293 out of 1278 (23%)\n",
      "Conductivity Potable missing values : 0 out of 1278 (0%)\n",
      "Organic_carbon Potable missing values : 0 out of 1278 (0%)\n",
      "Trihalomethanes Potable missing values : 55 out of 1278 (4%)\n",
      "Turbidity Potable missing values : 0 out of 1278 (0%)\n"
     ]
    }
   ],
   "source": [
    "for col in X.columns:\n",
    "    missing_potable = sum(~pd.notna(X.loc[y == 1,col]))\n",
    "    total = sum(y == 1)\n",
    "    print(col,'Potable missing values : {} out of {} ({}%)'.format(missing_potable, total, round(100*missing_potable/total)))"
   ]
  },
  {
   "cell_type": "code",
   "execution_count": 10,
   "metadata": {
    "cell_id": "00012-926881a1-2929-4a21-b515-4bed99eae901",
    "deepnote_cell_type": "code",
    "deepnote_to_be_reexecuted": false,
    "execution_millis": 43,
    "execution_start": 1635448049506,
    "source_hash": "416e8404",
    "tags": []
   },
   "outputs": [
    {
     "name": "stdout",
     "output_type": "stream",
     "text": [
      "ph Non potable missing values : 314 out of 1998 (16%)\n",
      "Hardness Non potable missing values : 0 out of 1998 (0%)\n",
      "Solids Non potable missing values : 0 out of 1998 (0%)\n",
      "Chloramines Non potable missing values : 0 out of 1998 (0%)\n",
      "Sulfate Non potable missing values : 488 out of 1998 (24%)\n",
      "Conductivity Non potable missing values : 0 out of 1998 (0%)\n",
      "Organic_carbon Non potable missing values : 0 out of 1998 (0%)\n",
      "Trihalomethanes Non potable missing values : 107 out of 1998 (5%)\n",
      "Turbidity Non potable missing values : 0 out of 1998 (0%)\n"
     ]
    }
   ],
   "source": [
    "for col in X.columns:\n",
    "    missing_non_potable = sum(~pd.notna(X.loc[y == 0,col]))\n",
    "    total = sum(y == 0)\n",
    "    print(col,'Non potable missing values : {} out of {} ({}%)'.format(missing_non_potable, total, round(100*missing_non_potable/total)))"
   ]
  },
  {
   "cell_type": "markdown",
   "metadata": {
    "cell_id": "00013-f4f0e4af-d338-4866-aad2-b88908042ceb",
    "deepnote_cell_type": "text-cell-p",
    "is_collapsed": false,
    "tags": []
   },
   "source": [
    "On voit qu'on a sensiblement les mêmes proportions de valeurs manquantes sur les mêmes features parmi les instances potables d'une part et non potable d'autre part."
   ]
  },
  {
   "cell_type": "markdown",
   "metadata": {
    "cell_id": "00014-9a6a21a6-5bbb-4279-acc4-ece3346dca92",
    "deepnote_cell_type": "text-cell-p",
    "is_collapsed": false,
    "tags": []
   },
   "source": [
    "Pour gérer ce problème des datas manquantes plusieurs solutions s'offrent à nous : "
   ]
  },
  {
   "cell_type": "markdown",
   "metadata": {
    "cell_id": "00015-88cdf868-418c-4192-9f75-e5c311c4d522",
    "deepnote_cell_type": "text-cell-p",
    "is_collapsed": false,
    "tags": []
   },
   "source": [
    "- Listwise deletion : supprimer les lignes de données manquantes (on ne va pas privilégier cette solution ici car on a assez peu d'instances, et il serait bien d'être capable de fournir une prédiction même pour les instances qui pourraient avoir des valeurs manquantes)."
   ]
  },
  {
   "cell_type": "markdown",
   "metadata": {
    "cell_id": "00016-17e96e8b-1e01-4a75-bfd9-7d61e421fc8c",
    "deepnote_cell_type": "text-cell-p",
    "is_collapsed": false,
    "tags": []
   },
   "source": [
    "- Univariate feature imputation : Remplacer les données manquantes de chaque feature en utilisant les valeurs observées de ce même feature (remplacer par la moyenne ou la médiane etc ..)"
   ]
  },
  {
   "cell_type": "markdown",
   "metadata": {
    "cell_id": "00017-0b71b4d5-c1ad-45e7-8e53-badfebb7d99f",
    "deepnote_cell_type": "text-cell-p",
    "is_collapsed": false,
    "tags": []
   },
   "source": [
    "- Multivariate feature imputation: Remplacer les données manquantes de chaque feature en utilisant les valeurs obervées des autres features (avec un KNN ou un iterative imputer)"
   ]
  },
  {
   "cell_type": "markdown",
   "metadata": {
    "cell_id": "00007-bfe564ea-db67-46dc-b626-1293f10a660e",
    "deepnote_cell_type": "text-cell-h3",
    "is_collapsed": false,
    "tags": []
   },
   "source": [
    "### Equilibre des données "
   ]
  },
  {
   "cell_type": "code",
   "execution_count": 12,
   "metadata": {
    "cell_id": "00005-719289be-83d8-4624-b7a8-c6a7ca7cf42d",
    "deepnote_cell_type": "code",
    "deepnote_to_be_reexecuted": false,
    "execution_millis": 184,
    "execution_start": 1635499825315,
    "source_hash": "c3741f95",
    "tags": []
   },
   "outputs": [
    {
     "name": "stdout",
     "output_type": "stream",
     "text": [
      "data labélisé potable 1278 39.010989010989015 %, et non potable 1998 60.98901098901099 %\n"
     ]
    },
    {
     "data": {
      "image/png": "[encoded data removed]",
      "text/plain": [
       "<Figure size 432x288 with 1 Axes>"
      ]
     },
     "metadata": {
      "needs_background": "light"
     },
     "output_type": "display_data"
    }
   ],
   "source": [
    "sns.countplot(y)\n",
    "print(\"data labélisé potable\",y.sum(),y.sum()/y.shape[0]*100,\"%, et non potable\",y.shape[0]-y.sum(),(y.shape[0]-y.sum())/y.shape[0]*100,\"%\")"
   ]
  },
  {
   "cell_type": "markdown",
   "metadata": {
    "cell_id": "00006-678c7ece-106e-4735-b557-4700ecd7061d",
    "deepnote_cell_type": "text-cell-p",
    "is_collapsed": false,
    "tags": []
   },
   "source": [
    "Data&nbsp;set&nbsp;légèrement déséquilibré,&nbsp;l'algorithme&nbsp;qui&nbsp;mettrait&nbsp;toutes&nbsp;les&nbsp;instances&nbsp;à&nbsp;0&nbsp;aurait&nbsp;une&nbsp;accuracy&nbsp;de&nbsp;61%"
   ]
  },
  {
   "cell_type": "markdown",
   "metadata": {
    "cell_id": "00024-7d3325bc-60fc-4de4-9dfc-14fe5eb87caa",
    "deepnote_cell_type": "text-cell-p",
    "is_collapsed": false,
    "tags": []
   },
   "source": [
    "Ici pour rééquilibrer les données, nous avons opté pour de l'upscaling. La solution de downscaling ne nous satisfaisait pas car cela nous ferait supprimer des instances alors que le dataset est déjà de taille assez réduite."
   ]
  },
  {
   "cell_type": "markdown",
   "metadata": {
    "cell_id": "00016-59113dad-d80e-48b5-b9a0-ede2f9893d63",
    "deepnote_cell_type": "text-cell-h3",
    "is_collapsed": false,
    "tags": []
   },
   "source": [
    "### Distribution des datas"
   ]
  },
  {
   "cell_type": "code",
   "execution_count": 13,
   "metadata": {
    "cell_id": "00016-9516f13f-a71d-4a21-8e56-5d9c8f111435",
    "deepnote_cell_type": "code",
    "deepnote_to_be_reexecuted": false,
    "execution_millis": 2855,
    "execution_start": 1635500114727,
    "source_hash": "d1b0969d",
    "tags": []
   },
   "outputs": [
    {
     "data": {
      "image/png": "[encoded data removed]",
      "text/plain": [
       "<Figure size 576x576 with 9 Axes>"
      ]
     },
     "metadata": {
      "needs_background": "light"
     },
     "output_type": "display_data"
    }
   ],
   "source": [
    "data_sans_missing_values=X.copy()\n",
    "index_with_nan = data_sans_missing_values.index[data_sans_missing_values.isnull().any(axis=1)]\n",
    "index_with_nan.shape\n",
    "data_sans_missing_values.drop(index_with_nan,0, inplace=True)\n",
    "\n",
    "fig, axes = plt.subplots(3, 3,figsize=(8, 8))\n",
    "fig.suptitle('Distribution avant rescale')\n",
    "sns.distplot(data_sans_missing_values[\"Sulfate\"],ax=axes[0][0])\n",
    "sns.distplot(data_sans_missing_values[\"Trihalomethanes\"],ax=axes[0][1])\n",
    "sns.distplot(data_sans_missing_values[\"ph\"],ax=axes[0][2])\n",
    "sns.distplot(X[\"Hardness\"],ax=axes[1][0])\n",
    "sns.distplot(X[\"Solids\"],ax=axes[1][1])\n",
    "sns.distplot(X[\"Chloramines\"],ax=axes[1][2])\n",
    "sns.distplot(X[\"Conductivity\"],ax=axes[2][0])\n",
    "sns.distplot(X[\"Organic_carbon\"],ax=axes[2][1])\n",
    "sns.distplot(X[\"Turbidity\"],ax=axes[2][2])\n",
    "\n",
    "plt.show()"
   ]
  },
  {
   "cell_type": "markdown",
   "metadata": {
    "cell_id": "00026-1d406b97-9315-4132-a1ba-de049acef4eb",
    "deepnote_cell_type": "text-cell-p",
    "is_collapsed": false,
    "tags": []
   },
   "source": [
    "Les datas sont toutes distribuées selon une pseudo gaussienne. Les amplitudes des données sont variables allant jusqu'à 60 000 pour \"Solids\". Il faudra donc remettre ces données à la même échelle. On utilisera StandardScaler pour la mise à l'échelle car les données semblent ici globalement normalement distribuées."
   ]
  },
  {
   "cell_type": "markdown",
   "metadata": {
    "cell_id": "00010-964a6a6d-356e-4c22-b264-2af4171e79ee",
    "deepnote_cell_type": "text-cell-h3",
    "is_collapsed": false,
    "tags": []
   },
   "source": [
    "### Corrélation entre les features"
   ]
  },
  {
   "cell_type": "code",
   "execution_count": 14,
   "metadata": {
    "cell_id": "00010-0ea65c68-93ab-4b32-abe6-592fd23489a9",
    "deepnote_cell_type": "code",
    "deepnote_to_be_reexecuted": false,
    "execution_millis": 1131,
    "execution_start": 1635500189723,
    "source_hash": "9dcba0df",
    "tags": []
   },
   "outputs": [
    {
     "data": {
      "text/plain": [
       "<matplotlib.axes._subplots.AxesSubplot at 0x216cb746f40>"
      ]
     },
     "execution_count": 14,
     "metadata": {},
     "output_type": "execute_result"
    },
    {
     "data": {
      "image/png": "[encoded data removed]",
      "text/plain": [
       "<Figure size 720x576 with 2 Axes>"
      ]
     },
     "metadata": {
      "needs_background": "light"
     },
     "output_type": "display_data"
    }
   ],
   "source": [
    "plt.figure(figsize=(10,8))\n",
    "sns.heatmap(X.corr(), annot=True)"
   ]
  },
  {
   "cell_type": "markdown",
   "metadata": {
    "cell_id": "00023-73d00343-9ad8-4dff-b300-6be6b59581bc",
    "deepnote_cell_type": "text-cell-p",
    "is_collapsed": false,
    "tags": []
   },
   "source": [
    "Aucune corrélation apparente entre les features."
   ]
  },
  {
   "cell_type": "markdown",
   "metadata": {
    "cell_id": "00032-9a590816-e1dd-40c9-84dd-eab09c701ca3",
    "deepnote_cell_type": "text-cell-h2",
    "is_collapsed": false,
    "tags": []
   },
   "source": [
    "## Fonctions prétraitement"
   ]
  },
  {
   "cell_type": "markdown",
   "metadata": {
    "cell_id": "00033-6fc72f36-f773-4f64-98b7-26e43e2a173a",
    "deepnote_cell_type": "text-cell-h3",
    "is_collapsed": false,
    "tags": []
   },
   "source": [
    "### Gestion des données aberrantes"
   ]
  },
  {
   "cell_type": "code",
   "execution_count": 15,
   "metadata": {
    "cell_id": "00033-7ddad004-dfca-4f32-a88a-da5ff36d926a",
    "deepnote_cell_type": "code",
    "deepnote_to_be_reexecuted": false,
    "execution_millis": 20,
    "execution_start": 1636316379665,
    "source_hash": "b88351c3",
    "tags": []
   },
   "outputs": [],
   "source": [
    "def handle_outliers(X1,y1,features_quantiles):\n",
    "    \n",
    "    list_quantiles = []\n",
    "    for comb in features_quantiles:\n",
    "        Q3 = X1[comb[0]].quantile(1-comb[1])\n",
    "        Q1 = X1[comb[0]].quantile(comb[1])\n",
    "        list_quantiles.append((Q1,Q3))\n",
    "    \n",
    "    for i in range(len(list_quantiles)):\n",
    "        y1 = y1[(X1[features_quantiles[i][0]] <= list_quantiles[i][1]) & (X1[features_quantiles[i][0]] >= list_quantiles[i][0]) | ~pd.notna(X1[features_quantiles[i][0]])]\n",
    "        X1 = X1[(X1[features_quantiles[i][0]] <= list_quantiles[i][1]) & (X1[features_quantiles[i][0]] >= list_quantiles[i][0]) | ~pd.notna(X1[features_quantiles[i][0]])]\n",
    "\n",
    "    return X1,y1"
   ]
  },
  {
   "cell_type": "markdown",
   "metadata": {
    "cell_id": "00035-32aa7e18-b5bf-495f-b317-1db9361353ce",
    "deepnote_cell_type": "text-cell-h3",
    "is_collapsed": false,
    "tags": []
   },
   "source": [
    "### Données manquantes"
   ]
  },
  {
   "cell_type": "code",
   "execution_count": 16,
   "metadata": {
    "cell_id": "00036-434cb1c7-a63b-460e-828e-dda0b0fe80a7",
    "deepnote_cell_type": "code",
    "deepnote_to_be_reexecuted": false,
    "execution_millis": 22,
    "execution_start": 1636316379735,
    "source_hash": "ab1e0f69",
    "tags": []
   },
   "outputs": [],
   "source": [
    "def handle_missing_values(X1,X1_test,method):\n",
    "    columns = X1.columns\n",
    "    if method==\"Univariate\":\n",
    "        imp_mean = SimpleImputer()\n",
    "        X1 = imp_mean.fit_transform(X1)\n",
    "        X1_test = imp_mean.transform(X1_test)\n",
    "        \n",
    "    elif method==\"Iterative\":\n",
    "        columns = X1.columns\n",
    "        it_imp = IterativeImputer()\n",
    "        X1 = it_imp.fit_transform(X1)\n",
    "        X1_test = it_imp.transform(X1_test)\n",
    "        \n",
    "    elif method==\"KNN\":\n",
    "        # Init the transformer\n",
    "        impKNN = KNNImputer()\n",
    "\n",
    "        # Fit/transform\n",
    "        colunms=X1.columns\n",
    "        X1=impKNN.fit_transform(X1)\n",
    "        X1_test=impKNN.fit_transform(X1_test)\n",
    "\n",
    "    return pd.DataFrame(X1, columns = columns),pd.DataFrame(X1_test, columns = columns)"
   ]
  },
  {
   "cell_type": "markdown",
   "metadata": {
    "cell_id": "00037-9561ae93-cc7c-4c92-b782-c943054383a8",
    "deepnote_cell_type": "text-cell-h3",
    "is_collapsed": false,
    "tags": []
   },
   "source": [
    "### Rééquilibrage des classes"
   ]
  },
  {
   "cell_type": "code",
   "execution_count": 17,
   "metadata": {
    "cell_id": "00038-7a1fe32f-efab-449f-8c45-0a991d891718",
    "deepnote_cell_type": "code",
    "deepnote_to_be_reexecuted": false,
    "execution_millis": 8,
    "execution_start": 1636316379781,
    "source_hash": "185a7766",
    "tags": []
   },
   "outputs": [],
   "source": [
    "def handle_balancing(X1,y1):\n",
    "    oversample = SMOTE()\n",
    "    X1, y1 = oversample.fit_resample(X1, y1)\n",
    "    return X1,y1"
   ]
  },
  {
   "cell_type": "markdown",
   "metadata": {
    "cell_id": "00039-7fffa916-40b6-4f73-8e09-350fc50a7190",
    "deepnote_cell_type": "text-cell-h3",
    "is_collapsed": false,
    "tags": []
   },
   "source": [
    "### Mise à l'échelle"
   ]
  },
  {
   "cell_type": "code",
   "execution_count": 18,
   "metadata": {
    "cell_id": "00040-be3490f5-736f-402a-88c0-ee16efadfe9c",
    "deepnote_cell_type": "code",
    "deepnote_to_be_reexecuted": false,
    "execution_millis": 42,
    "execution_start": 1636316379833,
    "source_hash": "10c71fa0",
    "tags": []
   },
   "outputs": [],
   "source": [
    "def handle_rescaling(X1,X1_test,method):\n",
    "    columns = X1.columns\n",
    "    if method == 'StandardScaler':\n",
    "        scaler = StandardScaler()\n",
    "        X1 = scaler.fit_transform(X1)\n",
    "        X1_test = scaler.transform(X1_test)\n",
    "    elif method == 'MinMaxScaler':\n",
    "        scaler = MinMaxScaler()\n",
    "        X1 = scaler.fit_transform(X1)\n",
    "        X1_test = scaler.transform(X1_test)\n",
    "    return pd.DataFrame(X1, columns = columns),pd.DataFrame(X1_test, columns = columns)"
   ]
  },
  {
   "cell_type": "markdown",
   "metadata": {
    "cell_id": "00003-1799d191-c46f-41cc-a1fb-7f3a2f4713ba",
    "deepnote_cell_type": "text-cell-h2",
    "is_collapsed": false,
    "tags": []
   },
   "source": [
    "## Data prétraitement"
   ]
  },
  {
   "cell_type": "markdown",
   "metadata": {
    "cell_id": "00042-9aec1536-096e-4925-8bfb-df777147bb5f",
    "deepnote_cell_type": "text-cell-h3",
    "is_collapsed": false,
    "tags": []
   },
   "source": [
    "### Paramètres de prétraitement"
   ]
  },
  {
   "cell_type": "code",
   "execution_count": 19,
   "metadata": {
    "cell_id": "00043-6371d243-3e1a-48b8-8a66-4284c48a4657",
    "deepnote_cell_type": "code",
    "deepnote_to_be_reexecuted": false,
    "execution_millis": 40,
    "execution_start": 1636316379876,
    "source_hash": "6d8df702",
    "tags": []
   },
   "outputs": [],
   "source": [
    "#Preprocessing parameters\n",
    "\n",
    "outliers = False\n",
    "rescale = True\n",
    "missing_values = True\n",
    "upscaling = False \n",
    "\n",
    "features_quantiles = []\n",
    "test_size = 0.15\n",
    "split_seed = 0\n",
    "rescale_method = 'StandardScaler'\n",
    "imputation_method = 'KNN'"
   ]
  },
  {
   "cell_type": "markdown",
   "metadata": {
    "cell_id": "00033-5c0d924b-a4e3-417d-a436-a0a9beb5a955",
    "deepnote_cell_type": "text-cell-h3",
    "is_collapsed": false,
    "tags": []
   },
   "source": [
    "### Gestion des données aberrantes"
   ]
  },
  {
   "cell_type": "code",
   "execution_count": 20,
   "metadata": {
    "cell_id": "00034-847536b8-5d71-4d67-b140-1e558d262a72",
    "deepnote_cell_type": "code",
    "deepnote_to_be_reexecuted": false,
    "execution_millis": 8,
    "execution_start": 1636318778987,
    "source_hash": "20b4b5d6",
    "tags": []
   },
   "outputs": [],
   "source": [
    "if outliers:\n",
    "    fig, axes = plt.subplots(3, 3,figsize=(8, 8))\n",
    "    fig.suptitle('avant gestion des outliers')\n",
    "    sns.boxplot(X[\"Sulfate\"],ax=axes[0][0])\n",
    "    sns.boxplot(X[\"Trihalomethanes\"],ax=axes[0][1])\n",
    "    sns.boxplot(X[\"ph\"],ax=axes[0][2])\n",
    "    sns.boxplot(X[\"Hardness\"],ax=axes[1][0])\n",
    "    sns.boxplot(X[\"Solids\"],ax=axes[1][1])\n",
    "    sns.boxplot(X[\"Chloramines\"],ax=axes[1][2])\n",
    "    sns.boxplot(X[\"Conductivity\"],ax=axes[2][0])\n",
    "    sns.boxplot(X[\"Organic_carbon\"],ax=axes[2][1])\n",
    "    sns.boxplot(X[\"Turbidity\"],ax=axes[2][2])\n",
    "\n",
    "    plt.show()\n",
    "\n",
    "    X,y = handle_outliers(X,y,features_quantiles)\n",
    "\n",
    "    fig, axes = plt.subplots(3, 3,figsize=(8, 8))\n",
    "    fig.suptitle('après gestion des outliers')\n",
    "    sns.boxplot(X[\"Sulfate\"],ax=axes[0][0])\n",
    "    sns.boxplot(X[\"Trihalomethanes\"],ax=axes[0][1])\n",
    "    sns.boxplot(X[\"ph\"],ax=axes[0][2])\n",
    "    sns.boxplot(X[\"Hardness\"],ax=axes[1][0])\n",
    "    sns.boxplot(X[\"Solids\"],ax=axes[1][1])\n",
    "    sns.boxplot(X[\"Chloramines\"],ax=axes[1][2])\n",
    "    sns.boxplot(X[\"Conductivity\"],ax=axes[2][0])\n",
    "    sns.boxplot(X[\"Organic_carbon\"],ax=axes[2][1])\n",
    "    sns.boxplot(X[\"Turbidity\"],ax=axes[2][2])\n",
    "\n",
    "    plt.show()"
   ]
  },
  {
   "cell_type": "markdown",
   "metadata": {
    "cell_id": "00035-e76d73b5-7991-45c8-aeb2-12ea8ebbc5b4",
    "deepnote_cell_type": "text-cell-h3",
    "is_collapsed": false,
    "tags": []
   },
   "source": [
    "### Séparation données d'entrainement et de test"
   ]
  },
  {
   "cell_type": "markdown",
   "metadata": {
    "cell_id": "00036-8e0755f6-3328-494c-a21b-29597a2260ce",
    "deepnote_cell_type": "text-cell-p",
    "is_collapsed": false,
    "tags": []
   },
   "source": [
    "Nous avons décidé de séparer les données de test et d'entrainement maintenant car nous ne voulons pas apprendre notre modèle sur les données de test. La gestion des données aberrante peut se faire sur l'ensemble du data set car le faire seulement sur les données d'entrainement créerait beaucoup de variance entre les 2 jeux de données. Pour la gestion des données manquantes et la mise à l'échelle (respectivement le rééquilibrage des classes) nous préférons séparer données de test et d'entrainement pour ne pas apprendre des données de test (respectivement pour ne pas fausser les données du test set)."
   ]
  },
  {
   "cell_type": "code",
   "execution_count": 21,
   "metadata": {
    "cell_id": "00036-610b0c88-495f-4253-a453-6884e9f4a650",
    "deepnote_cell_type": "code",
    "deepnote_to_be_reexecuted": false,
    "execution_millis": 3,
    "execution_start": 1636318781385,
    "source_hash": "32470d1",
    "tags": []
   },
   "outputs": [],
   "source": [
    "X_train, X_test, y_train, y_test = train_test_split(X, y, test_size=test_size, random_state=split_seed)"
   ]
  },
  {
   "cell_type": "markdown",
   "metadata": {
    "cell_id": "00007-e9973bc5-038c-433b-ae8c-d799a6887649",
    "deepnote_cell_type": "text-cell-h3",
    "is_collapsed": false,
    "tags": []
   },
   "source": [
    "### Mise à l'échelle"
   ]
  },
  {
   "cell_type": "code",
   "execution_count": 22,
   "metadata": {
    "cell_id": "00050-b63590ce-b304-4095-ad5c-a436cac91605",
    "deepnote_cell_type": "code",
    "deepnote_to_be_reexecuted": false,
    "execution_millis": 21,
    "execution_start": 1636318784726,
    "source_hash": "99f5cd8e",
    "tags": []
   },
   "outputs": [
    {
     "name": "stdout",
     "output_type": "stream",
     "text": [
      "train set avant mise à l'échelle\n",
      "\n",
      "            ph    Hardness        Solids  Chloramines     Sulfate  \\\n",
      "3260       NaN  134.736856   9000.025591     9.026293         NaN   \n",
      "3193  6.150034  188.413055   8406.723244     7.744714  358.591738   \n",
      "719        NaN  160.325972  37795.763320     9.152225  390.276608   \n",
      "1160  7.808641  200.714870  15694.507190     7.219558         NaN   \n",
      "2475  4.991397  141.622395  44499.728710     8.260928  335.509830   \n",
      "\n",
      "      Conductivity  Organic_carbon  Trihalomethanes  Turbidity  \n",
      "3260    428.213987        8.668672        74.773392   3.699558  \n",
      "3193    449.358812       13.220295        52.956632   3.444442  \n",
      "719     441.986106       16.450990        21.355275   4.441980  \n",
      "1160    519.862992       13.262102        79.344915   2.472720  \n",
      "2475    534.711454       15.350873        62.896558   3.926599   \n",
      "\n",
      "train set après mise à l'échelle\n",
      "\n",
      "         ph  Hardness    Solids  Chloramines   Sulfate  Conductivity  \\\n",
      "0       NaN -1.900258 -1.475085     1.189830       NaN      0.033693   \n",
      "1 -0.590623 -0.258579 -1.542752     0.391515  0.600266      0.295262   \n",
      "2       NaN -1.117618  1.809100     1.268275  1.363519      0.204059   \n",
      "3  0.453133  0.117670 -0.711572     0.064388       NaN      1.167423   \n",
      "4 -1.319750 -1.689665  2.573695     0.713073  0.044249      1.351104   \n",
      "\n",
      "   Organic_carbon  Trihalomethanes  Turbidity  \n",
      "0       -1.692011         0.507804  -0.352104  \n",
      "1       -0.321360        -0.833944  -0.679546  \n",
      "2        0.651514        -2.777453   0.600796  \n",
      "3       -0.308770         0.788956  -1.926754  \n",
      "4        0.320231        -0.222631  -0.060697   \n",
      "\n"
     ]
    }
   ],
   "source": [
    "if rescale:\n",
    "    print(\"train set avant mise à l'échelle\\n\")\n",
    "    print(X_train.head(),\"\\n\")\n",
    "    X_train,X_test = handle_rescaling(X_train,X_test,rescale_method)\n",
    "    print(\"train set après mise à l'échelle\\n\")\n",
    "    print(X_train.head(),\"\\n\")"
   ]
  },
  {
   "cell_type": "markdown",
   "metadata": {
    "cell_id": "00051-62628128-7933-4d2a-ad39-52148b0b1b58",
    "deepnote_cell_type": "text-cell-h3",
    "is_collapsed": false,
    "tags": []
   },
   "source": [
    "### Données manquantes"
   ]
  },
  {
   "cell_type": "code",
   "execution_count": 23,
   "metadata": {
    "cell_id": "00052-88963390-8a2e-4267-85bf-7ecf1324fe0a",
    "deepnote_cell_type": "code",
    "deepnote_to_be_reexecuted": false,
    "execution_millis": 325,
    "execution_start": 1636318785806,
    "source_hash": "3bffdd7b",
    "tags": []
   },
   "outputs": [
    {
     "name": "stdout",
     "output_type": "stream",
     "text": [
      "train set avant gestion des données manquantes\n",
      "\n",
      "         ph  Hardness    Solids  Chloramines   Sulfate  Conductivity  \\\n",
      "0       NaN -1.900258 -1.475085     1.189830       NaN      0.033693   \n",
      "1 -0.590623 -0.258579 -1.542752     0.391515  0.600266      0.295262   \n",
      "2       NaN -1.117618  1.809100     1.268275  1.363519      0.204059   \n",
      "3  0.453133  0.117670 -0.711572     0.064388       NaN      1.167423   \n",
      "4 -1.319750 -1.689665  2.573695     0.713073  0.044249      1.351104   \n",
      "\n",
      "   Organic_carbon  Trihalomethanes  Turbidity  \n",
      "0       -1.692011         0.507804  -0.352104  \n",
      "1       -0.321360        -0.833944  -0.679546  \n",
      "2        0.651514        -2.777453   0.600796  \n",
      "3       -0.308770         0.788956  -1.926754  \n",
      "4        0.320231        -0.222631  -0.060697   \n",
      "\n",
      "train set après gestion des données manquantes\n",
      "\n",
      "         ph  Hardness    Solids  Chloramines   Sulfate  Conductivity  \\\n",
      "0 -1.217933 -1.900258 -1.475085     1.189830  0.350415      0.033693   \n",
      "1 -0.590623 -0.258579 -1.542752     0.391515  0.600266      0.295262   \n",
      "2 -0.226167 -1.117618  1.809100     1.268275  1.363519      0.204059   \n",
      "3  0.453133  0.117670 -0.711572     0.064388  0.063362      1.167423   \n",
      "4 -1.319750 -1.689665  2.573695     0.713073  0.044249      1.351104   \n",
      "\n",
      "   Organic_carbon  Trihalomethanes  Turbidity  \n",
      "0       -1.692011         0.507804  -0.352104  \n",
      "1       -0.321360        -0.833944  -0.679546  \n",
      "2        0.651514        -2.777453   0.600796  \n",
      "3       -0.308770         0.788956  -1.926754  \n",
      "4        0.320231        -0.222631  -0.060697   \n",
      "\n"
     ]
    }
   ],
   "source": [
    "if missing_values:\n",
    "    print(\"train set avant gestion des données manquantes\\n\")\n",
    "    print(X_train.head(),\"\\n\")\n",
    "    X_train, X_test = handle_missing_values(X_train,X_test,imputation_method)\n",
    "    print(\"train set après gestion des données manquantes\\n\")\n",
    "    print(X_train.head(),\"\\n\")"
   ]
  },
  {
   "cell_type": "markdown",
   "metadata": {
    "cell_id": "00053-24a01f21-2994-4952-bda8-ac1bcc2fe4f5",
    "deepnote_cell_type": "text-cell-h3",
    "is_collapsed": false,
    "tags": []
   },
   "source": [
    "### Upscaling"
   ]
  },
  {
   "cell_type": "code",
   "execution_count": 24,
   "metadata": {
    "cell_id": "00054-f2041252-a56c-4eb8-b5c5-4bc60a112542",
    "deepnote_cell_type": "code",
    "deepnote_to_be_reexecuted": false,
    "execution_millis": 0,
    "execution_start": 1636318791855,
    "source_hash": "c303cbf",
    "tags": []
   },
   "outputs": [],
   "source": [
    "if upscaling:\n",
    "    print(\"labels d'entrainement avant upscaling\")\n",
    "    sns.countplot(y_train)\n",
    "    plt.show()\n",
    "    X_train, y_train = handle_balancing(X_train,y_train)\n",
    "    print(\"labels d'entrainement après upscaling\")\n",
    "    sns.countplot(y_train)\n",
    "    plt.show()"
   ]
  },
  {
   "cell_type": "markdown",
   "metadata": {
    "cell_id": "00057-154c5444-0e1a-480f-8a00-cc22542ddfd6",
    "deepnote_cell_type": "text-cell-h3",
    "is_collapsed": false,
    "tags": []
   },
   "source": [
    "### Redéfinition des index"
   ]
  },
  {
   "cell_type": "code",
   "execution_count": 25,
   "metadata": {
    "cell_id": "00056-0725e126-8b44-442d-b035-50d4376a3255",
    "deepnote_cell_type": "code",
    "deepnote_to_be_reexecuted": false,
    "execution_millis": 5,
    "execution_start": 1636318796093,
    "source_hash": "8237d402",
    "tags": []
   },
   "outputs": [],
   "source": [
    "X_train.index = range(X_train.shape[0])\n",
    "X_test.index = range(X_test.shape[0])\n",
    "y_train.index = range(y_train.shape[0])\n",
    "y_test.index = range(y_test.shape[0])"
   ]
  },
  {
   "cell_type": "markdown",
   "metadata": {
    "cell_id": "00049-ab074ae0-7a1c-4868-b35c-20adf8d109ea",
    "deepnote_cell_type": "text-cell-h2",
    "is_collapsed": false,
    "tags": []
   },
   "source": [
    "## Sélection de modèles"
   ]
  },
  {
   "cell_type": "code",
   "execution_count": 26,
   "metadata": {
    "cell_id": "00056-3fcf0ead-2f5f-4263-b2bf-ee14e9c557e1",
    "deepnote_cell_type": "code",
    "deepnote_to_be_reexecuted": false,
    "execution_millis": 6,
    "execution_start": 1636318799782,
    "source_hash": "93f0530c",
    "tags": []
   },
   "outputs": [],
   "source": [
    "from sklearn.model_selection import GridSearchCV, cross_val_score, KFold\n",
    "from sklearn.metrics import classification_report"
   ]
  },
  {
   "cell_type": "markdown",
   "metadata": {
    "cell_id": "00050-ade10e51-9d8f-4636-867b-47df490b01f3",
    "deepnote_cell_type": "text-cell-h3",
    "tags": []
   },
   "source": [
    "### SVC"
   ]
  },
  {
   "cell_type": "code",
   "execution_count": 27,
   "metadata": {
    "cell_id": "00057-c3426146-403e-4d49-bfd0-bbc17c6681cc",
    "deepnote_cell_type": "code",
    "deepnote_to_be_reexecuted": false,
    "execution_millis": 5,
    "execution_start": 1636318803189,
    "source_hash": "b736ac57",
    "tags": []
   },
   "outputs": [],
   "source": [
    "from sklearn import svm\n",
    "from sklearn.metrics import log_loss"
   ]
  },
  {
   "cell_type": "code",
   "execution_count": 28,
   "metadata": {
    "cell_id": "00059-0a6045ab-d3b7-4f75-aec5-d9edd4f720e5",
    "deepnote_cell_type": "code",
    "deepnote_to_be_reexecuted": false,
    "execution_millis": 1,
    "execution_start": 1635538120744,
    "source_hash": "3814e66d",
    "tags": []
   },
   "outputs": [],
   "source": [
    "fit_grid_init = True\n",
    "fit_grid_2 = True\n",
    "fit_grid_3 = True\n",
    "\n",
    "###NE PAS RERUN LES GRID SEARCH###"
   ]
  },
  {
   "cell_type": "code",
   "execution_count": 29,
   "metadata": {
    "cell_id": "00059-ead91177-729a-432b-820f-464a916aaf50",
    "deepnote_cell_type": "code",
    "deepnote_to_be_reexecuted": false,
    "execution_millis": 5,
    "execution_start": 1635535255217,
    "source_hash": "edd9047f",
    "tags": []
   },
   "outputs": [],
   "source": [
    "svc = svm.SVC(probability=True,random_state=0)"
   ]
  },
  {
   "cell_type": "code",
   "execution_count": null,
   "metadata": {
    "cell_id": "00061-84c9d476-55c4-4285-9101-89366e5241ef",
    "deepnote_cell_type": "code",
    "deepnote_to_be_reexecuted": false,
    "execution_millis": 948959,
    "execution_start": 1635535255687,
    "source_hash": "a5c7b29e",
    "tags": []
   },
   "outputs": [
    {
     "name": "stdout",
     "output_type": "stream",
     "text": [
      "Fitting 5 folds for each of 20 candidates, totalling 100 fits\n",
      "best params 1st grid :\n",
      "\n",
      "{'C': 1, 'kernel': 'rbf'} \n",
      "\n",
      "cv results 1st grid :\n",
      "\n",
      "{'mean_fit_time': array([  6.41728945,   6.79939961,   6.23142409,   7.68143778,\n",
      "        12.83247919,   7.82268825,  22.06519394,   7.61441984,\n",
      "        21.92516398,   4.62476254,   3.60964165,   4.0544651 ,\n",
      "         3.90136113,   5.37497873,   6.26078148,  21.46521235,\n",
      "        15.23078604, 113.63628464,  25.5677599 , 253.16005039]), 'std_fit_time': array([ 0.47267054,  0.45419695,  0.35385158,  1.05443955,  0.11568605,\n",
      "        0.22668726,  0.55568251,  0.20756695,  1.70253848,  0.48183564,\n",
      "        0.317388  ,  0.45597815,  0.18840071,  0.41275644,  0.46758702,\n",
      "        1.11654918,  0.55422698, 14.48860046,  1.44177983, 58.06204702]), 'mean_score_time': array([0.36932707, 0.2886796 , 0.30388708, 0.39810781, 0.51087146,\n",
      "       0.3534246 , 0.43896065, 0.2984673 , 0.25031648, 0.1669446 ,\n",
      "       0.14575653, 0.1299202 , 0.15339894, 0.14440837, 0.12087889,\n",
      "       0.11673231, 0.12751818, 0.13844018, 0.1238368 , 0.14740047]), 'std_score_time': array([0.08559784, 0.01554365, 0.03917446, 0.04660403, 0.02878483,\n",
      "       0.04970369, 0.0597741 , 0.02042027, 0.02135732, 0.03967858,\n",
      "       0.01041652, 0.02036004, 0.02475077, 0.02887425, 0.01677999,\n",
      "       0.03499243, 0.01288039, 0.01669674, 0.01620926, 0.05938677]), 'param_C': masked_array(data=[0.1, 0.1, 1, 1, 10, 10, 50, 50, 100, 100, 0.1, 0.1, 1,\n",
      "                   1, 10, 10, 50, 50, 100, 100],\n",
      "             mask=[False, False, False, False, False, False, False, False,\n",
      "                   False, False, False, False, False, False, False, False,\n",
      "                   False, False, False, False],\n",
      "       fill_value='?',\n",
      "            dtype=object), 'param_kernel': masked_array(data=['rbf', 'sigmoid', 'rbf', 'sigmoid', 'rbf', 'sigmoid',\n",
      "                   'rbf', 'sigmoid', 'rbf', 'sigmoid', 'poly', 'poly',\n",
      "                   'poly', 'poly', 'poly', 'poly', 'poly', 'poly', 'poly',\n",
      "                   'poly'],\n",
      "             mask=[False, False, False, False, False, False, False, False,\n",
      "                   False, False, False, False, False, False, False, False,\n",
      "                   False, False, False, False],\n",
      "       fill_value='?',\n",
      "            dtype=object), 'param_degree': masked_array(data=[--, --, --, --, --, --, --, --, --, --, 2, 3, 2, 3, 2,\n",
      "                   3, 2, 3, 2, 3],\n",
      "             mask=[ True,  True,  True,  True,  True,  True,  True,  True,\n",
      "                    True,  True, False, False, False, False, False, False,\n",
      "                   False, False, False, False],\n",
      "       fill_value='?',\n",
      "            dtype=object), 'params': [{'C': 0.1, 'kernel': 'rbf'}, {'C': 0.1, 'kernel': 'sigmoid'}, {'C': 1, 'kernel': 'rbf'}, {'C': 1, 'kernel': 'sigmoid'}, {'C': 10, 'kernel': 'rbf'}, {'C': 10, 'kernel': 'sigmoid'}, {'C': 50, 'kernel': 'rbf'}, {'C': 50, 'kernel': 'sigmoid'}, {'C': 100, 'kernel': 'rbf'}, {'C': 100, 'kernel': 'sigmoid'}, {'C': 0.1, 'degree': 2, 'kernel': 'poly'}, {'C': 0.1, 'degree': 3, 'kernel': 'poly'}, {'C': 1, 'degree': 2, 'kernel': 'poly'}, {'C': 1, 'degree': 3, 'kernel': 'poly'}, {'C': 10, 'degree': 2, 'kernel': 'poly'}, {'C': 10, 'degree': 3, 'kernel': 'poly'}, {'C': 50, 'degree': 2, 'kernel': 'poly'}, {'C': 50, 'degree': 3, 'kernel': 'poly'}, {'C': 100, 'degree': 2, 'kernel': 'poly'}, {'C': 100, 'degree': 3, 'kernel': 'poly'}], 'split0_test_score': array([-0.62059053, -0.66796694, -0.60595726, -0.66904883, -0.60805135,\n",
      "       -0.66854938, -0.6304531 , -0.66907384, -0.63951874, -0.66963008,\n",
      "       -0.61091364, -0.66965683, -0.61050309, -0.66994275, -0.61056066,\n",
      "       -0.6701071 , -0.6103912 , -0.67010394, -0.61039192, -0.67011274]), 'split1_test_score': array([-0.60349256, -0.66920815, -0.59648696, -0.66799631, -0.61849083,\n",
      "       -0.66945675, -0.64482962, -0.66836006, -0.65036483, -0.66763452,\n",
      "       -0.60232329, -0.67025285, -0.60094872, -0.66972559, -0.60086859,\n",
      "       -0.66930488, -0.60079587, -0.66926295, -0.60077691, -0.66932363]), 'split2_test_score': array([-0.61507225, -0.67003287, -0.60822973, -0.67094847, -0.62996384,\n",
      "       -0.6714132 , -0.65100229, -0.67146165, -0.65456302, -0.67234405,\n",
      "       -0.60970673, -0.66985368, -0.60906461, -0.67029903, -0.60877569,\n",
      "       -0.67092684, -0.60866623, -0.6707982 , -0.60863785, -0.67076968]), 'split3_test_score': array([-0.6216104 , -0.67154761, -0.62145286, -0.66916703, -0.61744253,\n",
      "       -0.6746713 , -0.63738218, -0.66832224, -0.6424541 , -0.6788719 ,\n",
      "       -0.6231047 , -0.67111701, -0.62486877, -0.6717493 , -0.62411841,\n",
      "       -0.67184887, -0.62404185, -0.67158048, -0.62403702, -0.67177374]), 'split4_test_score': array([-0.62309788, -0.66857279, -0.61898688, -0.67270848, -0.63720721,\n",
      "       -0.67170252, -0.6509131 , -0.67445747, -0.65124199, -0.67013228,\n",
      "       -0.6109621 , -0.66759182, -0.60809717, -0.6692506 , -0.60752775,\n",
      "       -0.66953349, -0.60750271, -0.66962318, -0.60750185, -0.66966401]), 'mean_test_score': array([-0.61677272, -0.66946567, -0.61022274, -0.66997382, -0.62223115,\n",
      "       -0.67115863, -0.64291606, -0.67033505, -0.64762854, -0.67172257,\n",
      "       -0.61140209, -0.66969444, -0.61069647, -0.67019345, -0.61037022,\n",
      "       -0.67034423, -0.61027957, -0.67027375, -0.61026911, -0.67032876]), 'std_test_score': array([0.00717274, 0.00124627, 0.00909685, 0.00166405, 0.01021826,\n",
      "       0.00211679, 0.00798687, 0.00235823, 0.00567759, 0.00387605,\n",
      "       0.00667356, 0.00116476, 0.00781447, 0.00084883, 0.00761514,\n",
      "       0.00093778, 0.0076114 , 0.00083143, 0.00761566, 0.00086962]), 'rank_test_score': array([ 7, 11,  1, 13,  8, 19,  9, 17, 10, 20,  6, 12,  5, 14,  4, 18,  3,\n",
      "       15,  2, 16], dtype=int32)} \n",
      "\n",
      "Fitting 5 folds for each of 4 candidates, totalling 20 fits\n",
      "cv results 2nd grid :\n",
      "\n",
      "{'mean_fit_time': array([ 5.13767953,  6.25188498, 13.98792529, 87.48932638]), 'std_fit_time': array([ 0.17174014,  0.3129959 ,  0.10915028, 35.46228913]), 'mean_score_time': array([0.22787728, 0.28676572, 0.27064438, 0.19141459]), 'std_score_time': array([0.01798191, 0.0631197 , 0.02286026, 0.08407412]), 'param_C': masked_array(data=[0.1, 1, 10, 50],\n",
      "             mask=[False, False, False, False],\n",
      "       fill_value='?',\n",
      "            dtype=object), 'param_kernel': masked_array(data=['linear', 'linear', 'linear', 'linear'],\n",
      "             mask=[False, False, False, False],\n",
      "       fill_value='?',\n",
      "            dtype=object), 'params': [{'C': 0.1, 'kernel': 'linear'}, {'C': 1, 'kernel': 'linear'}, {'C': 10, 'kernel': 'linear'}, {'C': 50, 'kernel': 'linear'}], 'split0_test_score': array([-0.6718709 , -0.67060395, -0.67048231, -0.67020999]), 'split1_test_score': array([-0.67127904, -0.67019137, -0.66946299, -0.67050446]), 'split2_test_score': array([-0.67111607, -0.67016697, -0.67056409, -0.67040344]), 'split3_test_score': array([-0.67018059, -0.67013856, -0.67081609, -0.67153156]), 'split4_test_score': array([-0.67536671, -0.66813644, -0.67214192, -0.66985514]), 'mean_test_score': array([-0.67196266, -0.66984746, -0.67069348, -0.67050092]), 'std_test_score': array([0.00178638, 0.00087235, 0.00085889, 0.00056096]), 'rank_test_score': array([4, 1, 3, 2], dtype=int32)} \n",
      "\n"
     ]
    }
   ],
   "source": [
    "if fit_grid_init:\n",
    "    params = [{'C' : [0.1,1,10,50,100], 'kernel' : ['rbf','sigmoid']},\n",
    "          {'C' : [0.1,1,10,50,100], 'kernel' : ['poly'], 'degree' : [2,3]}]\n",
    "    grid = GridSearchCV(svc,params,scoring = 'neg_log_loss',n_jobs=4,verbose=10)\n",
    "    grid.fit(X_train,y_train)\n",
    "    print(\"best params 1st grid :\\n\")\n",
    "    print(grid.best_params_,\"\\n\")\n",
    "    print(\"cv results 1st grid :\\n\")\n",
    "    print(grid.cv_results_,\"\\n\")\n",
    "\n",
    "    params_linear = {'kernel' : ['linear'], 'C' : [0.1,1,10,50]}\n",
    "    grid_linear = GridSearchCV(svc,params_linear,scoring = 'neg_log_loss',n_jobs=4,verbose=10)\n",
    "    grid_linear.fit(X_train,y_train)\n",
    "    print(\"cv results 2nd grid :\\n\")\n",
    "    print(grid_linear.cv_results_,\"\\n\")"
   ]
  },
  {
   "cell_type": "markdown",
   "metadata": {
    "cell_id": "00062-1cc0b212-121b-4642-8824-2cd3ff2a357a",
    "deepnote_cell_type": "text-cell-p",
    "is_collapsed": false,
    "tags": []
   },
   "source": [
    "Compte tenu des résultats des précédents grid search, nous allons explorer le svc avec kernel = 'rbf' et C autour de 1."
   ]
  },
  {
   "cell_type": "code",
   "execution_count": null,
   "metadata": {
    "cell_id": "00063-8451456c-de0c-4350-bdfb-1a9fbe649d59",
    "deepnote_cell_type": "code",
    "deepnote_to_be_reexecuted": false,
    "execution_millis": 759076,
    "execution_start": 1635536755135,
    "source_hash": "a62214ee",
    "tags": []
   },
   "outputs": [
    {
     "name": "stdout",
     "output_type": "stream",
     "text": [
      "Fitting 5 folds for each of 48 candidates, totalling 240 fits\n",
      "best params 3rd grid :\n",
      "\n",
      "{'C': 1, 'class_weight': None, 'gamma': 'auto', 'kernel': 'rbf'} \n",
      "\n",
      "cv results 3rd grid :\n",
      "\n",
      "{'mean_fit_time': array([12.09535761, 11.97802906, 11.16969018, 10.45164413, 11.65062432,\n",
      "       11.50990982, 10.34031544, 10.16995807, 11.89421577, 11.91172676,\n",
      "       10.42784042, 10.54866204, 11.77464375, 11.6246624 , 10.83706026,\n",
      "       10.94146848, 11.99480324, 11.82800531, 10.8678977 , 10.57654839,\n",
      "       12.56384945, 12.56276646, 10.73909817, 10.96357441, 11.99361672,\n",
      "       12.03970556, 11.55436206, 11.26452904, 12.02047901, 11.74858027,\n",
      "       10.82638593, 10.86422324, 14.92884951, 13.87632375, 10.67172017,\n",
      "       10.62054548, 12.14628   , 12.49197526, 11.80243602, 11.81756997,\n",
      "       12.7932416 , 12.86668038, 11.79754391, 11.79241824, 15.50319862,\n",
      "       14.80635819, 10.79323049, 10.49718981]), 'std_fit_time': array([0.42971564, 0.37476176, 0.11692987, 0.36061533, 0.30252549,\n",
      "       0.32492184, 0.29145407, 0.19610718, 0.10927441, 0.16023389,\n",
      "       0.0796994 , 0.11866718, 0.20670866, 0.0986859 , 0.1518236 ,\n",
      "       0.1173079 , 0.2097328 , 0.15976288, 0.14339931, 0.21125959,\n",
      "       0.14809084, 0.2498739 , 0.27653703, 0.17937207, 0.21347401,\n",
      "       0.14477928, 0.07347227, 0.27584877, 0.18840219, 0.12432976,\n",
      "       0.12852182, 0.12166227, 0.51623395, 0.24899574, 0.12555138,\n",
      "       0.12533532, 0.10966815, 0.18997525, 0.1529431 , 0.02523022,\n",
      "       0.21567341, 0.30087557, 0.09373028, 0.24349084, 0.36394079,\n",
      "       0.30689156, 0.2101724 , 0.55469562]), 'mean_score_time': array([0.67631326, 0.69097991, 0.60088162, 0.56453242, 0.62820191,\n",
      "       0.70184798, 0.49367528, 0.48469515, 0.57518611, 0.59520712,\n",
      "       0.46413321, 0.50261483, 0.59823542, 0.60677419, 0.59243131,\n",
      "       0.6111608 , 0.64746008, 0.71977968, 0.54080181, 0.50720034,\n",
      "       0.58440251, 0.62185378, 0.477565  , 0.54095163, 0.59287739,\n",
      "       0.56764688, 0.5460525 , 0.5506495 , 0.63509707, 0.58628831,\n",
      "       0.51209488, 0.52072148, 0.65583057, 0.60659375, 0.46747279,\n",
      "       0.51373315, 0.62714396, 0.56441832, 0.56055017, 0.56970286,\n",
      "       0.57277784, 0.61565094, 0.5487556 , 0.49878101, 0.67489238,\n",
      "       0.57075229, 0.49812956, 0.38420105]), 'std_score_time': array([0.0464147 , 0.05084012, 0.02727961, 0.01637798, 0.03058457,\n",
      "       0.0567262 , 0.06667923, 0.02837302, 0.02947131, 0.03242988,\n",
      "       0.02778767, 0.04751188, 0.00998755, 0.05335838, 0.05636558,\n",
      "       0.08133316, 0.08383939, 0.10306593, 0.01765324, 0.01189172,\n",
      "       0.02469137, 0.02780873, 0.04718176, 0.04254437, 0.0122226 ,\n",
      "       0.10892429, 0.0066871 , 0.01359773, 0.04889997, 0.01605291,\n",
      "       0.02285238, 0.01007345, 0.07000246, 0.09773501, 0.03457971,\n",
      "       0.03526236, 0.05963473, 0.05624208, 0.03851994, 0.0843006 ,\n",
      "       0.02735071, 0.03206852, 0.01512323, 0.01643339, 0.13270568,\n",
      "       0.04293985, 0.01537875, 0.16797455]), 'param_C': masked_array(data=[0.5, 0.5, 0.5, 0.5, 0.5, 0.5, 0.5, 0.5, 0.5, 0.5, 0.5,\n",
      "                   0.5, 1, 1, 1, 1, 1, 1, 1, 1, 1, 1, 1, 1, 3, 3, 3, 3, 3,\n",
      "                   3, 3, 3, 3, 3, 3, 3, 5, 5, 5, 5, 5, 5, 5, 5, 5, 5, 5,\n",
      "                   5],\n",
      "             mask=[False, False, False, False, False, False, False, False,\n",
      "                   False, False, False, False, False, False, False, False,\n",
      "                   False, False, False, False, False, False, False, False,\n",
      "                   False, False, False, False, False, False, False, False,\n",
      "                   False, False, False, False, False, False, False, False,\n",
      "                   False, False, False, False, False, False, False, False],\n",
      "       fill_value='?',\n",
      "            dtype=object), 'param_class_weight': masked_array(data=['balanced', 'balanced', None, None, {0: 1, 1: 2},\n",
      "                   {0: 1, 1: 2}, {0: 1, 1: 0.5}, {0: 1, 1: 0.5},\n",
      "                   {0: 1, 1: 10}, {0: 1, 1: 10}, {0: 1, 1: 0.1},\n",
      "                   {0: 1, 1: 0.1}, 'balanced', 'balanced', None, None,\n",
      "                   {0: 1, 1: 2}, {0: 1, 1: 2}, {0: 1, 1: 0.5},\n",
      "                   {0: 1, 1: 0.5}, {0: 1, 1: 10}, {0: 1, 1: 10},\n",
      "                   {0: 1, 1: 0.1}, {0: 1, 1: 0.1}, 'balanced', 'balanced',\n",
      "                   None, None, {0: 1, 1: 2}, {0: 1, 1: 2}, {0: 1, 1: 0.5},\n",
      "                   {0: 1, 1: 0.5}, {0: 1, 1: 10}, {0: 1, 1: 10},\n",
      "                   {0: 1, 1: 0.1}, {0: 1, 1: 0.1}, 'balanced', 'balanced',\n",
      "                   None, None, {0: 1, 1: 2}, {0: 1, 1: 2}, {0: 1, 1: 0.5},\n",
      "                   {0: 1, 1: 0.5}, {0: 1, 1: 10}, {0: 1, 1: 10},\n",
      "                   {0: 1, 1: 0.1}, {0: 1, 1: 0.1}],\n",
      "             mask=[False, False, False, False, False, False, False, False,\n",
      "                   False, False, False, False, False, False, False, False,\n",
      "                   False, False, False, False, False, False, False, False,\n",
      "                   False, False, False, False, False, False, False, False,\n",
      "                   False, False, False, False, False, False, False, False,\n",
      "                   False, False, False, False, False, False, False, False],\n",
      "       fill_value='?',\n",
      "            dtype=object), 'param_gamma': masked_array(data=['auto', 'scale', 'auto', 'scale', 'auto', 'scale',\n",
      "                   'auto', 'scale', 'auto', 'scale', 'auto', 'scale',\n",
      "                   'auto', 'scale', 'auto', 'scale', 'auto', 'scale',\n",
      "                   'auto', 'scale', 'auto', 'scale', 'auto', 'scale',\n",
      "                   'auto', 'scale', 'auto', 'scale', 'auto', 'scale',\n",
      "                   'auto', 'scale', 'auto', 'scale', 'auto', 'scale',\n",
      "                   'auto', 'scale', 'auto', 'scale', 'auto', 'scale',\n",
      "                   'auto', 'scale', 'auto', 'scale', 'auto', 'scale'],\n",
      "             mask=[False, False, False, False, False, False, False, False,\n",
      "                   False, False, False, False, False, False, False, False,\n",
      "                   False, False, False, False, False, False, False, False,\n",
      "                   False, False, False, False, False, False, False, False,\n",
      "                   False, False, False, False, False, False, False, False,\n",
      "                   False, False, False, False, False, False, False, False],\n",
      "       fill_value='?',\n",
      "            dtype=object), 'param_kernel': masked_array(data=['rbf', 'rbf', 'rbf', 'rbf', 'rbf', 'rbf', 'rbf', 'rbf',\n",
      "                   'rbf', 'rbf', 'rbf', 'rbf', 'rbf', 'rbf', 'rbf', 'rbf',\n",
      "                   'rbf', 'rbf', 'rbf', 'rbf', 'rbf', 'rbf', 'rbf', 'rbf',\n",
      "                   'rbf', 'rbf', 'rbf', 'rbf', 'rbf', 'rbf', 'rbf', 'rbf',\n",
      "                   'rbf', 'rbf', 'rbf', 'rbf', 'rbf', 'rbf', 'rbf', 'rbf',\n",
      "                   'rbf', 'rbf', 'rbf', 'rbf', 'rbf', 'rbf', 'rbf', 'rbf'],\n",
      "             mask=[False, False, False, False, False, False, False, False,\n",
      "                   False, False, False, False, False, False, False, False,\n",
      "                   False, False, False, False, False, False, False, False,\n",
      "                   False, False, False, False, False, False, False, False,\n",
      "                   False, False, False, False, False, False, False, False,\n",
      "                   False, False, False, False, False, False, False, False],\n",
      "       fill_value='?',\n",
      "            dtype=object), 'params': [{'C': 0.5, 'class_weight': 'balanced', 'gamma': 'auto', 'kernel': 'rbf'}, {'C': 0.5, 'class_weight': 'balanced', 'gamma': 'scale', 'kernel': 'rbf'}, {'C': 0.5, 'class_weight': None, 'gamma': 'auto', 'kernel': 'rbf'}, {'C': 0.5, 'class_weight': None, 'gamma': 'scale', 'kernel': 'rbf'}, {'C': 0.5, 'class_weight': {0: 1, 1: 2}, 'gamma': 'auto', 'kernel': 'rbf'}, {'C': 0.5, 'class_weight': {0: 1, 1: 2}, 'gamma': 'scale', 'kernel': 'rbf'}, {'C': 0.5, 'class_weight': {0: 1, 1: 0.5}, 'gamma': 'auto', 'kernel': 'rbf'}, {'C': 0.5, 'class_weight': {0: 1, 1: 0.5}, 'gamma': 'scale', 'kernel': 'rbf'}, {'C': 0.5, 'class_weight': {0: 1, 1: 10}, 'gamma': 'auto', 'kernel': 'rbf'}, {'C': 0.5, 'class_weight': {0: 1, 1: 10}, 'gamma': 'scale', 'kernel': 'rbf'}, {'C': 0.5, 'class_weight': {0: 1, 1: 0.1}, 'gamma': 'auto', 'kernel': 'rbf'}, {'C': 0.5, 'class_weight': {0: 1, 1: 0.1}, 'gamma': 'scale', 'kernel': 'rbf'}, {'C': 1, 'class_weight': 'balanced', 'gamma': 'auto', 'kernel': 'rbf'}, {'C': 1, 'class_weight': 'balanced', 'gamma': 'scale', 'kernel': 'rbf'}, {'C': 1, 'class_weight': None, 'gamma': 'auto', 'kernel': 'rbf'}, {'C': 1, 'class_weight': None, 'gamma': 'scale', 'kernel': 'rbf'}, {'C': 1, 'class_weight': {0: 1, 1: 2}, 'gamma': 'auto', 'kernel': 'rbf'}, {'C': 1, 'class_weight': {0: 1, 1: 2}, 'gamma': 'scale', 'kernel': 'rbf'}, {'C': 1, 'class_weight': {0: 1, 1: 0.5}, 'gamma': 'auto', 'kernel': 'rbf'}, {'C': 1, 'class_weight': {0: 1, 1: 0.5}, 'gamma': 'scale', 'kernel': 'rbf'}, {'C': 1, 'class_weight': {0: 1, 1: 10}, 'gamma': 'auto', 'kernel': 'rbf'}, {'C': 1, 'class_weight': {0: 1, 1: 10}, 'gamma': 'scale', 'kernel': 'rbf'}, {'C': 1, 'class_weight': {0: 1, 1: 0.1}, 'gamma': 'auto', 'kernel': 'rbf'}, {'C': 1, 'class_weight': {0: 1, 1: 0.1}, 'gamma': 'scale', 'kernel': 'rbf'}, {'C': 3, 'class_weight': 'balanced', 'gamma': 'auto', 'kernel': 'rbf'}, {'C': 3, 'class_weight': 'balanced', 'gamma': 'scale', 'kernel': 'rbf'}, {'C': 3, 'class_weight': None, 'gamma': 'auto', 'kernel': 'rbf'}, {'C': 3, 'class_weight': None, 'gamma': 'scale', 'kernel': 'rbf'}, {'C': 3, 'class_weight': {0: 1, 1: 2}, 'gamma': 'auto', 'kernel': 'rbf'}, {'C': 3, 'class_weight': {0: 1, 1: 2}, 'gamma': 'scale', 'kernel': 'rbf'}, {'C': 3, 'class_weight': {0: 1, 1: 0.5}, 'gamma': 'auto', 'kernel': 'rbf'}, {'C': 3, 'class_weight': {0: 1, 1: 0.5}, 'gamma': 'scale', 'kernel': 'rbf'}, {'C': 3, 'class_weight': {0: 1, 1: 10}, 'gamma': 'auto', 'kernel': 'rbf'}, {'C': 3, 'class_weight': {0: 1, 1: 10}, 'gamma': 'scale', 'kernel': 'rbf'}, {'C': 3, 'class_weight': {0: 1, 1: 0.1}, 'gamma': 'auto', 'kernel': 'rbf'}, {'C': 3, 'class_weight': {0: 1, 1: 0.1}, 'gamma': 'scale', 'kernel': 'rbf'}, {'C': 5, 'class_weight': 'balanced', 'gamma': 'auto', 'kernel': 'rbf'}, {'C': 5, 'class_weight': 'balanced', 'gamma': 'scale', 'kernel': 'rbf'}, {'C': 5, 'class_weight': None, 'gamma': 'auto', 'kernel': 'rbf'}, {'C': 5, 'class_weight': None, 'gamma': 'scale', 'kernel': 'rbf'}, {'C': 5, 'class_weight': {0: 1, 1: 2}, 'gamma': 'auto', 'kernel': 'rbf'}, {'C': 5, 'class_weight': {0: 1, 1: 2}, 'gamma': 'scale', 'kernel': 'rbf'}, {'C': 5, 'class_weight': {0: 1, 1: 0.5}, 'gamma': 'auto', 'kernel': 'rbf'}, {'C': 5, 'class_weight': {0: 1, 1: 0.5}, 'gamma': 'scale', 'kernel': 'rbf'}, {'C': 5, 'class_weight': {0: 1, 1: 10}, 'gamma': 'auto', 'kernel': 'rbf'}, {'C': 5, 'class_weight': {0: 1, 1: 10}, 'gamma': 'scale', 'kernel': 'rbf'}, {'C': 5, 'class_weight': {0: 1, 1: 0.1}, 'gamma': 'auto', 'kernel': 'rbf'}, {'C': 5, 'class_weight': {0: 1, 1: 0.1}, 'gamma': 'scale', 'kernel': 'rbf'}], 'split0_test_score': array([-0.60416579, -0.60423142, -0.60790717, -0.6082946 , -0.61021521,\n",
      "       -0.61073549, -0.61171928, -0.61207567, -0.64153599, -0.64188068,\n",
      "       -0.61733122, -0.61728185, -0.601881  , -0.60231098, -0.6056208 ,\n",
      "       -0.60595726, -0.60861364, -0.6089911 , -0.61019222, -0.61063731,\n",
      "       -0.64169246, -0.64205232, -0.61712092, -0.61727649, -0.60240064,\n",
      "       -0.60339074, -0.60551749, -0.60566163, -0.61388202, -0.61527636,\n",
      "       -0.60786455, -0.60791489, -0.64479289, -0.64492809, -0.61735983,\n",
      "       -0.61726651, -0.6048337 , -0.60556743, -0.60470975, -0.60542832,\n",
      "       -0.61738853, -0.6188317 , -0.60770954, -0.60834397, -0.64457318,\n",
      "       -0.64478388, -0.61731169, -0.61733546]), 'split1_test_score': array([-0.60407405, -0.60407853, -0.59858238, -0.5986337 , -0.61239412,\n",
      "       -0.61269715, -0.60134464, -0.6019069 , -0.64563116, -0.64580115,\n",
      "       -0.62389007, -0.62330333, -0.59965306, -0.59975326, -0.59624878,\n",
      "       -0.59648696, -0.6112372 , -0.61162119, -0.6017257 , -0.60222821,\n",
      "       -0.64630682, -0.64640927, -0.62325733, -0.62313896, -0.6016694 ,\n",
      "       -0.60303574, -0.60285022, -0.60346391, -0.61868401, -0.61976568,\n",
      "       -0.60305062, -0.60362162, -0.64778388, -0.64782936, -0.62338493,\n",
      "       -0.62306403, -0.61061839, -0.61224054, -0.60630325, -0.60751657,\n",
      "       -0.6244768 , -0.62545388, -0.60867559, -0.60942471, -0.6481355 ,\n",
      "       -0.64842354, -0.62339358, -0.62311993]), 'split2_test_score': array([-0.61109319, -0.61111487, -0.60897469, -0.60899863, -0.6144511 ,\n",
      "       -0.61436761, -0.617092  , -0.61716412, -0.64666159, -0.64699954,\n",
      "       -0.63764174, -0.63779477, -0.60698162, -0.60681989, -0.60823535,\n",
      "       -0.60822973, -0.61358373, -0.61357089, -0.61702274, -0.61722157,\n",
      "       -0.64742929, -0.64774327, -0.63774517, -0.63799157, -0.60933861,\n",
      "       -0.60988805, -0.61486985, -0.61560976, -0.61821316, -0.6185016 ,\n",
      "       -0.61565623, -0.61633434, -0.64908896, -0.64910066, -0.63781465,\n",
      "       -0.63792107, -0.61446689, -0.61595744, -0.61946637, -0.62005824,\n",
      "       -0.62126151, -0.62211511, -0.62057489, -0.62195494, -0.64942674,\n",
      "       -0.65018384, -0.63774026, -0.6379275 ]), 'split3_test_score': array([-0.62561891, -0.62507078, -0.62048945, -0.62033735, -0.62181055,\n",
      "       -0.62141499, -0.61901736, -0.61896154, -0.63893292, -0.63894806,\n",
      "       -0.63617924, -0.63660024, -0.61820006, -0.61793566, -0.62182571,\n",
      "       -0.62145286, -0.61634406, -0.61632585, -0.61921446, -0.61915397,\n",
      "       -0.63945104, -0.63953676, -0.63686966, -0.63650733, -0.61588873,\n",
      "       -0.61601573, -0.61885003, -0.61813849, -0.61733886, -0.61743868,\n",
      "       -0.62347907, -0.62350004, -0.64119021, -0.64098355, -0.6367774 ,\n",
      "       -0.63676412, -0.61626639, -0.61606929, -0.61666114, -0.61654646,\n",
      "       -0.61908642, -0.61924202, -0.62536769, -0.62535074, -0.64023726,\n",
      "       -0.64021211, -0.63680122, -0.63664686]), 'split4_test_score': array([-0.62843047, -0.62885304, -0.61891894, -0.61938526, -0.6280885 ,\n",
      "       -0.62885196, -0.61623567, -0.61691215, -0.64744921, -0.64763134,\n",
      "       -0.63263112, -0.63254094, -0.62518851, -0.62552825, -0.61817147,\n",
      "       -0.61898688, -0.62884797, -0.62946744, -0.6164095 , -0.61706072,\n",
      "       -0.64779982, -0.6482286 , -0.63239061, -0.63267082, -0.63047012,\n",
      "       -0.63137962, -0.62532155, -0.62599186, -0.63638375, -0.63762488,\n",
      "       -0.62044816, -0.6212199 , -0.65079318, -0.65096183, -0.63248069,\n",
      "       -0.63264489, -0.63522868, -0.63639124, -0.63144723, -0.63233258,\n",
      "       -0.64128132, -0.64207979, -0.62545178, -0.62696167, -0.65201344,\n",
      "       -0.65218393, -0.63246668, -0.63263181]), 'mean_test_score': array([-0.61467648, -0.61466973, -0.61097452, -0.6111299 , -0.6173919 ,\n",
      "       -0.61761344, -0.61308179, -0.61340408, -0.64404217, -0.64425216,\n",
      "       -0.62953468, -0.62950423, -0.61038085, -0.61046961, -0.61002042,\n",
      "       -0.61022274, -0.61572532, -0.61599529, -0.61291292, -0.61326035,\n",
      "       -0.64453589, -0.64479404, -0.62947674, -0.62951703, -0.6119535 ,\n",
      "       -0.61274198, -0.61348183, -0.61377313, -0.62090036, -0.62172144,\n",
      "       -0.61409973, -0.61451816, -0.64672982, -0.6467607 , -0.6295635 ,\n",
      "       -0.62953212, -0.61628281, -0.61724519, -0.61571755, -0.61637643,\n",
      "       -0.62469892, -0.6255445 , -0.6175559 , -0.61840721, -0.64687722,\n",
      "       -0.64715746, -0.62954269, -0.62953231]), 'std_test_score': array([0.01043681, 0.01042226, 0.00800776, 0.00802078, 0.00661926,\n",
      "       0.00667484, 0.0063384 , 0.00618514, 0.0032674 , 0.00332035,\n",
      "       0.00774918, 0.00795168, 0.00979076, 0.00976963, 0.00914337,\n",
      "       0.00909685, 0.0070412 , 0.0071509 , 0.00634637, 0.00622025,\n",
      "       0.00334969, 0.00341348, 0.00803567, 0.00801422, 0.01060385,\n",
      "       0.01046786, 0.00833529, 0.00829221, 0.00792224, 0.00808694,\n",
      "       0.00763751, 0.00763183, 0.00339489, 0.00349287, 0.00794652,\n",
      "       0.00805788, 0.01025097, 0.01030562, 0.00971769, 0.00965962,\n",
      "       0.00862303, 0.00860195, 0.00785231, 0.00794899, 0.00409541,\n",
      "       0.00424026, 0.00794789, 0.00800731]), 'rank_test_score': array([18, 17,  5,  6, 25, 27, 10, 12, 41, 42, 38, 34,  3,  4,  1,  2, 20,\n",
      "       21,  9, 11, 43, 44, 33, 35,  7,  8, 13, 14, 29, 30, 15, 16, 45, 46,\n",
      "       40, 36, 22, 24, 19, 23, 31, 32, 26, 28, 47, 48, 39, 37],\n",
      "      dtype=int32)} \n",
      "\n"
     ]
    }
   ],
   "source": [
    "if fit_grid_2:\n",
    "    params_2 = {'C' : [0.5,1,3,5], \n",
    "    'kernel' : ['rbf'], \n",
    "    'gamma' : ['auto','scale'], \n",
    "    'class_weight' : ['balanced',None,{0 : 1, 1 : 2},{0 : 1, 1 : 0.5},{0 : 1, 1 : 10},{0 : 1, 1 : 0.1}]}\n",
    "    grid_2 = GridSearchCV(svc,params_2,scoring = 'neg_log_loss',n_jobs=4,verbose=10)\n",
    "    grid_2.fit(X_train,y_train)\n",
    "    print(\"best params 3rd grid :\\n\")\n",
    "    print(grid_2.best_params_,\"\\n\")\n",
    "    print(\"cv results 3rd grid :\\n\")\n",
    "    print(grid_2.cv_results_,\"\\n\")"
   ]
  },
  {
   "cell_type": "markdown",
   "metadata": {
    "cell_id": "00064-6b0d768e-df8d-43db-9835-430244a6155e",
    "deepnote_cell_type": "text-cell-p",
    "is_collapsed": false,
    "tags": []
   },
   "source": [
    "Maintenant, réglons l'hyperparamètre tol"
   ]
  },
  {
   "cell_type": "code",
   "execution_count": null,
   "metadata": {
    "cell_id": "00065-a4ec0f1b-0539-42c9-9de2-613cad3d9998",
    "deepnote_cell_type": "code",
    "deepnote_to_be_reexecuted": false,
    "execution_millis": 87430,
    "execution_start": 1635537552787,
    "source_hash": "74dbefdc",
    "tags": []
   },
   "outputs": [
    {
     "name": "stdout",
     "output_type": "stream",
     "text": [
      "Fitting 5 folds for each of 5 candidates, totalling 25 fits\n",
      "best params 4th grid :\n",
      "\n",
      "{'C': 1, 'class_weight': None, 'gamma': 'auto', 'kernel': 'rbf', 'tol': 1e-07} \n",
      "\n",
      "cv results 4th grid :\n",
      "\n",
      "{'mean_fit_time': array([11.1224731 , 11.50726771, 13.53775678, 14.27394137, 10.12790513]), 'std_fit_time': array([0.12360529, 0.40480114, 1.14665426, 0.51533391, 3.27368654]), 'mean_score_time': array([0.60293703, 0.59384575, 0.71391468, 0.64667525, 0.45319562]), 'std_score_time': array([0.06159717, 0.03045625, 0.13483344, 0.11056568, 0.17039088]), 'param_C': masked_array(data=[1, 1, 1, 1, 1],\n",
      "             mask=[False, False, False, False, False],\n",
      "       fill_value='?',\n",
      "            dtype=object), 'param_class_weight': masked_array(data=[None, None, None, None, None],\n",
      "             mask=[False, False, False, False, False],\n",
      "       fill_value='?',\n",
      "            dtype=object), 'param_gamma': masked_array(data=['auto', 'auto', 'auto', 'auto', 'auto'],\n",
      "             mask=[False, False, False, False, False],\n",
      "       fill_value='?',\n",
      "            dtype=object), 'param_kernel': masked_array(data=['rbf', 'rbf', 'rbf', 'rbf', 'rbf'],\n",
      "             mask=[False, False, False, False, False],\n",
      "       fill_value='?',\n",
      "            dtype=object), 'param_tol': masked_array(data=[0.001, 0.0001, 1e-05, 1e-06, 1e-07],\n",
      "             mask=[False, False, False, False, False],\n",
      "       fill_value='?',\n",
      "            dtype=object), 'params': [{'C': 1, 'class_weight': None, 'gamma': 'auto', 'kernel': 'rbf', 'tol': 0.001}, {'C': 1, 'class_weight': None, 'gamma': 'auto', 'kernel': 'rbf', 'tol': 0.0001}, {'C': 1, 'class_weight': None, 'gamma': 'auto', 'kernel': 'rbf', 'tol': 1e-05}, {'C': 1, 'class_weight': None, 'gamma': 'auto', 'kernel': 'rbf', 'tol': 1e-06}, {'C': 1, 'class_weight': None, 'gamma': 'auto', 'kernel': 'rbf', 'tol': 1e-07}], 'split0_test_score': array([-0.6056208 , -0.60563478, -0.60563594, -0.60563603, -0.60563605]), 'split1_test_score': array([-0.59624878, -0.59624223, -0.59624195, -0.59624197, -0.59624197]), 'split2_test_score': array([-0.60823535, -0.60823906, -0.60823912, -0.60823915, -0.60823914]), 'split3_test_score': array([-0.62182571, -0.62181377, -0.62181212, -0.62181198, -0.62181196]), 'split4_test_score': array([-0.61817147, -0.61816937, -0.61816903, -0.61816903, -0.61816903]), 'mean_test_score': array([-0.61002042, -0.61001984, -0.61001963, -0.61001963, -0.61001963]), 'std_test_score': array([0.00914337, 0.0091404 , 0.00913988, 0.00913983, 0.00913982]), 'rank_test_score': array([5, 4, 2, 3, 1], dtype=int32)}\n"
     ]
    }
   ],
   "source": [
    "if fit_grid_3:\n",
    "    params_tol = {'C': [1], \n",
    "    'class_weight': [None], \n",
    "    'gamma': ['auto'], \n",
    "    'kernel': ['rbf'],\n",
    "    'tol' : [10**(-i) for i in range(3,8)]}\n",
    "    grid_tol = GridSearchCV(svc,params_tol,scoring = 'neg_log_loss',n_jobs=4,verbose=10)\n",
    "    grid_tol.fit(X_train,y_train)\n",
    "    print(\"best params 4th grid :\\n\")\n",
    "    print(grid_tol.best_params_,\"\\n\")\n",
    "    print(\"cv results 4th grid :\\n\")\n",
    "    print(grid_tol.cv_results_)"
   ]
  },
  {
   "cell_type": "markdown",
   "metadata": {
    "cell_id": "00066-b15d3474-c07f-47b5-acbc-1b8776364c26",
    "deepnote_cell_type": "text-cell-p",
    "is_collapsed": false,
    "tags": []
   },
   "source": [
    "Compte tenu des résultats de la grid search sur tol, on voit que les log loss sont sensiblement égales et ne s'améliorent pas à partir de 1e-5. On fixe donc tol = 1e-5."
   ]
  },
  {
   "cell_type": "code",
   "execution_count": null,
   "metadata": {
    "cell_id": "00067-fbee6bf9-8f5e-44ee-926b-49115d4793d9",
    "deepnote_cell_type": "code",
    "deepnote_to_be_reexecuted": false,
    "execution_millis": 1,
    "execution_start": 1636318807823,
    "source_hash": "aa61453a",
    "tags": []
   },
   "outputs": [],
   "source": [
    "best_svc = svm.SVC(probability=True,random_state=0,kernel='rbf',C=1,gamma='auto',class_weight=None,tol=1e-5)"
   ]
  },
  {
   "cell_type": "code",
   "execution_count": null,
   "metadata": {
    "cell_id": "00068-0cca6007-288c-41fb-9d00-fbea901410ce",
    "deepnote_cell_type": "code",
    "deepnote_to_be_reexecuted": false,
    "execution_millis": 9717,
    "execution_start": 1636316397064,
    "source_hash": "d9ecdad2",
    "tags": []
   },
   "outputs": [
    {
     "name": "stdout",
     "output_type": "stream",
     "text": [
      "mean cv score : 0.6734910814615812\n"
     ]
    }
   ],
   "source": [
    "cv_accuracy = cross_val_score(best_svc,X_train,y_train)\n",
    "print(\"mean cv score :\", np.mean(cv_accuracy))"
   ]
  },
  {
   "cell_type": "code",
   "execution_count": null,
   "metadata": {
    "cell_id": "00073-ce8492bd-5d8b-4a7e-8299-b0232dd5d21a",
    "deepnote_cell_type": "code",
    "deepnote_to_be_reexecuted": false,
    "execution_millis": 4,
    "execution_start": 1636316454477,
    "source_hash": "8f32623e",
    "tags": []
   },
   "outputs": [],
   "source": [
    "X_train_train, X_train_val, y_train_train, y_train_val = train_test_split(X_train, y_train, test_size=test_size, random_state=split_seed)"
   ]
  },
  {
   "cell_type": "code",
   "execution_count": null,
   "metadata": {
    "cell_id": "00074-2b37f505-c9a6-4239-b7e1-f9bd028f02fa",
    "deepnote_cell_type": "code",
    "deepnote_to_be_reexecuted": false,
    "execution_millis": 1894,
    "execution_start": 1636316532117,
    "source_hash": "96312d00",
    "tags": []
   },
   "outputs": [
    {
     "name": "stdout",
     "output_type": "stream",
     "text": [
      "val classification report :\n",
      "\n",
      "              precision    recall  f1-score   support\n",
      "\n",
      "           0       0.70      0.90      0.79       264\n",
      "           1       0.67      0.35      0.46       154\n",
      "\n",
      "    accuracy                           0.70       418\n",
      "   macro avg       0.68      0.62      0.62       418\n",
      "weighted avg       0.69      0.70      0.67       418\n",
      "\n"
     ]
    }
   ],
   "source": [
    "best_svc.fit(X_train_train,y_train_train)\n",
    "y_train_val_pred = best_svc.predict(X_train_val)\n",
    "print(\"val classification report :\\n\")\n",
    "print(classification_report(y_train_val,y_train_val_pred))"
   ]
  },
  {
   "cell_type": "code",
   "execution_count": null,
   "metadata": {
    "cell_id": "00069-700e5667-5e46-4ba5-aee6-67b079063926",
    "deepnote_cell_type": "code",
    "deepnote_to_be_reexecuted": false,
    "execution_millis": 2502,
    "execution_start": 1636318821931,
    "source_hash": "9a87bc90",
    "tags": []
   },
   "outputs": [
    {
     "data": {
      "text/plain": [
       "SVC(C=1, gamma='auto', probability=True, random_state=0, tol=1e-05)"
      ]
     },
     "execution_count": 43,
     "metadata": {},
     "output_type": "execute_result"
    }
   ],
   "source": [
    "best_svc.fit(X_train,y_train)"
   ]
  },
  {
   "cell_type": "code",
   "execution_count": null,
   "metadata": {
    "cell_id": "00070-b368af1e-2136-459a-b392-9cb5a181af70",
    "deepnote_cell_type": "code",
    "deepnote_to_be_reexecuted": false,
    "execution_millis": 1220,
    "execution_start": 1635537738147,
    "source_hash": "d9bde716",
    "tags": []
   },
   "outputs": [
    {
     "name": "stdout",
     "output_type": "stream",
     "text": [
      "train score : 0.7280890804597702\n",
      "test score : 0.6951219512195121\n"
     ]
    }
   ],
   "source": [
    "print(\"train score :\",best_svc.score(X_train,y_train))\n",
    "print(\"test score :\",best_svc.score(X_test,y_test))"
   ]
  },
  {
   "cell_type": "code",
   "execution_count": null,
   "metadata": {
    "cell_id": "00071-66aeed36-2cd7-4e71-a80e-046805f19f83",
    "deepnote_cell_type": "code",
    "deepnote_to_be_reexecuted": false,
    "execution_millis": 676,
    "execution_start": 1636318825368,
    "source_hash": "29cff80",
    "tags": []
   },
   "outputs": [
    {
     "name": "stdout",
     "output_type": "stream",
     "text": [
      "train classification report :\n",
      "\n",
      "              precision    recall  f1-score   support\n",
      "\n",
      "           0       0.70      0.96      0.81      1690\n",
      "           1       0.85      0.38      0.52      1094\n",
      "\n",
      "    accuracy                           0.73      2784\n",
      "   macro avg       0.77      0.67      0.67      2784\n",
      "weighted avg       0.76      0.73      0.70      2784\n",
      " \n",
      "\n",
      "test classification report :\n",
      "\n",
      "              precision    recall  f1-score   support\n",
      "\n",
      "           0       0.69      0.94      0.79       308\n",
      "           1       0.74      0.28      0.41       184\n",
      "\n",
      "    accuracy                           0.70       492\n",
      "   macro avg       0.72      0.61      0.60       492\n",
      "weighted avg       0.71      0.70      0.65       492\n",
      "\n"
     ]
    }
   ],
   "source": [
    "y_train_pred = best_svc.predict(X_train)\n",
    "print(\"train classification report :\\n\")\n",
    "print(classification_report(y_train,y_train_pred),\"\\n\")\n",
    "y_test_pred = best_svc.predict(X_test)\n",
    "print(\"test classification report :\\n\")\n",
    "print(classification_report(y_test,y_test_pred))"
   ]
  },
  {
   "cell_type": "markdown",
   "metadata": {
    "cell_id": "00051-e94af917-7d1e-4ffc-804e-7fb4643d3015",
    "deepnote_cell_type": "text-cell-h3",
    "is_collapsed": false,
    "tags": []
   },
   "source": [
    "### Random Forest"
   ]
  },
  {
   "cell_type": "code",
   "execution_count": null,
   "metadata": {
    "cell_id": "00074-0c3d3719-c94c-4e52-ba3c-bbd3c0062939",
    "deepnote_cell_type": "code",
    "deepnote_to_be_reexecuted": false,
    "execution_millis": 0,
    "execution_start": 1636316838927,
    "source_hash": "39ef4b5b",
    "tags": []
   },
   "outputs": [],
   "source": [
    "from sklearn.ensemble import RandomForestClassifier"
   ]
  },
  {
   "cell_type": "code",
   "execution_count": null,
   "metadata": {
    "cell_id": "00059-66e0c73f-cbc8-48db-ac0c-161bac9fa914",
    "deepnote_cell_type": "code",
    "deepnote_to_be_reexecuted": false,
    "execution_millis": 0,
    "execution_start": 1635688889710,
    "source_hash": "e440f004",
    "tags": []
   },
   "outputs": [],
   "source": [
    "fit_grid_init_rf=False"
   ]
  },
  {
   "cell_type": "code",
   "execution_count": null,
   "metadata": {
    "cell_id": "00088-cf2f0657-648e-4626-bc13-ff7cb556ca41",
    "deepnote_cell_type": "code",
    "deepnote_to_be_reexecuted": false,
    "execution_millis": 3642448,
    "execution_start": 1635689086842,
    "source_hash": "5984c896",
    "tags": []
   },
   "outputs": [
    {
     "name": "stdout",
     "output_type": "stream",
     "text": [
      "best params 1st grid :\n",
      "\n",
      "{'criterion': 'gini', 'max_features': 7, 'min_samples_leaf': 10, 'n_estimators': 90} \n",
      "\n"
     ]
    }
   ],
   "source": [
    "if fit_grid_init_rf:\n",
    "    rf = RandomForestClassifier(random_state = 7,n_jobs=4,criterion='entropy', max_features= 5, n_estimators= 250)\n",
    "    grid_params = {'n_estimators' : range(10,100,10), 'criterion' : ['gini','entropy'], 'max_features' : range(1,10),'min_samples_leaf':range(10,100,10)}\n",
    "    grid = GridSearchCV(rf,grid_params,scoring = 'neg_log_loss' ,n_jobs=-1)\n",
    "    grid.fit(X_train,y_train)\n",
    "    print(\"best params 1st grid :\\n\")\n",
    "    print(grid.best_params_,\"\\n\")"
   ]
  },
  {
   "cell_type": "code",
   "execution_count": null,
   "metadata": {
    "cell_id": "00089-8a5f17d0-6aaf-43a1-bf99-df35928ff516",
    "deepnote_cell_type": "code",
    "deepnote_to_be_reexecuted": false,
    "execution_millis": 11660,
    "execution_start": 1636304443071,
    "source_hash": "a63a1921",
    "tags": []
   },
   "outputs": [
    {
     "name": "stdout",
     "output_type": "stream",
     "text": [
      "mean cv score : 0.6663065239011663\n",
      "train score : 0.8649425287356322\n",
      "test score : 0.6951219512195121\n",
      "test classification report :\n",
      "\n",
      "              precision    recall  f1-score   support\n",
      "\n",
      "           0       0.70      0.91      0.79       308\n",
      "           1       0.68      0.34      0.46       184\n",
      "\n",
      "    accuracy                           0.70       492\n",
      "   macro avg       0.69      0.62      0.62       492\n",
      "weighted avg       0.69      0.70      0.66       492\n",
      "\n"
     ]
    }
   ],
   "source": [
    "best_rf=RandomForestClassifier(random_state = 7,n_jobs=4,criterion='gini', max_features= 7, n_estimators= 90,min_samples_leaf= 10)\n",
    "best_rf.fit(X_train,y_train)\n",
    "\n",
    "print(\"mean cv score :\", np.mean(cross_val_score(best_rf,X_train,y_train)))\n",
    "print(\"train score :\",best_rf.score(X_train,y_train))\n",
    "print(\"test score :\",best_rf.score(X_test,y_test))\n",
    "\n",
    "y_test_pred = best_rf.predict(X_test)\n",
    "print(\"test classification report :\\n\")\n",
    "print(classification_report(y_test,y_test_pred))"
   ]
  },
  {
   "cell_type": "code",
   "execution_count": null,
   "metadata": {
    "cell_id": "00081-2c1659fc-bad0-4058-a739-690768453c0e",
    "deepnote_cell_type": "code",
    "deepnote_to_be_reexecuted": false,
    "execution_millis": 9564001,
    "execution_start": 1635778717046,
    "source_hash": "c9f48fa5",
    "tags": []
   },
   "outputs": [
    {
     "name": "stdout",
     "output_type": "stream",
     "text": [
      "best params 2nd grid :\n",
      "\n",
      "{'criterion': 'entropy', 'max_features': 5, 'n_estimators': 500} \n",
      "\n"
     ]
    }
   ],
   "source": [
    "###NE PAS RERUN####\n",
    "\n",
    "rf = RandomForestClassifier(random_state = 0,n_jobs=-1)\n",
    "grid_params = {'n_estimators' : [500,1000,1500,2000,2500], 'criterion' : ['gini','entropy'], 'max_features' : range(1,10)}\n",
    "grid = GridSearchCV(rf,grid_params,scoring = 'neg_log_loss' ,n_jobs=-1)\n",
    "grid.fit(X_train,y_train)\n",
    "print(\"best params 2nd grid :\\n\")\n",
    "print(grid.best_params_,\"\\n\")"
   ]
  },
  {
   "cell_type": "code",
   "execution_count": null,
   "metadata": {
    "cell_id": "00082-7cc25522-470a-46d6-8710-e4bc98d64ecf",
    "deepnote_cell_type": "code",
    "deepnote_to_be_reexecuted": false,
    "execution_millis": 20641,
    "execution_start": 1636304312315,
    "output_cleared": true,
    "source_hash": "f82217be",
    "tags": []
   },
   "outputs": [],
   "source": [
    "rf = RandomForestClassifier(random_state = 0,n_jobs=-1)\n",
    "grid_params = {'n_estimators' : [100,250,500,750], 'criterion' : ['entropy'], 'max_features' : range(3,10)}\n",
    "grid = GridSearchCV(rf,grid_params,scoring = 'neg_log_loss' ,n_jobs=-1)\n",
    "grid.fit(X_train,y_train)\n",
    "print(\"best params 3rd grid :\\n\")\n",
    "print(grid.best_params_,\"\\n\")\n",
    "print(grid.cv_results_,\"\\n\")"
   ]
  },
  {
   "cell_type": "code",
   "execution_count": null,
   "metadata": {
    "cell_id": "00082-56363bda-51e0-4e18-bb4f-4f566d2d52c9",
    "deepnote_cell_type": "code",
    "deepnote_to_be_reexecuted": false,
    "execution_millis": 1320584,
    "execution_start": 1635796590464,
    "source_hash": "3c53df6f",
    "tags": []
   },
   "outputs": [
    {
     "name": "stdout",
     "output_type": "stream",
     "text": [
      "best params 4th grid :\n",
      "\n",
      "{'max_depth': 15, 'min_samples_leaf': 1} \n",
      "\n"
     ]
    }
   ],
   "source": [
    "rf = RandomForestClassifier(random_state = 0,n_jobs=-1,n_estimators=750,max_features=7,criterion='entropy')\n",
    "param_grid = {'max_depth' : [None,5,10,15,20], 'min_samples_leaf' : [1,5,10]}\n",
    "grid_2 = GridSearchCV(rf,param_grid,scoring = 'neg_log_loss' ,n_jobs=-1)\n",
    "grid_2.fit(X_train,y_train)\n",
    "print(\"best params 4th grid :\\n\")\n",
    "print(grid_2.best_params_,\"\\n\")"
   ]
  },
  {
   "cell_type": "code",
   "execution_count": null,
   "metadata": {
    "cell_id": "00084-5acf8bdf-1245-466c-a83e-6ec058933fc5",
    "deepnote_cell_type": "code",
    "deepnote_to_be_reexecuted": false,
    "execution_millis": 3,
    "execution_start": 1635797911046,
    "source_hash": "27615489",
    "tags": []
   },
   "outputs": [
    {
     "name": "stdout",
     "output_type": "stream",
     "text": [
      "{'mean_fit_time': array([44.96332254, 47.36372557, 37.28577695, 19.31524091, 18.93265352,\n",
      "       18.43143406, 32.10395117, 30.78681178, 28.97948041, 39.90419683,\n",
      "       38.40497713, 34.76002173, 43.17517333, 39.39174981, 32.48106833]), 'std_fit_time': array([0.52291719, 4.68691409, 3.3154445 , 0.33382075, 0.35191331,\n",
      "       0.20466525, 0.30909432, 0.39056829, 0.27986845, 0.41964359,\n",
      "       1.91323887, 2.55335937, 0.48803351, 0.49789415, 4.40951734]), 'mean_score_time': array([0.57134161, 0.69203258, 0.53505678, 0.38250804, 0.46312914,\n",
      "       0.39153986, 0.40086427, 0.49611449, 0.48971429, 0.48599162,\n",
      "       0.50915866, 0.51993384, 0.53903046, 0.51345592, 0.49883027]), 'std_score_time': array([0.05792911, 0.17480715, 0.10524531, 0.06174636, 0.04554792,\n",
      "       0.04920909, 0.04795025, 0.08160415, 0.06011007, 0.04398249,\n",
      "       0.09163993, 0.04561919, 0.01698319, 0.03968833, 0.05930461]), 'param_max_depth': masked_array(data=[None, None, None, 5, 5, 5, 10, 10, 10, 15, 15, 15, 20,\n",
      "                   20, 20],\n",
      "             mask=[False, False, False, False, False, False, False, False,\n",
      "                   False, False, False, False, False, False, False],\n",
      "       fill_value='?',\n",
      "            dtype=object), 'param_min_samples_leaf': masked_array(data=[1, 5, 10, 1, 5, 10, 1, 5, 10, 1, 5, 10, 1, 5, 10],\n",
      "             mask=[False, False, False, False, False, False, False, False,\n",
      "                   False, False, False, False, False, False, False],\n",
      "       fill_value='?',\n",
      "            dtype=object), 'params': [{'max_depth': None, 'min_samples_leaf': 1}, {'max_depth': None, 'min_samples_leaf': 5}, {'max_depth': None, 'min_samples_leaf': 10}, {'max_depth': 5, 'min_samples_leaf': 1}, {'max_depth': 5, 'min_samples_leaf': 5}, {'max_depth': 5, 'min_samples_leaf': 10}, {'max_depth': 10, 'min_samples_leaf': 1}, {'max_depth': 10, 'min_samples_leaf': 5}, {'max_depth': 10, 'min_samples_leaf': 10}, {'max_depth': 15, 'min_samples_leaf': 1}, {'max_depth': 15, 'min_samples_leaf': 5}, {'max_depth': 15, 'min_samples_leaf': 10}, {'max_depth': 20, 'min_samples_leaf': 1}, {'max_depth': 20, 'min_samples_leaf': 5}, {'max_depth': 20, 'min_samples_leaf': 10}], 'split0_test_score': array([-0.61074205, -0.61126608, -0.61575716, -0.63467035, -0.63479969,\n",
      "       -0.63558575, -0.61426577, -0.61679801, -0.61853091, -0.61117772,\n",
      "       -0.61325534, -0.61373382, -0.61061417, -0.61227517, -0.61526075]), 'split1_test_score': array([-0.59960798, -0.60389905, -0.60560127, -0.6220659 , -0.62293253,\n",
      "       -0.62434958, -0.60056447, -0.60272264, -0.6066053 , -0.5989069 ,\n",
      "       -0.60174576, -0.60610977, -0.59986943, -0.60212972, -0.60574121]), 'split2_test_score': array([-0.60408555, -0.60551566, -0.60836691, -0.62720129, -0.62839828,\n",
      "       -0.62868878, -0.60998864, -0.61053303, -0.61132653, -0.60252017,\n",
      "       -0.60756526, -0.60908145, -0.60264556, -0.60617285, -0.60824748]), 'split3_test_score': array([-0.62361936, -0.6225299 , -0.62397104, -0.64230535, -0.64243408,\n",
      "       -0.64311692, -0.62644793, -0.62694012, -0.62704451, -0.62365533,\n",
      "       -0.62409883, -0.62388039, -0.622967  , -0.62292694, -0.62406815]), 'split4_test_score': array([-0.62674189, -0.62507741, -0.62227219, -0.63290399, -0.63372954,\n",
      "       -0.6320747 , -0.6223912 , -0.62194278, -0.62173905, -0.6241736 ,\n",
      "       -0.62366689, -0.62177269, -0.62441672, -0.62569448, -0.62213301]), 'mean_test_score': array([-0.61295937, -0.61365762, -0.61519372, -0.63182938, -0.63245883,\n",
      "       -0.63276315, -0.6147316 , -0.61578731, -0.61704926, -0.61208674,\n",
      "       -0.61406642, -0.61491562, -0.61210258, -0.61383983, -0.61509012]), 'std_test_score': array([0.01063498, 0.00867605, 0.00729498, 0.0068661 , 0.0065397 ,\n",
      "       0.00637229, 0.00915819, 0.00850399, 0.00729274, 0.01044967,\n",
      "       0.00880386, 0.00693345, 0.01010914, 0.00918113, 0.00727269]), 'rank_test_score': array([ 3,  4, 10, 13, 14, 15,  7, 11, 12,  1,  6,  8,  2,  5,  9],\n",
      "      dtype=int32)}\n"
     ]
    }
   ],
   "source": [
    "print(grid_2.cv_results_)"
   ]
  },
  {
   "cell_type": "code",
   "execution_count": null,
   "metadata": {
    "cell_id": "00087-d28a3234-752d-4e63-bc32-7efb4aea3daf",
    "deepnote_cell_type": "code",
    "deepnote_to_be_reexecuted": false,
    "execution_start": 1636316956572,
    "source_hash": "75a21ea3",
    "tags": []
   },
   "outputs": [],
   "source": [
    "best_rf = RandomForestClassifier(random_state = 0,n_jobs=-1,n_estimators=750,max_features=7,criterion='entropy',max_depth=15, min_samples_leaf=1)"
   ]
  },
  {
   "cell_type": "code",
   "execution_count": null,
   "metadata": {
    "cell_id": "00087-04969583-6bff-4596-b9e1-7acd7f87bbfe",
    "deepnote_cell_type": "code",
    "deepnote_to_be_reexecuted": false,
    "execution_millis": 35969,
    "execution_start": 1636316958752,
    "source_hash": "f3922dc8",
    "tags": []
   },
   "outputs": [
    {
     "name": "stdout",
     "output_type": "stream",
     "text": [
      "val classification report :\n",
      "\n",
      "              precision    recall  f1-score   support\n",
      "\n",
      "           0       0.71      0.86      0.77       264\n",
      "           1       0.61      0.39      0.48       154\n",
      "\n",
      "    accuracy                           0.68       418\n",
      "   macro avg       0.66      0.62      0.63       418\n",
      "weighted avg       0.67      0.68      0.66       418\n",
      "\n"
     ]
    }
   ],
   "source": [
    "best_rf.fit(X_train_train,y_train_train)\n",
    "y_train_val_pred = best_rf.predict(X_train_val)\n",
    "print(\"val classification report :\\n\")\n",
    "print(classification_report(y_train_val,y_train_val_pred))"
   ]
  },
  {
   "cell_type": "code",
   "execution_count": null,
   "metadata": {
    "cell_id": "00083-c2bd5628-f829-49ab-9e14-9d074b335c52",
    "deepnote_cell_type": "code",
    "deepnote_to_be_reexecuted": false,
    "execution_millis": 236835,
    "execution_start": 1636316994720,
    "source_hash": "d955a87b",
    "tags": []
   },
   "outputs": [
    {
     "name": "stdout",
     "output_type": "stream",
     "text": [
      "mean cv score : 0.6666642987226019\n",
      "train score : 0.9640804597701149\n",
      "test score : 0.7012195121951219\n",
      "test classification report :\n",
      "\n",
      "              precision    recall  f1-score   support\n",
      "\n",
      "           0       0.70      0.93      0.79       308\n",
      "           1       0.72      0.33      0.45       184\n",
      "\n",
      "    accuracy                           0.70       492\n",
      "   macro avg       0.71      0.63      0.62       492\n",
      "weighted avg       0.71      0.70      0.67       492\n",
      "\n"
     ]
    }
   ],
   "source": [
    "best_rf.fit(X_train,y_train)\n",
    "print(\"mean cv score :\", np.mean(cross_val_score(best_rf,X_train,y_train)))\n",
    "print(\"train score :\",best_rf.score(X_train,y_train))\n",
    "print(\"test score :\",best_rf.score(X_test,y_test))\n",
    "\n",
    "y_test_pred = best_rf.predict(X_test)\n",
    "print(\"test classification report :\\n\")\n",
    "print(classification_report(y_test,y_test_pred))"
   ]
  },
  {
   "cell_type": "code",
   "execution_count": null,
   "metadata": {
    "cell_id": "00086-7d6c2c0c-a3a5-4953-b794-ad2ba490f664",
    "deepnote_cell_type": "code",
    "deepnote_to_be_reexecuted": false,
    "execution_millis": 723,
    "execution_start": 1635799433941,
    "source_hash": "8aeb1256",
    "tags": []
   },
   "outputs": [
    {
     "name": "stdout",
     "output_type": "stream",
     "text": [
      "train classification report :\n",
      "\n",
      "              precision    recall  f1-score   support\n",
      "\n",
      "           0       0.94      1.00      0.97      1690\n",
      "           1       1.00      0.91      0.95      1094\n",
      "\n",
      "    accuracy                           0.96      2784\n",
      "   macro avg       0.97      0.95      0.96      2784\n",
      "weighted avg       0.97      0.96      0.96      2784\n",
      "\n"
     ]
    }
   ],
   "source": [
    "y_train_pred = best_rf.predict(X_train)\n",
    "print(\"train classification report :\\n\")\n",
    "print(classification_report(y_train,y_train_pred))"
   ]
  },
  {
   "cell_type": "markdown",
   "metadata": {
    "cell_id": "00052-c834f400-9be4-4dbb-abba-586013422b95",
    "deepnote_cell_type": "text-cell-h3",
    "is_collapsed": false,
    "tags": []
   },
   "source": [
    "### XGBoost "
   ]
  },
  {
   "cell_type": "code",
   "execution_count": null,
   "metadata": {
    "cell_id": "00091-131831af-818c-4364-9f4b-0614f74c49af",
    "deepnote_cell_type": "code",
    "deepnote_to_be_reexecuted": false,
    "execution_millis": 1441,
    "execution_start": 1636317346603,
    "source_hash": "b8d3c739",
    "tags": []
   },
   "outputs": [],
   "source": [
    "from xgboost import XGBClassifier"
   ]
  },
  {
   "cell_type": "code",
   "execution_count": null,
   "metadata": {
    "cell_id": "00092-91cc49d0-922a-478a-a561-3d4377920627",
    "deepnote_cell_type": "code",
    "deepnote_to_be_reexecuted": false,
    "execution_millis": 8242939,
    "execution_start": 1635881079397,
    "source_hash": "26dc4f27",
    "tags": []
   },
   "outputs": [
    {
     "name": "stdout",
     "output_type": "stream",
     "text": [
      "[21:42:00] WARNING: ../src/learner.cc:1115: Starting in XGBoost 1.3.0, the default evaluation metric used with the objective 'binary:logistic' was changed from 'error' to 'logloss'. Explicitly set eval_metric if you'd like to restore the old behavior.\n",
      "best params 1st grid :\n",
      "\n",
      "{'learning_rate': 0.1, 'max_depth': 5, 'n_estimators': 100} \n",
      "\n"
     ]
    }
   ],
   "source": [
    "fit_grid_init_xgb=True\n",
    "if fit_grid_init_xgb:\n",
    "    xgb = XGBClassifier()\n",
    "    parameters = {'n_estimators':[100,200,400,600,800, 1000], 'max_depth':[3, 5, 7], 'learning_rate': [0.1,0.3, 0.5]}\n",
    "    grid = GridSearchCV(xgb,parameters ,n_jobs=4)\n",
    "    grid.fit(X_train,y_train)\n",
    "    print(\"best params 1st grid :\\n\")\n",
    "    print(grid.best_params_,\"\\n\")\n",
    "\n"
   ]
  },
  {
   "cell_type": "code",
   "execution_count": null,
   "metadata": {
    "cell_id": "00094-da801698-aa37-479f-9944-2f9cf05f181d",
    "deepnote_cell_type": "code",
    "deepnote_to_be_reexecuted": false,
    "execution_millis": 16,
    "execution_start": 1636317358884,
    "source_hash": "230ac2",
    "tags": []
   },
   "outputs": [],
   "source": [
    "best_xgb=XGBClassifier(learning_rate= 0.1, max_depth= 5, n_estimators= 100)"
   ]
  },
  {
   "cell_type": "code",
   "execution_count": null,
   "metadata": {
    "cell_id": "00095-e661b6a1-430a-44fa-99ee-7d3c059a879f",
    "deepnote_cell_type": "code",
    "deepnote_to_be_reexecuted": false,
    "execution_millis": 8674,
    "execution_start": 1636317372527,
    "source_hash": "1ea41692",
    "tags": []
   },
   "outputs": [
    {
     "name": "stdout",
     "output_type": "stream",
     "text": [
      "[20:36:13] WARNING: ../src/learner.cc:1115: Starting in XGBoost 1.3.0, the default evaluation metric used with the objective 'binary:logistic' was changed from 'error' to 'logloss'. Explicitly set eval_metric if you'd like to restore the old behavior.\n",
      "val classification report :\n",
      "\n",
      "              precision    recall  f1-score   support\n",
      "\n",
      "           0       0.69      0.85      0.76       264\n",
      "           1       0.57      0.35      0.44       154\n",
      "\n",
      "    accuracy                           0.67       418\n",
      "   macro avg       0.63      0.60      0.60       418\n",
      "weighted avg       0.65      0.67      0.64       418\n",
      "\n"
     ]
    }
   ],
   "source": [
    "best_xgb.fit(X_train_train,y_train_train)\n",
    "y_train_val_pred = best_xgb.predict(X_train_val)\n",
    "print(\"val classification report :\\n\")\n",
    "print(classification_report(y_train_val,y_train_val_pred))"
   ]
  },
  {
   "cell_type": "code",
   "execution_count": null,
   "metadata": {
    "cell_id": "00094-1fead2e3-0f8b-4b46-a819-c83408d2d883",
    "deepnote_cell_type": "code",
    "deepnote_to_be_reexecuted": false,
    "execution_millis": 4609,
    "execution_start": 1635774841042,
    "source_hash": "9d7cad49",
    "tags": []
   },
   "outputs": [
    {
     "name": "stdout",
     "output_type": "stream",
     "text": [
      "[13:54:01] WARNING: ../src/learner.cc:1115: Starting in XGBoost 1.3.0, the default evaluation metric used with the objective 'binary:logistic' was changed from 'error' to 'logloss'. Explicitly set eval_metric if you'd like to restore the old behavior.\n",
      "[13:54:01] WARNING: ../src/learner.cc:1115: Starting in XGBoost 1.3.0, the default evaluation metric used with the objective 'binary:logistic' was changed from 'error' to 'logloss'. Explicitly set eval_metric if you'd like to restore the old behavior.\n",
      "[13:54:02] WARNING: ../src/learner.cc:1115: Starting in XGBoost 1.3.0, the default evaluation metric used with the objective 'binary:logistic' was changed from 'error' to 'logloss'. Explicitly set eval_metric if you'd like to restore the old behavior.\n",
      "[13:54:03] WARNING: ../src/learner.cc:1115: Starting in XGBoost 1.3.0, the default evaluation metric used with the objective 'binary:logistic' was changed from 'error' to 'logloss'. Explicitly set eval_metric if you'd like to restore the old behavior.\n",
      "[13:54:04] WARNING: ../src/learner.cc:1115: Starting in XGBoost 1.3.0, the default evaluation metric used with the objective 'binary:logistic' was changed from 'error' to 'logloss'. Explicitly set eval_metric if you'd like to restore the old behavior.\n",
      "[13:54:04] WARNING: ../src/learner.cc:1115: Starting in XGBoost 1.3.0, the default evaluation metric used with the objective 'binary:logistic' was changed from 'error' to 'logloss'. Explicitly set eval_metric if you'd like to restore the old behavior.\n",
      "mean cv score : 0.6519393461891169\n",
      "train score : 0.8326149425287356\n",
      "test score : 0.7012195121951219\n",
      "test classification report :\n",
      "\n",
      "              precision    recall  f1-score   support\n",
      "\n",
      "           0       0.70      0.92      0.79       308\n",
      "           1       0.71      0.34      0.46       184\n",
      "\n",
      "    accuracy                           0.70       492\n",
      "   macro avg       0.71      0.63      0.63       492\n",
      "weighted avg       0.70      0.70      0.67       492\n",
      "\n"
     ]
    }
   ],
   "source": [
    "best_xgb.fit(X_train,y_train)\n",
    "\n",
    "print(\"mean cv score :\", np.mean(cross_val_score(best_xgb,X_train,y_train)))\n",
    "print(\"train score :\",best_xgb.score(X_train,y_train))\n",
    "print(\"test score :\",best_xgb.score(X_test,y_test))\n",
    "\n",
    "y_test_pred = best_xgb.predict(X_test)\n",
    "print(\"test classification report :\\n\")\n",
    "print(classification_report(y_test,y_test_pred))"
   ]
  },
  {
   "cell_type": "markdown",
   "metadata": {
    "created_in_deepnote_cell": true,
    "deepnote_cell_type": "markdown",
    "tags": []
   },
   "source": [
    "<a style='text-decoration:none;line-height:16px;display:flex;color:#5B5B62;padding:10px;justify-content:end;' href='https://deepnote.com?utm_source=created-in-deepnote-cell&projectId=72c779e5-4e17-4f09-900a-84980128fea3' target=\"_blank\">\n",
    "<img alt='Created in deepnote.com' style='display:inline;max-height:16px;margin:0px;margin-right:7.5px;' src='data:image/svg+xml;base64,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' > </img>\n",
    "Created in <span style='font-weight:600;margin-left:4px;'>Deepnote</span></a>"
   ]
  }
 ],
 "metadata": {
  "deepnote": {
   "is_reactive": false
  },
  "deepnote_execution_queue": [],
  "deepnote_notebook_id": "3a459532-5206-4939-ac3e-b3977c408cdc",
  "interpreter": {
   "hash": "ae9c1d36c85b0c94bf1d12bdf36dd7cb060e708475a6a00d410861de8795e38f"
  },
  "kernelspec": {
   "display_name": "Python 3 (ipykernel)",
   "language": "python",
   "name": "python3"
  },
  "language_info": {
   "codemirror_mode": {
    "name": "ipython",
    "version": 3
   },
   "file_extension": ".py",
   "mimetype": "text/x-python",
   "name": "python",
   "nbconvert_exporter": "python",
   "pygments_lexer": "ipython3",
   "version": "3.8.11"
  }
 },
 "nbformat": 4,
 "nbformat_minor": 2
}
