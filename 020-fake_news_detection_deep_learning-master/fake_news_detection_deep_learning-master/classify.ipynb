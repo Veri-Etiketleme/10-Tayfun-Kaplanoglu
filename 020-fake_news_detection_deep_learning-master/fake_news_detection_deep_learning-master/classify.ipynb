{
 "cells": [
  {
   "cell_type": "code",
   "execution_count": 1,
   "metadata": {},
   "outputs": [],
   "source": [
    "import pandas as pd\n",
    "import numpy as np\n",
    "import os\n",
    "from sklearn.feature_extraction.text import TfidfVectorizer, CountVectorizer\n",
    "from sklearn.feature_extraction.text import HashingVectorizer\n",
    "from sklearn.feature_extraction.text import TfidfTransformer\n",
    "from sklearn.decomposition import NMF, LatentDirichletAllocation\n",
    "from xgboost import XGBClassifier\n",
    "from sklearn.metrics import accuracy_score, confusion_matrix, classification_report\n",
    "from sklearn.ensemble import RandomForestClassifier\n",
    "from sklearn.naive_bayes import MultinomialNB\n",
    "from sklearn import linear_model\n",
    "import matplotlib.pyplot as plt"
   ]
  },
  {
   "cell_type": "code",
   "execution_count": 2,
   "metadata": {},
   "outputs": [
    {
     "data": {
      "text/html": [
       "<div>\n",
       "<style scoped>\n",
       "    .dataframe tbody tr th:only-of-type {\n",
       "        vertical-align: middle;\n",
       "    }\n",
       "\n",
       "    .dataframe tbody tr th {\n",
       "        vertical-align: top;\n",
       "    }\n",
       "\n",
       "    .dataframe thead th {\n",
       "        text-align: right;\n",
       "    }\n",
       "</style>\n",
       "<table border=\"1\" class=\"dataframe\">\n",
       "  <thead>\n",
       "    <tr style=\"text-align: right;\">\n",
       "      <th></th>\n",
       "      <th>snopes_page</th>\n",
       "      <th>topic</th>\n",
       "      <th>claim</th>\n",
       "      <th>claim_label</th>\n",
       "      <th>date_published</th>\n",
       "      <th>date_updated</th>\n",
       "      <th>page_url</th>\n",
       "      <th>page_is_example</th>\n",
       "      <th>page_is_image_credit</th>\n",
       "      <th>page_is_archived</th>\n",
       "      <th>page_is_first_citation</th>\n",
       "      <th>tags</th>\n",
       "    </tr>\n",
       "  </thead>\n",
       "  <tbody>\n",
       "    <tr>\n",
       "      <th>0</th>\n",
       "      <td>http://www.snopes.com/rowan-atkinson-death-hoax/</td>\n",
       "      <td>fake news</td>\n",
       "      <td>British actor Rowan Atkinson, best known as 'M...</td>\n",
       "      <td>False</td>\n",
       "      <td>Jul 15th, 2016</td>\n",
       "      <td>Mar 18th, 2017</td>\n",
       "      <td>https://www.shutterstock.com/image-photo/mosco...</td>\n",
       "      <td>False</td>\n",
       "      <td>True</td>\n",
       "      <td>False</td>\n",
       "      <td>False</td>\n",
       "      <td>NaN</td>\n",
       "    </tr>\n",
       "    <tr>\n",
       "      <th>1</th>\n",
       "      <td>http://www.snopes.com/european-parental-leave-...</td>\n",
       "      <td>politics</td>\n",
       "      <td>Canada, Norway, and Germany each offer federal...</td>\n",
       "      <td>True</td>\n",
       "      <td>Mar 16th, 2017</td>\n",
       "      <td>NaN</td>\n",
       "      <td>https://www.facebook.com/senatorsanders/photos...</td>\n",
       "      <td>False</td>\n",
       "      <td>False</td>\n",
       "      <td>False</td>\n",
       "      <td>True</td>\n",
       "      <td>canada,sen-kirsten-gillibrand,sen-bernie-sande...</td>\n",
       "    </tr>\n",
       "    <tr>\n",
       "      <th>2</th>\n",
       "      <td>http://www.snopes.com/are-blue-balls-a-real-th...</td>\n",
       "      <td>love</td>\n",
       "      <td>Prolonged sexual arousal in men without an eja...</td>\n",
       "      <td>True</td>\n",
       "      <td>Mar 15th, 2017</td>\n",
       "      <td>NaN</td>\n",
       "      <td>http://pediatrics.aappublications.org/content/...</td>\n",
       "      <td>False</td>\n",
       "      <td>False</td>\n",
       "      <td>False</td>\n",
       "      <td>True</td>\n",
       "      <td>NaN</td>\n",
       "    </tr>\n",
       "    <tr>\n",
       "      <th>3</th>\n",
       "      <td>http://www.snopes.com/politics/soapbox/knox.asp</td>\n",
       "      <td>political news</td>\n",
       "      <td>The president of Knox Machinery wrote a letter...</td>\n",
       "      <td>True</td>\n",
       "      <td>Dec 16th, 2008</td>\n",
       "      <td>Mar 14th, 2017</td>\n",
       "      <td>http://knoxmachinery.com</td>\n",
       "      <td>False</td>\n",
       "      <td>False</td>\n",
       "      <td>False</td>\n",
       "      <td>True</td>\n",
       "      <td>NaN</td>\n",
       "    </tr>\n",
       "    <tr>\n",
       "      <th>4</th>\n",
       "      <td>http://www.snopes.com/photographs-of-eiffel-to...</td>\n",
       "      <td>NaN</td>\n",
       "      <td>It is illegal to take photographs of the Eiffe...</td>\n",
       "      <td>True</td>\n",
       "      <td>Mar 13th, 2017</td>\n",
       "      <td>NaN</td>\n",
       "      <td>http://www.toureiffel.paris/</td>\n",
       "      <td>False</td>\n",
       "      <td>False</td>\n",
       "      <td>False</td>\n",
       "      <td>True</td>\n",
       "      <td>paris,photography,eiffel-tower,copyright</td>\n",
       "    </tr>\n",
       "  </tbody>\n",
       "</table>\n",
       "</div>"
      ],
      "text/plain": [
       "                                         snopes_page           topic  \\\n",
       "0   http://www.snopes.com/rowan-atkinson-death-hoax/       fake news   \n",
       "1  http://www.snopes.com/european-parental-leave-...        politics   \n",
       "2  http://www.snopes.com/are-blue-balls-a-real-th...            love   \n",
       "3    http://www.snopes.com/politics/soapbox/knox.asp  political news   \n",
       "4  http://www.snopes.com/photographs-of-eiffel-to...             NaN   \n",
       "\n",
       "                                               claim  claim_label  \\\n",
       "0  British actor Rowan Atkinson, best known as 'M...        False   \n",
       "1  Canada, Norway, and Germany each offer federal...         True   \n",
       "2  Prolonged sexual arousal in men without an eja...         True   \n",
       "3  The president of Knox Machinery wrote a letter...         True   \n",
       "4  It is illegal to take photographs of the Eiffe...         True   \n",
       "\n",
       "   date_published    date_updated  \\\n",
       "0  Jul 15th, 2016  Mar 18th, 2017   \n",
       "1  Mar 16th, 2017             NaN   \n",
       "2  Mar 15th, 2017             NaN   \n",
       "3  Dec 16th, 2008  Mar 14th, 2017   \n",
       "4  Mar 13th, 2017             NaN   \n",
       "\n",
       "                                            page_url  page_is_example  \\\n",
       "0  https://www.shutterstock.com/image-photo/mosco...            False   \n",
       "1  https://www.facebook.com/senatorsanders/photos...            False   \n",
       "2  http://pediatrics.aappublications.org/content/...            False   \n",
       "3                           http://knoxmachinery.com            False   \n",
       "4                       http://www.toureiffel.paris/            False   \n",
       "\n",
       "   page_is_image_credit  page_is_archived  page_is_first_citation  \\\n",
       "0                  True             False                   False   \n",
       "1                 False             False                    True   \n",
       "2                 False             False                    True   \n",
       "3                 False             False                    True   \n",
       "4                 False             False                    True   \n",
       "\n",
       "                                                tags  \n",
       "0                                                NaN  \n",
       "1  canada,sen-kirsten-gillibrand,sen-bernie-sande...  \n",
       "2                                                NaN  \n",
       "3                                                NaN  \n",
       "4           paris,photography,eiffel-tower,copyright  "
      ]
     },
     "execution_count": 2,
     "metadata": {},
     "output_type": "execute_result"
    }
   ],
   "source": [
    "info_df = pd.read_csv('snopes_ground_truth.csv')\n",
    "info_df.head()"
   ]
  },
  {
   "cell_type": "code",
   "execution_count": 3,
   "metadata": {},
   "outputs": [
    {
     "data": {
      "text/plain": [
       "topic                claim_label\n",
       "astronomy news       True            1\n",
       "business             False           5\n",
       "                     True           10\n",
       "cokelore             True            1\n",
       "college              False           1\n",
       "                     True            1\n",
       "computers            False           2\n",
       "                     True            1\n",
       "crime                False           4\n",
       "                     True            8\n",
       "critter country      False           2\n",
       "                     True            9\n",
       "disney               False           2\n",
       "                     True            1\n",
       "entertainment        False           7\n",
       "                     True            7\n",
       "fake news            False          81\n",
       "                     True            1\n",
       "fauxtography         False          51\n",
       "                     True           44\n",
       "food                 False           2\n",
       "                     True            4\n",
       "glurge gallery       True            3\n",
       "history              False           4\n",
       "                     True            5\n",
       "holidays             False           2\n",
       "                     True            2\n",
       "horrors              False           2\n",
       "                     True            5\n",
       "humor                False           3\n",
       "                     True            4\n",
       "hurricane katrina    True            1\n",
       "inboxer rebellion    False           5\n",
       "                     True            3\n",
       "language             True            3\n",
       "legal affairs        False           1\n",
       "                     True            1\n",
       "love                 True            1\n",
       "medical              False           5\n",
       "                     True            3\n",
       "military             False           1\n",
       "                     True            1\n",
       "political news       False          17\n",
       "                     True           28\n",
       "politics             False          42\n",
       "                     True           83\n",
       "questionable quotes  False           2\n",
       "                     True            5\n",
       "science              True            9\n",
       "september 11th       False           1\n",
       "                     True            5\n",
       "sports               False           1\n",
       "                     True            3\n",
       "technology           False           3\n",
       "                     True            1\n",
       "viral phenomena      False           3\n",
       "                     True            7\n",
       "Name: claim_label, dtype: int64"
      ]
     },
     "execution_count": 3,
     "metadata": {},
     "output_type": "execute_result"
    }
   ],
   "source": [
    "topic_fake_count = info_df.groupby(['topic', 'claim_label'])['claim_label'].count()\n",
    "topic_fake_count"
   ]
  },
  {
   "cell_type": "code",
   "execution_count": 4,
   "metadata": {},
   "outputs": [],
   "source": [
    "vectorizer = TfidfVectorizer(input='filename',max_df=0.7, max_features=100,\n",
    "                                 min_df=2, stop_words='english',encoding='utf-8',decode_error ='ignore',\n",
    "                                 use_idf=True)\n",
    "\n",
    "count_vectorizer = CountVectorizer(input='filename',max_df=0.7, max_features=20,\n",
    "                                 min_df=2, stop_words='english',encoding='utf-8',decode_error ='ignore')"
   ]
  },
  {
   "cell_type": "code",
   "execution_count": 5,
   "metadata": {},
   "outputs": [],
   "source": [
    "import os\n",
    "a = os.listdir('sentences_tokenized/')\n",
    "import re\n",
    "def sorted_aphanumeric(data):\n",
    "    convert = lambda text: int(text) if text.isdigit() else text.lower()\n",
    "    alphanum_key = lambda key: [ convert(c) for c in re.split('([0-9]+)', key) ] \n",
    "    return sorted(data, key=alphanum_key)\n",
    "\n",
    "a = sorted_aphanumeric(a)\n",
    "b =[]\n",
    "for i in a:\n",
    "    i = 'sentences_tokenized/'+i\n",
    "    b.append(str(i)) \n",
    "vect_matrix = vectorizer.fit_transform(b)"
   ]
  },
  {
   "cell_type": "code",
   "execution_count": 6,
   "metadata": {},
   "outputs": [
    {
     "data": {
      "text/plain": [
       "(562, 100)"
      ]
     },
     "execution_count": 6,
     "metadata": {},
     "output_type": "execute_result"
    }
   ],
   "source": [
    "vect_matrix.shape"
   ]
  },
  {
   "cell_type": "code",
   "execution_count": 7,
   "metadata": {},
   "outputs": [],
   "source": [
    "train_features, test_features = vect_matrix[:400,],vect_matrix[401:563,]\n",
    "train_labels, test_labels = info_df['claim_label'][:400] , info_df['claim_label'][401:563]"
   ]
  },
  {
   "cell_type": "code",
   "execution_count": 8,
   "metadata": {},
   "outputs": [],
   "source": [
    "logistic = linear_model.LogisticRegression()\n",
    "\n",
    "logr= logistic.fit(train_features,train_labels)"
   ]
  },
  {
   "cell_type": "code",
   "execution_count": 9,
   "metadata": {},
   "outputs": [
    {
     "data": {
      "text/plain": [
       "0.6956521739130435"
      ]
     },
     "execution_count": 9,
     "metadata": {},
     "output_type": "execute_result"
    }
   ],
   "source": [
    "logr.score(test_features,test_labels)"
   ]
  },
  {
   "cell_type": "code",
   "execution_count": 10,
   "metadata": {},
   "outputs": [
    {
     "name": "stdout",
     "output_type": "stream",
     "text": [
      "[[53 35]\n",
      " [14 59]]\n"
     ]
    },
    {
     "data": {
      "image/png": "[encoded data removed]",
      "text/plain": [
       "<matplotlib.figure.Figure at 0xb35c2e8>"
      ]
     },
     "metadata": {},
     "output_type": "display_data"
    }
   ],
   "source": [
    "pred = logr.predict(test_features)\n",
    "labels = ['x', 'y']\n",
    "cm = confusion_matrix(test_labels, pred)\n",
    "print(cm)\n",
    "plt.matshow(cm)\n",
    "plt.colorbar()\n",
    "plt.show()"
   ]
  },
  {
   "cell_type": "code",
   "execution_count": 11,
   "metadata": {},
   "outputs": [
    {
     "name": "stdout",
     "output_type": "stream",
     "text": [
      "             precision    recall  f1-score   support\n",
      "\n",
      "      False       0.79      0.60      0.68        88\n",
      "       True       0.63      0.81      0.71        73\n",
      "\n",
      "avg / total       0.72      0.70      0.69       161\n",
      "\n"
     ]
    }
   ],
   "source": [
    "print(classification_report(test_labels, pred))"
   ]
  },
  {
   "cell_type": "code",
   "execution_count": 12,
   "metadata": {},
   "outputs": [
    {
     "data": {
      "text/plain": [
       "0.7142857142857143"
      ]
     },
     "execution_count": 12,
     "metadata": {},
     "output_type": "execute_result"
    }
   ],
   "source": [
    "mnb = MultinomialNB()\n",
    "mnb.fit(train_features,train_labels)\n",
    "mnb.score(test_features,test_labels)"
   ]
  },
  {
   "cell_type": "code",
   "execution_count": 13,
   "metadata": {
    "scrolled": true
   },
   "outputs": [
    {
     "name": "stdout",
     "output_type": "stream",
     "text": [
      "[[53 35]\n",
      " [11 62]]\n"
     ]
    },
    {
     "data": {
      "image/png": "[encoded data removed]",
      "text/plain": [
       "<matplotlib.figure.Figure at 0xb590a20>"
      ]
     },
     "metadata": {},
     "output_type": "display_data"
    }
   ],
   "source": [
    "pred = mnb.predict(test_features)\n",
    "labels = ['x', 'y']\n",
    "cm = confusion_matrix(test_labels, pred)\n",
    "print(cm)\n",
    "plt.matshow(cm)\n",
    "plt.colorbar()\n",
    "plt.show()"
   ]
  },
  {
   "cell_type": "code",
   "execution_count": 14,
   "metadata": {},
   "outputs": [
    {
     "name": "stdout",
     "output_type": "stream",
     "text": [
      "             precision    recall  f1-score   support\n",
      "\n",
      "      False       0.83      0.60      0.70        88\n",
      "       True       0.64      0.85      0.73        73\n",
      "\n",
      "avg / total       0.74      0.71      0.71       161\n",
      "\n"
     ]
    }
   ],
   "source": [
    "print(classification_report(test_labels, pred))"
   ]
  },
  {
   "cell_type": "code",
   "execution_count": 15,
   "metadata": {},
   "outputs": [
    {
     "data": {
      "text/plain": [
       "0.6583850931677019"
      ]
     },
     "execution_count": 15,
     "metadata": {},
     "output_type": "execute_result"
    }
   ],
   "source": [
    "clf = RandomForestClassifier(max_depth=3, random_state=0)\n",
    "clf.fit(train_features,train_labels)\n",
    "clf.score(test_features,test_labels)"
   ]
  },
  {
   "cell_type": "code",
   "execution_count": 16,
   "metadata": {},
   "outputs": [
    {
     "name": "stdout",
     "output_type": "stream",
     "text": [
      "[[45 43]\n",
      " [12 61]]\n"
     ]
    },
    {
     "data": {
      "image/png": "[encoded data removed]",
      "text/plain": [
       "<matplotlib.figure.Figure at 0xb4d9f28>"
      ]
     },
     "metadata": {},
     "output_type": "display_data"
    }
   ],
   "source": [
    "pred = clf.predict(test_features)\n",
    "labels = ['x', 'y']\n",
    "cm = confusion_matrix(test_labels, pred)\n",
    "print(cm)\n",
    "plt.matshow(cm)\n",
    "plt.colorbar()\n",
    "plt.show()"
   ]
  },
  {
   "cell_type": "code",
   "execution_count": 17,
   "metadata": {},
   "outputs": [
    {
     "name": "stdout",
     "output_type": "stream",
     "text": [
      "             precision    recall  f1-score   support\n",
      "\n",
      "      False       0.79      0.51      0.62        88\n",
      "       True       0.59      0.84      0.69        73\n",
      "\n",
      "avg / total       0.70      0.66      0.65       161\n",
      "\n"
     ]
    }
   ],
   "source": [
    "print(classification_report(test_labels, pred))"
   ]
  },
  {
   "cell_type": "code",
   "execution_count": 18,
   "metadata": {},
   "outputs": [
    {
     "name": "stdout",
     "output_type": "stream",
     "text": [
      "Accuracy: 60.87%\n"
     ]
    },
    {
     "name": "stderr",
     "output_type": "stream",
     "text": [
      "C:\\Users\\hnpathak\\AppData\\Local\\Continuum\\anaconda3\\lib\\site-packages\\sklearn\\preprocessing\\label.py:151: DeprecationWarning: The truth value of an empty array is ambiguous. Returning False, but in future this will result in an error. Use `array.size > 0` to check that an array is not empty.\n",
      "  if diff:\n"
     ]
    }
   ],
   "source": [
    "model = XGBClassifier()\n",
    "model.fit(train_features, train_labels)\n",
    "y_pred = model.predict(test_features)\n",
    "predictions = [round(value) for value in y_pred]\n",
    "accuracy = accuracy_score(test_labels, predictions)\n",
    "print(\"Accuracy: %.2f%%\" % (accuracy * 100.0))"
   ]
  },
  {
   "cell_type": "code",
   "execution_count": 19,
   "metadata": {},
   "outputs": [
    {
     "name": "stdout",
     "output_type": "stream",
     "text": [
      "[[52 36]\n",
      " [27 46]]\n"
     ]
    },
    {
     "name": "stderr",
     "output_type": "stream",
     "text": [
      "C:\\Users\\hnpathak\\AppData\\Local\\Continuum\\anaconda3\\lib\\site-packages\\sklearn\\preprocessing\\label.py:151: DeprecationWarning: The truth value of an empty array is ambiguous. Returning False, but in future this will result in an error. Use `array.size > 0` to check that an array is not empty.\n",
      "  if diff:\n"
     ]
    },
    {
     "data": {
      "image/png": "[encoded data removed]",
      "text/plain": [
       "<matplotlib.figure.Figure at 0xb9f4550>"
      ]
     },
     "metadata": {},
     "output_type": "display_data"
    }
   ],
   "source": [
    "pred = model.predict(test_features)\n",
    "labels = ['x', 'y']\n",
    "cm = confusion_matrix(test_labels, pred)\n",
    "print(cm)\n",
    "plt.matshow(cm)\n",
    "plt.colorbar()\n",
    "plt.show()"
   ]
  },
  {
   "cell_type": "code",
   "execution_count": 20,
   "metadata": {},
   "outputs": [
    {
     "name": "stdout",
     "output_type": "stream",
     "text": [
      "             precision    recall  f1-score   support\n",
      "\n",
      "      False       0.66      0.59      0.62        88\n",
      "       True       0.56      0.63      0.59        73\n",
      "\n",
      "avg / total       0.61      0.61      0.61       161\n",
      "\n"
     ]
    }
   ],
   "source": [
    "print(classification_report(test_labels, pred))"
   ]
  },
  {
   "cell_type": "raw",
   "metadata": {},
   "source": [
    "## TOPIC MODELLING"
   ]
  },
  {
   "cell_type": "code",
   "execution_count": 21,
   "metadata": {},
   "outputs": [],
   "source": [
    "c_vect = count_vectorizer.fit_transform(b)\n",
    "feature_names_c =  count_vectorizer.get_feature_names()\n",
    "feature_names = vectorizer.get_feature_names()\n"
   ]
  },
  {
   "cell_type": "code",
   "execution_count": 22,
   "metadata": {},
   "outputs": [
    {
     "name": "stderr",
     "output_type": "stream",
     "text": [
      "C:\\Users\\hnpathak\\AppData\\Local\\Continuum\\anaconda3\\lib\\site-packages\\sklearn\\decomposition\\online_lda.py:294: DeprecationWarning: n_topics has been renamed to n_components in version 0.19 and will be removed in 0.21\n",
      "  DeprecationWarning)\n"
     ]
    }
   ],
   "source": [
    "nmf = NMF(n_components=len(feature_names), init='nndsvd', random_state=0, alpha=0.1).fit(vect_matrix)\n",
    "lda = LatentDirichletAllocation(n_topics=len(feature_names_c), max_iter=5, learning_method='online', learning_offset=50.,random_state=0).fit(c_vect)"
   ]
  },
  {
   "cell_type": "code",
   "execution_count": 23,
   "metadata": {},
   "outputs": [
    {
     "name": "stdout",
     "output_type": "stream",
     "text": [
      "Topic 0:\n",
      "trump donald people said news president new like social media\n",
      "Topic 1:\n",
      "article clinton united trump president obama web people new said\n",
      "Topic 2:\n",
      "news web published article trump said donald people president social\n",
      "Topic 3:\n",
      "obama president new article trump news web united facebook like\n",
      "Topic 4:\n",
      "president obama new said united news published states people time\n",
      "Topic 5:\n",
      "people new time states united said like media article social\n",
      "Topic 6:\n",
      "clinton hillary time new news said like people social web\n",
      "Topic 7:\n",
      "social time trump article like donald new published web media\n",
      "Topic 8:\n",
      "media social news said people published web new time like\n",
      "Topic 9:\n",
      "social obama people said hillary clinton donald facebook web new\n",
      "Topic 10:\n",
      "new news time like facebook president published said social web\n",
      "Topic 11:\n",
      "united states trump new president donald article published said news\n",
      "Topic 12:\n",
      "article published media news clinton time trump new like facebook\n",
      "Topic 13:\n",
      "facebook social people web media like time news new published\n",
      "Topic 14:\n",
      "article web published news people like states said new president\n",
      "Topic 15:\n",
      "said people news published facebook article web new media hillary\n",
      "Topic 16:\n",
      "time published like people new said news web facebook states\n",
      "Topic 17:\n",
      "new like web published article time united states media said\n",
      "Topic 18:\n",
      "web media news published said social article donald new states\n",
      "Topic 19:\n",
      "said like people new time news article social published united\n"
     ]
    }
   ],
   "source": [
    "def display_topics(model, feature_names, no_top_words):\n",
    "    for topic_idx, topic in enumerate(model.components_):\n",
    "        print(\"Topic %d:\" % (topic_idx))\n",
    "        print(\" \".join([feature_names[i] for i in topic.argsort()[:-no_top_words - 1:-1]]))\n",
    "\n",
    "no_top_words = 10\n",
    "#display_topics(nmf, feature_names, no_top_words)\n",
    "display_topics(lda, feature_names_c, no_top_words)"
   ]
  },
  {
   "cell_type": "code",
   "execution_count": 24,
   "metadata": {},
   "outputs": [
    {
     "data": {
      "text/plain": [
       "['article',\n",
       " 'clinton',\n",
       " 'donald',\n",
       " 'facebook',\n",
       " 'hillary',\n",
       " 'like',\n",
       " 'media',\n",
       " 'new',\n",
       " 'news',\n",
       " 'obama',\n",
       " 'people',\n",
       " 'president',\n",
       " 'published',\n",
       " 'said',\n",
       " 'social',\n",
       " 'states',\n",
       " 'time',\n",
       " 'trump',\n",
       " 'united',\n",
       " 'web']"
      ]
     },
     "execution_count": 24,
     "metadata": {},
     "output_type": "execute_result"
    }
   ],
   "source": [
    "feature_names_c"
   ]
  },
  {
   "cell_type": "code",
   "execution_count": 25,
   "metadata": {},
   "outputs": [
    {
     "ename": "NameError",
     "evalue": "name 'word_topic' is not defined",
     "output_type": "error",
     "traceback": [
      "\u001b[1;31m---------------------------------------------------------------------------\u001b[0m",
      "\u001b[1;31mNameError\u001b[0m                                 Traceback (most recent call last)",
      "\u001b[1;32m<ipython-input-25-cbbe68f1422b>\u001b[0m in \u001b[0;36m<module>\u001b[1;34m()\u001b[0m\n\u001b[1;32m----> 1\u001b[1;33m \u001b[0mfontsize_base\u001b[0m \u001b[1;33m=\u001b[0m \u001b[1;36m70\u001b[0m \u001b[1;33m/\u001b[0m \u001b[0mnp\u001b[0m\u001b[1;33m.\u001b[0m\u001b[0mmax\u001b[0m\u001b[1;33m(\u001b[0m\u001b[0mword_topic\u001b[0m\u001b[1;33m)\u001b[0m \u001b[1;31m# font size for word with largest share in corpus\u001b[0m\u001b[1;33m\u001b[0m\u001b[0m\n\u001b[0m\u001b[0;32m      2\u001b[0m \u001b[1;33m\u001b[0m\u001b[0m\n\u001b[0;32m      3\u001b[0m \u001b[1;31m# for t in range(20):\u001b[0m\u001b[1;33m\u001b[0m\u001b[1;33m\u001b[0m\u001b[0m\n\u001b[0;32m      4\u001b[0m \u001b[1;31m#     plt.subplot(1, 20, t + 1)  # plot numbering starts with 1\u001b[0m\u001b[1;33m\u001b[0m\u001b[1;33m\u001b[0m\u001b[0m\n\u001b[0;32m      5\u001b[0m \u001b[1;31m#     plt.ylim(0, 10 + 0.5)  # stretch the y-axis to accommodate the words\u001b[0m\u001b[1;33m\u001b[0m\u001b[1;33m\u001b[0m\u001b[0m\n",
      "\u001b[1;31mNameError\u001b[0m: name 'word_topic' is not defined"
     ]
    }
   ],
   "source": [
    "fontsize_base = 70 / np.max(word_topic) # font size for word with largest share in corpus\n",
    "\n",
    "# for t in range(20):\n",
    "#     plt.subplot(1, 20, t + 1)  # plot numbering starts with 1\n",
    "#     plt.ylim(0, 10 + 0.5)  # stretch the y-axis to accommodate the words\n",
    "#     plt.xticks([])  # remove x-axis markings ('ticks')\n",
    "#     plt.yticks([]) # remove y-axis markings ('ticks')\n",
    "#     plt.title('Topic #{}'.format(t))\n",
    "#     for topic_idx, topic in enumerate(model.components_):\n",
    "#         plt.text(0.3, 10-i-0.5, feature_names_c[i], fontsize=fontsize_base*share)\n",
    "#         print(\"Topic %d:\" % (topic_idx))\n",
    "#         print(\" \".join([feature_names[i] for i in topic.argsort()[:-no_top_words - 1:-1]]))\n",
    "        \n",
    "        \n",
    "#     top_words_idx = np.argsort(word_topic[:,t])[::-1]  # descending order\n",
    "#     top_words_idx = top_words_idx[:num_top_words]\n",
    "#     top_words = mallet_vocab[top_words_idx]\n",
    "#     top_words_shares = word_topic[top_words_idx, t]\n",
    "#     for i, (word, share) in enumerate(zip(top_words, top_words_shares)):\n",
    "#         plt.text(0.3, 10-i-0.5, word, fontsize=fontsize_base*share)"
   ]
  }
 ],
 "metadata": {
  "kernelspec": {
   "display_name": "Python 3",
   "language": "python",
   "name": "python3"
  },
  "language_info": {
   "codemirror_mode": {
    "name": "ipython",
    "version": 3
   },
   "file_extension": ".py",
   "mimetype": "text/x-python",
   "name": "python",
   "nbconvert_exporter": "python",
   "pygments_lexer": "ipython3",
   "version": "3.6.4"
  }
 },
 "nbformat": 4,
 "nbformat_minor": 2
}
